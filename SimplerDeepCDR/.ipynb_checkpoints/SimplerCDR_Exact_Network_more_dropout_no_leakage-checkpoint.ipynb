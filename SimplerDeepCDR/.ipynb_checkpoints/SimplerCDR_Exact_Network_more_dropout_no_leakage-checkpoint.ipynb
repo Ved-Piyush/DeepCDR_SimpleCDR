{
 "cells": [
  {
   "cell_type": "code",
   "execution_count": 1,
   "id": "d79c4d60-25e3-41cb-b814-ef360e2fee9e",
   "metadata": {},
   "outputs": [
    {
     "name": "stderr",
     "output_type": "stream",
     "text": [
      "2023-08-10 19:37:33.861417: I tensorflow/core/util/util.cc:169] oneDNN custom operations are on. You may see slightly different numerical results due to floating-point round-off errors from different computation orders. To turn them off, set the environment variable `TF_ENABLE_ONEDNN_OPTS=0`.\n"
     ]
    }
   ],
   "source": [
    "import pandas as pd\n",
    "import tensorflow as tf\n",
    "import tensorflow_probability as tfp\n",
    "from tensorflow import keras\n",
    "from tensorflow.python.keras import backend as K\n",
    "from tensorflow.python.ops import array_ops\n",
    "from tensorflow.python.ops import math_ops"
   ]
  },
  {
   "cell_type": "code",
   "execution_count": 2,
   "id": "295124af-1d9b-4e8a-b30c-eb76dbf7f7ba",
   "metadata": {},
   "outputs": [],
   "source": [
    "# tf.compat.v1.disable_eager_execution()"
   ]
  },
  {
   "cell_type": "code",
   "execution_count": 3,
   "id": "06020fb9-0d23-4866-8a4b-d13beac7044f",
   "metadata": {},
   "outputs": [],
   "source": [
    "drugs_cell_lines_ic50_df = pd.read_csv(\"..//data//drugs_cell_lines_ic50.csv\")"
   ]
  },
  {
   "cell_type": "code",
   "execution_count": 4,
   "id": "ef3c56b4-0691-4fb7-8d8d-e4637957e91a",
   "metadata": {},
   "outputs": [
    {
     "data": {
      "text/html": [
       "<div>\n",
       "<style scoped>\n",
       "    .dataframe tbody tr th:only-of-type {\n",
       "        vertical-align: middle;\n",
       "    }\n",
       "\n",
       "    .dataframe tbody tr th {\n",
       "        vertical-align: top;\n",
       "    }\n",
       "\n",
       "    .dataframe thead th {\n",
       "        text-align: right;\n",
       "    }\n",
       "</style>\n",
       "<table border=\"1\" class=\"dataframe\">\n",
       "  <thead>\n",
       "    <tr style=\"text-align: right;\">\n",
       "      <th></th>\n",
       "      <th>drug_id</th>\n",
       "      <th>Cancer_Cell_Line</th>\n",
       "      <th>IC50</th>\n",
       "    </tr>\n",
       "  </thead>\n",
       "  <tbody>\n",
       "    <tr>\n",
       "      <th>0</th>\n",
       "      <td>1001</td>\n",
       "      <td>ACH-002137</td>\n",
       "      <td>7.258918</td>\n",
       "    </tr>\n",
       "    <tr>\n",
       "      <th>1</th>\n",
       "      <td>1004</td>\n",
       "      <td>ACH-002137</td>\n",
       "      <td>-3.802467</td>\n",
       "    </tr>\n",
       "    <tr>\n",
       "      <th>2</th>\n",
       "      <td>1005</td>\n",
       "      <td>ACH-002137</td>\n",
       "      <td>4.146364</td>\n",
       "    </tr>\n",
       "    <tr>\n",
       "      <th>3</th>\n",
       "      <td>1006</td>\n",
       "      <td>ACH-002137</td>\n",
       "      <td>3.171367</td>\n",
       "    </tr>\n",
       "    <tr>\n",
       "      <th>4</th>\n",
       "      <td>1007</td>\n",
       "      <td>ACH-002137</td>\n",
       "      <td>-4.959442</td>\n",
       "    </tr>\n",
       "  </tbody>\n",
       "</table>\n",
       "</div>"
      ],
      "text/plain": [
       "   drug_id Cancer_Cell_Line      IC50\n",
       "0     1001       ACH-002137  7.258918\n",
       "1     1004       ACH-002137 -3.802467\n",
       "2     1005       ACH-002137  4.146364\n",
       "3     1006       ACH-002137  3.171367\n",
       "4     1007       ACH-002137 -4.959442"
      ]
     },
     "execution_count": 4,
     "metadata": {},
     "output_type": "execute_result"
    }
   ],
   "source": [
    "drugs_cell_lines_ic50_df.head()"
   ]
  },
  {
   "cell_type": "code",
   "execution_count": 5,
   "id": "1660298b-b5ce-4cff-bd71-86f7dc9222f5",
   "metadata": {},
   "outputs": [],
   "source": [
    "pubchem_drugs_smiles_df = pd.read_csv('..//data//drugs_smile_strings.csv')"
   ]
  },
  {
   "cell_type": "code",
   "execution_count": 6,
   "id": "58feccba-d7f5-4839-b44d-7c5bb7557ddd",
   "metadata": {},
   "outputs": [
    {
     "data": {
      "text/html": [
       "<div>\n",
       "<style scoped>\n",
       "    .dataframe tbody tr th:only-of-type {\n",
       "        vertical-align: middle;\n",
       "    }\n",
       "\n",
       "    .dataframe tbody tr th {\n",
       "        vertical-align: top;\n",
       "    }\n",
       "\n",
       "    .dataframe thead th {\n",
       "        text-align: right;\n",
       "    }\n",
       "</style>\n",
       "<table border=\"1\" class=\"dataframe\">\n",
       "  <thead>\n",
       "    <tr style=\"text-align: right;\">\n",
       "      <th></th>\n",
       "      <th>drug_id</th>\n",
       "      <th>Smiles</th>\n",
       "    </tr>\n",
       "  </thead>\n",
       "  <tbody>\n",
       "    <tr>\n",
       "      <th>0</th>\n",
       "      <td>1242</td>\n",
       "      <td>COc1cc(O)c2c(c1)C=CCC(O)C(O)C(=O)C=CCC(C)OC2=O</td>\n",
       "    </tr>\n",
       "    <tr>\n",
       "      <th>1</th>\n",
       "      <td>179</td>\n",
       "      <td>O=c1[nH]cc(F)c(=O)[nH]1</td>\n",
       "    </tr>\n",
       "    <tr>\n",
       "      <th>2</th>\n",
       "      <td>86</td>\n",
       "      <td>Cc1[nH]nc2ccc(-c3cncc(OCC(N)Cc4c[nH]c5ccccc45)...</td>\n",
       "    </tr>\n",
       "    <tr>\n",
       "      <th>3</th>\n",
       "      <td>55</td>\n",
       "      <td>COc1cc(-c2nn(C3CCC(N4CCN(C(C)=O)CC4)CC3)c3ncnc...</td>\n",
       "    </tr>\n",
       "    <tr>\n",
       "      <th>4</th>\n",
       "      <td>1001</td>\n",
       "      <td>NC(=O)c1ncn(C2OC(COP(=O)(O)O)C(O)C2O)c1N</td>\n",
       "    </tr>\n",
       "  </tbody>\n",
       "</table>\n",
       "</div>"
      ],
      "text/plain": [
       "   drug_id                                             Smiles\n",
       "0     1242     COc1cc(O)c2c(c1)C=CCC(O)C(O)C(=O)C=CCC(C)OC2=O\n",
       "1      179                            O=c1[nH]cc(F)c(=O)[nH]1\n",
       "2       86  Cc1[nH]nc2ccc(-c3cncc(OCC(N)Cc4c[nH]c5ccccc45)...\n",
       "3       55  COc1cc(-c2nn(C3CCC(N4CCN(C(C)=O)CC4)CC3)c3ncnc...\n",
       "4     1001           NC(=O)c1ncn(C2OC(COP(=O)(O)O)C(O)C2O)c1N"
      ]
     },
     "execution_count": 6,
     "metadata": {},
     "output_type": "execute_result"
    }
   ],
   "source": [
    "pubchem_drugs_smiles_df.head()"
   ]
  },
  {
   "cell_type": "code",
   "execution_count": 7,
   "id": "d3b2a897-77be-420b-bd26-ab84d56a2ff3",
   "metadata": {},
   "outputs": [],
   "source": [
    "drugs_smiles_cell_lines_ic50_df = pd.merge(drugs_cell_lines_ic50_df, pubchem_drugs_smiles_df, \n",
    "                                             on = \"drug_id\")"
   ]
  },
  {
   "cell_type": "code",
   "execution_count": 8,
   "id": "c9c0eda5-75c5-45e4-b48b-7f90b38da4d8",
   "metadata": {},
   "outputs": [],
   "source": [
    "drugs_smiles_cell_lines_ic50_df = drugs_smiles_cell_lines_ic50_df[[\"drug_id\", \"Cancer_Cell_Line\", \"Smiles\", \"IC50\"]]"
   ]
  },
  {
   "cell_type": "code",
   "execution_count": 9,
   "id": "4255a229-bb41-4ffe-abef-e6d466e1c00b",
   "metadata": {},
   "outputs": [
    {
     "data": {
      "text/plain": [
       "drug_id               int64\n",
       "Cancer_Cell_Line     object\n",
       "Smiles               object\n",
       "IC50                float64\n",
       "dtype: object"
      ]
     },
     "execution_count": 9,
     "metadata": {},
     "output_type": "execute_result"
    }
   ],
   "source": [
    "drugs_smiles_cell_lines_ic50_df.dtypes"
   ]
  },
  {
   "cell_type": "code",
   "execution_count": 10,
   "id": "b8f12d16-3e37-4c9a-aabb-51e6ceb99a00",
   "metadata": {},
   "outputs": [],
   "source": [
    "drugs_smiles_cell_lines_ic50_df[\"drug_id\"] = drugs_smiles_cell_lines_ic50_df[\"drug_id\"].astype(object)"
   ]
  },
  {
   "cell_type": "code",
   "execution_count": 11,
   "id": "e17ed73d-5051-4322-afa0-f95e71485d50",
   "metadata": {},
   "outputs": [
    {
     "data": {
      "text/plain": [
       "(186789, 4)"
      ]
     },
     "execution_count": 11,
     "metadata": {},
     "output_type": "execute_result"
    }
   ],
   "source": [
    "drugs_smiles_cell_lines_ic50_df.shape"
   ]
  },
  {
   "cell_type": "code",
   "execution_count": 12,
   "id": "6f4dc746-ac42-4d4a-b745-aaafd82ed1c0",
   "metadata": {},
   "outputs": [],
   "source": [
    "# drugs_smiles_cell_lines_ic50_df.head()"
   ]
  },
  {
   "cell_type": "code",
   "execution_count": 13,
   "id": "bd97c4b0-5e75-451b-a375-8aa19a27a460",
   "metadata": {},
   "outputs": [],
   "source": [
    "import pickle"
   ]
  },
  {
   "cell_type": "code",
   "execution_count": 14,
   "id": "1318885c-6fc2-4ee6-a74d-0a8337307777",
   "metadata": {},
   "outputs": [],
   "source": [
    "with open(\"..//data//drug_gcn_features.pickle\", \"rb\") as f:\n",
    "    dict_features = pickle.load(f)"
   ]
  },
  {
   "cell_type": "code",
   "execution_count": 15,
   "id": "e4c65da0-6424-49ea-9bad-494d95e10b09",
   "metadata": {},
   "outputs": [
    {
     "data": {
      "text/plain": [
       "238"
      ]
     },
     "execution_count": 15,
     "metadata": {},
     "output_type": "execute_result"
    }
   ],
   "source": [
    "len(dict_features)"
   ]
  },
  {
   "cell_type": "code",
   "execution_count": 16,
   "id": "46e0e644-213c-4bc6-8dde-78b3bd5638bb",
   "metadata": {},
   "outputs": [],
   "source": [
    "with open(\"..//data//drug_gcn_normalized_adj_mats.pickle\", \"rb\") as f:\n",
    "    dict_normalized_adj_mats = pickle.load(f)"
   ]
  },
  {
   "cell_type": "code",
   "execution_count": 17,
   "id": "29e85796-1d24-44d5-af90-2a2b4eb7ffb8",
   "metadata": {},
   "outputs": [
    {
     "data": {
      "text/plain": [
       "238"
      ]
     },
     "execution_count": 17,
     "metadata": {},
     "output_type": "execute_result"
    }
   ],
   "source": [
    "len(dict_normalized_adj_mats)"
   ]
  },
  {
   "cell_type": "code",
   "execution_count": 18,
   "id": "bfadc255-519f-4d0f-83c5-49277a277209",
   "metadata": {},
   "outputs": [],
   "source": [
    "dualgcn_train = pd.read_csv(\"..//data//DualGCN_Embedding_train.csv\")"
   ]
  },
  {
   "cell_type": "code",
   "execution_count": 19,
   "id": "7e62a800-6f13-4a2f-965d-62d34061612d",
   "metadata": {},
   "outputs": [],
   "source": [
    "dualgcn_test = pd.read_csv(\"..//data//DualGCN_Embedding_test.csv\")"
   ]
  },
  {
   "cell_type": "code",
   "execution_count": 20,
   "id": "5bd3f846-d0c4-4c92-b2af-1836b2cdf13b",
   "metadata": {},
   "outputs": [],
   "source": [
    "pubchem_to_drugs_df = pd.read_csv('../data/GDSC/1.Drug_listMon Jun 24 09_00_55 2019.csv')"
   ]
  },
  {
   "cell_type": "code",
   "execution_count": 21,
   "id": "4c1cabed-895b-4a33-9478-9c414246d9d6",
   "metadata": {},
   "outputs": [],
   "source": [
    "pubchem_to_drugs_df = pubchem_to_drugs_df[[\"drug_id\", \"PubCHEM\"]]"
   ]
  },
  {
   "cell_type": "code",
   "execution_count": 22,
   "id": "06050248-be5d-4413-a9f6-afba9c6dc1da",
   "metadata": {},
   "outputs": [
    {
     "data": {
      "text/plain": [
       "drug_id     int64\n",
       "PubCHEM    object\n",
       "dtype: object"
      ]
     },
     "execution_count": 22,
     "metadata": {},
     "output_type": "execute_result"
    }
   ],
   "source": [
    "pubchem_to_drugs_df.dtypes"
   ]
  },
  {
   "cell_type": "code",
   "execution_count": 23,
   "id": "3c0bea4c-f12a-4b03-814b-cadf7cbee967",
   "metadata": {},
   "outputs": [],
   "source": [
    "import numpy as np"
   ]
  },
  {
   "cell_type": "code",
   "execution_count": 24,
   "id": "226a6b4e-ddb7-4f0a-8e24-25fe64de8992",
   "metadata": {},
   "outputs": [],
   "source": [
    "pubchem_to_drugs_df[\"PubCHEM\"] = [val if str(val).isdigit() else np.nan for val in pubchem_to_drugs_df[\"PubCHEM\"] ]"
   ]
  },
  {
   "cell_type": "code",
   "execution_count": 25,
   "id": "49920b0c-24e4-4900-b65c-238b7918cb9f",
   "metadata": {},
   "outputs": [],
   "source": [
    "pubchem_to_drugs_df = pubchem_to_drugs_df.dropna()"
   ]
  },
  {
   "cell_type": "code",
   "execution_count": 26,
   "id": "7691b28b-0ae2-4ed4-8e16-54ff384b9dee",
   "metadata": {},
   "outputs": [
    {
     "data": {
      "text/plain": [
       "drug_id     int64\n",
       "PubCHEM    object\n",
       "dtype: object"
      ]
     },
     "execution_count": 26,
     "metadata": {},
     "output_type": "execute_result"
    }
   ],
   "source": [
    "pubchem_to_drugs_df.dtypes"
   ]
  },
  {
   "cell_type": "code",
   "execution_count": 27,
   "id": "6462ade0-cd2d-491d-be8a-aa0e7ddd3863",
   "metadata": {},
   "outputs": [],
   "source": [
    "pubchem_to_drugs_df[\"drug_id\"] = pubchem_to_drugs_df[\"drug_id\"].astype(str)"
   ]
  },
  {
   "cell_type": "code",
   "execution_count": 28,
   "id": "9f4ef849-3457-4de8-b907-efb27592420a",
   "metadata": {},
   "outputs": [],
   "source": [
    "# pubchem_to_drugs_df[\"drug_id\"].values[0]"
   ]
  },
  {
   "cell_type": "code",
   "execution_count": 29,
   "id": "94952b6c-ecea-4ae2-912d-7e5e5f354eed",
   "metadata": {},
   "outputs": [],
   "source": [
    "# '1001' in pubchem_to_drugs_df[\"drug_id\"].values"
   ]
  },
  {
   "cell_type": "code",
   "execution_count": 30,
   "id": "5b3c2533-d329-48f1-bae8-c3eba2e1cea8",
   "metadata": {},
   "outputs": [],
   "source": [
    "with open(\"..//data//drug_gcn_normalized_adj_mats.pickle\", \"rb\") as f:\n",
    "    dict_normalized_adj_mats = pickle.load(f)"
   ]
  },
  {
   "cell_type": "code",
   "execution_count": 31,
   "id": "11f133e4-70a2-4fae-8066-2d1d77de5fe8",
   "metadata": {},
   "outputs": [],
   "source": [
    "from sklearn.model_selection import train_test_split"
   ]
  },
  {
   "cell_type": "code",
   "execution_count": 32,
   "id": "3286fd91-f6df-49fc-8d72-5e493f31d0ae",
   "metadata": {},
   "outputs": [
    {
     "name": "stderr",
     "output_type": "stream",
     "text": [
      "/tmp/ipykernel_4100582/747247744.py:1: FutureWarning: In a future version of pandas all arguments of DataFrame.drop except for the argument 'labels' will be keyword-only.\n",
      "  x_train, x_valid, y_train, y_valid = train_test_split(drugs_smiles_cell_lines_ic50_df.drop([\"IC50\"],1), drugs_smiles_cell_lines_ic50_df[\"IC50\"].values,\n"
     ]
    }
   ],
   "source": [
    "x_train, x_valid, y_train, y_valid = train_test_split(drugs_smiles_cell_lines_ic50_df.drop([\"IC50\"],1), drugs_smiles_cell_lines_ic50_df[\"IC50\"].values, \n",
    "                                                     test_size = 0.20, random_state = 42)"
   ]
  },
  {
   "cell_type": "code",
   "execution_count": 33,
   "id": "ccd8b1b2-ae20-449d-848f-6db348107221",
   "metadata": {},
   "outputs": [
    {
     "data": {
      "text/plain": [
       "(149431, 3)"
      ]
     },
     "execution_count": 33,
     "metadata": {},
     "output_type": "execute_result"
    }
   ],
   "source": [
    "x_train.shape"
   ]
  },
  {
   "cell_type": "code",
   "execution_count": 34,
   "id": "66e3e840-5d0c-4402-b19d-8c8957499ce7",
   "metadata": {},
   "outputs": [
    {
     "data": {
      "text/plain": [
       "(37358, 3)"
      ]
     },
     "execution_count": 34,
     "metadata": {},
     "output_type": "execute_result"
    }
   ],
   "source": [
    "x_valid.shape"
   ]
  },
  {
   "cell_type": "code",
   "execution_count": 35,
   "id": "1b1ddb77-6e32-4225-96ba-cce23480ab1b",
   "metadata": {},
   "outputs": [],
   "source": [
    "dualgcn_train[\"Drug_ID\"] = dualgcn_train[\"Drug_ID\"].astype(str)"
   ]
  },
  {
   "cell_type": "code",
   "execution_count": 36,
   "id": "5d534def-d5c7-4b2c-a3ee-f4c5c43650c2",
   "metadata": {},
   "outputs": [],
   "source": [
    "dualgcn_test[\"Drug_ID\"] = dualgcn_test[\"Drug_ID\"].astype(str)"
   ]
  },
  {
   "cell_type": "code",
   "execution_count": 37,
   "id": "5a7161ee-e146-4c38-a8b8-66369327384f",
   "metadata": {},
   "outputs": [
    {
     "data": {
      "text/plain": [
       "drug_id    object\n",
       "PubCHEM    object\n",
       "dtype: object"
      ]
     },
     "execution_count": 37,
     "metadata": {},
     "output_type": "execute_result"
    }
   ],
   "source": [
    "pubchem_to_drugs_df.dtypes"
   ]
  },
  {
   "cell_type": "code",
   "execution_count": 38,
   "id": "26536155-5c48-4960-bff8-21c5ec06bab2",
   "metadata": {},
   "outputs": [],
   "source": [
    "dualgcn_train = pubchem_to_drugs_df.merge(dualgcn_train, left_on = [\"PubCHEM\"], right_on = [\"Drug_ID\"])"
   ]
  },
  {
   "cell_type": "code",
   "execution_count": 39,
   "id": "2bc82e0e-8eff-4ca1-bf75-b7a7a9b129e0",
   "metadata": {},
   "outputs": [],
   "source": [
    "dualgcn_train = dualgcn_train[['Cell_Line', 'drug_id']]"
   ]
  },
  {
   "cell_type": "code",
   "execution_count": 40,
   "id": "eae9ef05-6e1c-4aaa-bf6b-940d92f46ffb",
   "metadata": {},
   "outputs": [],
   "source": [
    "dualgcn_test = pubchem_to_drugs_df.merge(dualgcn_test, left_on = [\"PubCHEM\"], right_on = [\"Drug_ID\"])"
   ]
  },
  {
   "cell_type": "code",
   "execution_count": 41,
   "id": "f30684d3-1a27-4d66-8fc4-f84310a30d70",
   "metadata": {},
   "outputs": [],
   "source": [
    "dualgcn_test = dualgcn_test[['Cell_Line', 'drug_id']]"
   ]
  },
  {
   "cell_type": "code",
   "execution_count": 42,
   "id": "4402d433-aefc-436a-aee5-b63a41c341aa",
   "metadata": {},
   "outputs": [
    {
     "data": {
      "text/html": [
       "<div>\n",
       "<style scoped>\n",
       "    .dataframe tbody tr th:only-of-type {\n",
       "        vertical-align: middle;\n",
       "    }\n",
       "\n",
       "    .dataframe tbody tr th {\n",
       "        vertical-align: top;\n",
       "    }\n",
       "\n",
       "    .dataframe thead th {\n",
       "        text-align: right;\n",
       "    }\n",
       "</style>\n",
       "<table border=\"1\" class=\"dataframe\">\n",
       "  <thead>\n",
       "    <tr style=\"text-align: right;\">\n",
       "      <th></th>\n",
       "      <th>Cell_Line</th>\n",
       "      <th>drug_id</th>\n",
       "    </tr>\n",
       "  </thead>\n",
       "  <tbody>\n",
       "    <tr>\n",
       "      <th>0</th>\n",
       "      <td>ACH-000070</td>\n",
       "      <td>1242</td>\n",
       "    </tr>\n",
       "    <tr>\n",
       "      <th>1</th>\n",
       "      <td>ACH-000105</td>\n",
       "      <td>1242</td>\n",
       "    </tr>\n",
       "    <tr>\n",
       "      <th>2</th>\n",
       "      <td>ACH-000981</td>\n",
       "      <td>1242</td>\n",
       "    </tr>\n",
       "    <tr>\n",
       "      <th>3</th>\n",
       "      <td>ACH-000061</td>\n",
       "      <td>1242</td>\n",
       "    </tr>\n",
       "    <tr>\n",
       "      <th>4</th>\n",
       "      <td>ACH-000995</td>\n",
       "      <td>1242</td>\n",
       "    </tr>\n",
       "  </tbody>\n",
       "</table>\n",
       "</div>"
      ],
      "text/plain": [
       "    Cell_Line drug_id\n",
       "0  ACH-000070    1242\n",
       "1  ACH-000105    1242\n",
       "2  ACH-000981    1242\n",
       "3  ACH-000061    1242\n",
       "4  ACH-000995    1242"
      ]
     },
     "execution_count": 42,
     "metadata": {},
     "output_type": "execute_result"
    }
   ],
   "source": [
    "dualgcn_train.head()"
   ]
  },
  {
   "cell_type": "code",
   "execution_count": 43,
   "id": "f0542289-770e-4e4b-b664-92e4bc29cfc0",
   "metadata": {},
   "outputs": [
    {
     "data": {
      "text/plain": [
       "Cell_Line    object\n",
       "drug_id      object\n",
       "dtype: object"
      ]
     },
     "execution_count": 43,
     "metadata": {},
     "output_type": "execute_result"
    }
   ],
   "source": [
    "dualgcn_train.dtypes"
   ]
  },
  {
   "cell_type": "code",
   "execution_count": 44,
   "id": "c2322204-c032-4c64-a2f7-319e233717b4",
   "metadata": {},
   "outputs": [],
   "source": [
    "# x_train["
   ]
  },
  {
   "cell_type": "code",
   "execution_count": 45,
   "id": "1c63ae0c-24be-4d2e-91d5-6e2616980c51",
   "metadata": {},
   "outputs": [
    {
     "data": {
      "text/plain": [
       "drug_id             object\n",
       "Cancer_Cell_Line    object\n",
       "Smiles              object\n",
       "dtype: object"
      ]
     },
     "execution_count": 45,
     "metadata": {},
     "output_type": "execute_result"
    }
   ],
   "source": [
    "x_train.dtypes"
   ]
  },
  {
   "cell_type": "code",
   "execution_count": 46,
   "id": "ab53e997-9aa3-46ae-b3fe-f30549c35fdb",
   "metadata": {},
   "outputs": [],
   "source": [
    "# dualgcn_train"
   ]
  },
  {
   "cell_type": "code",
   "execution_count": 47,
   "id": "6cddda70-6c3e-4e5f-a2f7-882194bb43d1",
   "metadata": {},
   "outputs": [],
   "source": [
    "# x_train['drug_id'].values[0]"
   ]
  },
  {
   "cell_type": "code",
   "execution_count": 48,
   "id": "76078299-ae77-4b6b-99bf-c8d04c0d8d89",
   "metadata": {},
   "outputs": [],
   "source": [
    "x_train['drug_id'] = x_train['drug_id'].astype(str)"
   ]
  },
  {
   "cell_type": "code",
   "execution_count": 49,
   "id": "5c693879-9d22-426a-973c-10f2428782e8",
   "metadata": {},
   "outputs": [],
   "source": [
    "x_valid['drug_id'] = x_valid['drug_id'].astype(str)"
   ]
  },
  {
   "cell_type": "code",
   "execution_count": 50,
   "id": "bc17185f-ea74-4d95-8e77-549522dc6d9d",
   "metadata": {},
   "outputs": [],
   "source": [
    "x_train_valid_feats = pd.concat([x_train, x_valid], ignore_index = True)"
   ]
  },
  {
   "cell_type": "code",
   "execution_count": 51,
   "id": "3dd68714-74df-4643-9b6a-554e0db5884e",
   "metadata": {},
   "outputs": [],
   "source": [
    "y_train_valid = pd.concat([pd.DataFrame(y_train.reshape(-1,1)), pd.DataFrame(y_valid.reshape(-1,1))], ignore_index = True)"
   ]
  },
  {
   "cell_type": "code",
   "execution_count": 52,
   "id": "e5bdf3b9-9644-4f7a-a2d3-825b184a4671",
   "metadata": {},
   "outputs": [
    {
     "name": "stderr",
     "output_type": "stream",
     "text": [
      "/tmp/ipykernel_4100582/1008667345.py:1: FutureWarning: In a future version of pandas all arguments of concat except for the argument 'objs' will be keyword-only.\n",
      "  combo_train_valid = pd.concat([x_train_valid_feats, y_train_valid], 1)\n"
     ]
    }
   ],
   "source": [
    "combo_train_valid = pd.concat([x_train_valid_feats, y_train_valid], 1)"
   ]
  },
  {
   "cell_type": "code",
   "execution_count": 53,
   "id": "cd487c80-f100-47d8-91b4-704bc01aa318",
   "metadata": {},
   "outputs": [
    {
     "data": {
      "text/html": [
       "<div>\n",
       "<style scoped>\n",
       "    .dataframe tbody tr th:only-of-type {\n",
       "        vertical-align: middle;\n",
       "    }\n",
       "\n",
       "    .dataframe tbody tr th {\n",
       "        vertical-align: top;\n",
       "    }\n",
       "\n",
       "    .dataframe thead th {\n",
       "        text-align: right;\n",
       "    }\n",
       "</style>\n",
       "<table border=\"1\" class=\"dataframe\">\n",
       "  <thead>\n",
       "    <tr style=\"text-align: right;\">\n",
       "      <th></th>\n",
       "      <th>drug_id</th>\n",
       "      <th>Cancer_Cell_Line</th>\n",
       "      <th>Smiles</th>\n",
       "      <th>0</th>\n",
       "    </tr>\n",
       "  </thead>\n",
       "  <tbody>\n",
       "    <tr>\n",
       "      <th>0</th>\n",
       "      <td>1059</td>\n",
       "      <td>ACH-001368</td>\n",
       "      <td>COc1ccc(-c2ccc3c(N4CCOCC4C)nc(N4CCOCC4C)nc3n2)...</td>\n",
       "      <td>1.086644</td>\n",
       "    </tr>\n",
       "    <tr>\n",
       "      <th>1</th>\n",
       "      <td>255</td>\n",
       "      <td>ACH-000142</td>\n",
       "      <td>COCC(=O)NCC=Cc1ccc2ncnc(Nc3ccc(Oc4ccc(C)nc4)c(...</td>\n",
       "      <td>4.227800</td>\n",
       "    </tr>\n",
       "    <tr>\n",
       "      <th>2</th>\n",
       "      <td>178</td>\n",
       "      <td>ACH-000218</td>\n",
       "      <td>COc1ccc(-c2cc3nccn3c(Nc3ncccc3C(N)=O)n2)cc1OC</td>\n",
       "      <td>0.067505</td>\n",
       "    </tr>\n",
       "    <tr>\n",
       "      <th>3</th>\n",
       "      <td>152</td>\n",
       "      <td>ACH-002155</td>\n",
       "      <td>COc1cc2ncnc(-n3nc(-c4ccccn4)nc3N)c2cc1OC</td>\n",
       "      <td>4.894550</td>\n",
       "    </tr>\n",
       "    <tr>\n",
       "      <th>4</th>\n",
       "      <td>1243</td>\n",
       "      <td>ACH-000277</td>\n",
       "      <td>COc1cc(C=CC(=O)N2CCC=CC2=O)cc(OC)c1OC</td>\n",
       "      <td>4.572953</td>\n",
       "    </tr>\n",
       "  </tbody>\n",
       "</table>\n",
       "</div>"
      ],
      "text/plain": [
       "  drug_id Cancer_Cell_Line                                             Smiles  \\\n",
       "0    1059       ACH-001368  COc1ccc(-c2ccc3c(N4CCOCC4C)nc(N4CCOCC4C)nc3n2)...   \n",
       "1     255       ACH-000142  COCC(=O)NCC=Cc1ccc2ncnc(Nc3ccc(Oc4ccc(C)nc4)c(...   \n",
       "2     178       ACH-000218      COc1ccc(-c2cc3nccn3c(Nc3ncccc3C(N)=O)n2)cc1OC   \n",
       "3     152       ACH-002155           COc1cc2ncnc(-n3nc(-c4ccccn4)nc3N)c2cc1OC   \n",
       "4    1243       ACH-000277              COc1cc(C=CC(=O)N2CCC=CC2=O)cc(OC)c1OC   \n",
       "\n",
       "          0  \n",
       "0  1.086644  \n",
       "1  4.227800  \n",
       "2  0.067505  \n",
       "3  4.894550  \n",
       "4  4.572953  "
      ]
     },
     "execution_count": 53,
     "metadata": {},
     "output_type": "execute_result"
    }
   ],
   "source": [
    "combo_train_valid.head()"
   ]
  },
  {
   "cell_type": "code",
   "execution_count": 54,
   "id": "b9de540d-bb4c-48e1-bcbe-b07df1a2c7f7",
   "metadata": {},
   "outputs": [],
   "source": [
    "combo_train_valid.columns = ['drug_id', 'Cancer_Cell_Line', 'Smiles', 'IC50']"
   ]
  },
  {
   "cell_type": "code",
   "execution_count": 71,
   "id": "7b921231-e37c-4db4-8d94-de0d9bd22d07",
   "metadata": {},
   "outputs": [],
   "source": [
    "# combo_train_valid.shape"
   ]
  },
  {
   "cell_type": "code",
   "execution_count": 55,
   "id": "6ad83127-f200-4ea3-8405-e3ec9e599ec1",
   "metadata": {},
   "outputs": [],
   "source": [
    "# filter x_train x _valid here\n",
    "x_y_train = combo_train_valid.merge(dualgcn_train, left_on = ['Cancer_Cell_Line','drug_id'], right_on = [ 'Cell_Line','drug_id'])"
   ]
  },
  {
   "cell_type": "code",
   "execution_count": 56,
   "id": "5259b872-a658-417a-bf44-82e98ce9232e",
   "metadata": {},
   "outputs": [
    {
     "data": {
      "text/plain": [
       "(69214, 5)"
      ]
     },
     "execution_count": 56,
     "metadata": {},
     "output_type": "execute_result"
    }
   ],
   "source": [
    "x_y_train.shape"
   ]
  },
  {
   "cell_type": "code",
   "execution_count": 57,
   "id": "dc27c526-d096-4eaf-a6cc-c2bae6d56ecf",
   "metadata": {},
   "outputs": [
    {
     "data": {
      "text/html": [
       "<div>\n",
       "<style scoped>\n",
       "    .dataframe tbody tr th:only-of-type {\n",
       "        vertical-align: middle;\n",
       "    }\n",
       "\n",
       "    .dataframe tbody tr th {\n",
       "        vertical-align: top;\n",
       "    }\n",
       "\n",
       "    .dataframe thead th {\n",
       "        text-align: right;\n",
       "    }\n",
       "</style>\n",
       "<table border=\"1\" class=\"dataframe\">\n",
       "  <thead>\n",
       "    <tr style=\"text-align: right;\">\n",
       "      <th></th>\n",
       "      <th>drug_id</th>\n",
       "      <th>Cancer_Cell_Line</th>\n",
       "      <th>Smiles</th>\n",
       "      <th>IC50</th>\n",
       "      <th>Cell_Line</th>\n",
       "    </tr>\n",
       "  </thead>\n",
       "  <tbody>\n",
       "    <tr>\n",
       "      <th>0</th>\n",
       "      <td>255</td>\n",
       "      <td>ACH-000142</td>\n",
       "      <td>COCC(=O)NCC=Cc1ccc2ncnc(Nc3ccc(Oc4ccc(C)nc4)c(...</td>\n",
       "      <td>4.227800</td>\n",
       "      <td>ACH-000142</td>\n",
       "    </tr>\n",
       "    <tr>\n",
       "      <th>1</th>\n",
       "      <td>178</td>\n",
       "      <td>ACH-000218</td>\n",
       "      <td>COc1ccc(-c2cc3nccn3c(Nc3ncccc3C(N)=O)n2)cc1OC</td>\n",
       "      <td>0.067505</td>\n",
       "      <td>ACH-000218</td>\n",
       "    </tr>\n",
       "    <tr>\n",
       "      <th>2</th>\n",
       "      <td>1230</td>\n",
       "      <td>ACH-000090</td>\n",
       "      <td>O=C(O)CNC(=O)c1c(O)c2ccccc2n(Cc2ccccc2)c1=O</td>\n",
       "      <td>0.717946</td>\n",
       "      <td>ACH-000090</td>\n",
       "    </tr>\n",
       "    <tr>\n",
       "      <th>3</th>\n",
       "      <td>167</td>\n",
       "      <td>ACH-000348</td>\n",
       "      <td>NCC(=O)Nc1ccc(-n2nc(C(F)(F)F)cc2-c2ccc3c(ccc4c...</td>\n",
       "      <td>1.902171</td>\n",
       "      <td>ACH-000348</td>\n",
       "    </tr>\n",
       "    <tr>\n",
       "      <th>4</th>\n",
       "      <td>1372</td>\n",
       "      <td>ACH-000914</td>\n",
       "      <td>CC(=O)Nc1cccc(-n2c(=O)n(C3CC3)c(=O)c3c(Nc4ccc(...</td>\n",
       "      <td>0.878946</td>\n",
       "      <td>ACH-000914</td>\n",
       "    </tr>\n",
       "  </tbody>\n",
       "</table>\n",
       "</div>"
      ],
      "text/plain": [
       "  drug_id Cancer_Cell_Line                                             Smiles  \\\n",
       "0     255       ACH-000142  COCC(=O)NCC=Cc1ccc2ncnc(Nc3ccc(Oc4ccc(C)nc4)c(...   \n",
       "1     178       ACH-000218      COc1ccc(-c2cc3nccn3c(Nc3ncccc3C(N)=O)n2)cc1OC   \n",
       "2    1230       ACH-000090        O=C(O)CNC(=O)c1c(O)c2ccccc2n(Cc2ccccc2)c1=O   \n",
       "3     167       ACH-000348  NCC(=O)Nc1ccc(-n2nc(C(F)(F)F)cc2-c2ccc3c(ccc4c...   \n",
       "4    1372       ACH-000914  CC(=O)Nc1cccc(-n2c(=O)n(C3CC3)c(=O)c3c(Nc4ccc(...   \n",
       "\n",
       "       IC50   Cell_Line  \n",
       "0  4.227800  ACH-000142  \n",
       "1  0.067505  ACH-000218  \n",
       "2  0.717946  ACH-000090  \n",
       "3  1.902171  ACH-000348  \n",
       "4  0.878946  ACH-000914  "
      ]
     },
     "execution_count": 57,
     "metadata": {},
     "output_type": "execute_result"
    }
   ],
   "source": [
    "x_y_train.head()"
   ]
  },
  {
   "cell_type": "code",
   "execution_count": 58,
   "id": "3ff87221-d69e-4ac0-b81c-408c18e6f3eb",
   "metadata": {},
   "outputs": [],
   "source": [
    "x_y_test = combo_train_valid.merge(dualgcn_test, left_on = ['Cancer_Cell_Line','drug_id'], right_on = [ 'Cell_Line','drug_id'])"
   ]
  },
  {
   "cell_type": "code",
   "execution_count": 59,
   "id": "9d286265-bbd6-4410-bcf7-3326e2bcfb6b",
   "metadata": {},
   "outputs": [
    {
     "data": {
      "text/plain": [
       "(17316, 5)"
      ]
     },
     "execution_count": 59,
     "metadata": {},
     "output_type": "execute_result"
    }
   ],
   "source": [
    "x_y_test.shape"
   ]
  },
  {
   "cell_type": "code",
   "execution_count": 60,
   "id": "6ca8133d-93bf-4598-a809-106415ce65f1",
   "metadata": {},
   "outputs": [
    {
     "data": {
      "text/plain": [
       "drug_id             object\n",
       "Cancer_Cell_Line    object\n",
       "Smiles              object\n",
       "dtype: object"
      ]
     },
     "execution_count": 60,
     "metadata": {},
     "output_type": "execute_result"
    }
   ],
   "source": [
    "x_train.dtypes"
   ]
  },
  {
   "cell_type": "code",
   "execution_count": 61,
   "id": "2e379fb0-8a4c-4481-801c-22ad21dca5ab",
   "metadata": {},
   "outputs": [],
   "source": [
    "# x_y_test"
   ]
  },
  {
   "cell_type": "code",
   "execution_count": 62,
   "id": "d526502f-cd0c-45f1-b1ac-21062fdb1ab6",
   "metadata": {},
   "outputs": [
    {
     "name": "stderr",
     "output_type": "stream",
     "text": [
      "/tmp/ipykernel_4100582/1750859165.py:1: FutureWarning: In a future version of pandas all arguments of DataFrame.drop except for the argument 'labels' will be keyword-only.\n",
      "  x_train, x_valid, y_train, y_valid = x_y_train.drop([\"IC50\", 'Cell_Line'],1), x_y_test.drop([\"IC50\", 'Cell_Line'], 1), x_y_train[\"IC50\"].values, x_y_test[\"IC50\"].values\n",
      "/tmp/ipykernel_4100582/1750859165.py:1: FutureWarning: In a future version of pandas all arguments of DataFrame.drop except for the argument 'labels' will be keyword-only.\n",
      "  x_train, x_valid, y_train, y_valid = x_y_train.drop([\"IC50\", 'Cell_Line'],1), x_y_test.drop([\"IC50\", 'Cell_Line'], 1), x_y_train[\"IC50\"].values, x_y_test[\"IC50\"].values\n"
     ]
    }
   ],
   "source": [
    "x_train, x_valid, y_train, y_valid = x_y_train.drop([\"IC50\", 'Cell_Line'],1), x_y_test.drop([\"IC50\", 'Cell_Line'], 1), x_y_train[\"IC50\"].values, x_y_test[\"IC50\"].values"
   ]
  },
  {
   "cell_type": "code",
   "execution_count": 63,
   "id": "2a23b681-34c0-4140-87d1-1ecc4af2fcc7",
   "metadata": {},
   "outputs": [
    {
     "data": {
      "text/plain": [
       "(69214, 3)"
      ]
     },
     "execution_count": 63,
     "metadata": {},
     "output_type": "execute_result"
    }
   ],
   "source": [
    "x_train.shape"
   ]
  },
  {
   "cell_type": "code",
   "execution_count": 64,
   "id": "7485d8d6-6c7e-42ba-89e2-39d5bad5bd16",
   "metadata": {},
   "outputs": [
    {
     "data": {
      "text/html": [
       "<div>\n",
       "<style scoped>\n",
       "    .dataframe tbody tr th:only-of-type {\n",
       "        vertical-align: middle;\n",
       "    }\n",
       "\n",
       "    .dataframe tbody tr th {\n",
       "        vertical-align: top;\n",
       "    }\n",
       "\n",
       "    .dataframe thead th {\n",
       "        text-align: right;\n",
       "    }\n",
       "</style>\n",
       "<table border=\"1\" class=\"dataframe\">\n",
       "  <thead>\n",
       "    <tr style=\"text-align: right;\">\n",
       "      <th></th>\n",
       "      <th>drug_id</th>\n",
       "      <th>Cancer_Cell_Line</th>\n",
       "      <th>Smiles</th>\n",
       "    </tr>\n",
       "  </thead>\n",
       "  <tbody>\n",
       "    <tr>\n",
       "      <th>0</th>\n",
       "      <td>255</td>\n",
       "      <td>ACH-000142</td>\n",
       "      <td>COCC(=O)NCC=Cc1ccc2ncnc(Nc3ccc(Oc4ccc(C)nc4)c(...</td>\n",
       "    </tr>\n",
       "    <tr>\n",
       "      <th>1</th>\n",
       "      <td>178</td>\n",
       "      <td>ACH-000218</td>\n",
       "      <td>COc1ccc(-c2cc3nccn3c(Nc3ncccc3C(N)=O)n2)cc1OC</td>\n",
       "    </tr>\n",
       "    <tr>\n",
       "      <th>2</th>\n",
       "      <td>1230</td>\n",
       "      <td>ACH-000090</td>\n",
       "      <td>O=C(O)CNC(=O)c1c(O)c2ccccc2n(Cc2ccccc2)c1=O</td>\n",
       "    </tr>\n",
       "    <tr>\n",
       "      <th>3</th>\n",
       "      <td>167</td>\n",
       "      <td>ACH-000348</td>\n",
       "      <td>NCC(=O)Nc1ccc(-n2nc(C(F)(F)F)cc2-c2ccc3c(ccc4c...</td>\n",
       "    </tr>\n",
       "    <tr>\n",
       "      <th>4</th>\n",
       "      <td>1372</td>\n",
       "      <td>ACH-000914</td>\n",
       "      <td>CC(=O)Nc1cccc(-n2c(=O)n(C3CC3)c(=O)c3c(Nc4ccc(...</td>\n",
       "    </tr>\n",
       "  </tbody>\n",
       "</table>\n",
       "</div>"
      ],
      "text/plain": [
       "  drug_id Cancer_Cell_Line                                             Smiles\n",
       "0     255       ACH-000142  COCC(=O)NCC=Cc1ccc2ncnc(Nc3ccc(Oc4ccc(C)nc4)c(...\n",
       "1     178       ACH-000218      COc1ccc(-c2cc3nccn3c(Nc3ncccc3C(N)=O)n2)cc1OC\n",
       "2    1230       ACH-000090        O=C(O)CNC(=O)c1c(O)c2ccccc2n(Cc2ccccc2)c1=O\n",
       "3     167       ACH-000348  NCC(=O)Nc1ccc(-n2nc(C(F)(F)F)cc2-c2ccc3c(ccc4c...\n",
       "4    1372       ACH-000914  CC(=O)Nc1cccc(-n2c(=O)n(C3CC3)c(=O)c3c(Nc4ccc(..."
      ]
     },
     "execution_count": 64,
     "metadata": {},
     "output_type": "execute_result"
    }
   ],
   "source": [
    "x_train.head()"
   ]
  },
  {
   "cell_type": "code",
   "execution_count": 77,
   "id": "2ea571f1-969a-4177-aa72-775c124aeeba",
   "metadata": {},
   "outputs": [],
   "source": [
    "# get the primary keys for train and valid\n",
    "combined_train_valid_deepcdr_keys = pd.concat([x_train[['drug_id', 'Cancer_Cell_Line']], \n",
    "          x_valid[['drug_id', 'Cancer_Cell_Line']]], ignore_index = True)"
   ]
  },
  {
   "cell_type": "code",
   "execution_count": 84,
   "id": "8fbd4234-9f17-4367-adfa-e0661ece2854",
   "metadata": {},
   "outputs": [],
   "source": [
    "# combined_train_valid_deepcdr_keys"
   ]
  },
  {
   "cell_type": "code",
   "execution_count": 85,
   "id": "9ccb1aec-b87a-435d-b8a1-afc7808f7956",
   "metadata": {},
   "outputs": [],
   "source": [
    "combined_train_valid_deepcdr_keys = combined_train_valid_deepcdr_keys.set_index(['drug_id', 'Cancer_Cell_Line'])"
   ]
  },
  {
   "cell_type": "code",
   "execution_count": 86,
   "id": "a7dbacf4-de95-4844-9c45-e96f00b25c41",
   "metadata": {},
   "outputs": [],
   "source": [
    "all_keys = combo_train_valid[['drug_id', 'Cancer_Cell_Line']]"
   ]
  },
  {
   "cell_type": "code",
   "execution_count": 89,
   "id": "db3a368d-ff3a-4334-b8cb-faf8becf9d0c",
   "metadata": {},
   "outputs": [
    {
     "data": {
      "text/plain": [
       "drug_id             0\n",
       "Cancer_Cell_Line    0\n",
       "dtype: int64"
      ]
     },
     "execution_count": 89,
     "metadata": {},
     "output_type": "execute_result"
    }
   ],
   "source": [
    "all_keys.isnull().sum()"
   ]
  },
  {
   "cell_type": "code",
   "execution_count": 90,
   "id": "2a4fc025-ccfd-4535-bec1-141f7fdb9d8f",
   "metadata": {},
   "outputs": [
    {
     "data": {
      "text/html": [
       "<div>\n",
       "<style scoped>\n",
       "    .dataframe tbody tr th:only-of-type {\n",
       "        vertical-align: middle;\n",
       "    }\n",
       "\n",
       "    .dataframe tbody tr th {\n",
       "        vertical-align: top;\n",
       "    }\n",
       "\n",
       "    .dataframe thead th {\n",
       "        text-align: right;\n",
       "    }\n",
       "</style>\n",
       "<table border=\"1\" class=\"dataframe\">\n",
       "  <thead>\n",
       "    <tr style=\"text-align: right;\">\n",
       "      <th></th>\n",
       "      <th>drug_id</th>\n",
       "      <th>Cancer_Cell_Line</th>\n",
       "    </tr>\n",
       "  </thead>\n",
       "  <tbody>\n",
       "    <tr>\n",
       "      <th>0</th>\n",
       "      <td>1059</td>\n",
       "      <td>ACH-001368</td>\n",
       "    </tr>\n",
       "    <tr>\n",
       "      <th>1</th>\n",
       "      <td>255</td>\n",
       "      <td>ACH-000142</td>\n",
       "    </tr>\n",
       "    <tr>\n",
       "      <th>2</th>\n",
       "      <td>178</td>\n",
       "      <td>ACH-000218</td>\n",
       "    </tr>\n",
       "    <tr>\n",
       "      <th>3</th>\n",
       "      <td>152</td>\n",
       "      <td>ACH-002155</td>\n",
       "    </tr>\n",
       "    <tr>\n",
       "      <th>4</th>\n",
       "      <td>1243</td>\n",
       "      <td>ACH-000277</td>\n",
       "    </tr>\n",
       "  </tbody>\n",
       "</table>\n",
       "</div>"
      ],
      "text/plain": [
       "  drug_id Cancer_Cell_Line\n",
       "0    1059       ACH-001368\n",
       "1     255       ACH-000142\n",
       "2     178       ACH-000218\n",
       "3     152       ACH-002155\n",
       "4    1243       ACH-000277"
      ]
     },
     "execution_count": 90,
     "metadata": {},
     "output_type": "execute_result"
    }
   ],
   "source": [
    "all_keys.head()"
   ]
  },
  {
   "cell_type": "code",
   "execution_count": 91,
   "id": "d23e8953-d034-4e96-be26-1c5ddb86434d",
   "metadata": {},
   "outputs": [],
   "source": [
    "all_keys = all_keys.set_index(['drug_id', 'Cancer_Cell_Line'])"
   ]
  },
  {
   "cell_type": "code",
   "execution_count": 101,
   "id": "c68b3cb5-a9c7-4071-bf97-9f8745cbd03b",
   "metadata": {},
   "outputs": [],
   "source": [
    "not_touched = [index for index in all_keys.index if index not in combined_train_valid_deepcdr_keys.index ]"
   ]
  },
  {
   "cell_type": "code",
   "execution_count": 108,
   "id": "e88fdc71-fdb9-4059-8889-72b418b751a9",
   "metadata": {},
   "outputs": [],
   "source": [
    "untouched_data = all_keys[all_keys.index.isin(not_touched)].reset_index()"
   ]
  },
  {
   "cell_type": "code",
   "execution_count": 109,
   "id": "0bcce1bd-58f2-41b8-92e8-48456d4a4f0a",
   "metadata": {},
   "outputs": [
    {
     "data": {
      "text/plain": [
       "(100259, 2)"
      ]
     },
     "execution_count": 109,
     "metadata": {},
     "output_type": "execute_result"
    }
   ],
   "source": [
    "untouched_data.shape"
   ]
  },
  {
   "cell_type": "code",
   "execution_count": 110,
   "id": "cfc7d327-3f0c-46a9-bfe5-5a34f6b54980",
   "metadata": {},
   "outputs": [
    {
     "data": {
      "text/plain": [
       "186789"
      ]
     },
     "execution_count": 110,
     "metadata": {},
     "output_type": "execute_result"
    }
   ],
   "source": [
    "untouched_data.shape[0] + combined_train_valid_deepcdr_keys.shape[0]"
   ]
  },
  {
   "cell_type": "code",
   "execution_count": 111,
   "id": "e8cf7891-9a6e-4fe8-9f0f-bc6b5c56b545",
   "metadata": {},
   "outputs": [
    {
     "data": {
      "text/plain": [
       "(186789, 0)"
      ]
     },
     "execution_count": 111,
     "metadata": {},
     "output_type": "execute_result"
    }
   ],
   "source": [
    "all_keys.shape"
   ]
  },
  {
   "cell_type": "code",
   "execution_count": 113,
   "id": "4fefdb94-9c64-450c-a02f-edd580403f0e",
   "metadata": {},
   "outputs": [],
   "source": [
    "untouched_data = combo_train_valid.merge(untouched_data)"
   ]
  },
  {
   "cell_type": "code",
   "execution_count": 115,
   "id": "d434f89f-7e67-491e-bc1f-9b1d44382184",
   "metadata": {},
   "outputs": [],
   "source": [
    "untouched_data = untouched_data.merge(pubchem_to_drugs_df)"
   ]
  },
  {
   "cell_type": "code",
   "execution_count": 116,
   "id": "3df4bf6d-0d74-4297-b845-32eb23e973b5",
   "metadata": {},
   "outputs": [
    {
     "data": {
      "text/html": [
       "<div>\n",
       "<style scoped>\n",
       "    .dataframe tbody tr th:only-of-type {\n",
       "        vertical-align: middle;\n",
       "    }\n",
       "\n",
       "    .dataframe tbody tr th {\n",
       "        vertical-align: top;\n",
       "    }\n",
       "\n",
       "    .dataframe thead th {\n",
       "        text-align: right;\n",
       "    }\n",
       "</style>\n",
       "<table border=\"1\" class=\"dataframe\">\n",
       "  <thead>\n",
       "    <tr style=\"text-align: right;\">\n",
       "      <th></th>\n",
       "      <th>drug_id</th>\n",
       "      <th>Cancer_Cell_Line</th>\n",
       "      <th>Smiles</th>\n",
       "      <th>IC50</th>\n",
       "      <th>PubCHEM</th>\n",
       "    </tr>\n",
       "  </thead>\n",
       "  <tbody>\n",
       "    <tr>\n",
       "      <th>0</th>\n",
       "      <td>1059</td>\n",
       "      <td>ACH-001368</td>\n",
       "      <td>COc1ccc(-c2ccc3c(N4CCOCC4C)nc(N4CCOCC4C)nc3n2)...</td>\n",
       "      <td>1.086644</td>\n",
       "      <td>25262965</td>\n",
       "    </tr>\n",
       "    <tr>\n",
       "      <th>1</th>\n",
       "      <td>1059</td>\n",
       "      <td>ACH-001709</td>\n",
       "      <td>COc1ccc(-c2ccc3c(N4CCOCC4C)nc(N4CCOCC4C)nc3n2)...</td>\n",
       "      <td>-2.739268</td>\n",
       "      <td>25262965</td>\n",
       "    </tr>\n",
       "    <tr>\n",
       "      <th>2</th>\n",
       "      <td>1059</td>\n",
       "      <td>ACH-001023</td>\n",
       "      <td>COc1ccc(-c2ccc3c(N4CCOCC4C)nc(N4CCOCC4C)nc3n2)...</td>\n",
       "      <td>-0.437438</td>\n",
       "      <td>25262965</td>\n",
       "    </tr>\n",
       "    <tr>\n",
       "      <th>3</th>\n",
       "      <td>1059</td>\n",
       "      <td>ACH-002195</td>\n",
       "      <td>COc1ccc(-c2ccc3c(N4CCOCC4C)nc(N4CCOCC4C)nc3n2)...</td>\n",
       "      <td>0.102071</td>\n",
       "      <td>25262965</td>\n",
       "    </tr>\n",
       "    <tr>\n",
       "      <th>4</th>\n",
       "      <td>1059</td>\n",
       "      <td>ACH-000524</td>\n",
       "      <td>COc1ccc(-c2ccc3c(N4CCOCC4C)nc(N4CCOCC4C)nc3n2)...</td>\n",
       "      <td>1.015818</td>\n",
       "      <td>25262965</td>\n",
       "    </tr>\n",
       "    <tr>\n",
       "      <th>...</th>\n",
       "      <td>...</td>\n",
       "      <td>...</td>\n",
       "      <td>...</td>\n",
       "      <td>...</td>\n",
       "      <td>...</td>\n",
       "    </tr>\n",
       "    <tr>\n",
       "      <th>100254</th>\n",
       "      <td>9</td>\n",
       "      <td>ACH-001519</td>\n",
       "      <td>CC(C)CC(C=O)NC(=O)C(CC(C)C)NC(=O)C(CC(C)C)NC(=...</td>\n",
       "      <td>0.463412</td>\n",
       "      <td>462382</td>\n",
       "    </tr>\n",
       "    <tr>\n",
       "      <th>100255</th>\n",
       "      <td>9</td>\n",
       "      <td>ACH-001665</td>\n",
       "      <td>CC(C)CC(C=O)NC(=O)C(CC(C)C)NC(=O)C(CC(C)C)NC(=...</td>\n",
       "      <td>-0.916904</td>\n",
       "      <td>462382</td>\n",
       "    </tr>\n",
       "    <tr>\n",
       "      <th>100256</th>\n",
       "      <td>9</td>\n",
       "      <td>ACH-002242</td>\n",
       "      <td>CC(C)CC(C=O)NC(=O)C(CC(C)C)NC(=O)C(CC(C)C)NC(=...</td>\n",
       "      <td>-1.205729</td>\n",
       "      <td>462382</td>\n",
       "    </tr>\n",
       "    <tr>\n",
       "      <th>100257</th>\n",
       "      <td>9</td>\n",
       "      <td>ACH-002149</td>\n",
       "      <td>CC(C)CC(C=O)NC(=O)C(CC(C)C)NC(=O)C(CC(C)C)NC(=...</td>\n",
       "      <td>-0.390989</td>\n",
       "      <td>462382</td>\n",
       "    </tr>\n",
       "    <tr>\n",
       "      <th>100258</th>\n",
       "      <td>9</td>\n",
       "      <td>ACH-001591</td>\n",
       "      <td>CC(C)CC(C=O)NC(=O)C(CC(C)C)NC(=O)C(CC(C)C)NC(=...</td>\n",
       "      <td>2.949778</td>\n",
       "      <td>462382</td>\n",
       "    </tr>\n",
       "  </tbody>\n",
       "</table>\n",
       "<p>100259 rows × 5 columns</p>\n",
       "</div>"
      ],
      "text/plain": [
       "       drug_id Cancer_Cell_Line  \\\n",
       "0         1059       ACH-001368   \n",
       "1         1059       ACH-001709   \n",
       "2         1059       ACH-001023   \n",
       "3         1059       ACH-002195   \n",
       "4         1059       ACH-000524   \n",
       "...        ...              ...   \n",
       "100254       9       ACH-001519   \n",
       "100255       9       ACH-001665   \n",
       "100256       9       ACH-002242   \n",
       "100257       9       ACH-002149   \n",
       "100258       9       ACH-001591   \n",
       "\n",
       "                                                   Smiles      IC50   PubCHEM  \n",
       "0       COc1ccc(-c2ccc3c(N4CCOCC4C)nc(N4CCOCC4C)nc3n2)...  1.086644  25262965  \n",
       "1       COc1ccc(-c2ccc3c(N4CCOCC4C)nc(N4CCOCC4C)nc3n2)... -2.739268  25262965  \n",
       "2       COc1ccc(-c2ccc3c(N4CCOCC4C)nc(N4CCOCC4C)nc3n2)... -0.437438  25262965  \n",
       "3       COc1ccc(-c2ccc3c(N4CCOCC4C)nc(N4CCOCC4C)nc3n2)...  0.102071  25262965  \n",
       "4       COc1ccc(-c2ccc3c(N4CCOCC4C)nc(N4CCOCC4C)nc3n2)...  1.015818  25262965  \n",
       "...                                                   ...       ...       ...  \n",
       "100254  CC(C)CC(C=O)NC(=O)C(CC(C)C)NC(=O)C(CC(C)C)NC(=...  0.463412    462382  \n",
       "100255  CC(C)CC(C=O)NC(=O)C(CC(C)C)NC(=O)C(CC(C)C)NC(=... -0.916904    462382  \n",
       "100256  CC(C)CC(C=O)NC(=O)C(CC(C)C)NC(=O)C(CC(C)C)NC(=... -1.205729    462382  \n",
       "100257  CC(C)CC(C=O)NC(=O)C(CC(C)C)NC(=O)C(CC(C)C)NC(=... -0.390989    462382  \n",
       "100258  CC(C)CC(C=O)NC(=O)C(CC(C)C)NC(=O)C(CC(C)C)NC(=...  2.949778    462382  \n",
       "\n",
       "[100259 rows x 5 columns]"
      ]
     },
     "execution_count": 116,
     "metadata": {},
     "output_type": "execute_result"
    }
   ],
   "source": [
    "untouched_data"
   ]
  },
  {
   "cell_type": "code",
   "execution_count": 131,
   "id": "c32ed9c5-3e7d-4c36-8acb-a102fbb44a82",
   "metadata": {},
   "outputs": [],
   "source": [
    "## read the drug names\n",
    "drug_name_df = pd.read_csv('..//data//anti_drug.txt', sep=\"\\t\", header=None, on_bad_lines=\"skip\")"
   ]
  },
  {
   "cell_type": "code",
   "execution_count": 132,
   "id": "a2e60ca4-04ac-489f-b579-7215169aecb9",
   "metadata": {},
   "outputs": [
    {
     "data": {
      "text/plain": [
       "(238, 3)"
      ]
     },
     "execution_count": 132,
     "metadata": {},
     "output_type": "execute_result"
    }
   ],
   "source": [
    "drug_name_df.shape"
   ]
  },
  {
   "cell_type": "code",
   "execution_count": 133,
   "id": "b770cc97-0c0a-481f-ab45-de72aa6994aa",
   "metadata": {},
   "outputs": [],
   "source": [
    "drug_name_df.columns = ['drug_id', 'PubCHEM', \"Drug_Name\"]"
   ]
  },
  {
   "cell_type": "code",
   "execution_count": 134,
   "id": "15d25548-a690-4f50-b4e8-b25b302df915",
   "metadata": {},
   "outputs": [],
   "source": [
    "drug_name_df = drug_name_df.astype(str)"
   ]
  },
  {
   "cell_type": "code",
   "execution_count": 135,
   "id": "68d88376-f738-457a-9efb-1ca1005f92dc",
   "metadata": {},
   "outputs": [
    {
     "data": {
      "text/plain": [
       "drug_id      object\n",
       "PubCHEM      object\n",
       "Drug_Name    object\n",
       "dtype: object"
      ]
     },
     "execution_count": 135,
     "metadata": {},
     "output_type": "execute_result"
    }
   ],
   "source": [
    "drug_name_df.dtypes"
   ]
  },
  {
   "cell_type": "code",
   "execution_count": 136,
   "id": "b522db50-9413-46df-ae63-8c131386419c",
   "metadata": {},
   "outputs": [
    {
     "data": {
      "text/plain": [
       "drug_id              object\n",
       "Cancer_Cell_Line     object\n",
       "Smiles               object\n",
       "IC50                float64\n",
       "PubCHEM              object\n",
       "dtype: object"
      ]
     },
     "execution_count": 136,
     "metadata": {},
     "output_type": "execute_result"
    }
   ],
   "source": [
    "untouched_data.dtypes"
   ]
  },
  {
   "cell_type": "code",
   "execution_count": 137,
   "id": "0bd9417f-cdab-46f9-9d8e-6c87371c324d",
   "metadata": {},
   "outputs": [],
   "source": [
    "untouched_data = untouched_data.merge(drug_name_df)"
   ]
  },
  {
   "cell_type": "code",
   "execution_count": 138,
   "id": "878c425a-2642-4c0b-936e-0ac16ad8adbe",
   "metadata": {},
   "outputs": [
    {
     "data": {
      "text/plain": [
       "(100259, 6)"
      ]
     },
     "execution_count": 138,
     "metadata": {},
     "output_type": "execute_result"
    }
   ],
   "source": [
    "untouched_data.shape"
   ]
  },
  {
   "cell_type": "code",
   "execution_count": 139,
   "id": "f4b49960-83ef-4f05-84f5-75797fe282c3",
   "metadata": {},
   "outputs": [
    {
     "data": {
      "text/html": [
       "<div>\n",
       "<style scoped>\n",
       "    .dataframe tbody tr th:only-of-type {\n",
       "        vertical-align: middle;\n",
       "    }\n",
       "\n",
       "    .dataframe tbody tr th {\n",
       "        vertical-align: top;\n",
       "    }\n",
       "\n",
       "    .dataframe thead th {\n",
       "        text-align: right;\n",
       "    }\n",
       "</style>\n",
       "<table border=\"1\" class=\"dataframe\">\n",
       "  <thead>\n",
       "    <tr style=\"text-align: right;\">\n",
       "      <th></th>\n",
       "      <th>drug_id</th>\n",
       "      <th>Cancer_Cell_Line</th>\n",
       "      <th>Smiles</th>\n",
       "      <th>IC50</th>\n",
       "      <th>PubCHEM</th>\n",
       "      <th>Drug_Name</th>\n",
       "    </tr>\n",
       "  </thead>\n",
       "  <tbody>\n",
       "    <tr>\n",
       "      <th>0</th>\n",
       "      <td>1059</td>\n",
       "      <td>ACH-001368</td>\n",
       "      <td>COc1ccc(-c2ccc3c(N4CCOCC4C)nc(N4CCOCC4C)nc3n2)...</td>\n",
       "      <td>1.086644</td>\n",
       "      <td>25262965</td>\n",
       "      <td>AZD8055</td>\n",
       "    </tr>\n",
       "    <tr>\n",
       "      <th>1</th>\n",
       "      <td>1059</td>\n",
       "      <td>ACH-001709</td>\n",
       "      <td>COc1ccc(-c2ccc3c(N4CCOCC4C)nc(N4CCOCC4C)nc3n2)...</td>\n",
       "      <td>-2.739268</td>\n",
       "      <td>25262965</td>\n",
       "      <td>AZD8055</td>\n",
       "    </tr>\n",
       "    <tr>\n",
       "      <th>2</th>\n",
       "      <td>1059</td>\n",
       "      <td>ACH-001023</td>\n",
       "      <td>COc1ccc(-c2ccc3c(N4CCOCC4C)nc(N4CCOCC4C)nc3n2)...</td>\n",
       "      <td>-0.437438</td>\n",
       "      <td>25262965</td>\n",
       "      <td>AZD8055</td>\n",
       "    </tr>\n",
       "    <tr>\n",
       "      <th>3</th>\n",
       "      <td>1059</td>\n",
       "      <td>ACH-002195</td>\n",
       "      <td>COc1ccc(-c2ccc3c(N4CCOCC4C)nc(N4CCOCC4C)nc3n2)...</td>\n",
       "      <td>0.102071</td>\n",
       "      <td>25262965</td>\n",
       "      <td>AZD8055</td>\n",
       "    </tr>\n",
       "    <tr>\n",
       "      <th>4</th>\n",
       "      <td>1059</td>\n",
       "      <td>ACH-000524</td>\n",
       "      <td>COc1ccc(-c2ccc3c(N4CCOCC4C)nc(N4CCOCC4C)nc3n2)...</td>\n",
       "      <td>1.015818</td>\n",
       "      <td>25262965</td>\n",
       "      <td>AZD8055</td>\n",
       "    </tr>\n",
       "  </tbody>\n",
       "</table>\n",
       "</div>"
      ],
      "text/plain": [
       "  drug_id Cancer_Cell_Line                                             Smiles  \\\n",
       "0    1059       ACH-001368  COc1ccc(-c2ccc3c(N4CCOCC4C)nc(N4CCOCC4C)nc3n2)...   \n",
       "1    1059       ACH-001709  COc1ccc(-c2ccc3c(N4CCOCC4C)nc(N4CCOCC4C)nc3n2)...   \n",
       "2    1059       ACH-001023  COc1ccc(-c2ccc3c(N4CCOCC4C)nc(N4CCOCC4C)nc3n2)...   \n",
       "3    1059       ACH-002195  COc1ccc(-c2ccc3c(N4CCOCC4C)nc(N4CCOCC4C)nc3n2)...   \n",
       "4    1059       ACH-000524  COc1ccc(-c2ccc3c(N4CCOCC4C)nc(N4CCOCC4C)nc3n2)...   \n",
       "\n",
       "       IC50   PubCHEM Drug_Name  \n",
       "0  1.086644  25262965   AZD8055  \n",
       "1 -2.739268  25262965   AZD8055  \n",
       "2 -0.437438  25262965   AZD8055  \n",
       "3  0.102071  25262965   AZD8055  \n",
       "4  1.015818  25262965   AZD8055  "
      ]
     },
     "execution_count": 139,
     "metadata": {},
     "output_type": "execute_result"
    }
   ],
   "source": [
    "untouched_data.head()"
   ]
  },
  {
   "cell_type": "code",
   "execution_count": 151,
   "id": "d981b87c-7b71-4a05-a95b-eb39acccee11",
   "metadata": {},
   "outputs": [],
   "source": [
    "drug_names = ['AKT inhibitor VIII', 'AZD6482', 'Afatinib', 'Avagacestat', 'BMS-536924', 'Bicalutamide',\n",
    "              'Bleomycin', 'CHIR-99021', 'GSK269962A', 'IOX2', 'JQ1', 'Olaparib', 'PFI-1', 'PLX-4720', 'Pictilisib', 'Refametinib',\n",
    "'SB505124', 'SN-38', 'Selumetinib','UNC0638']"
   ]
  },
  {
   "cell_type": "code",
   "execution_count": 152,
   "id": "7be03ce5-4b41-42c6-8b4a-7a75b1d7acfc",
   "metadata": {},
   "outputs": [
    {
     "data": {
      "text/plain": [
       "20"
      ]
     },
     "execution_count": 152,
     "metadata": {},
     "output_type": "execute_result"
    }
   ],
   "source": [
    "len(drug_names)"
   ]
  },
  {
   "cell_type": "code",
   "execution_count": 155,
   "id": "5011e647-4630-4eb3-bc96-654bde465dfb",
   "metadata": {},
   "outputs": [],
   "source": [
    "untouched_data_rel_drugs = untouched_data[untouched_data[\"Drug_Name\"].isin(drug_names)]"
   ]
  },
  {
   "cell_type": "code",
   "execution_count": 156,
   "id": "3d277e2a-34ca-4a0e-85c1-fcdbee74f910",
   "metadata": {},
   "outputs": [
    {
     "data": {
      "text/plain": [
       "(27258, 6)"
      ]
     },
     "execution_count": 156,
     "metadata": {},
     "output_type": "execute_result"
    }
   ],
   "source": [
    "untouched_data_rel_drugs.shape"
   ]
  },
  {
   "cell_type": "code",
   "execution_count": 157,
   "id": "d8e8a19c-3fc2-4c28-8a5c-5d44890baff8",
   "metadata": {},
   "outputs": [],
   "source": [
    "# train_gcn_feats = []\n",
    "# train_adj_list = []\n",
    "# for drug_id in x_train[\"drug_id\"].values:\n",
    "#     train_gcn_feats.append(dict_features[drug_id])\n",
    "#     train_adj_list.append(dict_normalized_adj_mats[drug_id])"
   ]
  },
  {
   "cell_type": "code",
   "execution_count": 158,
   "id": "f18af922-6ad2-4ec9-8a06-e21dfec89e16",
   "metadata": {},
   "outputs": [],
   "source": [
    "# valid_gcn_feats = []\n",
    "# valid_adj_list = []\n",
    "# for drug_id in x_valid[\"drug_id\"].values:\n",
    "#     valid_gcn_feats.append(dict_features[drug_id])\n",
    "#     valid_adj_list.append(dict_normalized_adj_mats[drug_id])"
   ]
  },
  {
   "cell_type": "code",
   "execution_count": 159,
   "id": "404d533c-b691-4c65-9266-09e006e0cc2c",
   "metadata": {},
   "outputs": [],
   "source": [
    "extra_gcn_feats = []\n",
    "extra_adj_list = []\n",
    "for drug_id in untouched_data_rel_drugs[\"drug_id\"].values:\n",
    "    extra_gcn_feats.append(dict_features[drug_id])\n",
    "    extra_adj_list.append(dict_normalized_adj_mats[drug_id])"
   ]
  },
  {
   "cell_type": "code",
   "execution_count": 160,
   "id": "9bed1e37-8576-42df-bc9d-4490bf6777c8",
   "metadata": {},
   "outputs": [],
   "source": [
    "import numpy as np"
   ]
  },
  {
   "cell_type": "code",
   "execution_count": 161,
   "id": "8727a949-fe53-4c23-a8f1-495b0575cfe7",
   "metadata": {},
   "outputs": [],
   "source": [
    "# train_gcn_feats = np.array(train_gcn_feats).astype(\"float16\")\n",
    "# valid_gcn_feats = np.array(valid_gcn_feats).astype(\"float16\")"
   ]
  },
  {
   "cell_type": "code",
   "execution_count": 162,
   "id": "de082df9-c334-41bd-a423-9791ef6596a4",
   "metadata": {},
   "outputs": [],
   "source": [
    "# valid_gcn_feats.shape"
   ]
  },
  {
   "cell_type": "code",
   "execution_count": 163,
   "id": "2051e9cb-d041-4112-8155-cac3b6ef6684",
   "metadata": {},
   "outputs": [],
   "source": [
    "extra_gcn_feats = np.array(extra_gcn_feats)\n",
    "extra_adj_list = np.array(extra_adj_list)"
   ]
  },
  {
   "cell_type": "code",
   "execution_count": 165,
   "id": "b57c86db-c67b-4492-b945-9ee5ef7633be",
   "metadata": {},
   "outputs": [
    {
     "name": "stderr",
     "output_type": "stream",
     "text": [
      "2023-08-10 20:04:45.545228: W tensorflow/stream_executor/platform/default/dso_loader.cc:64] Could not load dynamic library 'libcuda.so.1'; dlerror: libcuda.so.1: cannot open shared object file: No such file or directory; LD_LIBRARY_PATH: :\n",
      "2023-08-10 20:04:45.545272: W tensorflow/stream_executor/cuda/cuda_driver.cc:269] failed call to cuInit: UNKNOWN ERROR (303)\n",
      "2023-08-10 20:04:45.545306: I tensorflow/stream_executor/cuda/cuda_diagnostics.cc:156] kernel driver does not appear to be running on this host (c2518.swan.hcc.unl.edu): /proc/driver/nvidia/version does not exist\n",
      "2023-08-10 20:04:45.546523: I tensorflow/core/platform/cpu_feature_guard.cc:193] This TensorFlow binary is optimized with oneAPI Deep Neural Network Library (oneDNN) to use the following CPU instructions in performance-critical operations:  SSE4.1 SSE4.2 AVX AVX2 AVX512F AVX512_VNNI FMA\n",
      "To enable them in other operations, rebuild TensorFlow with the appropriate compiler flags.\n"
     ]
    },
    {
     "name": "stdout",
     "output_type": "stream",
     "text": [
      "WARNING:tensorflow:No training configuration found in save file, so the model was *not* compiled. Compile it manually.\n"
     ]
    },
    {
     "name": "stderr",
     "output_type": "stream",
     "text": [
      "WARNING:tensorflow:No training configuration found in save file, so the model was *not* compiled. Compile it manually.\n"
     ]
    },
    {
     "name": "stdout",
     "output_type": "stream",
     "text": [
      "WARNING:tensorflow:No training configuration found in save file, so the model was *not* compiled. Compile it manually.\n"
     ]
    },
    {
     "name": "stderr",
     "output_type": "stream",
     "text": [
      "WARNING:tensorflow:No training configuration found in save file, so the model was *not* compiled. Compile it manually.\n"
     ]
    },
    {
     "name": "stdout",
     "output_type": "stream",
     "text": [
      "WARNING:tensorflow:No training configuration found in save file, so the model was *not* compiled. Compile it manually.\n"
     ]
    },
    {
     "name": "stderr",
     "output_type": "stream",
     "text": [
      "WARNING:tensorflow:No training configuration found in save file, so the model was *not* compiled. Compile it manually.\n"
     ]
    },
    {
     "name": "stdout",
     "output_type": "stream",
     "text": [
      "WARNING:tensorflow:No training configuration found in save file, so the model was *not* compiled. Compile it manually.\n"
     ]
    },
    {
     "name": "stderr",
     "output_type": "stream",
     "text": [
      "WARNING:tensorflow:No training configuration found in save file, so the model was *not* compiled. Compile it manually.\n"
     ]
    }
   ],
   "source": [
    "# load models\n",
    "# omic models\n",
    "cancer_copy_number_model = tf.keras.models.load_model(\"..//Models//cancer_copy_number_model_no_norm_common\")\n",
    "cancer_cell_gen_expr_model = tf.keras.models.load_model(\"..//Models//cancer_cell_gen_expr_model_no_norm_common\")\n",
    "cancer_cell_gen_methy_model = tf.keras.models.load_model(\"..//Models//cancer_cell_gen_methy_model_no_norm\")\n",
    "cancer_cell_gen_mut_model = tf.keras.models.load_model(\"..//Models//cancer_cell_gen_mut_model_no_norm\")"
   ]
  },
  {
   "cell_type": "code",
   "execution_count": 166,
   "id": "4c1533dd-2e0e-424f-be0d-24f06b51453b",
   "metadata": {},
   "outputs": [
    {
     "name": "stdout",
     "output_type": "stream",
     "text": [
      "WARNING:tensorflow:No training configuration found in save file, so the model was *not* compiled. Compile it manually.\n"
     ]
    },
    {
     "name": "stderr",
     "output_type": "stream",
     "text": [
      "WARNING:tensorflow:No training configuration found in save file, so the model was *not* compiled. Compile it manually.\n"
     ]
    }
   ],
   "source": [
    "# load models\n",
    "# drug models\n",
    "pubchem_drugs_rdkit_model = tf.keras.models.load_model(\"..//Models//pubchem_drugs_rdkit_model_no_norm\")"
   ]
  },
  {
   "cell_type": "code",
   "execution_count": 167,
   "id": "77362536-513b-46f8-9ac9-e6a4b4da514a",
   "metadata": {},
   "outputs": [],
   "source": [
    "from sklearn.preprocessing import StandardScaler"
   ]
  },
  {
   "cell_type": "code",
   "execution_count": 168,
   "id": "4276fa33-3544-4a49-904e-020095d81f43",
   "metadata": {},
   "outputs": [],
   "source": [
    "std = StandardScaler()"
   ]
  },
  {
   "cell_type": "code",
   "execution_count": 169,
   "id": "6d5f0911-6e51-446d-a281-dc05086de8bf",
   "metadata": {},
   "outputs": [],
   "source": [
    "# extract drug features\n",
    "drug_features_train = pubchem_drugs_rdkit_model(untouched_data_rel_drugs[\"drug_id\"].values).numpy().astype(\"float32\")\n",
    "drug_features_valid = pubchem_drugs_rdkit_model(untouched_data_rel_drugs[\"drug_id\"].values).numpy().astype(\"float32\")\n",
    "\n",
    "# drug_features_train = pubchem_drugs_rdkit_model(x_train[\"drug_id\"].values)\n",
    "# drug_features_valid = pubchem_drugs_rdkit_model(x_valid[\"drug_id\"].values)"
   ]
  },
  {
   "cell_type": "code",
   "execution_count": 170,
   "id": "532d3eda-f04b-459a-b662-186a8d5f4184",
   "metadata": {},
   "outputs": [
    {
     "data": {
      "text/plain": [
       "((27258, 106), (27258, 106))"
      ]
     },
     "execution_count": 170,
     "metadata": {},
     "output_type": "execute_result"
    }
   ],
   "source": [
    "drug_features_train.shape, drug_features_valid.shape"
   ]
  },
  {
   "cell_type": "code",
   "execution_count": null,
   "id": "428e51af-857a-4524-bf21-af673d792725",
   "metadata": {},
   "outputs": [],
   "source": [
    "# drug_features_train"
   ]
  },
  {
   "cell_type": "code",
   "execution_count": 171,
   "id": "f09c1da2-9df1-4674-9a05-ed475aaed5fa",
   "metadata": {},
   "outputs": [
    {
     "data": {
      "text/plain": [
       "0"
      ]
     },
     "execution_count": 171,
     "metadata": {},
     "output_type": "execute_result"
    }
   ],
   "source": [
    "np.isinf(drug_features_train).sum()"
   ]
  },
  {
   "cell_type": "code",
   "execution_count": null,
   "id": "175df75f-8b88-43fe-be32-f1e29b5d9ade",
   "metadata": {},
   "outputs": [],
   "source": [
    "# drug_features_train.values"
   ]
  },
  {
   "cell_type": "code",
   "execution_count": 172,
   "id": "76723b45-8e73-41b2-b00a-19c27200d943",
   "metadata": {},
   "outputs": [],
   "source": [
    "drug_features_train = std.fit_transform(drug_features_train)"
   ]
  },
  {
   "cell_type": "code",
   "execution_count": 173,
   "id": "3397ce65-28fa-42a3-8b35-cb378bde141d",
   "metadata": {},
   "outputs": [],
   "source": [
    "drug_features_valid = std.transform(drug_features_valid)"
   ]
  },
  {
   "cell_type": "code",
   "execution_count": null,
   "id": "bb772fbe-d8ae-4db9-ac63-3fdc2ddebf02",
   "metadata": {},
   "outputs": [],
   "source": [
    "# omics_copy_number_train"
   ]
  },
  {
   "cell_type": "code",
   "execution_count": null,
   "id": "620a0c37-5cd4-430a-bad5-796e06b4e826",
   "metadata": {},
   "outputs": [],
   "source": [
    "# x_train[\"Cancer_Cell_Line\"].nunique()"
   ]
  },
  {
   "cell_type": "code",
   "execution_count": 176,
   "id": "8a581814-8f25-47f8-88eb-b6d94e841e96",
   "metadata": {},
   "outputs": [],
   "source": [
    "# extract copy number features\n",
    "omics_copy_number_train = cancer_copy_number_model(untouched_data_rel_drugs[\"Cancer_Cell_Line\"].values).numpy().astype(\"float16\")\n",
    "omics_copy_number_valid = cancer_copy_number_model(untouched_data_rel_drugs[\"Cancer_Cell_Line\"].values).numpy().astype(\"float16\")"
   ]
  },
  {
   "cell_type": "code",
   "execution_count": null,
   "id": "e94af1a5-9555-4c31-aef5-7e778ed1a9b3",
   "metadata": {},
   "outputs": [],
   "source": [
    "# omics_copy_number_train"
   ]
  },
  {
   "cell_type": "code",
   "execution_count": 177,
   "id": "a160e991-ebad-4f48-a8b9-e2ce191865ae",
   "metadata": {},
   "outputs": [
    {
     "data": {
      "text/plain": [
       "((27258, 691), (27258, 691))"
      ]
     },
     "execution_count": 177,
     "metadata": {},
     "output_type": "execute_result"
    }
   ],
   "source": [
    "omics_copy_number_train.shape, omics_copy_number_valid.shape"
   ]
  },
  {
   "cell_type": "code",
   "execution_count": 178,
   "id": "0d8f9737-5d43-4175-a68a-ff03ab3f58c3",
   "metadata": {},
   "outputs": [],
   "source": [
    "# extract gen expr features\n",
    "omics_gen_expr_train = cancer_cell_gen_expr_model(untouched_data_rel_drugs[\"Cancer_Cell_Line\"].values).numpy().astype(\"float16\")\n",
    "omics_gen_expr_valid = cancer_cell_gen_expr_model(untouched_data_rel_drugs[\"Cancer_Cell_Line\"].values).numpy().astype(\"float16\")"
   ]
  },
  {
   "cell_type": "code",
   "execution_count": 179,
   "id": "79e4911e-99db-4d28-b785-99c8b3da6e38",
   "metadata": {},
   "outputs": [
    {
     "data": {
      "text/plain": [
       "((27258, 691), (27258, 691))"
      ]
     },
     "execution_count": 179,
     "metadata": {},
     "output_type": "execute_result"
    }
   ],
   "source": [
    "omics_gen_expr_train.shape, omics_gen_expr_valid.shape"
   ]
  },
  {
   "cell_type": "code",
   "execution_count": null,
   "id": "ceb5e8e9-58c8-44b6-af28-2e676cd4c4d9",
   "metadata": {},
   "outputs": [],
   "source": [
    "# omics_gen_copy_number_gen_expr_train = np.concatenate([np.expand_dims(omics_copy_number_train, -1),\n",
    "#                                                       np.expand_dims(omics_gen_expr_train, -1)], axis = -1)"
   ]
  },
  {
   "cell_type": "code",
   "execution_count": null,
   "id": "ddd290e2-d981-440e-b33f-d9e269e9e7e5",
   "metadata": {},
   "outputs": [],
   "source": [
    "# omics_gen_copy_number_gen_expr_train.shape"
   ]
  },
  {
   "cell_type": "code",
   "execution_count": null,
   "id": "9af07cd6-3bf6-45eb-a0d9-6ada6e752a5d",
   "metadata": {},
   "outputs": [],
   "source": [
    "# omics_gen_copy_number_gen_expr_valid = np.concatenate([np.expand_dims(omics_copy_number_valid, -1),\n",
    "#                                                       np.expand_dims(omics_gen_expr_valid, -1)], axis = -1)"
   ]
  },
  {
   "cell_type": "code",
   "execution_count": null,
   "id": "0de42a7d-07a7-472e-bc3b-8735aac8d8a0",
   "metadata": {},
   "outputs": [],
   "source": [
    "# omics_gen_copy_number_gen_expr_valid.shape"
   ]
  },
  {
   "cell_type": "code",
   "execution_count": 180,
   "id": "6fc3a94e-0ffe-4672-a97a-cc87eca89a54",
   "metadata": {},
   "outputs": [],
   "source": [
    "# extract gen methylation features\n",
    "omics_gen_methyl_train = cancer_cell_gen_methy_model(untouched_data_rel_drugs[\"Cancer_Cell_Line\"].values).numpy().astype(\"float16\")\n",
    "omics_gen_methyl_valid = cancer_cell_gen_methy_model(untouched_data_rel_drugs[\"Cancer_Cell_Line\"].values).numpy().astype(\"float16\")"
   ]
  },
  {
   "cell_type": "code",
   "execution_count": 181,
   "id": "413c009e-c8fe-4ff6-bd81-b46d0f18fbd3",
   "metadata": {},
   "outputs": [
    {
     "data": {
      "text/plain": [
       "((27258, 808), (27258, 808))"
      ]
     },
     "execution_count": 181,
     "metadata": {},
     "output_type": "execute_result"
    }
   ],
   "source": [
    "omics_gen_methyl_train.shape, omics_gen_methyl_valid.shape"
   ]
  },
  {
   "cell_type": "code",
   "execution_count": 182,
   "id": "75398540-13b6-4cfa-b90d-8f2c0124dcd8",
   "metadata": {},
   "outputs": [
    {
     "name": "stdout",
     "output_type": "stream",
     "text": [
      "107/107 [==============================] - 0s 3ms/step\n",
      "107/107 [==============================] - 0s 2ms/step\n"
     ]
    }
   ],
   "source": [
    "# extract gen mutation features\n",
    "with tf.device('/cpu:0'):\n",
    "    omics_gen_mut_train = cancer_cell_gen_mut_model.predict(untouched_data_rel_drugs[\"Cancer_Cell_Line\"].values, verbose = 1, batch_size = 256).astype(\"float16\")\n",
    "    omics_gen_mut_valid = cancer_cell_gen_mut_model.predict(untouched_data_rel_drugs[\"Cancer_Cell_Line\"].values, verbose = 1, batch_size = 256).astype(\"float16\")"
   ]
  },
  {
   "cell_type": "code",
   "execution_count": 183,
   "id": "1e4d8d51-d564-4df5-985c-2cb91b7909fe",
   "metadata": {},
   "outputs": [
    {
     "data": {
      "text/plain": [
       "((27258, 34673), (27258, 34673))"
      ]
     },
     "execution_count": 183,
     "metadata": {},
     "output_type": "execute_result"
    }
   ],
   "source": [
    "omics_gen_mut_train.shape, omics_gen_mut_valid.shape"
   ]
  },
  {
   "cell_type": "code",
   "execution_count": 184,
   "id": "1cd31175-0cb4-4718-8ff6-221e42f493d9",
   "metadata": {},
   "outputs": [],
   "source": [
    "smile_strings_train = untouched_data_rel_drugs[\"Smiles\"].values.reshape(-1,1)\n",
    "smile_strings_valid = untouched_data_rel_drugs[\"Smiles\"].values.reshape(-1,1)"
   ]
  },
  {
   "cell_type": "code",
   "execution_count": 185,
   "id": "c88bfcad-a6b4-41d0-b8c0-a2ec02488526",
   "metadata": {},
   "outputs": [
    {
     "data": {
      "text/plain": [
       "((27258, 1), (27258, 1))"
      ]
     },
     "execution_count": 185,
     "metadata": {},
     "output_type": "execute_result"
    }
   ],
   "source": [
    "smile_strings_train.shape, smile_strings_valid.shape"
   ]
  },
  {
   "cell_type": "code",
   "execution_count": 186,
   "id": "2855c6e4-92b2-4dfc-b81d-1aae7ef46192",
   "metadata": {},
   "outputs": [],
   "source": [
    "import scipy.sparse as sp"
   ]
  },
  {
   "cell_type": "code",
   "execution_count": 187,
   "id": "9f8d727d-315a-4659-bffe-6332b8e2a5d5",
   "metadata": {},
   "outputs": [],
   "source": [
    "simplecdr = tf.keras.models.load_model(\"..//Models//simple_cdr_more_dropout\")"
   ]
  },
  {
   "cell_type": "code",
   "execution_count": 188,
   "id": "da0595e3-2079-43a2-ae36-f72d851f9b0b",
   "metadata": {},
   "outputs": [
    {
     "name": "stdout",
     "output_type": "stream",
     "text": [
      "Model: \"model_1\"\n",
      "__________________________________________________________________________________________________\n",
      " Layer (type)                   Output Shape         Param #     Connected to                     \n",
      "==================================================================================================\n",
      " input_7 (InputLayer)           [(None, 100, 100)]   0           []                               \n",
      "                                                                                                  \n",
      " input_6 (InputLayer)           [(None, 100, 75)]    0           []                               \n",
      "                                                                                                  \n",
      " dot_3 (Dot)                    (None, 100, 75)      0           ['input_7[0][0]',                \n",
      "                                                                  'input_6[0][0]']                \n",
      "                                                                                                  \n",
      " dense_9 (Dense)                (None, 100, 256)     19456       ['dot_3[0][0]']                  \n",
      "                                                                                                  \n",
      " batch_normalization_5 (BatchNo  (None, 100, 256)    1024        ['dense_9[0][0]']                \n",
      " rmalization)                                                                                     \n",
      "                                                                                                  \n",
      " dropout_8 (Dropout)            (None, 100, 256)     0           ['batch_normalization_5[0][0]']  \n",
      "                                                                                                  \n",
      " dot_4 (Dot)                    (None, 100, 256)     0           ['input_7[0][0]',                \n",
      "                                                                  'dropout_8[0][0]']              \n",
      "                                                                                                  \n",
      " dense_10 (Dense)               (None, 100, 256)     65792       ['dot_4[0][0]']                  \n",
      "                                                                                                  \n",
      " input_10 (InputLayer)          [(None, 34673)]      0           []                               \n",
      "                                                                                                  \n",
      " batch_normalization_6 (BatchNo  (None, 100, 256)    1024        ['dense_10[0][0]']               \n",
      " rmalization)                                                                                     \n",
      "                                                                                                  \n",
      " reshape_1 (Reshape)            (None, 1, 34673, 1)  0           ['input_10[0][0]']               \n",
      "                                                                                                  \n",
      " dropout_9 (Dropout)            (None, 100, 256)     0           ['batch_normalization_6[0][0]']  \n",
      "                                                                                                  \n",
      " input_9 (InputLayer)           [(None, 808)]        0           []                               \n",
      "                                                                                                  \n",
      " conv2d_5 (Conv2D)              (None, 1, 6795, 50)  35050       ['reshape_1[0][0]']              \n",
      "                                                                                                  \n",
      " input_8 (InputLayer)           [(None, 691)]        0           []                               \n",
      "                                                                                                  \n",
      " dot_5 (Dot)                    (None, 100, 256)     0           ['input_7[0][0]',                \n",
      "                                                                  'dropout_9[0][0]']              \n",
      "                                                                                                  \n",
      " dense_14 (Dense)               (None, 256)          207104      ['input_9[0][0]']                \n",
      "                                                                                                  \n",
      " max_pooling2d_5 (MaxPooling2D)  (None, 1, 1359, 50)  0          ['conv2d_5[0][0]']               \n",
      "                                                                                                  \n",
      " dense_12 (Dense)               (None, 256)          177152      ['input_8[0][0]']                \n",
      "                                                                                                  \n",
      " dense_11 (Dense)               (None, 100, 100)     25700       ['dot_5[0][0]']                  \n",
      "                                                                                                  \n",
      " batch_normalization_9 (BatchNo  (None, 256)         1024        ['dense_14[0][0]']               \n",
      " rmalization)                                                                                     \n",
      "                                                                                                  \n",
      " conv2d_6 (Conv2D)              (None, 1, 678, 30)   7530        ['max_pooling2d_5[0][0]']        \n",
      "                                                                                                  \n",
      " batch_normalization_8 (BatchNo  (None, 256)         1024        ['dense_12[0][0]']               \n",
      " rmalization)                                                                                     \n",
      "                                                                                                  \n",
      " batch_normalization_7 (BatchNo  (None, 100, 100)    400         ['dense_11[0][0]']               \n",
      " rmalization)                                                                                     \n",
      "                                                                                                  \n",
      " dropout_12 (Dropout)           (None, 256)          0           ['batch_normalization_9[0][0]']  \n",
      "                                                                                                  \n",
      " max_pooling2d_6 (MaxPooling2D)  (None, 1, 67, 30)   0           ['conv2d_6[0][0]']               \n",
      "                                                                                                  \n",
      " dropout_11 (Dropout)           (None, 256)          0           ['batch_normalization_8[0][0]']  \n",
      "                                                                                                  \n",
      " dropout_10 (Dropout)           (None, 100, 100)     0           ['batch_normalization_7[0][0]']  \n",
      "                                                                                                  \n",
      " dense_15 (Dense)               (None, 100)          25700       ['dropout_12[0][0]']             \n",
      "                                                                                                  \n",
      " flatten_2 (Flatten)            (None, 2010)         0           ['max_pooling2d_6[0][0]']        \n",
      "                                                                                                  \n",
      " dense_13 (Dense)               (None, 100)          25700       ['dropout_11[0][0]']             \n",
      "                                                                                                  \n",
      " global_average_pooling1d_1 (Gl  (None, 100)         0           ['dropout_10[0][0]']             \n",
      " obalAveragePooling1D)                                                                            \n",
      "                                                                                                  \n",
      " concatenate_1 (Concatenate)    (None, 2310)         0           ['dense_15[0][0]',               \n",
      "                                                                  'flatten_2[0][0]',              \n",
      "                                                                  'dense_13[0][0]',               \n",
      "                                                                  'global_average_pooling1d_1[0][0\n",
      "                                                                 ]']                              \n",
      "                                                                                                  \n",
      " dense_16 (Dense)               (None, 300)          693300      ['concatenate_1[0][0]']          \n",
      "                                                                                                  \n",
      " dropout_13 (Dropout)           (None, 300)          0           ['dense_16[0][0]']               \n",
      "                                                                                                  \n",
      " lambda_2 (Lambda)              (None, 300, 1)       0           ['dropout_13[0][0]']             \n",
      "                                                                                                  \n",
      " lambda_3 (Lambda)              (None, 1, 300, 1)    0           ['lambda_2[0][0]']               \n",
      "                                                                                                  \n",
      " conv2d_7 (Conv2D)              (None, 1, 151, 30)   4530        ['lambda_3[0][0]']               \n",
      "                                                                                                  \n",
      " max_pooling2d_7 (MaxPooling2D)  (None, 1, 75, 30)   0           ['conv2d_7[0][0]']               \n",
      "                                                                                                  \n",
      " conv2d_8 (Conv2D)              (None, 1, 71, 10)    1510        ['max_pooling2d_7[0][0]']        \n",
      "                                                                                                  \n",
      " max_pooling2d_8 (MaxPooling2D)  (None, 1, 23, 10)   0           ['conv2d_8[0][0]']               \n",
      "                                                                                                  \n",
      " conv2d_9 (Conv2D)              (None, 1, 19, 5)     255         ['max_pooling2d_8[0][0]']        \n",
      "                                                                                                  \n",
      " max_pooling2d_9 (MaxPooling2D)  (None, 1, 6, 5)     0           ['conv2d_9[0][0]']               \n",
      "                                                                                                  \n",
      " dropout_14 (Dropout)           (None, 1, 6, 5)      0           ['max_pooling2d_9[0][0]']        \n",
      "                                                                                                  \n",
      " flatten_3 (Flatten)            (None, 30)           0           ['dropout_14[0][0]']             \n",
      "                                                                                                  \n",
      " dropout_15 (Dropout)           (None, 30)           0           ['flatten_3[0][0]']              \n",
      "                                                                                                  \n",
      " dense_17 (Dense)               (None, 1)            31          ['dropout_15[0][0]']             \n",
      "                                                                                                  \n",
      "==================================================================================================\n",
      "Total params: 1,293,306\n",
      "Trainable params: 1,291,058\n",
      "Non-trainable params: 2,248\n",
      "__________________________________________________________________________________________________\n"
     ]
    }
   ],
   "source": [
    "simplecdr.summary()"
   ]
  },
  {
   "cell_type": "code",
   "execution_count": 192,
   "id": "e559273c-bf75-47e0-a6f4-2051291bc9b4",
   "metadata": {},
   "outputs": [],
   "source": [
    "drug_out_layer_name = simplecdr.get_layer(\"global_average_pooling1d_1\")"
   ]
  },
  {
   "cell_type": "code",
   "execution_count": 194,
   "id": "e9049fff-a7de-4d83-bbb3-aff8c5e3009a",
   "metadata": {},
   "outputs": [],
   "source": [
    "omic_gen_expr_layer_name = simplecdr.get_layer(\"dense_13\")"
   ]
  },
  {
   "cell_type": "code",
   "execution_count": 193,
   "id": "665112f8-ac53-4902-93c7-60545813ab5c",
   "metadata": {},
   "outputs": [],
   "source": [
    "omic_gen_mut_layer_name = simplecdr.get_layer(\"flatten_2\")"
   ]
  },
  {
   "cell_type": "code",
   "execution_count": 195,
   "id": "48c76b42-cd28-4e86-845c-89f72219ce38",
   "metadata": {},
   "outputs": [],
   "source": [
    "omic_dna_methy_layer_name = simplecdr.get_layer(\"dense_15\")"
   ]
  },
  {
   "cell_type": "code",
   "execution_count": 196,
   "id": "f8a2378b-95bc-457b-aa38-0bcdd320738a",
   "metadata": {},
   "outputs": [],
   "source": [
    "get_all_embs = tf.keras.models.Model(simplecdr.input, [drug_out_layer_name.output, omic_gen_expr_layer_name.output, \n",
    "                                                      omic_gen_mut_layer_name.output, omic_dna_methy_layer_name.output])"
   ]
  },
  {
   "cell_type": "code",
   "execution_count": 198,
   "id": "a3bfbb95-5ae7-4694-87d0-7d3af305816e",
   "metadata": {},
   "outputs": [
    {
     "name": "stdout",
     "output_type": "stream",
     "text": [
      "107/107 [==============================] - 11s 103ms/step\n"
     ]
    }
   ],
   "source": [
    "untouched_all_embs = get_all_embs.predict([ extra_gcn_feats, extra_adj_list,\n",
    "                           omics_gen_expr_train, \n",
    "                           omics_gen_methyl_train, omics_gen_mut_train], batch_size = 256, verbose = 1)"
   ]
  },
  {
   "cell_type": "code",
   "execution_count": 206,
   "id": "a3fa4eba-69b2-48ac-8966-c9782b5e8dea",
   "metadata": {},
   "outputs": [],
   "source": [
    "# untouched_data_rel_drugs.head()"
   ]
  },
  {
   "cell_type": "code",
   "execution_count": 208,
   "id": "b0ad6040-9b48-4a7d-be23-b2cb6a38a932",
   "metadata": {},
   "outputs": [],
   "source": [
    "y_train = untouched_data_rel_drugs[\"IC50\"].values.reshape(-1,1)"
   ]
  },
  {
   "cell_type": "code",
   "execution_count": 209,
   "id": "8b3c8c81-32bd-4a65-a3d6-4718cb761d40",
   "metadata": {},
   "outputs": [
    {
     "data": {
      "text/plain": [
       "(27258, 1)"
      ]
     },
     "execution_count": 209,
     "metadata": {},
     "output_type": "execute_result"
    }
   ],
   "source": [
    "y_train.shape"
   ]
  },
  {
   "cell_type": "code",
   "execution_count": 210,
   "id": "05c04eb5-0fbc-4cd3-8555-a8bb22027685",
   "metadata": {},
   "outputs": [],
   "source": [
    "untouched_all_embs.append(y_train)"
   ]
  },
  {
   "cell_type": "code",
   "execution_count": 211,
   "id": "8d598c98-c022-4d5d-a77e-bcdb2f7af16c",
   "metadata": {},
   "outputs": [
    {
     "data": {
      "text/plain": [
       "(27258, 1)"
      ]
     },
     "execution_count": 211,
     "metadata": {},
     "output_type": "execute_result"
    }
   ],
   "source": [
    "untouched_all_embs[-1].shape"
   ]
  },
  {
   "cell_type": "code",
   "execution_count": 212,
   "id": "3e26571a-aa51-4b95-9288-95497f3b6f83",
   "metadata": {},
   "outputs": [
    {
     "data": {
      "text/plain": [
       "(27258, 100)"
      ]
     },
     "execution_count": 212,
     "metadata": {},
     "output_type": "execute_result"
    }
   ],
   "source": [
    "untouched_all_embs[-2].shape"
   ]
  },
  {
   "cell_type": "code",
   "execution_count": 213,
   "id": "59c0e53d-dd6f-4ba5-8d73-da468c8177bd",
   "metadata": {},
   "outputs": [
    {
     "data": {
      "text/plain": [
       "(27258, 2010)"
      ]
     },
     "execution_count": 213,
     "metadata": {},
     "output_type": "execute_result"
    }
   ],
   "source": [
    "untouched_all_embs[-3].shape"
   ]
  },
  {
   "cell_type": "code",
   "execution_count": 214,
   "id": "662907cb-9fcd-4b02-91dd-5a17fffbda00",
   "metadata": {},
   "outputs": [
    {
     "data": {
      "text/plain": [
       "(27258, 100)"
      ]
     },
     "execution_count": 214,
     "metadata": {},
     "output_type": "execute_result"
    }
   ],
   "source": [
    "untouched_all_embs[-4].shape"
   ]
  },
  {
   "cell_type": "code",
   "execution_count": 215,
   "id": "6fc15980-9574-4962-b35c-f4d78f6db0bf",
   "metadata": {},
   "outputs": [
    {
     "data": {
      "text/plain": [
       "(27258, 100)"
      ]
     },
     "execution_count": 215,
     "metadata": {},
     "output_type": "execute_result"
    }
   ],
   "source": [
    "untouched_all_embs[-5].shape"
   ]
  },
  {
   "cell_type": "code",
   "execution_count": 216,
   "id": "2a98ed69-8593-471b-9152-a05a04362a89",
   "metadata": {},
   "outputs": [],
   "source": [
    "with open(\"..//data//untouched_all_embs.pickle\", \"wb\") as f:\n",
    "    pickle.dump(untouched_all_embs, f)"
   ]
  }
 ],
 "metadata": {
  "kernelspec": {
   "display_name": "Python (enkf_gpu)",
   "language": "python",
   "name": "tf_custom_gayara_2"
  },
  "language_info": {
   "codemirror_mode": {
    "name": "ipython",
    "version": 3
   },
   "file_extension": ".py",
   "mimetype": "text/x-python",
   "name": "python",
   "nbconvert_exporter": "python",
   "pygments_lexer": "ipython3",
   "version": "3.9.13"
  }
 },
 "nbformat": 4,
 "nbformat_minor": 5
}
