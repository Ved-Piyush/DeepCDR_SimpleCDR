{
 "cells": [
  {
   "cell_type": "code",
   "execution_count": 1,
   "id": "a9c5f6c6-4c0f-4e8a-ad6b-038ec2bece24",
   "metadata": {},
   "outputs": [
    {
     "name": "stderr",
     "output_type": "stream",
     "text": [
      "2023-07-18 11:37:06.102721: I tensorflow/core/util/util.cc:169] oneDNN custom operations are on. You may see slightly different numerical results due to floating-point round-off errors from different computation orders. To turn them off, set the environment variable `TF_ENABLE_ONEDNN_OPTS=0`.\n"
     ]
    }
   ],
   "source": [
    "import pandas as pd\n",
    "import numpy as np\n",
    "import tensorflow as tf\n",
    "from sklearn.preprocessing import StandardScaler"
   ]
  },
  {
   "cell_type": "code",
   "execution_count": 2,
   "id": "337393a3-703a-4450-aee3-6a5107db817a",
   "metadata": {},
   "outputs": [],
   "source": [
    "# read the file that has smiles and ids"
   ]
  },
  {
   "cell_type": "code",
   "execution_count": 3,
   "id": "f827d866-6e16-4d4f-aee6-c3a15562f949",
   "metadata": {},
   "outputs": [],
   "source": [
    "pubchem_to_drugs_df = pd.read_csv('../data/GDSC/1.Drug_listMon Jun 24 09_00_55 2019.csv')"
   ]
  },
  {
   "cell_type": "code",
   "execution_count": 4,
   "id": "88ca79c0-6a19-4163-b473-096db2231e7d",
   "metadata": {},
   "outputs": [],
   "source": [
    "pubchem_to_drugs_df = pubchem_to_drugs_df[[\"drug_id\", \"PubCHEM\"]]"
   ]
  },
  {
   "cell_type": "code",
   "execution_count": 5,
   "id": "9a8ce4bd-c165-4791-be74-16ab00fe49a6",
   "metadata": {},
   "outputs": [
    {
     "data": {
      "text/plain": [
       "drug_id     int64\n",
       "PubCHEM    object\n",
       "dtype: object"
      ]
     },
     "execution_count": 5,
     "metadata": {},
     "output_type": "execute_result"
    }
   ],
   "source": [
    "pubchem_to_drugs_df.dtypes"
   ]
  },
  {
   "cell_type": "code",
   "execution_count": 6,
   "id": "39b52daa-a6fe-49d7-9920-118e0708a8e7",
   "metadata": {},
   "outputs": [],
   "source": [
    "pubchem_to_drugs_df[\"PubCHEM\"] = [val if str(val).isdigit() else np.nan for val in pubchem_to_drugs_df[\"PubCHEM\"] ]"
   ]
  },
  {
   "cell_type": "code",
   "execution_count": 7,
   "id": "ca15852a-6541-477a-ad0c-664e8ae55855",
   "metadata": {},
   "outputs": [],
   "source": [
    "pubchem_to_drugs_df = pubchem_to_drugs_df.dropna()"
   ]
  },
  {
   "cell_type": "code",
   "execution_count": 8,
   "id": "761ec3eb-27b8-424d-884b-16527a0cd317",
   "metadata": {},
   "outputs": [],
   "source": [
    "pubchem_to_drugs_df[\"PubCHEM\"] = pubchem_to_drugs_df[\"PubCHEM\"].astype(np.int64)"
   ]
  },
  {
   "cell_type": "code",
   "execution_count": 9,
   "id": "e3dd8967-aac8-4606-a9f8-ce6bd29fa3a3",
   "metadata": {},
   "outputs": [],
   "source": [
    "pubchem_to_smiles = pd.read_csv('../data/223drugs_pubchem_smiles.txt', sep=\"\\t\", header=None)"
   ]
  },
  {
   "cell_type": "code",
   "execution_count": 10,
   "id": "e746e4c6-714f-4dbd-a906-b71450657c8f",
   "metadata": {},
   "outputs": [],
   "source": [
    "pubchem_to_smiles.columns = [\"PubCHEM\", \"Smiles\"]"
   ]
  },
  {
   "cell_type": "code",
   "execution_count": 11,
   "id": "eb85a00b-40dc-4502-8bcf-70ef3b9c0d5a",
   "metadata": {},
   "outputs": [],
   "source": [
    "pubchem_to_smiles[\"PubCHEM\"] = pubchem_to_smiles[\"PubCHEM\"].astype(np.int64)"
   ]
  },
  {
   "cell_type": "code",
   "execution_count": 12,
   "id": "fee4d18b-72d8-4635-b4b6-5bfb4804b65a",
   "metadata": {},
   "outputs": [],
   "source": [
    "pubchem_drugs_smiles_df = pubchem_to_drugs_df.merge(pubchem_to_smiles, on = \"PubCHEM\")"
   ]
  },
  {
   "cell_type": "code",
   "execution_count": 13,
   "id": "1873da40-151b-438e-a4ad-429e3164d7d9",
   "metadata": {},
   "outputs": [
    {
     "data": {
      "text/plain": [
       "(238, 3)"
      ]
     },
     "execution_count": 13,
     "metadata": {},
     "output_type": "execute_result"
    }
   ],
   "source": [
    "pubchem_drugs_smiles_df.shape"
   ]
  },
  {
   "cell_type": "code",
   "execution_count": 14,
   "id": "0d7e12f8-7994-44ac-abee-04f0c46eb29e",
   "metadata": {},
   "outputs": [
    {
     "data": {
      "text/html": [
       "<div>\n",
       "<style scoped>\n",
       "    .dataframe tbody tr th:only-of-type {\n",
       "        vertical-align: middle;\n",
       "    }\n",
       "\n",
       "    .dataframe tbody tr th {\n",
       "        vertical-align: top;\n",
       "    }\n",
       "\n",
       "    .dataframe thead th {\n",
       "        text-align: right;\n",
       "    }\n",
       "</style>\n",
       "<table border=\"1\" class=\"dataframe\">\n",
       "  <thead>\n",
       "    <tr style=\"text-align: right;\">\n",
       "      <th></th>\n",
       "      <th>drug_id</th>\n",
       "      <th>PubCHEM</th>\n",
       "      <th>Smiles</th>\n",
       "    </tr>\n",
       "  </thead>\n",
       "  <tbody>\n",
       "    <tr>\n",
       "      <th>0</th>\n",
       "      <td>1242</td>\n",
       "      <td>9863776</td>\n",
       "      <td>COc1cc(O)c2c(c1)C=CCC(O)C(O)C(=O)C=CCC(C)OC2=O</td>\n",
       "    </tr>\n",
       "    <tr>\n",
       "      <th>1</th>\n",
       "      <td>179</td>\n",
       "      <td>3385</td>\n",
       "      <td>O=c1[nH]cc(F)c(=O)[nH]1</td>\n",
       "    </tr>\n",
       "    <tr>\n",
       "      <th>2</th>\n",
       "      <td>86</td>\n",
       "      <td>10172943</td>\n",
       "      <td>Cc1[nH]nc2ccc(-c3cncc(OCC(N)Cc4c[nH]c5ccccc45)...</td>\n",
       "    </tr>\n",
       "    <tr>\n",
       "      <th>3</th>\n",
       "      <td>55</td>\n",
       "      <td>9549184</td>\n",
       "      <td>COc1cc(-c2nn(C3CCC(N4CCN(C(C)=O)CC4)CC3)c3ncnc...</td>\n",
       "    </tr>\n",
       "    <tr>\n",
       "      <th>4</th>\n",
       "      <td>1001</td>\n",
       "      <td>65110</td>\n",
       "      <td>NC(=O)c1ncn(C2OC(COP(=O)(O)O)C(O)C2O)c1N</td>\n",
       "    </tr>\n",
       "  </tbody>\n",
       "</table>\n",
       "</div>"
      ],
      "text/plain": [
       "   drug_id   PubCHEM                                             Smiles\n",
       "0     1242   9863776     COc1cc(O)c2c(c1)C=CCC(O)C(O)C(=O)C=CCC(C)OC2=O\n",
       "1      179      3385                            O=c1[nH]cc(F)c(=O)[nH]1\n",
       "2       86  10172943  Cc1[nH]nc2ccc(-c3cncc(OCC(N)Cc4c[nH]c5ccccc45)...\n",
       "3       55   9549184  COc1cc(-c2nn(C3CCC(N4CCN(C(C)=O)CC4)CC3)c3ncnc...\n",
       "4     1001     65110           NC(=O)c1ncn(C2OC(COP(=O)(O)O)C(O)C2O)c1N"
      ]
     },
     "execution_count": 14,
     "metadata": {},
     "output_type": "execute_result"
    }
   ],
   "source": [
    "pubchem_drugs_smiles_df.head()"
   ]
  },
  {
   "cell_type": "code",
   "execution_count": 15,
   "id": "01c6654b-87d1-4407-9543-28f83290a84c",
   "metadata": {},
   "outputs": [
    {
     "name": "stderr",
     "output_type": "stream",
     "text": [
      "WARNING:deepchem.models:Skipped loading some PyTorch models, missing a dependency. No module named 'torch'\n",
      "WARNING:deepchem.models:Skipped loading modules with pytorch-geometric dependency, missing a dependency. No module named 'torch'\n",
      "WARNING:deepchem.models:Skipped loading modules with pytorch-lightning dependency, missing a dependency. No module named 'torch'\n",
      "WARNING:deepchem.models:Skipped loading some Jax models, missing a dependency. No module named 'haiku'\n"
     ]
    }
   ],
   "source": [
    "import deepchem as dc\n",
    "from rdkit import Chem"
   ]
  },
  {
   "cell_type": "code",
   "execution_count": 38,
   "id": "425ab365-52c1-4bd9-b711-d5b4d4b700de",
   "metadata": {},
   "outputs": [],
   "source": [
    "def NormalizeAdj(adj):\n",
    "    adj = adj + np.eye(adj.shape[0])\n",
    "    d = sp.diags(np.power(np.array(adj.sum(1)), -0.5).flatten(), 0).toarray()\n",
    "    a_norm = adj.dot(d).transpose().dot(d)\n",
    "    return a_norm\n",
    "def random_adjacency_matrix(n):   \n",
    "    matrix = [[random.randint(0, 1) for i in range(n)] for j in range(n)]\n",
    "    # No vertex connects to itself\n",
    "    for i in range(n):\n",
    "        matrix[i][i] = 0\n",
    "    # If i is connected to j, j is connected to i\n",
    "    for i in range(n):\n",
    "        for j in range(n):\n",
    "            matrix[j][i] = matrix[i][j]\n",
    "    return matrix\n",
    "def CalculateGraphFeat(feat_mat,adj_list):\n",
    "    assert feat_mat.shape[0] == len(adj_list)\n",
    "    feat = np.zeros((Max_atoms,feat_mat.shape[-1]),dtype='float32')\n",
    "    adj_mat = np.zeros((Max_atoms,Max_atoms),dtype='float32')\n",
    "    if israndom:\n",
    "        feat = np.random.rand(Max_atoms,feat_mat.shape[-1])\n",
    "        adj_mat[feat_mat.shape[0]:,feat_mat.shape[0]:] = random_adjacency_matrix(Max_atoms-feat_mat.shape[0])        \n",
    "    feat[:feat_mat.shape[0],:] = feat_mat\n",
    "    for i in range(len(adj_list)):\n",
    "        nodes = adj_list[i]\n",
    "        for each in nodes:\n",
    "            adj_mat[i,int(each)] = 1\n",
    "    assert np.allclose(adj_mat,adj_mat.T)\n",
    "    adj_ = adj_mat[:len(adj_list),:len(adj_list)]\n",
    "    adj_2 = adj_mat[len(adj_list):,len(adj_list):]\n",
    "    norm_adj_ = NormalizeAdj(adj_)\n",
    "    norm_adj_2 = NormalizeAdj(adj_2)\n",
    "    adj_mat[:len(adj_list),:len(adj_list)] = norm_adj_\n",
    "    adj_mat[len(adj_list):,len(adj_list):] = norm_adj_2    \n",
    "    return [feat,adj_mat]"
   ]
  },
  {
   "cell_type": "code",
   "execution_count": 22,
   "id": "06c8f7d5-c7d7-4d74-a332-3d2e1d633425",
   "metadata": {},
   "outputs": [],
   "source": [
    "# from pysmiles import read_smiles\n",
    "# import networkx as nx"
   ]
  },
  {
   "cell_type": "code",
   "execution_count": 39,
   "id": "2b6280d4-d034-49a9-8bd2-161c64823d3c",
   "metadata": {},
   "outputs": [],
   "source": [
    "# adj_mat = np.zeros((100,100),dtype='float32')"
   ]
  },
  {
   "cell_type": "code",
   "execution_count": 40,
   "id": "eee0d657-583b-4f6b-8590-e85c3572df2d",
   "metadata": {},
   "outputs": [],
   "source": [
    "# adj_list = mol_object[0].canon_adj_list"
   ]
  },
  {
   "cell_type": "code",
   "execution_count": 41,
   "id": "1fc7eacf-96af-4117-9625-ed4f7fece47b",
   "metadata": {},
   "outputs": [],
   "source": [
    "    # for i in range(len(adj_list)):\n",
    "    #     nodes = adj_list[i]\n",
    "    #     for each in nodes:\n",
    "    #         adj_mat[i,int(each)] = 1"
   ]
  },
  {
   "cell_type": "code",
   "execution_count": 42,
   "id": "3cf8cd72-49a2-46c0-a42f-782113c8a5b6",
   "metadata": {},
   "outputs": [],
   "source": [
    "# adj"
   ]
  },
  {
   "cell_type": "code",
   "execution_count": 43,
   "id": "40abed14-8350-4a9f-a475-4d2c90e4825e",
   "metadata": {},
   "outputs": [],
   "source": [
    "# adj = NormalizeAdj(adj)"
   ]
  },
  {
   "cell_type": "code",
   "execution_count": 34,
   "id": "2b6229b5-9f79-4fd9-88d5-a0f0c2a3bed3",
   "metadata": {},
   "outputs": [],
   "source": [
    "import scipy.sparse as sp"
   ]
  },
  {
   "cell_type": "code",
   "execution_count": 31,
   "id": "7058e072-3038-4714-8601-845ed1f44b0a",
   "metadata": {},
   "outputs": [],
   "source": [
    "# adj"
   ]
  },
  {
   "cell_type": "code",
   "execution_count": 46,
   "id": "3e0a45ac-9b98-4a11-9361-5f52c4d096c2",
   "metadata": {},
   "outputs": [],
   "source": [
    "Max_atoms = 100"
   ]
  },
  {
   "cell_type": "code",
   "execution_count": 48,
   "id": "0a164855-9456-48fa-a0b7-e4add6338437",
   "metadata": {},
   "outputs": [],
   "source": [
    "israndom = False"
   ]
  },
  {
   "cell_type": "code",
   "execution_count": 49,
   "id": "fc49c291-fa3f-4ee7-b291-ddeddb53ba46",
   "metadata": {},
   "outputs": [],
   "source": [
    "dict_features = {}\n",
    "# dict_num_atoms = {}\n",
    "dict_adj_mat = {}\n",
    "for i, smiles in enumerate(pubchem_drugs_smiles_df[\"Smiles\"].values):\n",
    "    # print(each)\n",
    "    molecules=[]\n",
    "    molecules.append(Chem.MolFromSmiles(smiles))\n",
    "    featurizer = dc.feat.graph_features.ConvMolFeaturizer()\n",
    "    mol_object = featurizer.featurize(molecules)\n",
    "    features = mol_object[0].atom_features\n",
    "    drug_id_cur = pubchem_drugs_smiles_df.iloc[i,:][\"drug_id\"]\n",
    "    adj_list = mol_object[0].canon_adj_list\n",
    "    l = CalculateGraphFeat(features,adj_list)\n",
    "    # dict_features[str(drug_id_cur)] = features\n",
    "    # degree_list = mol_object[0].deg_list\n",
    "    # degree_list = degree_list.reshape(-1,1)\n",
    "    # dict_num_atoms[str(drug_id_cur)] = degree_list\n",
    "    # padded = np.zeros((100-degree_list, 75))\n",
    "    # features = np.vstack((features, padded))\n",
    "    dict_features[str(drug_id_cur)] = l[0]\n",
    "    dict_adj_mat[str(drug_id_cur)] = l[1]"
   ]
  },
  {
   "cell_type": "code",
   "execution_count": 52,
   "id": "92644783-8b08-4d0e-a804-ab21fbe17e51",
   "metadata": {},
   "outputs": [],
   "source": [
    "# dict_adj_mat"
   ]
  },
  {
   "cell_type": "code",
   "execution_count": 53,
   "id": "804e7855-11fd-42df-b629-06a22d6d45b3",
   "metadata": {},
   "outputs": [],
   "source": [
    "import pickle"
   ]
  },
  {
   "cell_type": "code",
   "execution_count": 54,
   "id": "12b24ede-142c-41e6-88b0-9d5b080d33fd",
   "metadata": {},
   "outputs": [],
   "source": [
    "with open(\"..//data//drug_gcn_features.pickle\", \"wb\") as f:\n",
    "    pickle.dump(dict_features, f)"
   ]
  },
  {
   "cell_type": "code",
   "execution_count": 55,
   "id": "d0a59111-a2ec-4e2c-aa1d-1ce049476c11",
   "metadata": {},
   "outputs": [],
   "source": [
    "with open(\"..//data//drug_gcn_normalized_adj_mats.pickle\", \"wb\") as f:\n",
    "    pickle.dump(dict_adj_mat, f)"
   ]
  }
 ],
 "metadata": {
  "kernelspec": {
   "display_name": "Python (enkf_gpu)",
   "language": "python",
   "name": "tf_custom_gayara_2"
  },
  "language_info": {
   "codemirror_mode": {
    "name": "ipython",
    "version": 3
   },
   "file_extension": ".py",
   "mimetype": "text/x-python",
   "name": "python",
   "nbconvert_exporter": "python",
   "pygments_lexer": "ipython3",
   "version": "3.9.13"
  }
 },
 "nbformat": 4,
 "nbformat_minor": 5
}
