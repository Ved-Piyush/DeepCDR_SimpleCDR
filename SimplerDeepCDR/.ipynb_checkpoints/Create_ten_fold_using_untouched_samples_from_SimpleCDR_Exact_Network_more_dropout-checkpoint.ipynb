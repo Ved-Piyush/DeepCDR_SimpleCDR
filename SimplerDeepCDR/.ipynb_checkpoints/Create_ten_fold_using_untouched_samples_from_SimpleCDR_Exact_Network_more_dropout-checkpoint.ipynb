{
 "cells": [
  {
   "cell_type": "code",
   "execution_count": 1,
   "id": "9870e6f3-d854-4d27-a9c8-3d95f7b65e1e",
   "metadata": {},
   "outputs": [],
   "source": [
    "import pickle"
   ]
  },
  {
   "cell_type": "code",
   "execution_count": 2,
   "id": "74f160c3-e574-47ee-84a1-ce08834e12f4",
   "metadata": {},
   "outputs": [],
   "source": [
    "with open(\"..//data//untouched_all_embs.pickle\", \"rb\") as f:\n",
    "    untouched_all_embs = pickle.load(f)"
   ]
  },
  {
   "cell_type": "code",
   "execution_count": 5,
   "id": "502822b4-1f74-43bb-b4b4-c6a10e7d6072",
   "metadata": {},
   "outputs": [],
   "source": [
    "# untouched_all_embs[0].shape"
   ]
  },
  {
   "cell_type": "code",
   "execution_count": 4,
   "id": "30727b5b-0153-4bfb-9848-e62285288435",
   "metadata": {},
   "outputs": [],
   "source": [
    "from sklearn.decomposition import PCA"
   ]
  },
  {
   "cell_type": "code",
   "execution_count": 5,
   "id": "e75ff6cb-1d47-48a1-8520-fa5464892a69",
   "metadata": {},
   "outputs": [],
   "source": [
    "drug_embs = untouched_all_embs[0]"
   ]
  },
  {
   "cell_type": "code",
   "execution_count": 6,
   "id": "43bdea38-dfa1-462f-949b-5b4ae98d29c4",
   "metadata": {},
   "outputs": [],
   "source": [
    "gen_expr_embs = untouched_all_embs[1]"
   ]
  },
  {
   "cell_type": "code",
   "execution_count": 7,
   "id": "7939ae1c-e75b-409f-986c-f24a7cfdb2e8",
   "metadata": {},
   "outputs": [],
   "source": [
    "dna_methy_embs = untouched_all_embs[3]"
   ]
  },
  {
   "cell_type": "code",
   "execution_count": 8,
   "id": "a654ea61-23ac-42e3-82c8-887db839ff65",
   "metadata": {},
   "outputs": [],
   "source": [
    "gen_mut_embs = untouched_all_embs[2]"
   ]
  },
  {
   "cell_type": "code",
   "execution_count": 9,
   "id": "774fb2de-20a0-4e8a-b432-dfd97b4318b8",
   "metadata": {},
   "outputs": [],
   "source": [
    "y_train = untouched_all_embs[4]"
   ]
  },
  {
   "cell_type": "code",
   "execution_count": 10,
   "id": "a79a6584-4ae4-45ec-a491-3074db41316b",
   "metadata": {},
   "outputs": [],
   "source": [
    "# y_train.shape"
   ]
  },
  {
   "cell_type": "code",
   "execution_count": 11,
   "id": "3a57e809-67f3-4ce3-ae74-8cdda18a6a84",
   "metadata": {},
   "outputs": [],
   "source": [
    "# generate 10000 random idx\n",
    "import random"
   ]
  },
  {
   "cell_type": "code",
   "execution_count": 12,
   "id": "a77c7a13-9128-4241-bdd9-8ae119c1a684",
   "metadata": {},
   "outputs": [],
   "source": [
    "import numpy as np"
   ]
  },
  {
   "cell_type": "code",
   "execution_count": 13,
   "id": "6e08ff1b-e941-4cf9-8d1e-85ad1c783604",
   "metadata": {},
   "outputs": [],
   "source": [
    "random.seed(42)\n",
    "random_idx = random.sample(range(0, len(y_train)), k = 5000)\n",
    "# random_idx"
   ]
  },
  {
   "cell_type": "code",
   "execution_count": 14,
   "id": "3983915f-9c71-4aaa-93f0-97326782588e",
   "metadata": {},
   "outputs": [],
   "source": [
    "drug_embs_filt = drug_embs[random_idx, :]"
   ]
  },
  {
   "cell_type": "code",
   "execution_count": 15,
   "id": "8acc0bb0-3403-4d3d-a47a-1585b12ccbfd",
   "metadata": {},
   "outputs": [
    {
     "data": {
      "text/plain": [
       "(5000, 100)"
      ]
     },
     "execution_count": 15,
     "metadata": {},
     "output_type": "execute_result"
    }
   ],
   "source": [
    "drug_embs_filt.shape"
   ]
  },
  {
   "cell_type": "code",
   "execution_count": 16,
   "id": "e7908869-05fa-43ab-b62e-4429e8f8fe62",
   "metadata": {},
   "outputs": [],
   "source": [
    "gen_expr_embs_filt = gen_expr_embs[random_idx, :]"
   ]
  },
  {
   "cell_type": "code",
   "execution_count": 17,
   "id": "e7dd832f-d3aa-4142-8bf6-4128f33ba4b1",
   "metadata": {},
   "outputs": [
    {
     "data": {
      "text/plain": [
       "(5000, 100)"
      ]
     },
     "execution_count": 17,
     "metadata": {},
     "output_type": "execute_result"
    }
   ],
   "source": [
    "gen_expr_embs_filt.shape"
   ]
  },
  {
   "cell_type": "code",
   "execution_count": 18,
   "id": "2277b359-7ab0-443c-8731-747fba516739",
   "metadata": {},
   "outputs": [],
   "source": [
    "dna_methy_embs_filt = dna_methy_embs[random_idx, :]"
   ]
  },
  {
   "cell_type": "code",
   "execution_count": 19,
   "id": "3464b8c6-01a4-433c-99fd-9b4f31439f95",
   "metadata": {},
   "outputs": [
    {
     "data": {
      "text/plain": [
       "(5000, 100)"
      ]
     },
     "execution_count": 19,
     "metadata": {},
     "output_type": "execute_result"
    }
   ],
   "source": [
    "dna_methy_embs_filt.shape"
   ]
  },
  {
   "cell_type": "code",
   "execution_count": 20,
   "id": "5b5b052f-b89d-40b6-96f1-f8ff68dc846d",
   "metadata": {},
   "outputs": [],
   "source": [
    "gen_mut_embs_filt = gen_mut_embs[random_idx, :]"
   ]
  },
  {
   "cell_type": "code",
   "execution_count": 21,
   "id": "4040b047-72e9-4140-9eb4-bf47cc0701e5",
   "metadata": {},
   "outputs": [
    {
     "data": {
      "text/plain": [
       "(5000, 2010)"
      ]
     },
     "execution_count": 21,
     "metadata": {},
     "output_type": "execute_result"
    }
   ],
   "source": [
    "gen_mut_embs_filt.shape"
   ]
  },
  {
   "cell_type": "code",
   "execution_count": 22,
   "id": "b1d2d1c8-eede-41fc-87a0-466869a218b3",
   "metadata": {},
   "outputs": [],
   "source": [
    "y_train_filt = y_train[random_idx, :]"
   ]
  },
  {
   "cell_type": "code",
   "execution_count": 23,
   "id": "d53daf05-10a8-4b0d-be28-526016d3c796",
   "metadata": {},
   "outputs": [
    {
     "data": {
      "text/plain": [
       "(5000, 1)"
      ]
     },
     "execution_count": 23,
     "metadata": {},
     "output_type": "execute_result"
    }
   ],
   "source": [
    "y_train_filt.shape"
   ]
  },
  {
   "cell_type": "code",
   "execution_count": 24,
   "id": "57d72f59-fc16-45bb-97f9-103d1aa72d60",
   "metadata": {},
   "outputs": [],
   "source": [
    "from sklearn.model_selection import KFold"
   ]
  },
  {
   "cell_type": "code",
   "execution_count": 25,
   "id": "0ceb234c-e181-4c46-be78-36222796a374",
   "metadata": {},
   "outputs": [],
   "source": [
    "kf = KFold(5)"
   ]
  },
  {
   "cell_type": "code",
   "execution_count": 26,
   "id": "f66077fd-89cb-4eff-83f6-b51b690fe17e",
   "metadata": {},
   "outputs": [],
   "source": [
    "catch_main = []\n",
    "for i, (train_index, test_index) in enumerate(kf.split(gen_mut_embs_filt)): \n",
    "    train_drugs_emb = drug_embs_filt[train_index, :]\n",
    "    test_drugs_emb = drug_embs_filt[test_index, :]\n",
    "    \n",
    "    train_gen_expr_emb = gen_expr_embs_filt[train_index, :]\n",
    "    test_gen_expr_emb = gen_expr_embs_filt[test_index, :]\n",
    "    \n",
    "    train_dna_methyl_emb = dna_methy_embs_filt[train_index, :]\n",
    "    test_dna_methyl_emb = dna_methy_embs_filt[test_index, :]\n",
    "    \n",
    "    train_gen_mut_emb = gen_mut_embs_filt[train_index, :]\n",
    "    test_gen_mut_emb = gen_mut_embs_filt[test_index, :]\n",
    "    \n",
    "    train_y = y_train_filt[train_index, :]\n",
    "    test_y = y_train_filt[test_index, :]\n",
    "    \n",
    "    catch = [[train_drugs_emb, train_gen_expr_emb, train_dna_methyl_emb, train_gen_mut_emb, train_y], \n",
    "            [test_drugs_emb, test_gen_expr_emb, test_dna_methyl_emb, test_gen_mut_emb, test_y]]\n",
    "    catch_main.append(catch)\n",
    "    "
   ]
  },
  {
   "cell_type": "code",
   "execution_count": 27,
   "id": "1115e07c-252a-4f86-bb30-761f8da2482f",
   "metadata": {},
   "outputs": [],
   "source": [
    "with open(\"..//data//untouched_all_embs_five_fold_5000.pickle\", \"wb\") as f:\n",
    "    pickle.dump(catch_main, f)"
   ]
  }
 ],
 "metadata": {
  "kernelspec": {
   "display_name": "enkf",
   "language": "python",
   "name": "enkf"
  },
  "language_info": {
   "codemirror_mode": {
    "name": "ipython",
    "version": 3
   },
   "file_extension": ".py",
   "mimetype": "text/x-python",
   "name": "python",
   "nbconvert_exporter": "python",
   "pygments_lexer": "ipython3",
   "version": "3.11.3"
  }
 },
 "nbformat": 4,
 "nbformat_minor": 5
}
