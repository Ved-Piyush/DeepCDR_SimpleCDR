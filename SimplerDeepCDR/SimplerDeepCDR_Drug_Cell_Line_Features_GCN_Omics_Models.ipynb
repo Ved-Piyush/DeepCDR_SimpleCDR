{
 "cells": [
  {
   "cell_type": "code",
   "execution_count": 1,
   "id": "a9c5f6c6-4c0f-4e8a-ad6b-038ec2bece24",
   "metadata": {},
   "outputs": [
    {
     "name": "stderr",
     "output_type": "stream",
     "text": [
      "2023-07-29 21:15:30.689609: I tensorflow/core/util/util.cc:169] oneDNN custom operations are on. You may see slightly different numerical results due to floating-point round-off errors from different computation orders. To turn them off, set the environment variable `TF_ENABLE_ONEDNN_OPTS=0`.\n"
     ]
    }
   ],
   "source": [
    "import pandas as pd\n",
    "import numpy as np\n",
    "import tensorflow as tf\n",
    "from sklearn.preprocessing import StandardScaler"
   ]
  },
  {
   "cell_type": "code",
   "execution_count": 2,
   "id": "337393a3-703a-4450-aee3-6a5107db817a",
   "metadata": {},
   "outputs": [],
   "source": [
    "# read the file that has smiles and ids"
   ]
  },
  {
   "cell_type": "code",
   "execution_count": 3,
   "id": "f827d866-6e16-4d4f-aee6-c3a15562f949",
   "metadata": {},
   "outputs": [],
   "source": [
    "pubchem_to_drugs_df = pd.read_csv('../data/GDSC/1.Drug_listMon Jun 24 09_00_55 2019.csv')"
   ]
  },
  {
   "cell_type": "code",
   "execution_count": 4,
   "id": "88ca79c0-6a19-4163-b473-096db2231e7d",
   "metadata": {},
   "outputs": [],
   "source": [
    "pubchem_to_drugs_df = pubchem_to_drugs_df[[\"drug_id\", \"PubCHEM\"]]"
   ]
  },
  {
   "cell_type": "code",
   "execution_count": 5,
   "id": "9a8ce4bd-c165-4791-be74-16ab00fe49a6",
   "metadata": {},
   "outputs": [
    {
     "data": {
      "text/plain": [
       "drug_id     int64\n",
       "PubCHEM    object\n",
       "dtype: object"
      ]
     },
     "execution_count": 5,
     "metadata": {},
     "output_type": "execute_result"
    }
   ],
   "source": [
    "pubchem_to_drugs_df.dtypes"
   ]
  },
  {
   "cell_type": "code",
   "execution_count": 6,
   "id": "39b52daa-a6fe-49d7-9920-118e0708a8e7",
   "metadata": {},
   "outputs": [],
   "source": [
    "pubchem_to_drugs_df[\"PubCHEM\"] = [val if str(val).isdigit() else np.nan for val in pubchem_to_drugs_df[\"PubCHEM\"] ]"
   ]
  },
  {
   "cell_type": "code",
   "execution_count": 7,
   "id": "ca15852a-6541-477a-ad0c-664e8ae55855",
   "metadata": {},
   "outputs": [],
   "source": [
    "pubchem_to_drugs_df = pubchem_to_drugs_df.dropna()"
   ]
  },
  {
   "cell_type": "code",
   "execution_count": 8,
   "id": "761ec3eb-27b8-424d-884b-16527a0cd317",
   "metadata": {},
   "outputs": [],
   "source": [
    "pubchem_to_drugs_df[\"PubCHEM\"] = pubchem_to_drugs_df[\"PubCHEM\"].astype(np.int64)"
   ]
  },
  {
   "cell_type": "code",
   "execution_count": 9,
   "id": "e3dd8967-aac8-4606-a9f8-ce6bd29fa3a3",
   "metadata": {},
   "outputs": [],
   "source": [
    "pubchem_to_smiles = pd.read_csv('../data/223drugs_pubchem_smiles.txt', sep=\"\\t\", header=None)"
   ]
  },
  {
   "cell_type": "code",
   "execution_count": 10,
   "id": "e746e4c6-714f-4dbd-a906-b71450657c8f",
   "metadata": {},
   "outputs": [],
   "source": [
    "pubchem_to_smiles.columns = [\"PubCHEM\", \"Smiles\"]"
   ]
  },
  {
   "cell_type": "code",
   "execution_count": 11,
   "id": "eb85a00b-40dc-4502-8bcf-70ef3b9c0d5a",
   "metadata": {},
   "outputs": [],
   "source": [
    "pubchem_to_smiles[\"PubCHEM\"] = pubchem_to_smiles[\"PubCHEM\"].astype(np.int64)"
   ]
  },
  {
   "cell_type": "code",
   "execution_count": 12,
   "id": "fee4d18b-72d8-4635-b4b6-5bfb4804b65a",
   "metadata": {},
   "outputs": [],
   "source": [
    "pubchem_drugs_smiles_df = pubchem_to_drugs_df.merge(pubchem_to_smiles, on = \"PubCHEM\")"
   ]
  },
  {
   "cell_type": "code",
   "execution_count": 13,
   "id": "8187d9eb-d5b1-4932-9dfb-828953734d40",
   "metadata": {},
   "outputs": [],
   "source": [
    "def get_emb_models(dataset, id_col):\n",
    "    # std = StandardScaler()\n",
    "    unique_ids = dataset[id_col].values\n",
    "    text_vec_layer = tf.keras.layers.TextVectorization(max_tokens = dataset.shape[0] + 2, \n",
    "                                                  standardize=None, split = None, \n",
    "                                                  output_mode = \"int\", \n",
    "                                                  vocabulary = unique_ids.tolist())\n",
    "    weights = dataset.drop(id_col, 1).values\n",
    "    padding_zeros = np.zeros((2, weights.shape[1]))\n",
    "    weights = np.vstack((padding_zeros, weights))\n",
    "    # std.fit(weights)\n",
    "    # weights = std.transform(weights)\n",
    "    emb_layer = tf.keras.layers.Embedding(dataset.shape[0] + 2, \n",
    "                                     weights.shape[1], \n",
    "                                     weights = [weights], \n",
    "                                     trainable = False)\n",
    "    input_layer = tf.keras.layers.Input(shape = (1,), dtype = tf.string)\n",
    "    vec_out = text_vec_layer(input_layer)\n",
    "    emb_out = emb_layer(vec_out)\n",
    "    flat_out = tf.keras.layers.Flatten()(emb_out)\n",
    "    emb_model = tf.keras.models.Model(input_layer, flat_out)\n",
    "    return emb_model"
   ]
  },
  {
   "cell_type": "code",
   "execution_count": 14,
   "id": "1eb2398a-5dcb-451d-a44a-a4d663367786",
   "metadata": {},
   "outputs": [],
   "source": [
    "selected_info_common_cell_lines = \"../data/CCLE/cellline_list.txt\"\n",
    "selected_info_common_genes = \"../data/CCLE/gene_list.txt\""
   ]
  },
  {
   "cell_type": "code",
   "execution_count": 15,
   "id": "7d06153f-7749-4241-8547-8285af4a5e54",
   "metadata": {},
   "outputs": [],
   "source": [
    "with open(selected_info_common_genes) as f:\n",
    "    common_genes = [item.strip() for item in f.readlines()]"
   ]
  },
  {
   "cell_type": "code",
   "execution_count": 16,
   "id": "81b8bcfe-b10c-4f4a-bf26-07d315a0c817",
   "metadata": {},
   "outputs": [
    {
     "data": {
      "text/plain": [
       "697"
      ]
     },
     "execution_count": 16,
     "metadata": {},
     "output_type": "execute_result"
    }
   ],
   "source": [
    "len(common_genes)"
   ]
  },
  {
   "cell_type": "code",
   "execution_count": 17,
   "id": "0343b0f8-7b7f-4edf-8646-1daa0151289a",
   "metadata": {},
   "outputs": [],
   "source": [
    "# read cancer cell line data\n",
    "cancer_cell_copy_num_df = pd.read_csv('../data/CCLE/genomic_copynumber_561celllines_710genes_demap_features.csv')"
   ]
  },
  {
   "cell_type": "code",
   "execution_count": 18,
   "id": "cd0a1721-e95b-43c7-b31c-dc11f43cfdfd",
   "metadata": {},
   "outputs": [
    {
     "data": {
      "text/plain": [
       "(561, 711)"
      ]
     },
     "execution_count": 18,
     "metadata": {},
     "output_type": "execute_result"
    }
   ],
   "source": [
    "cancer_cell_copy_num_df.shape"
   ]
  },
  {
   "cell_type": "code",
   "execution_count": 19,
   "id": "024e1339-3629-4249-a3dc-c7bb01a4f72d",
   "metadata": {},
   "outputs": [
    {
     "data": {
      "text/html": [
       "<div>\n",
       "<style scoped>\n",
       "    .dataframe tbody tr th:only-of-type {\n",
       "        vertical-align: middle;\n",
       "    }\n",
       "\n",
       "    .dataframe tbody tr th {\n",
       "        vertical-align: top;\n",
       "    }\n",
       "\n",
       "    .dataframe thead th {\n",
       "        text-align: right;\n",
       "    }\n",
       "</style>\n",
       "<table border=\"1\" class=\"dataframe\">\n",
       "  <thead>\n",
       "    <tr style=\"text-align: right;\">\n",
       "      <th></th>\n",
       "      <th>Unnamed: 0</th>\n",
       "      <th>AKT3</th>\n",
       "      <th>ABI1</th>\n",
       "      <th>SH2B3</th>\n",
       "      <th>CDH10</th>\n",
       "      <th>CDH11</th>\n",
       "      <th>AKAP9</th>\n",
       "      <th>CDH17</th>\n",
       "      <th>LHFP</th>\n",
       "      <th>CDK4</th>\n",
       "      <th>...</th>\n",
       "      <th>CD79B</th>\n",
       "      <th>BCLAF1</th>\n",
       "      <th>KEAP1</th>\n",
       "      <th>SETDB1</th>\n",
       "      <th>SRGAP3</th>\n",
       "      <th>MAFB</th>\n",
       "      <th>GOLGA5</th>\n",
       "      <th>THRAP3</th>\n",
       "      <th>MED12</th>\n",
       "      <th>CDH1</th>\n",
       "    </tr>\n",
       "  </thead>\n",
       "  <tbody>\n",
       "    <tr>\n",
       "      <th>0</th>\n",
       "      <td>ACH-000828</td>\n",
       "      <td>1.548332</td>\n",
       "      <td>1.040041</td>\n",
       "      <td>1.020747</td>\n",
       "      <td>1.374471</td>\n",
       "      <td>1.042200</td>\n",
       "      <td>0.848321</td>\n",
       "      <td>1.729350</td>\n",
       "      <td>0.847032</td>\n",
       "      <td>1.025471</td>\n",
       "      <td>...</td>\n",
       "      <td>1.121307</td>\n",
       "      <td>0.830675</td>\n",
       "      <td>0.879632</td>\n",
       "      <td>1.492768</td>\n",
       "      <td>1.053714</td>\n",
       "      <td>1.014371</td>\n",
       "      <td>1.213421</td>\n",
       "      <td>0.780331</td>\n",
       "      <td>1.013260</td>\n",
       "      <td>0.641870</td>\n",
       "    </tr>\n",
       "    <tr>\n",
       "      <th>1</th>\n",
       "      <td>ACH-000568</td>\n",
       "      <td>0.798791</td>\n",
       "      <td>1.072012</td>\n",
       "      <td>1.038193</td>\n",
       "      <td>1.061508</td>\n",
       "      <td>0.792855</td>\n",
       "      <td>1.061508</td>\n",
       "      <td>1.271905</td>\n",
       "      <td>0.779829</td>\n",
       "      <td>1.002602</td>\n",
       "      <td>...</td>\n",
       "      <td>1.316797</td>\n",
       "      <td>1.049884</td>\n",
       "      <td>0.821346</td>\n",
       "      <td>1.621861</td>\n",
       "      <td>1.291863</td>\n",
       "      <td>1.046269</td>\n",
       "      <td>0.799812</td>\n",
       "      <td>1.074006</td>\n",
       "      <td>1.005510</td>\n",
       "      <td>0.792855</td>\n",
       "    </tr>\n",
       "    <tr>\n",
       "      <th>2</th>\n",
       "      <td>ACH-000560</td>\n",
       "      <td>1.080266</td>\n",
       "      <td>0.864616</td>\n",
       "      <td>0.694564</td>\n",
       "      <td>1.053766</td>\n",
       "      <td>0.628903</td>\n",
       "      <td>1.423261</td>\n",
       "      <td>1.369500</td>\n",
       "      <td>0.632267</td>\n",
       "      <td>0.911728</td>\n",
       "      <td>...</td>\n",
       "      <td>1.100098</td>\n",
       "      <td>1.069393</td>\n",
       "      <td>1.232225</td>\n",
       "      <td>0.860476</td>\n",
       "      <td>1.063332</td>\n",
       "      <td>1.194632</td>\n",
       "      <td>1.050246</td>\n",
       "      <td>0.894051</td>\n",
       "      <td>0.873167</td>\n",
       "      <td>0.620049</td>\n",
       "    </tr>\n",
       "    <tr>\n",
       "      <th>3</th>\n",
       "      <td>ACH-000561</td>\n",
       "      <td>1.032649</td>\n",
       "      <td>1.408964</td>\n",
       "      <td>0.949651</td>\n",
       "      <td>1.293622</td>\n",
       "      <td>1.274622</td>\n",
       "      <td>1.503638</td>\n",
       "      <td>1.470401</td>\n",
       "      <td>1.198447</td>\n",
       "      <td>0.893277</td>\n",
       "      <td>...</td>\n",
       "      <td>1.063162</td>\n",
       "      <td>0.660578</td>\n",
       "      <td>0.892464</td>\n",
       "      <td>1.252069</td>\n",
       "      <td>0.650263</td>\n",
       "      <td>1.178741</td>\n",
       "      <td>1.052244</td>\n",
       "      <td>0.902153</td>\n",
       "      <td>0.681885</td>\n",
       "      <td>1.274622</td>\n",
       "    </tr>\n",
       "    <tr>\n",
       "      <th>4</th>\n",
       "      <td>ACH-000562</td>\n",
       "      <td>1.406262</td>\n",
       "      <td>1.005521</td>\n",
       "      <td>0.997044</td>\n",
       "      <td>1.015986</td>\n",
       "      <td>0.932915</td>\n",
       "      <td>1.007777</td>\n",
       "      <td>1.051055</td>\n",
       "      <td>0.822244</td>\n",
       "      <td>0.997044</td>\n",
       "      <td>...</td>\n",
       "      <td>1.192299</td>\n",
       "      <td>0.974316</td>\n",
       "      <td>0.997944</td>\n",
       "      <td>1.406262</td>\n",
       "      <td>0.810652</td>\n",
       "      <td>1.008153</td>\n",
       "      <td>0.943241</td>\n",
       "      <td>0.878888</td>\n",
       "      <td>0.608959</td>\n",
       "      <td>0.932915</td>\n",
       "    </tr>\n",
       "  </tbody>\n",
       "</table>\n",
       "<p>5 rows × 711 columns</p>\n",
       "</div>"
      ],
      "text/plain": [
       "   Unnamed: 0      AKT3      ABI1     SH2B3     CDH10     CDH11     AKAP9  \\\n",
       "0  ACH-000828  1.548332  1.040041  1.020747  1.374471  1.042200  0.848321   \n",
       "1  ACH-000568  0.798791  1.072012  1.038193  1.061508  0.792855  1.061508   \n",
       "2  ACH-000560  1.080266  0.864616  0.694564  1.053766  0.628903  1.423261   \n",
       "3  ACH-000561  1.032649  1.408964  0.949651  1.293622  1.274622  1.503638   \n",
       "4  ACH-000562  1.406262  1.005521  0.997044  1.015986  0.932915  1.007777   \n",
       "\n",
       "      CDH17      LHFP      CDK4  ...     CD79B    BCLAF1     KEAP1    SETDB1  \\\n",
       "0  1.729350  0.847032  1.025471  ...  1.121307  0.830675  0.879632  1.492768   \n",
       "1  1.271905  0.779829  1.002602  ...  1.316797  1.049884  0.821346  1.621861   \n",
       "2  1.369500  0.632267  0.911728  ...  1.100098  1.069393  1.232225  0.860476   \n",
       "3  1.470401  1.198447  0.893277  ...  1.063162  0.660578  0.892464  1.252069   \n",
       "4  1.051055  0.822244  0.997044  ...  1.192299  0.974316  0.997944  1.406262   \n",
       "\n",
       "     SRGAP3      MAFB    GOLGA5    THRAP3     MED12      CDH1  \n",
       "0  1.053714  1.014371  1.213421  0.780331  1.013260  0.641870  \n",
       "1  1.291863  1.046269  0.799812  1.074006  1.005510  0.792855  \n",
       "2  1.063332  1.194632  1.050246  0.894051  0.873167  0.620049  \n",
       "3  0.650263  1.178741  1.052244  0.902153  0.681885  1.274622  \n",
       "4  0.810652  1.008153  0.943241  0.878888  0.608959  0.932915  \n",
       "\n",
       "[5 rows x 711 columns]"
      ]
     },
     "execution_count": 19,
     "metadata": {},
     "output_type": "execute_result"
    }
   ],
   "source": [
    "cancer_cell_copy_num_df.head()"
   ]
  },
  {
   "cell_type": "code",
   "execution_count": 20,
   "id": "e182a913-87f1-416a-9e0e-d22244cff7f5",
   "metadata": {},
   "outputs": [],
   "source": [
    "# cancer_cell_copy_num_df[common_genes]"
   ]
  },
  {
   "cell_type": "code",
   "execution_count": 21,
   "id": "8f3e18ac-7756-4c00-8edf-8e0d4e627252",
   "metadata": {},
   "outputs": [
    {
     "name": "stderr",
     "output_type": "stream",
     "text": [
      "/tmp/ipykernel_955965/1778569368.py:1: FutureWarning: Dropping of nuisance columns in DataFrame reductions (with 'numeric_only=None') is deprecated; in a future version this will raise TypeError.  Select only valid columns before calling the reduction.\n",
      "  cancer_cell_copy_num_df = cancer_cell_copy_num_df.fillna(cancer_cell_copy_num_df.mean())\n"
     ]
    }
   ],
   "source": [
    "cancer_cell_copy_num_df = cancer_cell_copy_num_df.fillna(cancer_cell_copy_num_df.mean())"
   ]
  },
  {
   "cell_type": "code",
   "execution_count": 22,
   "id": "bf367f3f-7c62-4c7f-9745-58bb3d9abc71",
   "metadata": {},
   "outputs": [],
   "source": [
    "int1 = cancer_cell_copy_num_df.columns[1:].tolist()"
   ]
  },
  {
   "cell_type": "code",
   "execution_count": 23,
   "id": "c2969c40-65b8-4a66-8b50-42c74bf1497c",
   "metadata": {},
   "outputs": [],
   "source": [
    "# read cancer cell line data\n",
    "cancer_cell_gen_expr_df = pd.read_csv('../data/CCLE/genomic_expression_561celllines_697genes_demap_features.csv')"
   ]
  },
  {
   "cell_type": "code",
   "execution_count": 24,
   "id": "d92e7eb6-b437-4d6f-881d-272b1f974ab3",
   "metadata": {},
   "outputs": [
    {
     "name": "stderr",
     "output_type": "stream",
     "text": [
      "/tmp/ipykernel_955965/1063970889.py:1: FutureWarning: Dropping of nuisance columns in DataFrame reductions (with 'numeric_only=None') is deprecated; in a future version this will raise TypeError.  Select only valid columns before calling the reduction.\n",
      "  cancer_cell_gen_expr_df = cancer_cell_gen_expr_df.fillna(cancer_cell_gen_expr_df.mean())\n"
     ]
    }
   ],
   "source": [
    "cancer_cell_gen_expr_df = cancer_cell_gen_expr_df.fillna(cancer_cell_gen_expr_df.mean())"
   ]
  },
  {
   "cell_type": "code",
   "execution_count": 25,
   "id": "1994c07a-415e-4a4e-9f26-800e4711a629",
   "metadata": {},
   "outputs": [],
   "source": [
    "# cancer_cell_gen_expr_df[common_genes]"
   ]
  },
  {
   "cell_type": "code",
   "execution_count": 26,
   "id": "25b65fd5-9756-44f2-a425-24fc4c794384",
   "metadata": {},
   "outputs": [],
   "source": [
    "int2 = cancer_cell_gen_expr_df.columns[1:].tolist()"
   ]
  },
  {
   "cell_type": "code",
   "execution_count": 27,
   "id": "93f48770-a9b1-4943-a86a-80ab8630e66c",
   "metadata": {},
   "outputs": [
    {
     "data": {
      "text/plain": [
       "691"
      ]
     },
     "execution_count": 27,
     "metadata": {},
     "output_type": "execute_result"
    }
   ],
   "source": [
    "len(set(int2).intersection(common_genes))"
   ]
  },
  {
   "cell_type": "code",
   "execution_count": 28,
   "id": "a855e82a-504c-4325-8866-27a4494c3ed3",
   "metadata": {},
   "outputs": [],
   "source": [
    "common_genes = set(common_genes).intersection(int1)"
   ]
  },
  {
   "cell_type": "code",
   "execution_count": 29,
   "id": "d0acfd2b-8be1-46d2-bf6a-d15fc613a6cb",
   "metadata": {},
   "outputs": [],
   "source": [
    "common_genes = set(common_genes).intersection(int2)"
   ]
  },
  {
   "cell_type": "code",
   "execution_count": 30,
   "id": "d6723e66-8803-448d-b91c-f74141ee66bf",
   "metadata": {},
   "outputs": [],
   "source": [
    "common_genes = np.sort(list(common_genes))"
   ]
  },
  {
   "cell_type": "code",
   "execution_count": 31,
   "id": "1d642f30-0862-4afd-b891-eaf8135e7b99",
   "metadata": {},
   "outputs": [],
   "source": [
    "# len(common_genes)"
   ]
  },
  {
   "cell_type": "code",
   "execution_count": 32,
   "id": "a7405ea2-547d-43c3-9ff0-b98bf498e164",
   "metadata": {},
   "outputs": [],
   "source": [
    "cancer_cell_copy_num_df = pd.concat([cancer_cell_copy_num_df.iloc[:,0], cancer_cell_copy_num_df.iloc[:,1:][common_genes]], axis = 1)"
   ]
  },
  {
   "cell_type": "code",
   "execution_count": 33,
   "id": "f697a6c6-8638-43fa-b054-510f1a984676",
   "metadata": {},
   "outputs": [],
   "source": [
    "# common_genes"
   ]
  },
  {
   "cell_type": "code",
   "execution_count": 34,
   "id": "6e5ade2b-4954-4f3a-9291-853043388950",
   "metadata": {},
   "outputs": [],
   "source": [
    "# common_genes = list(common_genes)"
   ]
  },
  {
   "cell_type": "code",
   "execution_count": 35,
   "id": "a2030542-9ad7-4ad0-b32c-a606e0740fca",
   "metadata": {},
   "outputs": [],
   "source": [
    "import pickle"
   ]
  },
  {
   "cell_type": "code",
   "execution_count": 36,
   "id": "a9c9e165-d47f-4d38-9d20-e02898c8ed63",
   "metadata": {},
   "outputs": [],
   "source": [
    "with open(\"..//data//common_genes.pickle\", \"wb\") as f:\n",
    "    pickle.dump(common_genes, f)"
   ]
  },
  {
   "cell_type": "code",
   "execution_count": 37,
   "id": "63caa923-f3fa-46e9-aa88-a2fae5f83a75",
   "metadata": {},
   "outputs": [],
   "source": [
    "# common_genes"
   ]
  },
  {
   "cell_type": "code",
   "execution_count": 38,
   "id": "05cd0ae7-c530-4c36-a653-84e95384dc37",
   "metadata": {},
   "outputs": [],
   "source": [
    "cancer_cell_gen_expr_df = pd.concat([cancer_cell_gen_expr_df.iloc[:,0], cancer_cell_gen_expr_df.iloc[:,1:][common_genes]], axis = 1)"
   ]
  },
  {
   "cell_type": "code",
   "execution_count": 39,
   "id": "1c5b8a7e-7f6c-495d-af9a-582fb8d31e7c",
   "metadata": {},
   "outputs": [
    {
     "data": {
      "text/html": [
       "<div>\n",
       "<style scoped>\n",
       "    .dataframe tbody tr th:only-of-type {\n",
       "        vertical-align: middle;\n",
       "    }\n",
       "\n",
       "    .dataframe tbody tr th {\n",
       "        vertical-align: top;\n",
       "    }\n",
       "\n",
       "    .dataframe thead th {\n",
       "        text-align: right;\n",
       "    }\n",
       "</style>\n",
       "<table border=\"1\" class=\"dataframe\">\n",
       "  <thead>\n",
       "    <tr style=\"text-align: right;\">\n",
       "      <th></th>\n",
       "      <th>Unnamed: 0</th>\n",
       "      <th>A1CF</th>\n",
       "      <th>ABI1</th>\n",
       "      <th>ABL1</th>\n",
       "      <th>ABL2</th>\n",
       "      <th>ACKR3</th>\n",
       "      <th>ACSL3</th>\n",
       "      <th>ACSL6</th>\n",
       "      <th>ACVR1</th>\n",
       "      <th>ACVR2A</th>\n",
       "      <th>...</th>\n",
       "      <th>ZEB1</th>\n",
       "      <th>ZFHX3</th>\n",
       "      <th>ZMYM3</th>\n",
       "      <th>ZNF331</th>\n",
       "      <th>ZNF384</th>\n",
       "      <th>ZNF429</th>\n",
       "      <th>ZNF479</th>\n",
       "      <th>ZNF521</th>\n",
       "      <th>ZNRF3</th>\n",
       "      <th>ZRSR2</th>\n",
       "    </tr>\n",
       "  </thead>\n",
       "  <tbody>\n",
       "    <tr>\n",
       "      <th>0</th>\n",
       "      <td>ACH-000828</td>\n",
       "      <td>0.000000</td>\n",
       "      <td>4.583760</td>\n",
       "      <td>4.007196</td>\n",
       "      <td>3.171527</td>\n",
       "      <td>1.974529</td>\n",
       "      <td>7.175026</td>\n",
       "      <td>0.367371</td>\n",
       "      <td>2.769772</td>\n",
       "      <td>1.541019</td>\n",
       "      <td>...</td>\n",
       "      <td>0.150560</td>\n",
       "      <td>2.241840</td>\n",
       "      <td>3.666757</td>\n",
       "      <td>2.344828</td>\n",
       "      <td>5.384395</td>\n",
       "      <td>1.794936</td>\n",
       "      <td>0.0</td>\n",
       "      <td>0.000000</td>\n",
       "      <td>2.707083</td>\n",
       "      <td>3.864929</td>\n",
       "    </tr>\n",
       "    <tr>\n",
       "      <th>1</th>\n",
       "      <td>ACH-000568</td>\n",
       "      <td>0.028569</td>\n",
       "      <td>4.306700</td>\n",
       "      <td>3.017922</td>\n",
       "      <td>2.144046</td>\n",
       "      <td>2.490570</td>\n",
       "      <td>5.726014</td>\n",
       "      <td>0.250962</td>\n",
       "      <td>1.691534</td>\n",
       "      <td>1.526069</td>\n",
       "      <td>...</td>\n",
       "      <td>0.097611</td>\n",
       "      <td>1.555816</td>\n",
       "      <td>3.747387</td>\n",
       "      <td>4.724105</td>\n",
       "      <td>4.873321</td>\n",
       "      <td>2.560715</td>\n",
       "      <td>0.0</td>\n",
       "      <td>0.028569</td>\n",
       "      <td>1.713696</td>\n",
       "      <td>4.032982</td>\n",
       "    </tr>\n",
       "    <tr>\n",
       "      <th>2</th>\n",
       "      <td>ACH-000560</td>\n",
       "      <td>0.042644</td>\n",
       "      <td>4.297191</td>\n",
       "      <td>6.192589</td>\n",
       "      <td>3.291309</td>\n",
       "      <td>0.594549</td>\n",
       "      <td>4.752213</td>\n",
       "      <td>3.401903</td>\n",
       "      <td>3.408712</td>\n",
       "      <td>3.072106</td>\n",
       "      <td>...</td>\n",
       "      <td>2.659925</td>\n",
       "      <td>3.896272</td>\n",
       "      <td>5.205158</td>\n",
       "      <td>3.550901</td>\n",
       "      <td>5.859970</td>\n",
       "      <td>3.485427</td>\n",
       "      <td>0.0</td>\n",
       "      <td>3.674687</td>\n",
       "      <td>4.272770</td>\n",
       "      <td>3.361768</td>\n",
       "    </tr>\n",
       "    <tr>\n",
       "      <th>3</th>\n",
       "      <td>ACH-000561</td>\n",
       "      <td>0.042644</td>\n",
       "      <td>6.180705</td>\n",
       "      <td>3.792855</td>\n",
       "      <td>2.568032</td>\n",
       "      <td>6.689858</td>\n",
       "      <td>5.200850</td>\n",
       "      <td>0.250962</td>\n",
       "      <td>3.925050</td>\n",
       "      <td>2.003602</td>\n",
       "      <td>...</td>\n",
       "      <td>0.263034</td>\n",
       "      <td>3.065228</td>\n",
       "      <td>3.954196</td>\n",
       "      <td>2.910733</td>\n",
       "      <td>5.873567</td>\n",
       "      <td>2.495695</td>\n",
       "      <td>0.0</td>\n",
       "      <td>0.941106</td>\n",
       "      <td>2.283922</td>\n",
       "      <td>4.259272</td>\n",
       "    </tr>\n",
       "    <tr>\n",
       "      <th>4</th>\n",
       "      <td>ACH-000562</td>\n",
       "      <td>0.042644</td>\n",
       "      <td>5.023255</td>\n",
       "      <td>4.022368</td>\n",
       "      <td>4.302319</td>\n",
       "      <td>0.238787</td>\n",
       "      <td>5.917909</td>\n",
       "      <td>0.137504</td>\n",
       "      <td>3.089159</td>\n",
       "      <td>1.490570</td>\n",
       "      <td>...</td>\n",
       "      <td>0.918386</td>\n",
       "      <td>1.863938</td>\n",
       "      <td>3.400538</td>\n",
       "      <td>2.414136</td>\n",
       "      <td>5.354029</td>\n",
       "      <td>1.867896</td>\n",
       "      <td>0.0</td>\n",
       "      <td>0.124328</td>\n",
       "      <td>1.400538</td>\n",
       "      <td>3.275007</td>\n",
       "    </tr>\n",
       "    <tr>\n",
       "      <th>...</th>\n",
       "      <td>...</td>\n",
       "      <td>...</td>\n",
       "      <td>...</td>\n",
       "      <td>...</td>\n",
       "      <td>...</td>\n",
       "      <td>...</td>\n",
       "      <td>...</td>\n",
       "      <td>...</td>\n",
       "      <td>...</td>\n",
       "      <td>...</td>\n",
       "      <td>...</td>\n",
       "      <td>...</td>\n",
       "      <td>...</td>\n",
       "      <td>...</td>\n",
       "      <td>...</td>\n",
       "      <td>...</td>\n",
       "      <td>...</td>\n",
       "      <td>...</td>\n",
       "      <td>...</td>\n",
       "      <td>...</td>\n",
       "      <td>...</td>\n",
       "    </tr>\n",
       "    <tr>\n",
       "      <th>556</th>\n",
       "      <td>ACH-000242</td>\n",
       "      <td>0.028569</td>\n",
       "      <td>3.880686</td>\n",
       "      <td>4.171527</td>\n",
       "      <td>1.944858</td>\n",
       "      <td>7.292506</td>\n",
       "      <td>7.716922</td>\n",
       "      <td>0.163499</td>\n",
       "      <td>3.606442</td>\n",
       "      <td>2.952334</td>\n",
       "      <td>...</td>\n",
       "      <td>0.124328</td>\n",
       "      <td>2.641546</td>\n",
       "      <td>3.927896</td>\n",
       "      <td>5.389567</td>\n",
       "      <td>6.100767</td>\n",
       "      <td>3.053111</td>\n",
       "      <td>0.0</td>\n",
       "      <td>0.014355</td>\n",
       "      <td>3.260026</td>\n",
       "      <td>3.089159</td>\n",
       "    </tr>\n",
       "    <tr>\n",
       "      <th>557</th>\n",
       "      <td>ACH-000245</td>\n",
       "      <td>0.028569</td>\n",
       "      <td>5.501121</td>\n",
       "      <td>4.651913</td>\n",
       "      <td>1.761285</td>\n",
       "      <td>0.695994</td>\n",
       "      <td>5.201242</td>\n",
       "      <td>0.000000</td>\n",
       "      <td>0.124328</td>\n",
       "      <td>0.650765</td>\n",
       "      <td>...</td>\n",
       "      <td>3.280956</td>\n",
       "      <td>1.104337</td>\n",
       "      <td>4.279471</td>\n",
       "      <td>3.375735</td>\n",
       "      <td>6.071033</td>\n",
       "      <td>2.629939</td>\n",
       "      <td>0.0</td>\n",
       "      <td>0.286881</td>\n",
       "      <td>2.207893</td>\n",
       "      <td>3.643856</td>\n",
       "    </tr>\n",
       "    <tr>\n",
       "      <th>558</th>\n",
       "      <td>ACH-000244</td>\n",
       "      <td>0.000000</td>\n",
       "      <td>4.006298</td>\n",
       "      <td>5.726014</td>\n",
       "      <td>4.572283</td>\n",
       "      <td>0.238787</td>\n",
       "      <td>7.356584</td>\n",
       "      <td>0.275007</td>\n",
       "      <td>5.968091</td>\n",
       "      <td>2.726831</td>\n",
       "      <td>...</td>\n",
       "      <td>3.400538</td>\n",
       "      <td>3.343408</td>\n",
       "      <td>3.656496</td>\n",
       "      <td>3.378512</td>\n",
       "      <td>5.268659</td>\n",
       "      <td>3.416840</td>\n",
       "      <td>0.0</td>\n",
       "      <td>3.737687</td>\n",
       "      <td>2.241840</td>\n",
       "      <td>4.321207</td>\n",
       "    </tr>\n",
       "    <tr>\n",
       "      <th>559</th>\n",
       "      <td>ACH-000247</td>\n",
       "      <td>2.201634</td>\n",
       "      <td>4.719183</td>\n",
       "      <td>4.396434</td>\n",
       "      <td>1.839960</td>\n",
       "      <td>0.056584</td>\n",
       "      <td>5.860963</td>\n",
       "      <td>0.226509</td>\n",
       "      <td>2.839960</td>\n",
       "      <td>2.114367</td>\n",
       "      <td>...</td>\n",
       "      <td>1.257011</td>\n",
       "      <td>1.560715</td>\n",
       "      <td>3.206331</td>\n",
       "      <td>0.163499</td>\n",
       "      <td>5.208283</td>\n",
       "      <td>0.863938</td>\n",
       "      <td>0.0</td>\n",
       "      <td>0.000000</td>\n",
       "      <td>4.174726</td>\n",
       "      <td>3.583760</td>\n",
       "    </tr>\n",
       "    <tr>\n",
       "      <th>560</th>\n",
       "      <td>ACH-000369</td>\n",
       "      <td>0.000000</td>\n",
       "      <td>5.338068</td>\n",
       "      <td>4.704872</td>\n",
       "      <td>2.684819</td>\n",
       "      <td>0.070389</td>\n",
       "      <td>5.674687</td>\n",
       "      <td>0.028569</td>\n",
       "      <td>2.646163</td>\n",
       "      <td>0.485427</td>\n",
       "      <td>...</td>\n",
       "      <td>0.042644</td>\n",
       "      <td>0.757023</td>\n",
       "      <td>5.011227</td>\n",
       "      <td>3.176323</td>\n",
       "      <td>5.732269</td>\n",
       "      <td>3.619413</td>\n",
       "      <td>0.0</td>\n",
       "      <td>5.624393</td>\n",
       "      <td>1.883621</td>\n",
       "      <td>4.231893</td>\n",
       "    </tr>\n",
       "  </tbody>\n",
       "</table>\n",
       "<p>561 rows × 692 columns</p>\n",
       "</div>"
      ],
      "text/plain": [
       "     Unnamed: 0      A1CF      ABI1      ABL1      ABL2     ACKR3     ACSL3  \\\n",
       "0    ACH-000828  0.000000  4.583760  4.007196  3.171527  1.974529  7.175026   \n",
       "1    ACH-000568  0.028569  4.306700  3.017922  2.144046  2.490570  5.726014   \n",
       "2    ACH-000560  0.042644  4.297191  6.192589  3.291309  0.594549  4.752213   \n",
       "3    ACH-000561  0.042644  6.180705  3.792855  2.568032  6.689858  5.200850   \n",
       "4    ACH-000562  0.042644  5.023255  4.022368  4.302319  0.238787  5.917909   \n",
       "..          ...       ...       ...       ...       ...       ...       ...   \n",
       "556  ACH-000242  0.028569  3.880686  4.171527  1.944858  7.292506  7.716922   \n",
       "557  ACH-000245  0.028569  5.501121  4.651913  1.761285  0.695994  5.201242   \n",
       "558  ACH-000244  0.000000  4.006298  5.726014  4.572283  0.238787  7.356584   \n",
       "559  ACH-000247  2.201634  4.719183  4.396434  1.839960  0.056584  5.860963   \n",
       "560  ACH-000369  0.000000  5.338068  4.704872  2.684819  0.070389  5.674687   \n",
       "\n",
       "        ACSL6     ACVR1    ACVR2A  ...      ZEB1     ZFHX3     ZMYM3  \\\n",
       "0    0.367371  2.769772  1.541019  ...  0.150560  2.241840  3.666757   \n",
       "1    0.250962  1.691534  1.526069  ...  0.097611  1.555816  3.747387   \n",
       "2    3.401903  3.408712  3.072106  ...  2.659925  3.896272  5.205158   \n",
       "3    0.250962  3.925050  2.003602  ...  0.263034  3.065228  3.954196   \n",
       "4    0.137504  3.089159  1.490570  ...  0.918386  1.863938  3.400538   \n",
       "..        ...       ...       ...  ...       ...       ...       ...   \n",
       "556  0.163499  3.606442  2.952334  ...  0.124328  2.641546  3.927896   \n",
       "557  0.000000  0.124328  0.650765  ...  3.280956  1.104337  4.279471   \n",
       "558  0.275007  5.968091  2.726831  ...  3.400538  3.343408  3.656496   \n",
       "559  0.226509  2.839960  2.114367  ...  1.257011  1.560715  3.206331   \n",
       "560  0.028569  2.646163  0.485427  ...  0.042644  0.757023  5.011227   \n",
       "\n",
       "       ZNF331    ZNF384    ZNF429  ZNF479    ZNF521     ZNRF3     ZRSR2  \n",
       "0    2.344828  5.384395  1.794936     0.0  0.000000  2.707083  3.864929  \n",
       "1    4.724105  4.873321  2.560715     0.0  0.028569  1.713696  4.032982  \n",
       "2    3.550901  5.859970  3.485427     0.0  3.674687  4.272770  3.361768  \n",
       "3    2.910733  5.873567  2.495695     0.0  0.941106  2.283922  4.259272  \n",
       "4    2.414136  5.354029  1.867896     0.0  0.124328  1.400538  3.275007  \n",
       "..        ...       ...       ...     ...       ...       ...       ...  \n",
       "556  5.389567  6.100767  3.053111     0.0  0.014355  3.260026  3.089159  \n",
       "557  3.375735  6.071033  2.629939     0.0  0.286881  2.207893  3.643856  \n",
       "558  3.378512  5.268659  3.416840     0.0  3.737687  2.241840  4.321207  \n",
       "559  0.163499  5.208283  0.863938     0.0  0.000000  4.174726  3.583760  \n",
       "560  3.176323  5.732269  3.619413     0.0  5.624393  1.883621  4.231893  \n",
       "\n",
       "[561 rows x 692 columns]"
      ]
     },
     "execution_count": 39,
     "metadata": {},
     "output_type": "execute_result"
    }
   ],
   "source": [
    "cancer_cell_gen_expr_df"
   ]
  },
  {
   "cell_type": "code",
   "execution_count": 40,
   "id": "4a2f0660-8493-4ded-8b98-2f0a7f869fb8",
   "metadata": {},
   "outputs": [
    {
     "name": "stderr",
     "output_type": "stream",
     "text": [
      "2023-07-29 21:15:32.913473: I tensorflow/core/platform/cpu_feature_guard.cc:193] This TensorFlow binary is optimized with oneAPI Deep Neural Network Library (oneDNN) to use the following CPU instructions in performance-critical operations:  SSE4.1 SSE4.2 AVX AVX2 AVX512F AVX512_VNNI FMA\n",
      "To enable them in other operations, rebuild TensorFlow with the appropriate compiler flags.\n",
      "2023-07-29 21:15:33.417537: I tensorflow/core/common_runtime/gpu/gpu_device.cc:1532] Created device /job:localhost/replica:0/task:0/device:GPU:0 with 78910 MB memory:  -> device: 0, name: NVIDIA A100 80GB PCIe, pci bus id: 0000:31:00.0, compute capability: 8.0\n",
      "/tmp/ipykernel_955965/367420769.py:8: FutureWarning: In a future version of pandas all arguments of DataFrame.drop except for the argument 'labels' will be keyword-only.\n",
      "  weights = dataset.drop(id_col, 1).values\n"
     ]
    }
   ],
   "source": [
    "cancer_copy_number_model = get_emb_models(cancer_cell_copy_num_df, \"Unnamed: 0\")"
   ]
  },
  {
   "cell_type": "code",
   "execution_count": 41,
   "id": "8ce8de5f-07b3-4ffc-8f91-23713e6e7954",
   "metadata": {},
   "outputs": [
    {
     "name": "stdout",
     "output_type": "stream",
     "text": [
      "Model: \"model\"\n",
      "_________________________________________________________________\n",
      " Layer (type)                Output Shape              Param #   \n",
      "=================================================================\n",
      " input_1 (InputLayer)        [(None, 1)]               0         \n",
      "                                                                 \n",
      " text_vectorization (TextVec  (None, 1)                0         \n",
      " torization)                                                     \n",
      "                                                                 \n",
      " embedding (Embedding)       (None, 1, 691)            389033    \n",
      "                                                                 \n",
      " flatten (Flatten)           (None, 691)               0         \n",
      "                                                                 \n",
      "=================================================================\n",
      "Total params: 389,033\n",
      "Trainable params: 0\n",
      "Non-trainable params: 389,033\n",
      "_________________________________________________________________\n"
     ]
    }
   ],
   "source": [
    "cancer_copy_number_model.summary()"
   ]
  },
  {
   "cell_type": "code",
   "execution_count": 42,
   "id": "4890f83b-cc18-4250-bf40-d51b9e7592c9",
   "metadata": {},
   "outputs": [
    {
     "name": "stdout",
     "output_type": "stream",
     "text": [
      "WARNING:tensorflow:Compiled the loaded model, but the compiled metrics have yet to be built. `model.compile_metrics` will be empty until you train or evaluate the model.\n"
     ]
    },
    {
     "name": "stderr",
     "output_type": "stream",
     "text": [
      "WARNING:tensorflow:Compiled the loaded model, but the compiled metrics have yet to be built. `model.compile_metrics` will be empty until you train or evaluate the model.\n"
     ]
    },
    {
     "name": "stdout",
     "output_type": "stream",
     "text": [
      "INFO:tensorflow:Assets written to: ..//Models//cancer_copy_number_model_no_norm_common/assets\n"
     ]
    },
    {
     "name": "stderr",
     "output_type": "stream",
     "text": [
      "INFO:tensorflow:Assets written to: ..//Models//cancer_copy_number_model_no_norm_common/assets\n"
     ]
    }
   ],
   "source": [
    "cancer_copy_number_model.save(\"..//Models//cancer_copy_number_model_no_norm_common\")"
   ]
  },
  {
   "cell_type": "code",
   "execution_count": 43,
   "id": "7cf795f9-d87f-4702-8170-2c7e2b9501d4",
   "metadata": {},
   "outputs": [
    {
     "data": {
      "text/plain": [
       "(561, 692)"
      ]
     },
     "execution_count": 43,
     "metadata": {},
     "output_type": "execute_result"
    }
   ],
   "source": [
    "cancer_cell_gen_expr_df.shape"
   ]
  },
  {
   "cell_type": "code",
   "execution_count": 44,
   "id": "18e32d34-0c73-4f5b-884e-0db0baedf913",
   "metadata": {},
   "outputs": [
    {
     "data": {
      "text/html": [
       "<div>\n",
       "<style scoped>\n",
       "    .dataframe tbody tr th:only-of-type {\n",
       "        vertical-align: middle;\n",
       "    }\n",
       "\n",
       "    .dataframe tbody tr th {\n",
       "        vertical-align: top;\n",
       "    }\n",
       "\n",
       "    .dataframe thead th {\n",
       "        text-align: right;\n",
       "    }\n",
       "</style>\n",
       "<table border=\"1\" class=\"dataframe\">\n",
       "  <thead>\n",
       "    <tr style=\"text-align: right;\">\n",
       "      <th></th>\n",
       "      <th>Unnamed: 0</th>\n",
       "      <th>A1CF</th>\n",
       "      <th>ABI1</th>\n",
       "      <th>ABL1</th>\n",
       "      <th>ABL2</th>\n",
       "      <th>ACKR3</th>\n",
       "      <th>ACSL3</th>\n",
       "      <th>ACSL6</th>\n",
       "      <th>ACVR1</th>\n",
       "      <th>ACVR2A</th>\n",
       "      <th>...</th>\n",
       "      <th>ZEB1</th>\n",
       "      <th>ZFHX3</th>\n",
       "      <th>ZMYM3</th>\n",
       "      <th>ZNF331</th>\n",
       "      <th>ZNF384</th>\n",
       "      <th>ZNF429</th>\n",
       "      <th>ZNF479</th>\n",
       "      <th>ZNF521</th>\n",
       "      <th>ZNRF3</th>\n",
       "      <th>ZRSR2</th>\n",
       "    </tr>\n",
       "  </thead>\n",
       "  <tbody>\n",
       "    <tr>\n",
       "      <th>0</th>\n",
       "      <td>ACH-000828</td>\n",
       "      <td>0.000000</td>\n",
       "      <td>4.583760</td>\n",
       "      <td>4.007196</td>\n",
       "      <td>3.171527</td>\n",
       "      <td>1.974529</td>\n",
       "      <td>7.175026</td>\n",
       "      <td>0.367371</td>\n",
       "      <td>2.769772</td>\n",
       "      <td>1.541019</td>\n",
       "      <td>...</td>\n",
       "      <td>0.150560</td>\n",
       "      <td>2.241840</td>\n",
       "      <td>3.666757</td>\n",
       "      <td>2.344828</td>\n",
       "      <td>5.384395</td>\n",
       "      <td>1.794936</td>\n",
       "      <td>0.0</td>\n",
       "      <td>0.000000</td>\n",
       "      <td>2.707083</td>\n",
       "      <td>3.864929</td>\n",
       "    </tr>\n",
       "    <tr>\n",
       "      <th>1</th>\n",
       "      <td>ACH-000568</td>\n",
       "      <td>0.028569</td>\n",
       "      <td>4.306700</td>\n",
       "      <td>3.017922</td>\n",
       "      <td>2.144046</td>\n",
       "      <td>2.490570</td>\n",
       "      <td>5.726014</td>\n",
       "      <td>0.250962</td>\n",
       "      <td>1.691534</td>\n",
       "      <td>1.526069</td>\n",
       "      <td>...</td>\n",
       "      <td>0.097611</td>\n",
       "      <td>1.555816</td>\n",
       "      <td>3.747387</td>\n",
       "      <td>4.724105</td>\n",
       "      <td>4.873321</td>\n",
       "      <td>2.560715</td>\n",
       "      <td>0.0</td>\n",
       "      <td>0.028569</td>\n",
       "      <td>1.713696</td>\n",
       "      <td>4.032982</td>\n",
       "    </tr>\n",
       "    <tr>\n",
       "      <th>2</th>\n",
       "      <td>ACH-000560</td>\n",
       "      <td>0.042644</td>\n",
       "      <td>4.297191</td>\n",
       "      <td>6.192589</td>\n",
       "      <td>3.291309</td>\n",
       "      <td>0.594549</td>\n",
       "      <td>4.752213</td>\n",
       "      <td>3.401903</td>\n",
       "      <td>3.408712</td>\n",
       "      <td>3.072106</td>\n",
       "      <td>...</td>\n",
       "      <td>2.659925</td>\n",
       "      <td>3.896272</td>\n",
       "      <td>5.205158</td>\n",
       "      <td>3.550901</td>\n",
       "      <td>5.859970</td>\n",
       "      <td>3.485427</td>\n",
       "      <td>0.0</td>\n",
       "      <td>3.674687</td>\n",
       "      <td>4.272770</td>\n",
       "      <td>3.361768</td>\n",
       "    </tr>\n",
       "    <tr>\n",
       "      <th>3</th>\n",
       "      <td>ACH-000561</td>\n",
       "      <td>0.042644</td>\n",
       "      <td>6.180705</td>\n",
       "      <td>3.792855</td>\n",
       "      <td>2.568032</td>\n",
       "      <td>6.689858</td>\n",
       "      <td>5.200850</td>\n",
       "      <td>0.250962</td>\n",
       "      <td>3.925050</td>\n",
       "      <td>2.003602</td>\n",
       "      <td>...</td>\n",
       "      <td>0.263034</td>\n",
       "      <td>3.065228</td>\n",
       "      <td>3.954196</td>\n",
       "      <td>2.910733</td>\n",
       "      <td>5.873567</td>\n",
       "      <td>2.495695</td>\n",
       "      <td>0.0</td>\n",
       "      <td>0.941106</td>\n",
       "      <td>2.283922</td>\n",
       "      <td>4.259272</td>\n",
       "    </tr>\n",
       "    <tr>\n",
       "      <th>4</th>\n",
       "      <td>ACH-000562</td>\n",
       "      <td>0.042644</td>\n",
       "      <td>5.023255</td>\n",
       "      <td>4.022368</td>\n",
       "      <td>4.302319</td>\n",
       "      <td>0.238787</td>\n",
       "      <td>5.917909</td>\n",
       "      <td>0.137504</td>\n",
       "      <td>3.089159</td>\n",
       "      <td>1.490570</td>\n",
       "      <td>...</td>\n",
       "      <td>0.918386</td>\n",
       "      <td>1.863938</td>\n",
       "      <td>3.400538</td>\n",
       "      <td>2.414136</td>\n",
       "      <td>5.354029</td>\n",
       "      <td>1.867896</td>\n",
       "      <td>0.0</td>\n",
       "      <td>0.124328</td>\n",
       "      <td>1.400538</td>\n",
       "      <td>3.275007</td>\n",
       "    </tr>\n",
       "  </tbody>\n",
       "</table>\n",
       "<p>5 rows × 692 columns</p>\n",
       "</div>"
      ],
      "text/plain": [
       "   Unnamed: 0      A1CF      ABI1      ABL1      ABL2     ACKR3     ACSL3  \\\n",
       "0  ACH-000828  0.000000  4.583760  4.007196  3.171527  1.974529  7.175026   \n",
       "1  ACH-000568  0.028569  4.306700  3.017922  2.144046  2.490570  5.726014   \n",
       "2  ACH-000560  0.042644  4.297191  6.192589  3.291309  0.594549  4.752213   \n",
       "3  ACH-000561  0.042644  6.180705  3.792855  2.568032  6.689858  5.200850   \n",
       "4  ACH-000562  0.042644  5.023255  4.022368  4.302319  0.238787  5.917909   \n",
       "\n",
       "      ACSL6     ACVR1    ACVR2A  ...      ZEB1     ZFHX3     ZMYM3    ZNF331  \\\n",
       "0  0.367371  2.769772  1.541019  ...  0.150560  2.241840  3.666757  2.344828   \n",
       "1  0.250962  1.691534  1.526069  ...  0.097611  1.555816  3.747387  4.724105   \n",
       "2  3.401903  3.408712  3.072106  ...  2.659925  3.896272  5.205158  3.550901   \n",
       "3  0.250962  3.925050  2.003602  ...  0.263034  3.065228  3.954196  2.910733   \n",
       "4  0.137504  3.089159  1.490570  ...  0.918386  1.863938  3.400538  2.414136   \n",
       "\n",
       "     ZNF384    ZNF429  ZNF479    ZNF521     ZNRF3     ZRSR2  \n",
       "0  5.384395  1.794936     0.0  0.000000  2.707083  3.864929  \n",
       "1  4.873321  2.560715     0.0  0.028569  1.713696  4.032982  \n",
       "2  5.859970  3.485427     0.0  3.674687  4.272770  3.361768  \n",
       "3  5.873567  2.495695     0.0  0.941106  2.283922  4.259272  \n",
       "4  5.354029  1.867896     0.0  0.124328  1.400538  3.275007  \n",
       "\n",
       "[5 rows x 692 columns]"
      ]
     },
     "execution_count": 44,
     "metadata": {},
     "output_type": "execute_result"
    }
   ],
   "source": [
    "cancer_cell_gen_expr_df.head()"
   ]
  },
  {
   "cell_type": "code",
   "execution_count": 45,
   "id": "9cc76202-66cc-4c0a-9333-0d400100dcf2",
   "metadata": {},
   "outputs": [
    {
     "name": "stderr",
     "output_type": "stream",
     "text": [
      "/tmp/ipykernel_955965/367420769.py:8: FutureWarning: In a future version of pandas all arguments of DataFrame.drop except for the argument 'labels' will be keyword-only.\n",
      "  weights = dataset.drop(id_col, 1).values\n"
     ]
    }
   ],
   "source": [
    "cancer_cell_gen_expr_model = get_emb_models(cancer_cell_gen_expr_df, \"Unnamed: 0\")"
   ]
  },
  {
   "cell_type": "code",
   "execution_count": 46,
   "id": "31889205-4ddb-4b55-b73b-831bc08a4791",
   "metadata": {},
   "outputs": [
    {
     "name": "stdout",
     "output_type": "stream",
     "text": [
      "WARNING:tensorflow:Compiled the loaded model, but the compiled metrics have yet to be built. `model.compile_metrics` will be empty until you train or evaluate the model.\n"
     ]
    },
    {
     "name": "stderr",
     "output_type": "stream",
     "text": [
      "WARNING:tensorflow:Compiled the loaded model, but the compiled metrics have yet to be built. `model.compile_metrics` will be empty until you train or evaluate the model.\n"
     ]
    },
    {
     "name": "stdout",
     "output_type": "stream",
     "text": [
      "INFO:tensorflow:Assets written to: ..//Models//cancer_cell_gen_expr_model_no_norm_common/assets\n"
     ]
    },
    {
     "name": "stderr",
     "output_type": "stream",
     "text": [
      "INFO:tensorflow:Assets written to: ..//Models//cancer_cell_gen_expr_model_no_norm_common/assets\n"
     ]
    }
   ],
   "source": [
    "cancer_cell_gen_expr_model.save(\"..//Models//cancer_cell_gen_expr_model_no_norm_common\")"
   ]
  },
  {
   "cell_type": "code",
   "execution_count": 47,
   "id": "5fa419c6-5e73-4ef5-a0de-b63cea9f8ae1",
   "metadata": {},
   "outputs": [
    {
     "name": "stdout",
     "output_type": "stream",
     "text": [
      "Model: \"model_1\"\n",
      "_________________________________________________________________\n",
      " Layer (type)                Output Shape              Param #   \n",
      "=================================================================\n",
      " input_2 (InputLayer)        [(None, 1)]               0         \n",
      "                                                                 \n",
      " text_vectorization_1 (TextV  (None, 1)                0         \n",
      " ectorization)                                                   \n",
      "                                                                 \n",
      " embedding_1 (Embedding)     (None, 1, 691)            389033    \n",
      "                                                                 \n",
      " flatten_1 (Flatten)         (None, 691)               0         \n",
      "                                                                 \n",
      "=================================================================\n",
      "Total params: 389,033\n",
      "Trainable params: 0\n",
      "Non-trainable params: 389,033\n",
      "_________________________________________________________________\n"
     ]
    }
   ],
   "source": [
    "cancer_cell_gen_expr_model.summary()"
   ]
  },
  {
   "cell_type": "code",
   "execution_count": 50,
   "id": "fb5c010a-2bac-469c-8441-eb9c7ae4ef8b",
   "metadata": {},
   "outputs": [
    {
     "data": {
      "text/plain": [
       "Index(['Unnamed: 0', 'A1CF', 'ABI1', 'ABL1', 'ABL2', 'ACKR3', 'ACSL3', 'ACSL6',\n",
       "       'ACVR1', 'ACVR2A',\n",
       "       ...\n",
       "       'ZEB1', 'ZFHX3', 'ZMYM3', 'ZNF331', 'ZNF384', 'ZNF429', 'ZNF479',\n",
       "       'ZNF521', 'ZNRF3', 'ZRSR2'],\n",
       "      dtype='object', length=692)"
      ]
     },
     "execution_count": 50,
     "metadata": {},
     "output_type": "execute_result"
    }
   ],
   "source": [
    "cancer_cell_copy_num_df.columns"
   ]
  },
  {
   "cell_type": "code",
   "execution_count": 51,
   "id": "7104308e-64d1-43a3-8857-12a116ed7531",
   "metadata": {},
   "outputs": [
    {
     "data": {
      "text/plain": [
       "1.0"
      ]
     },
     "execution_count": 51,
     "metadata": {},
     "output_type": "execute_result"
    }
   ],
   "source": [
    "np.mean(cancer_cell_copy_num_df.columns == cancer_cell_copy_num_df.columns)"
   ]
  }
 ],
 "metadata": {
  "kernelspec": {
   "display_name": "Python (enkf_gpu)",
   "language": "python",
   "name": "tf_custom_gayara_2"
  },
  "language_info": {
   "codemirror_mode": {
    "name": "ipython",
    "version": 3
   },
   "file_extension": ".py",
   "mimetype": "text/x-python",
   "name": "python",
   "nbconvert_exporter": "python",
   "pygments_lexer": "ipython3",
   "version": "3.9.13"
  }
 },
 "nbformat": 4,
 "nbformat_minor": 5
}
