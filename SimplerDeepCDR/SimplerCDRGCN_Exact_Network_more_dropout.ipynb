{
 "cells": [
  {
   "cell_type": "code",
   "execution_count": 1,
   "id": "d79c4d60-25e3-41cb-b814-ef360e2fee9e",
   "metadata": {},
   "outputs": [
    {
     "name": "stderr",
     "output_type": "stream",
     "text": [
      "2023-07-29 21:32:58.464353: I tensorflow/core/util/util.cc:169] oneDNN custom operations are on. You may see slightly different numerical results due to floating-point round-off errors from different computation orders. To turn them off, set the environment variable `TF_ENABLE_ONEDNN_OPTS=0`.\n"
     ]
    }
   ],
   "source": [
    "import pandas as pd\n",
    "import tensorflow as tf\n",
    "import tensorflow_probability as tfp\n",
    "from tensorflow import keras\n",
    "from tensorflow.python.keras import backend as K\n",
    "from tensorflow.python.ops import array_ops\n",
    "from tensorflow.python.ops import math_ops"
   ]
  },
  {
   "cell_type": "code",
   "execution_count": 2,
   "id": "295124af-1d9b-4e8a-b30c-eb76dbf7f7ba",
   "metadata": {},
   "outputs": [],
   "source": [
    "# tf.compat.v1.disable_eager_execution()"
   ]
  },
  {
   "cell_type": "code",
   "execution_count": 3,
   "id": "06020fb9-0d23-4866-8a4b-d13beac7044f",
   "metadata": {},
   "outputs": [],
   "source": [
    "drugs_cell_lines_ic50_df = pd.read_csv(\"..//data//drugs_cell_lines_ic50.csv\")"
   ]
  },
  {
   "cell_type": "code",
   "execution_count": 4,
   "id": "ef3c56b4-0691-4fb7-8d8d-e4637957e91a",
   "metadata": {},
   "outputs": [
    {
     "data": {
      "text/html": [
       "<div>\n",
       "<style scoped>\n",
       "    .dataframe tbody tr th:only-of-type {\n",
       "        vertical-align: middle;\n",
       "    }\n",
       "\n",
       "    .dataframe tbody tr th {\n",
       "        vertical-align: top;\n",
       "    }\n",
       "\n",
       "    .dataframe thead th {\n",
       "        text-align: right;\n",
       "    }\n",
       "</style>\n",
       "<table border=\"1\" class=\"dataframe\">\n",
       "  <thead>\n",
       "    <tr style=\"text-align: right;\">\n",
       "      <th></th>\n",
       "      <th>drug_id</th>\n",
       "      <th>Cancer_Cell_Line</th>\n",
       "      <th>IC50</th>\n",
       "    </tr>\n",
       "  </thead>\n",
       "  <tbody>\n",
       "    <tr>\n",
       "      <th>0</th>\n",
       "      <td>1001</td>\n",
       "      <td>ACH-002137</td>\n",
       "      <td>7.258918</td>\n",
       "    </tr>\n",
       "    <tr>\n",
       "      <th>1</th>\n",
       "      <td>1004</td>\n",
       "      <td>ACH-002137</td>\n",
       "      <td>-3.802467</td>\n",
       "    </tr>\n",
       "    <tr>\n",
       "      <th>2</th>\n",
       "      <td>1005</td>\n",
       "      <td>ACH-002137</td>\n",
       "      <td>4.146364</td>\n",
       "    </tr>\n",
       "    <tr>\n",
       "      <th>3</th>\n",
       "      <td>1006</td>\n",
       "      <td>ACH-002137</td>\n",
       "      <td>3.171367</td>\n",
       "    </tr>\n",
       "    <tr>\n",
       "      <th>4</th>\n",
       "      <td>1007</td>\n",
       "      <td>ACH-002137</td>\n",
       "      <td>-4.959442</td>\n",
       "    </tr>\n",
       "  </tbody>\n",
       "</table>\n",
       "</div>"
      ],
      "text/plain": [
       "   drug_id Cancer_Cell_Line      IC50\n",
       "0     1001       ACH-002137  7.258918\n",
       "1     1004       ACH-002137 -3.802467\n",
       "2     1005       ACH-002137  4.146364\n",
       "3     1006       ACH-002137  3.171367\n",
       "4     1007       ACH-002137 -4.959442"
      ]
     },
     "execution_count": 4,
     "metadata": {},
     "output_type": "execute_result"
    }
   ],
   "source": [
    "drugs_cell_lines_ic50_df.head()"
   ]
  },
  {
   "cell_type": "code",
   "execution_count": 5,
   "id": "1660298b-b5ce-4cff-bd71-86f7dc9222f5",
   "metadata": {},
   "outputs": [],
   "source": [
    "pubchem_drugs_smiles_df = pd.read_csv('..//data//drugs_smile_strings.csv')"
   ]
  },
  {
   "cell_type": "code",
   "execution_count": 6,
   "id": "58feccba-d7f5-4839-b44d-7c5bb7557ddd",
   "metadata": {},
   "outputs": [
    {
     "data": {
      "text/html": [
       "<div>\n",
       "<style scoped>\n",
       "    .dataframe tbody tr th:only-of-type {\n",
       "        vertical-align: middle;\n",
       "    }\n",
       "\n",
       "    .dataframe tbody tr th {\n",
       "        vertical-align: top;\n",
       "    }\n",
       "\n",
       "    .dataframe thead th {\n",
       "        text-align: right;\n",
       "    }\n",
       "</style>\n",
       "<table border=\"1\" class=\"dataframe\">\n",
       "  <thead>\n",
       "    <tr style=\"text-align: right;\">\n",
       "      <th></th>\n",
       "      <th>drug_id</th>\n",
       "      <th>Smiles</th>\n",
       "    </tr>\n",
       "  </thead>\n",
       "  <tbody>\n",
       "    <tr>\n",
       "      <th>0</th>\n",
       "      <td>1242</td>\n",
       "      <td>COc1cc(O)c2c(c1)C=CCC(O)C(O)C(=O)C=CCC(C)OC2=O</td>\n",
       "    </tr>\n",
       "    <tr>\n",
       "      <th>1</th>\n",
       "      <td>179</td>\n",
       "      <td>O=c1[nH]cc(F)c(=O)[nH]1</td>\n",
       "    </tr>\n",
       "    <tr>\n",
       "      <th>2</th>\n",
       "      <td>86</td>\n",
       "      <td>Cc1[nH]nc2ccc(-c3cncc(OCC(N)Cc4c[nH]c5ccccc45)...</td>\n",
       "    </tr>\n",
       "    <tr>\n",
       "      <th>3</th>\n",
       "      <td>55</td>\n",
       "      <td>COc1cc(-c2nn(C3CCC(N4CCN(C(C)=O)CC4)CC3)c3ncnc...</td>\n",
       "    </tr>\n",
       "    <tr>\n",
       "      <th>4</th>\n",
       "      <td>1001</td>\n",
       "      <td>NC(=O)c1ncn(C2OC(COP(=O)(O)O)C(O)C2O)c1N</td>\n",
       "    </tr>\n",
       "  </tbody>\n",
       "</table>\n",
       "</div>"
      ],
      "text/plain": [
       "   drug_id                                             Smiles\n",
       "0     1242     COc1cc(O)c2c(c1)C=CCC(O)C(O)C(=O)C=CCC(C)OC2=O\n",
       "1      179                            O=c1[nH]cc(F)c(=O)[nH]1\n",
       "2       86  Cc1[nH]nc2ccc(-c3cncc(OCC(N)Cc4c[nH]c5ccccc45)...\n",
       "3       55  COc1cc(-c2nn(C3CCC(N4CCN(C(C)=O)CC4)CC3)c3ncnc...\n",
       "4     1001           NC(=O)c1ncn(C2OC(COP(=O)(O)O)C(O)C2O)c1N"
      ]
     },
     "execution_count": 6,
     "metadata": {},
     "output_type": "execute_result"
    }
   ],
   "source": [
    "pubchem_drugs_smiles_df.head()"
   ]
  },
  {
   "cell_type": "code",
   "execution_count": 7,
   "id": "d3b2a897-77be-420b-bd26-ab84d56a2ff3",
   "metadata": {},
   "outputs": [],
   "source": [
    "drugs_smiles_cell_lines_ic50_df = pd.merge(drugs_cell_lines_ic50_df, pubchem_drugs_smiles_df, \n",
    "                                             on = \"drug_id\")"
   ]
  },
  {
   "cell_type": "code",
   "execution_count": 8,
   "id": "c9c0eda5-75c5-45e4-b48b-7f90b38da4d8",
   "metadata": {},
   "outputs": [],
   "source": [
    "drugs_smiles_cell_lines_ic50_df = drugs_smiles_cell_lines_ic50_df[[\"drug_id\", \"Cancer_Cell_Line\", \"Smiles\", \"IC50\"]]"
   ]
  },
  {
   "cell_type": "code",
   "execution_count": 9,
   "id": "4255a229-bb41-4ffe-abef-e6d466e1c00b",
   "metadata": {},
   "outputs": [
    {
     "data": {
      "text/plain": [
       "drug_id               int64\n",
       "Cancer_Cell_Line     object\n",
       "Smiles               object\n",
       "IC50                float64\n",
       "dtype: object"
      ]
     },
     "execution_count": 9,
     "metadata": {},
     "output_type": "execute_result"
    }
   ],
   "source": [
    "drugs_smiles_cell_lines_ic50_df.dtypes"
   ]
  },
  {
   "cell_type": "code",
   "execution_count": 10,
   "id": "b8f12d16-3e37-4c9a-aabb-51e6ceb99a00",
   "metadata": {},
   "outputs": [],
   "source": [
    "drugs_smiles_cell_lines_ic50_df[\"drug_id\"] = drugs_smiles_cell_lines_ic50_df[\"drug_id\"].astype(object)"
   ]
  },
  {
   "cell_type": "code",
   "execution_count": 11,
   "id": "bd97c4b0-5e75-451b-a375-8aa19a27a460",
   "metadata": {},
   "outputs": [],
   "source": [
    "import pickle"
   ]
  },
  {
   "cell_type": "code",
   "execution_count": 12,
   "id": "1318885c-6fc2-4ee6-a74d-0a8337307777",
   "metadata": {},
   "outputs": [],
   "source": [
    "with open(\"..//data//drug_gcn_features.pickle\", \"rb\") as f:\n",
    "    dict_features = pickle.load(f)"
   ]
  },
  {
   "cell_type": "code",
   "execution_count": 13,
   "id": "46e0e644-213c-4bc6-8dde-78b3bd5638bb",
   "metadata": {},
   "outputs": [],
   "source": [
    "with open(\"..//data//drug_gcn_normalized_adj_mats.pickle\", \"rb\") as f:\n",
    "    dict_normalized_adj_mats = pickle.load(f)"
   ]
  },
  {
   "cell_type": "code",
   "execution_count": 14,
   "id": "bfadc255-519f-4d0f-83c5-49277a277209",
   "metadata": {},
   "outputs": [],
   "source": [
    "dualgcn_train = pd.read_csv(\"..//data//DualGCN_Embedding_train.csv\")"
   ]
  },
  {
   "cell_type": "code",
   "execution_count": 15,
   "id": "7e62a800-6f13-4a2f-965d-62d34061612d",
   "metadata": {},
   "outputs": [],
   "source": [
    "dualgcn_test = pd.read_csv(\"..//data//DualGCN_Embedding_test.csv\")"
   ]
  },
  {
   "cell_type": "code",
   "execution_count": 16,
   "id": "5bd3f846-d0c4-4c92-b2af-1836b2cdf13b",
   "metadata": {},
   "outputs": [],
   "source": [
    "pubchem_to_drugs_df = pd.read_csv('../data/GDSC/1.Drug_listMon Jun 24 09_00_55 2019.csv')"
   ]
  },
  {
   "cell_type": "code",
   "execution_count": 17,
   "id": "4c1cabed-895b-4a33-9478-9c414246d9d6",
   "metadata": {},
   "outputs": [],
   "source": [
    "pubchem_to_drugs_df = pubchem_to_drugs_df[[\"drug_id\", \"PubCHEM\"]]"
   ]
  },
  {
   "cell_type": "code",
   "execution_count": 18,
   "id": "06050248-be5d-4413-a9f6-afba9c6dc1da",
   "metadata": {},
   "outputs": [
    {
     "data": {
      "text/plain": [
       "drug_id     int64\n",
       "PubCHEM    object\n",
       "dtype: object"
      ]
     },
     "execution_count": 18,
     "metadata": {},
     "output_type": "execute_result"
    }
   ],
   "source": [
    "pubchem_to_drugs_df.dtypes"
   ]
  },
  {
   "cell_type": "code",
   "execution_count": 19,
   "id": "3c0bea4c-f12a-4b03-814b-cadf7cbee967",
   "metadata": {},
   "outputs": [],
   "source": [
    "import numpy as np"
   ]
  },
  {
   "cell_type": "code",
   "execution_count": 20,
   "id": "226a6b4e-ddb7-4f0a-8e24-25fe64de8992",
   "metadata": {},
   "outputs": [],
   "source": [
    "pubchem_to_drugs_df[\"PubCHEM\"] = [val if str(val).isdigit() else np.nan for val in pubchem_to_drugs_df[\"PubCHEM\"] ]"
   ]
  },
  {
   "cell_type": "code",
   "execution_count": 21,
   "id": "49920b0c-24e4-4900-b65c-238b7918cb9f",
   "metadata": {},
   "outputs": [],
   "source": [
    "pubchem_to_drugs_df = pubchem_to_drugs_df.dropna()"
   ]
  },
  {
   "cell_type": "code",
   "execution_count": 22,
   "id": "7691b28b-0ae2-4ed4-8e16-54ff384b9dee",
   "metadata": {},
   "outputs": [
    {
     "data": {
      "text/plain": [
       "drug_id     int64\n",
       "PubCHEM    object\n",
       "dtype: object"
      ]
     },
     "execution_count": 22,
     "metadata": {},
     "output_type": "execute_result"
    }
   ],
   "source": [
    "pubchem_to_drugs_df.dtypes"
   ]
  },
  {
   "cell_type": "code",
   "execution_count": 23,
   "id": "6462ade0-cd2d-491d-be8a-aa0e7ddd3863",
   "metadata": {},
   "outputs": [],
   "source": [
    "pubchem_to_drugs_df[\"drug_id\"] = pubchem_to_drugs_df[\"drug_id\"].astype(str)"
   ]
  },
  {
   "cell_type": "code",
   "execution_count": 24,
   "id": "9f4ef849-3457-4de8-b907-efb27592420a",
   "metadata": {},
   "outputs": [],
   "source": [
    "# pubchem_to_drugs_df[\"drug_id\"].values[0]"
   ]
  },
  {
   "cell_type": "code",
   "execution_count": 25,
   "id": "94952b6c-ecea-4ae2-912d-7e5e5f354eed",
   "metadata": {},
   "outputs": [],
   "source": [
    "# '1001' in pubchem_to_drugs_df[\"drug_id\"].values"
   ]
  },
  {
   "cell_type": "code",
   "execution_count": 26,
   "id": "5b3c2533-d329-48f1-bae8-c3eba2e1cea8",
   "metadata": {},
   "outputs": [],
   "source": [
    "with open(\"..//data//drug_gcn_normalized_adj_mats.pickle\", \"rb\") as f:\n",
    "    dict_normalized_adj_mats = pickle.load(f)"
   ]
  },
  {
   "cell_type": "code",
   "execution_count": 27,
   "id": "11f133e4-70a2-4fae-8066-2d1d77de5fe8",
   "metadata": {},
   "outputs": [],
   "source": [
    "from sklearn.model_selection import train_test_split"
   ]
  },
  {
   "cell_type": "code",
   "execution_count": 28,
   "id": "3286fd91-f6df-49fc-8d72-5e493f31d0ae",
   "metadata": {},
   "outputs": [
    {
     "name": "stderr",
     "output_type": "stream",
     "text": [
      "/tmp/ipykernel_2609571/747247744.py:1: FutureWarning: In a future version of pandas all arguments of DataFrame.drop except for the argument 'labels' will be keyword-only.\n",
      "  x_train, x_valid, y_train, y_valid = train_test_split(drugs_smiles_cell_lines_ic50_df.drop([\"IC50\"],1), drugs_smiles_cell_lines_ic50_df[\"IC50\"].values,\n"
     ]
    }
   ],
   "source": [
    "x_train, x_valid, y_train, y_valid = train_test_split(drugs_smiles_cell_lines_ic50_df.drop([\"IC50\"],1), drugs_smiles_cell_lines_ic50_df[\"IC50\"].values, \n",
    "                                                     test_size = 0.20, random_state = 42)"
   ]
  },
  {
   "cell_type": "code",
   "execution_count": 29,
   "id": "1b1ddb77-6e32-4225-96ba-cce23480ab1b",
   "metadata": {},
   "outputs": [],
   "source": [
    "dualgcn_train[\"Drug_ID\"] = dualgcn_train[\"Drug_ID\"].astype(str)"
   ]
  },
  {
   "cell_type": "code",
   "execution_count": 30,
   "id": "5d534def-d5c7-4b2c-a3ee-f4c5c43650c2",
   "metadata": {},
   "outputs": [],
   "source": [
    "dualgcn_test[\"Drug_ID\"] = dualgcn_test[\"Drug_ID\"].astype(str)"
   ]
  },
  {
   "cell_type": "code",
   "execution_count": 31,
   "id": "5a7161ee-e146-4c38-a8b8-66369327384f",
   "metadata": {},
   "outputs": [
    {
     "data": {
      "text/plain": [
       "drug_id    object\n",
       "PubCHEM    object\n",
       "dtype: object"
      ]
     },
     "execution_count": 31,
     "metadata": {},
     "output_type": "execute_result"
    }
   ],
   "source": [
    "pubchem_to_drugs_df.dtypes"
   ]
  },
  {
   "cell_type": "code",
   "execution_count": 32,
   "id": "26536155-5c48-4960-bff8-21c5ec06bab2",
   "metadata": {},
   "outputs": [],
   "source": [
    "dualgcn_train = pubchem_to_drugs_df.merge(dualgcn_train, left_on = [\"PubCHEM\"], right_on = [\"Drug_ID\"])"
   ]
  },
  {
   "cell_type": "code",
   "execution_count": 33,
   "id": "2bc82e0e-8eff-4ca1-bf75-b7a7a9b129e0",
   "metadata": {},
   "outputs": [],
   "source": [
    "dualgcn_train = dualgcn_train[['Cell_Line', 'drug_id']]"
   ]
  },
  {
   "cell_type": "code",
   "execution_count": 34,
   "id": "eae9ef05-6e1c-4aaa-bf6b-940d92f46ffb",
   "metadata": {},
   "outputs": [],
   "source": [
    "dualgcn_test = pubchem_to_drugs_df.merge(dualgcn_test, left_on = [\"PubCHEM\"], right_on = [\"Drug_ID\"])"
   ]
  },
  {
   "cell_type": "code",
   "execution_count": 35,
   "id": "f30684d3-1a27-4d66-8fc4-f84310a30d70",
   "metadata": {},
   "outputs": [],
   "source": [
    "dualgcn_test = dualgcn_test[['Cell_Line', 'drug_id']]"
   ]
  },
  {
   "cell_type": "code",
   "execution_count": 36,
   "id": "4402d433-aefc-436a-aee5-b63a41c341aa",
   "metadata": {},
   "outputs": [
    {
     "data": {
      "text/html": [
       "<div>\n",
       "<style scoped>\n",
       "    .dataframe tbody tr th:only-of-type {\n",
       "        vertical-align: middle;\n",
       "    }\n",
       "\n",
       "    .dataframe tbody tr th {\n",
       "        vertical-align: top;\n",
       "    }\n",
       "\n",
       "    .dataframe thead th {\n",
       "        text-align: right;\n",
       "    }\n",
       "</style>\n",
       "<table border=\"1\" class=\"dataframe\">\n",
       "  <thead>\n",
       "    <tr style=\"text-align: right;\">\n",
       "      <th></th>\n",
       "      <th>Cell_Line</th>\n",
       "      <th>drug_id</th>\n",
       "    </tr>\n",
       "  </thead>\n",
       "  <tbody>\n",
       "    <tr>\n",
       "      <th>0</th>\n",
       "      <td>ACH-000070</td>\n",
       "      <td>1242</td>\n",
       "    </tr>\n",
       "    <tr>\n",
       "      <th>1</th>\n",
       "      <td>ACH-000105</td>\n",
       "      <td>1242</td>\n",
       "    </tr>\n",
       "    <tr>\n",
       "      <th>2</th>\n",
       "      <td>ACH-000981</td>\n",
       "      <td>1242</td>\n",
       "    </tr>\n",
       "    <tr>\n",
       "      <th>3</th>\n",
       "      <td>ACH-000061</td>\n",
       "      <td>1242</td>\n",
       "    </tr>\n",
       "    <tr>\n",
       "      <th>4</th>\n",
       "      <td>ACH-000995</td>\n",
       "      <td>1242</td>\n",
       "    </tr>\n",
       "  </tbody>\n",
       "</table>\n",
       "</div>"
      ],
      "text/plain": [
       "    Cell_Line drug_id\n",
       "0  ACH-000070    1242\n",
       "1  ACH-000105    1242\n",
       "2  ACH-000981    1242\n",
       "3  ACH-000061    1242\n",
       "4  ACH-000995    1242"
      ]
     },
     "execution_count": 36,
     "metadata": {},
     "output_type": "execute_result"
    }
   ],
   "source": [
    "dualgcn_train.head()"
   ]
  },
  {
   "cell_type": "code",
   "execution_count": 37,
   "id": "f0542289-770e-4e4b-b664-92e4bc29cfc0",
   "metadata": {},
   "outputs": [
    {
     "data": {
      "text/plain": [
       "Cell_Line    object\n",
       "drug_id      object\n",
       "dtype: object"
      ]
     },
     "execution_count": 37,
     "metadata": {},
     "output_type": "execute_result"
    }
   ],
   "source": [
    "dualgcn_train.dtypes"
   ]
  },
  {
   "cell_type": "code",
   "execution_count": 38,
   "id": "c2322204-c032-4c64-a2f7-319e233717b4",
   "metadata": {},
   "outputs": [],
   "source": [
    "# x_train["
   ]
  },
  {
   "cell_type": "code",
   "execution_count": 39,
   "id": "1c63ae0c-24be-4d2e-91d5-6e2616980c51",
   "metadata": {},
   "outputs": [
    {
     "data": {
      "text/plain": [
       "drug_id             object\n",
       "Cancer_Cell_Line    object\n",
       "Smiles              object\n",
       "dtype: object"
      ]
     },
     "execution_count": 39,
     "metadata": {},
     "output_type": "execute_result"
    }
   ],
   "source": [
    "x_train.dtypes"
   ]
  },
  {
   "cell_type": "code",
   "execution_count": 40,
   "id": "ab53e997-9aa3-46ae-b3fe-f30549c35fdb",
   "metadata": {},
   "outputs": [],
   "source": [
    "# dualgcn_train"
   ]
  },
  {
   "cell_type": "code",
   "execution_count": 41,
   "id": "6cddda70-6c3e-4e5f-a2f7-882194bb43d1",
   "metadata": {},
   "outputs": [],
   "source": [
    "# x_train['drug_id'].values[0]"
   ]
  },
  {
   "cell_type": "code",
   "execution_count": 42,
   "id": "76078299-ae77-4b6b-99bf-c8d04c0d8d89",
   "metadata": {},
   "outputs": [],
   "source": [
    "x_train['drug_id'] = x_train['drug_id'].astype(str)"
   ]
  },
  {
   "cell_type": "code",
   "execution_count": 43,
   "id": "5c693879-9d22-426a-973c-10f2428782e8",
   "metadata": {},
   "outputs": [],
   "source": [
    "x_valid['drug_id'] = x_valid['drug_id'].astype(str)"
   ]
  },
  {
   "cell_type": "code",
   "execution_count": 44,
   "id": "bc17185f-ea74-4d95-8e77-549522dc6d9d",
   "metadata": {},
   "outputs": [],
   "source": [
    "x_train_valid_feats = pd.concat([x_train, x_valid], ignore_index = True)"
   ]
  },
  {
   "cell_type": "code",
   "execution_count": 45,
   "id": "3dd68714-74df-4643-9b6a-554e0db5884e",
   "metadata": {},
   "outputs": [],
   "source": [
    "y_train_valid = pd.concat([pd.DataFrame(y_train.reshape(-1,1)), pd.DataFrame(y_valid.reshape(-1,1))], ignore_index = True)"
   ]
  },
  {
   "cell_type": "code",
   "execution_count": 46,
   "id": "e5bdf3b9-9644-4f7a-a2d3-825b184a4671",
   "metadata": {},
   "outputs": [
    {
     "name": "stderr",
     "output_type": "stream",
     "text": [
      "/tmp/ipykernel_2609571/1008667345.py:1: FutureWarning: In a future version of pandas all arguments of concat except for the argument 'objs' will be keyword-only.\n",
      "  combo_train_valid = pd.concat([x_train_valid_feats, y_train_valid], 1)\n"
     ]
    }
   ],
   "source": [
    "combo_train_valid = pd.concat([x_train_valid_feats, y_train_valid], 1)"
   ]
  },
  {
   "cell_type": "code",
   "execution_count": 47,
   "id": "cd487c80-f100-47d8-91b4-704bc01aa318",
   "metadata": {},
   "outputs": [
    {
     "data": {
      "text/html": [
       "<div>\n",
       "<style scoped>\n",
       "    .dataframe tbody tr th:only-of-type {\n",
       "        vertical-align: middle;\n",
       "    }\n",
       "\n",
       "    .dataframe tbody tr th {\n",
       "        vertical-align: top;\n",
       "    }\n",
       "\n",
       "    .dataframe thead th {\n",
       "        text-align: right;\n",
       "    }\n",
       "</style>\n",
       "<table border=\"1\" class=\"dataframe\">\n",
       "  <thead>\n",
       "    <tr style=\"text-align: right;\">\n",
       "      <th></th>\n",
       "      <th>drug_id</th>\n",
       "      <th>Cancer_Cell_Line</th>\n",
       "      <th>Smiles</th>\n",
       "      <th>0</th>\n",
       "    </tr>\n",
       "  </thead>\n",
       "  <tbody>\n",
       "    <tr>\n",
       "      <th>0</th>\n",
       "      <td>1059</td>\n",
       "      <td>ACH-001368</td>\n",
       "      <td>COc1ccc(-c2ccc3c(N4CCOCC4C)nc(N4CCOCC4C)nc3n2)...</td>\n",
       "      <td>1.086644</td>\n",
       "    </tr>\n",
       "    <tr>\n",
       "      <th>1</th>\n",
       "      <td>255</td>\n",
       "      <td>ACH-000142</td>\n",
       "      <td>COCC(=O)NCC=Cc1ccc2ncnc(Nc3ccc(Oc4ccc(C)nc4)c(...</td>\n",
       "      <td>4.227800</td>\n",
       "    </tr>\n",
       "    <tr>\n",
       "      <th>2</th>\n",
       "      <td>178</td>\n",
       "      <td>ACH-000218</td>\n",
       "      <td>COc1ccc(-c2cc3nccn3c(Nc3ncccc3C(N)=O)n2)cc1OC</td>\n",
       "      <td>0.067505</td>\n",
       "    </tr>\n",
       "    <tr>\n",
       "      <th>3</th>\n",
       "      <td>152</td>\n",
       "      <td>ACH-002155</td>\n",
       "      <td>COc1cc2ncnc(-n3nc(-c4ccccn4)nc3N)c2cc1OC</td>\n",
       "      <td>4.894550</td>\n",
       "    </tr>\n",
       "    <tr>\n",
       "      <th>4</th>\n",
       "      <td>1243</td>\n",
       "      <td>ACH-000277</td>\n",
       "      <td>COc1cc(C=CC(=O)N2CCC=CC2=O)cc(OC)c1OC</td>\n",
       "      <td>4.572953</td>\n",
       "    </tr>\n",
       "  </tbody>\n",
       "</table>\n",
       "</div>"
      ],
      "text/plain": [
       "  drug_id Cancer_Cell_Line                                             Smiles  \\\n",
       "0    1059       ACH-001368  COc1ccc(-c2ccc3c(N4CCOCC4C)nc(N4CCOCC4C)nc3n2)...   \n",
       "1     255       ACH-000142  COCC(=O)NCC=Cc1ccc2ncnc(Nc3ccc(Oc4ccc(C)nc4)c(...   \n",
       "2     178       ACH-000218      COc1ccc(-c2cc3nccn3c(Nc3ncccc3C(N)=O)n2)cc1OC   \n",
       "3     152       ACH-002155           COc1cc2ncnc(-n3nc(-c4ccccn4)nc3N)c2cc1OC   \n",
       "4    1243       ACH-000277              COc1cc(C=CC(=O)N2CCC=CC2=O)cc(OC)c1OC   \n",
       "\n",
       "          0  \n",
       "0  1.086644  \n",
       "1  4.227800  \n",
       "2  0.067505  \n",
       "3  4.894550  \n",
       "4  4.572953  "
      ]
     },
     "execution_count": 47,
     "metadata": {},
     "output_type": "execute_result"
    }
   ],
   "source": [
    "combo_train_valid.head()"
   ]
  },
  {
   "cell_type": "code",
   "execution_count": 48,
   "id": "b9de540d-bb4c-48e1-bcbe-b07df1a2c7f7",
   "metadata": {},
   "outputs": [],
   "source": [
    "combo_train_valid.columns = ['drug_id', 'Cancer_Cell_Line', 'Smiles', 'IC50']"
   ]
  },
  {
   "cell_type": "code",
   "execution_count": 49,
   "id": "6ad83127-f200-4ea3-8405-e3ec9e599ec1",
   "metadata": {},
   "outputs": [],
   "source": [
    "# filter x_train x _valid here\n",
    "x_y_train = combo_train_valid.merge(dualgcn_train, left_on = ['Cancer_Cell_Line','drug_id'], right_on = [ 'Cell_Line','drug_id'])"
   ]
  },
  {
   "cell_type": "code",
   "execution_count": 50,
   "id": "3ff87221-d69e-4ac0-b81c-408c18e6f3eb",
   "metadata": {},
   "outputs": [],
   "source": [
    "x_y_test = combo_train_valid.merge(dualgcn_test, left_on = ['Cancer_Cell_Line','drug_id'], right_on = [ 'Cell_Line','drug_id'])"
   ]
  },
  {
   "cell_type": "code",
   "execution_count": 51,
   "id": "9d286265-bbd6-4410-bcf7-3326e2bcfb6b",
   "metadata": {},
   "outputs": [
    {
     "data": {
      "text/plain": [
       "(17316, 5)"
      ]
     },
     "execution_count": 51,
     "metadata": {},
     "output_type": "execute_result"
    }
   ],
   "source": [
    "x_y_test.shape"
   ]
  },
  {
   "cell_type": "code",
   "execution_count": 52,
   "id": "6ca8133d-93bf-4598-a809-106415ce65f1",
   "metadata": {},
   "outputs": [
    {
     "data": {
      "text/plain": [
       "drug_id             object\n",
       "Cancer_Cell_Line    object\n",
       "Smiles              object\n",
       "dtype: object"
      ]
     },
     "execution_count": 52,
     "metadata": {},
     "output_type": "execute_result"
    }
   ],
   "source": [
    "x_train.dtypes"
   ]
  },
  {
   "cell_type": "code",
   "execution_count": 53,
   "id": "2e379fb0-8a4c-4481-801c-22ad21dca5ab",
   "metadata": {},
   "outputs": [],
   "source": [
    "# x_y_test"
   ]
  },
  {
   "cell_type": "code",
   "execution_count": 54,
   "id": "d526502f-cd0c-45f1-b1ac-21062fdb1ab6",
   "metadata": {},
   "outputs": [
    {
     "name": "stderr",
     "output_type": "stream",
     "text": [
      "/tmp/ipykernel_2609571/1750859165.py:1: FutureWarning: In a future version of pandas all arguments of DataFrame.drop except for the argument 'labels' will be keyword-only.\n",
      "  x_train, x_valid, y_train, y_valid = x_y_train.drop([\"IC50\", 'Cell_Line'],1), x_y_test.drop([\"IC50\", 'Cell_Line'], 1), x_y_train[\"IC50\"].values, x_y_test[\"IC50\"].values\n",
      "/tmp/ipykernel_2609571/1750859165.py:1: FutureWarning: In a future version of pandas all arguments of DataFrame.drop except for the argument 'labels' will be keyword-only.\n",
      "  x_train, x_valid, y_train, y_valid = x_y_train.drop([\"IC50\", 'Cell_Line'],1), x_y_test.drop([\"IC50\", 'Cell_Line'], 1), x_y_train[\"IC50\"].values, x_y_test[\"IC50\"].values\n"
     ]
    }
   ],
   "source": [
    "x_train, x_valid, y_train, y_valid = x_y_train.drop([\"IC50\", 'Cell_Line'],1), x_y_test.drop([\"IC50\", 'Cell_Line'], 1), x_y_train[\"IC50\"].values, x_y_test[\"IC50\"].values"
   ]
  },
  {
   "cell_type": "code",
   "execution_count": 55,
   "id": "2a23b681-34c0-4140-87d1-1ecc4af2fcc7",
   "metadata": {},
   "outputs": [
    {
     "data": {
      "text/plain": [
       "(69214, 3)"
      ]
     },
     "execution_count": 55,
     "metadata": {},
     "output_type": "execute_result"
    }
   ],
   "source": [
    "x_train.shape"
   ]
  },
  {
   "cell_type": "code",
   "execution_count": 56,
   "id": "7485d8d6-6c7e-42ba-89e2-39d5bad5bd16",
   "metadata": {},
   "outputs": [
    {
     "data": {
      "text/html": [
       "<div>\n",
       "<style scoped>\n",
       "    .dataframe tbody tr th:only-of-type {\n",
       "        vertical-align: middle;\n",
       "    }\n",
       "\n",
       "    .dataframe tbody tr th {\n",
       "        vertical-align: top;\n",
       "    }\n",
       "\n",
       "    .dataframe thead th {\n",
       "        text-align: right;\n",
       "    }\n",
       "</style>\n",
       "<table border=\"1\" class=\"dataframe\">\n",
       "  <thead>\n",
       "    <tr style=\"text-align: right;\">\n",
       "      <th></th>\n",
       "      <th>drug_id</th>\n",
       "      <th>Cancer_Cell_Line</th>\n",
       "      <th>Smiles</th>\n",
       "    </tr>\n",
       "  </thead>\n",
       "  <tbody>\n",
       "    <tr>\n",
       "      <th>0</th>\n",
       "      <td>255</td>\n",
       "      <td>ACH-000142</td>\n",
       "      <td>COCC(=O)NCC=Cc1ccc2ncnc(Nc3ccc(Oc4ccc(C)nc4)c(...</td>\n",
       "    </tr>\n",
       "    <tr>\n",
       "      <th>1</th>\n",
       "      <td>178</td>\n",
       "      <td>ACH-000218</td>\n",
       "      <td>COc1ccc(-c2cc3nccn3c(Nc3ncccc3C(N)=O)n2)cc1OC</td>\n",
       "    </tr>\n",
       "    <tr>\n",
       "      <th>2</th>\n",
       "      <td>1230</td>\n",
       "      <td>ACH-000090</td>\n",
       "      <td>O=C(O)CNC(=O)c1c(O)c2ccccc2n(Cc2ccccc2)c1=O</td>\n",
       "    </tr>\n",
       "    <tr>\n",
       "      <th>3</th>\n",
       "      <td>167</td>\n",
       "      <td>ACH-000348</td>\n",
       "      <td>NCC(=O)Nc1ccc(-n2nc(C(F)(F)F)cc2-c2ccc3c(ccc4c...</td>\n",
       "    </tr>\n",
       "    <tr>\n",
       "      <th>4</th>\n",
       "      <td>1372</td>\n",
       "      <td>ACH-000914</td>\n",
       "      <td>CC(=O)Nc1cccc(-n2c(=O)n(C3CC3)c(=O)c3c(Nc4ccc(...</td>\n",
       "    </tr>\n",
       "  </tbody>\n",
       "</table>\n",
       "</div>"
      ],
      "text/plain": [
       "  drug_id Cancer_Cell_Line                                             Smiles\n",
       "0     255       ACH-000142  COCC(=O)NCC=Cc1ccc2ncnc(Nc3ccc(Oc4ccc(C)nc4)c(...\n",
       "1     178       ACH-000218      COc1ccc(-c2cc3nccn3c(Nc3ncccc3C(N)=O)n2)cc1OC\n",
       "2    1230       ACH-000090        O=C(O)CNC(=O)c1c(O)c2ccccc2n(Cc2ccccc2)c1=O\n",
       "3     167       ACH-000348  NCC(=O)Nc1ccc(-n2nc(C(F)(F)F)cc2-c2ccc3c(ccc4c...\n",
       "4    1372       ACH-000914  CC(=O)Nc1cccc(-n2c(=O)n(C3CC3)c(=O)c3c(Nc4ccc(..."
      ]
     },
     "execution_count": 56,
     "metadata": {},
     "output_type": "execute_result"
    }
   ],
   "source": [
    "x_train.head()"
   ]
  },
  {
   "cell_type": "code",
   "execution_count": 57,
   "id": "95752f83-ac4a-4dd0-8b53-ea3f821ddf64",
   "metadata": {},
   "outputs": [],
   "source": [
    "# set(pubchem_to_drugs_df['PubCHEM'].values).intersection(dualgcn_train['Drug_ID'].values)"
   ]
  },
  {
   "cell_type": "code",
   "execution_count": 58,
   "id": "bd537031-56d1-490f-91e4-baae76106da5",
   "metadata": {},
   "outputs": [],
   "source": [
    "# dualgcn_train['Drug_ID'].values"
   ]
  },
  {
   "cell_type": "code",
   "execution_count": 59,
   "id": "33b7b7f0-651b-4332-ac61-f2b3fb3f0347",
   "metadata": {},
   "outputs": [],
   "source": [
    "# drugs_pubchem = pubchem_to_drugs_df.merge(dualgcn_train['Drug_ID'], left_on = [\"PubCHEM\"], right_on = [\"Drug_ID\"])[\"Drug_ID\"].values"
   ]
  },
  {
   "cell_type": "code",
   "execution_count": 60,
   "id": "956ce2cc-d3ca-41e2-89be-2c46873edd33",
   "metadata": {},
   "outputs": [],
   "source": [
    "# to_keep_train = pubchem_to_drugs_df.merge(dualgcn_train['Drug_ID'], left_on = [\"PubCHEM\"], right_on = [\"Drug_ID\"])[\"Drug_ID\"].values"
   ]
  },
  {
   "cell_type": "code",
   "execution_count": 61,
   "id": "32d5c0c2-7424-4c93-81fe-a5fd9b2d359f",
   "metadata": {},
   "outputs": [],
   "source": [
    "# train_gcn_feats[0]"
   ]
  },
  {
   "cell_type": "code",
   "execution_count": 62,
   "id": "41397b63-de61-4a3e-8cdf-6c930dc9e43c",
   "metadata": {},
   "outputs": [],
   "source": [
    "# dict_features"
   ]
  },
  {
   "cell_type": "code",
   "execution_count": 63,
   "id": "d8e8a19c-3fc2-4c28-8a5c-5d44890baff8",
   "metadata": {},
   "outputs": [],
   "source": [
    "train_gcn_feats = []\n",
    "train_adj_list = []\n",
    "for drug_id in x_train[\"drug_id\"].values:\n",
    "    train_gcn_feats.append(dict_features[drug_id])\n",
    "    train_adj_list.append(dict_normalized_adj_mats[drug_id])"
   ]
  },
  {
   "cell_type": "code",
   "execution_count": 64,
   "id": "f18af922-6ad2-4ec9-8a06-e21dfec89e16",
   "metadata": {},
   "outputs": [],
   "source": [
    "valid_gcn_feats = []\n",
    "valid_adj_list = []\n",
    "for drug_id in x_valid[\"drug_id\"].values:\n",
    "    valid_gcn_feats.append(dict_features[drug_id])\n",
    "    valid_adj_list.append(dict_normalized_adj_mats[drug_id])"
   ]
  },
  {
   "cell_type": "code",
   "execution_count": 65,
   "id": "9bed1e37-8576-42df-bc9d-4490bf6777c8",
   "metadata": {},
   "outputs": [],
   "source": [
    "import numpy as np"
   ]
  },
  {
   "cell_type": "code",
   "execution_count": 66,
   "id": "8727a949-fe53-4c23-a8f1-495b0575cfe7",
   "metadata": {},
   "outputs": [],
   "source": [
    "train_gcn_feats = np.array(train_gcn_feats).astype(\"float32\")\n",
    "valid_gcn_feats = np.array(valid_gcn_feats).astype(\"float32\")"
   ]
  },
  {
   "cell_type": "code",
   "execution_count": 67,
   "id": "de082df9-c334-41bd-a423-9791ef6596a4",
   "metadata": {},
   "outputs": [
    {
     "data": {
      "text/plain": [
       "(17316, 100, 75)"
      ]
     },
     "execution_count": 67,
     "metadata": {},
     "output_type": "execute_result"
    }
   ],
   "source": [
    "valid_gcn_feats.shape"
   ]
  },
  {
   "cell_type": "code",
   "execution_count": 68,
   "id": "2051e9cb-d041-4112-8155-cac3b6ef6684",
   "metadata": {},
   "outputs": [],
   "source": [
    "train_adj_list = np.array(train_adj_list).astype(\"float32\")\n",
    "valid_adj_list = np.array(valid_adj_list).astype(\"float32\")"
   ]
  },
  {
   "cell_type": "code",
   "execution_count": 69,
   "id": "8d454e40-a06a-46f9-a178-88e74173ee5d",
   "metadata": {},
   "outputs": [
    {
     "data": {
      "text/plain": [
       "(69214, 100, 100)"
      ]
     },
     "execution_count": 69,
     "metadata": {},
     "output_type": "execute_result"
    }
   ],
   "source": [
    "train_adj_list.shape"
   ]
  },
  {
   "cell_type": "code",
   "execution_count": 70,
   "id": "caac5fc1-2924-4fe1-aeef-bf741cfbba0e",
   "metadata": {},
   "outputs": [],
   "source": [
    "# valid_adj_list[0,:, :]@valid_gcn_feats[0,:, :]"
   ]
  },
  {
   "cell_type": "code",
   "execution_count": 71,
   "id": "6f7ceb2f-4f65-4498-9ddd-4b44fc16c2da",
   "metadata": {},
   "outputs": [],
   "source": [
    "# dict_features[drug_id]"
   ]
  },
  {
   "cell_type": "code",
   "execution_count": 72,
   "id": "755176a9-f00d-471a-bdd0-31b44c14b885",
   "metadata": {},
   "outputs": [],
   "source": [
    "# train_gcn_feats.shape"
   ]
  },
  {
   "cell_type": "code",
   "execution_count": 73,
   "id": "9f5a2cad-2b71-4054-9c0d-5972a333ba07",
   "metadata": {},
   "outputs": [],
   "source": [
    "# def gcn_feature_model(dataset): \n",
    "    "
   ]
  },
  {
   "cell_type": "code",
   "execution_count": 74,
   "id": "94440810-f34c-4d24-ba0a-e2fb428a71b2",
   "metadata": {},
   "outputs": [],
   "source": [
    "# dense_layer_gcn = tf.keras.layers.Dense(1)"
   ]
  },
  {
   "cell_type": "code",
   "execution_count": 75,
   "id": "ba635fa1-185a-4110-a21e-43a8fcf39df1",
   "metadata": {},
   "outputs": [],
   "source": [
    "# dense_out = dense_layer_gcn(valid_gcn_feats)"
   ]
  },
  {
   "cell_type": "code",
   "execution_count": 76,
   "id": "d41d7ba3-19f6-4155-b70f-0f2d04a3953e",
   "metadata": {},
   "outputs": [],
   "source": [
    "# dense_out = tf.keras.layers.Flatten()(dense_out)"
   ]
  },
  {
   "cell_type": "code",
   "execution_count": 77,
   "id": "c07517ab-3666-459c-88b5-555067fb9372",
   "metadata": {},
   "outputs": [],
   "source": [
    "# weights = tf.keras.layers.Softmax()(dense_out)"
   ]
  },
  {
   "cell_type": "code",
   "execution_count": 78,
   "id": "73a2f691-40a6-4f04-8897-3662b8de01e0",
   "metadata": {},
   "outputs": [],
   "source": [
    "# weights = tf.keras.layers.Reshape((100, 1))(weights)"
   ]
  },
  {
   "cell_type": "code",
   "execution_count": 79,
   "id": "3c76d891-b177-471a-9463-3b9b089c5ffd",
   "metadata": {},
   "outputs": [],
   "source": [
    "# valid_gcn_feats"
   ]
  },
  {
   "cell_type": "code",
   "execution_count": 80,
   "id": "1a13c531-7e3d-407f-a5dd-e41d5097eb5e",
   "metadata": {},
   "outputs": [],
   "source": [
    "# multiply_out = tf.keras.layers.Multiply()([valid_gcn_feats, weights])"
   ]
  },
  {
   "cell_type": "code",
   "execution_count": 81,
   "id": "8c79f770-c75a-48b9-ba02-ebc21ec72dba",
   "metadata": {},
   "outputs": [],
   "source": [
    "# sum_lambda = tf.keras.layers.Lambda(lambda x: tf.math.reduce_sum(x, axis=1))"
   ]
  },
  {
   "cell_type": "code",
   "execution_count": 82,
   "id": "6d0b07b6-9d0b-4459-8b6b-0a27f5b3626c",
   "metadata": {},
   "outputs": [],
   "source": [
    "# sum_lambda(multiply_out)"
   ]
  },
  {
   "cell_type": "code",
   "execution_count": 83,
   "id": "d0935f4a-b7ba-46f8-baa6-1e5960a1b495",
   "metadata": {},
   "outputs": [],
   "source": [
    "# weights"
   ]
  },
  {
   "cell_type": "code",
   "execution_count": 84,
   "id": "e62b5bde-3aa0-48eb-9f6b-82177582880c",
   "metadata": {},
   "outputs": [],
   "source": [
    "# train_num_atoms = np.array(train_num_atoms).reshape(-1,1)\n",
    "# valid_num_atoms = np.array(valid_num_atoms).reshape(-1,1)"
   ]
  },
  {
   "cell_type": "code",
   "execution_count": 85,
   "id": "8e0b43bf-a308-4df0-8853-1ab0162129e5",
   "metadata": {},
   "outputs": [],
   "source": [
    "# train_num_atoms.shape"
   ]
  },
  {
   "cell_type": "code",
   "execution_count": 86,
   "id": "b57c86db-c67b-4492-b945-9ee5ef7633be",
   "metadata": {},
   "outputs": [
    {
     "name": "stdout",
     "output_type": "stream",
     "text": [
      "WARNING:tensorflow:No training configuration found in save file, so the model was *not* compiled. Compile it manually.\n"
     ]
    },
    {
     "name": "stderr",
     "output_type": "stream",
     "text": [
      "2023-07-29 21:33:10.423085: I tensorflow/core/platform/cpu_feature_guard.cc:193] This TensorFlow binary is optimized with oneAPI Deep Neural Network Library (oneDNN) to use the following CPU instructions in performance-critical operations:  SSE4.1 SSE4.2 AVX AVX2 AVX512F AVX512_VNNI FMA\n",
      "To enable them in other operations, rebuild TensorFlow with the appropriate compiler flags.\n",
      "2023-07-29 21:33:10.975315: I tensorflow/core/common_runtime/gpu/gpu_device.cc:1532] Created device /job:localhost/replica:0/task:0/device:GPU:0 with 30952 MB memory:  -> device: 0, name: Tesla V100S-PCIE-32GB, pci bus id: 0000:86:00.0, compute capability: 7.0\n",
      "WARNING:tensorflow:No training configuration found in save file, so the model was *not* compiled. Compile it manually.\n"
     ]
    },
    {
     "name": "stdout",
     "output_type": "stream",
     "text": [
      "WARNING:tensorflow:No training configuration found in save file, so the model was *not* compiled. Compile it manually.\n"
     ]
    },
    {
     "name": "stderr",
     "output_type": "stream",
     "text": [
      "WARNING:tensorflow:No training configuration found in save file, so the model was *not* compiled. Compile it manually.\n"
     ]
    },
    {
     "name": "stdout",
     "output_type": "stream",
     "text": [
      "WARNING:tensorflow:No training configuration found in save file, so the model was *not* compiled. Compile it manually.\n"
     ]
    },
    {
     "name": "stderr",
     "output_type": "stream",
     "text": [
      "WARNING:tensorflow:No training configuration found in save file, so the model was *not* compiled. Compile it manually.\n"
     ]
    },
    {
     "name": "stdout",
     "output_type": "stream",
     "text": [
      "WARNING:tensorflow:No training configuration found in save file, so the model was *not* compiled. Compile it manually.\n"
     ]
    },
    {
     "name": "stderr",
     "output_type": "stream",
     "text": [
      "WARNING:tensorflow:No training configuration found in save file, so the model was *not* compiled. Compile it manually.\n"
     ]
    }
   ],
   "source": [
    "# load models\n",
    "# omic models\n",
    "cancer_copy_number_model = tf.keras.models.load_model(\"..//Models//cancer_copy_number_model_no_norm_common\")\n",
    "cancer_cell_gen_expr_model = tf.keras.models.load_model(\"..//Models//cancer_cell_gen_expr_model_no_norm_common\")\n",
    "cancer_cell_gen_methy_model = tf.keras.models.load_model(\"..//Models//cancer_cell_gen_methy_model_no_norm\")\n",
    "cancer_cell_gen_mut_model = tf.keras.models.load_model(\"..//Models//cancer_cell_gen_mut_model_no_norm\")"
   ]
  },
  {
   "cell_type": "code",
   "execution_count": 87,
   "id": "4c1533dd-2e0e-424f-be0d-24f06b51453b",
   "metadata": {},
   "outputs": [
    {
     "name": "stdout",
     "output_type": "stream",
     "text": [
      "WARNING:tensorflow:No training configuration found in save file, so the model was *not* compiled. Compile it manually.\n"
     ]
    },
    {
     "name": "stderr",
     "output_type": "stream",
     "text": [
      "WARNING:tensorflow:No training configuration found in save file, so the model was *not* compiled. Compile it manually.\n"
     ]
    }
   ],
   "source": [
    "# load models\n",
    "# drug models\n",
    "pubchem_drugs_rdkit_model = tf.keras.models.load_model(\"..//Models//pubchem_drugs_rdkit_model_no_norm\")"
   ]
  },
  {
   "cell_type": "code",
   "execution_count": 88,
   "id": "77362536-513b-46f8-9ac9-e6a4b4da514a",
   "metadata": {},
   "outputs": [],
   "source": [
    "from sklearn.preprocessing import StandardScaler"
   ]
  },
  {
   "cell_type": "code",
   "execution_count": 89,
   "id": "4276fa33-3544-4a49-904e-020095d81f43",
   "metadata": {},
   "outputs": [],
   "source": [
    "std = StandardScaler()"
   ]
  },
  {
   "cell_type": "code",
   "execution_count": 90,
   "id": "6d5f0911-6e51-446d-a281-dc05086de8bf",
   "metadata": {},
   "outputs": [],
   "source": [
    "# extract drug features\n",
    "drug_features_train = pubchem_drugs_rdkit_model(x_train[\"drug_id\"].values).numpy().astype(\"float32\")\n",
    "drug_features_valid = pubchem_drugs_rdkit_model(x_valid[\"drug_id\"].values).numpy().astype(\"float32\")\n",
    "\n",
    "# drug_features_train = pubchem_drugs_rdkit_model(x_train[\"drug_id\"].values)\n",
    "# drug_features_valid = pubchem_drugs_rdkit_model(x_valid[\"drug_id\"].values)"
   ]
  },
  {
   "cell_type": "code",
   "execution_count": 91,
   "id": "532d3eda-f04b-459a-b662-186a8d5f4184",
   "metadata": {},
   "outputs": [
    {
     "data": {
      "text/plain": [
       "((69214, 106), (17316, 106))"
      ]
     },
     "execution_count": 91,
     "metadata": {},
     "output_type": "execute_result"
    }
   ],
   "source": [
    "drug_features_train.shape, drug_features_valid.shape"
   ]
  },
  {
   "cell_type": "code",
   "execution_count": 92,
   "id": "428e51af-857a-4524-bf21-af673d792725",
   "metadata": {},
   "outputs": [],
   "source": [
    "# drug_features_train"
   ]
  },
  {
   "cell_type": "code",
   "execution_count": 93,
   "id": "f09c1da2-9df1-4674-9a05-ed475aaed5fa",
   "metadata": {},
   "outputs": [
    {
     "data": {
      "text/plain": [
       "0"
      ]
     },
     "execution_count": 93,
     "metadata": {},
     "output_type": "execute_result"
    }
   ],
   "source": [
    "np.isinf(drug_features_train).sum()"
   ]
  },
  {
   "cell_type": "code",
   "execution_count": 94,
   "id": "175df75f-8b88-43fe-be32-f1e29b5d9ade",
   "metadata": {},
   "outputs": [],
   "source": [
    "# drug_features_train.values"
   ]
  },
  {
   "cell_type": "code",
   "execution_count": 95,
   "id": "76723b45-8e73-41b2-b00a-19c27200d943",
   "metadata": {},
   "outputs": [],
   "source": [
    "drug_features_train = std.fit_transform(drug_features_train)"
   ]
  },
  {
   "cell_type": "code",
   "execution_count": 96,
   "id": "3397ce65-28fa-42a3-8b35-cb378bde141d",
   "metadata": {},
   "outputs": [],
   "source": [
    "drug_features_valid = std.transform(drug_features_valid)"
   ]
  },
  {
   "cell_type": "code",
   "execution_count": 97,
   "id": "bb772fbe-d8ae-4db9-ac63-3fdc2ddebf02",
   "metadata": {},
   "outputs": [],
   "source": [
    "# omics_copy_number_train"
   ]
  },
  {
   "cell_type": "code",
   "execution_count": 98,
   "id": "620a0c37-5cd4-430a-bad5-796e06b4e826",
   "metadata": {},
   "outputs": [],
   "source": [
    "# x_train[\"Cancer_Cell_Line\"].nunique()"
   ]
  },
  {
   "cell_type": "code",
   "execution_count": 99,
   "id": "8a581814-8f25-47f8-88eb-b6d94e841e96",
   "metadata": {},
   "outputs": [],
   "source": [
    "# extract copy number features\n",
    "omics_copy_number_train = cancer_copy_number_model(x_train[\"Cancer_Cell_Line\"].values).numpy().astype(\"float32\")\n",
    "omics_copy_number_valid = cancer_copy_number_model(x_valid[\"Cancer_Cell_Line\"].values).numpy().astype(\"float32\")"
   ]
  },
  {
   "cell_type": "code",
   "execution_count": 100,
   "id": "e94af1a5-9555-4c31-aef5-7e778ed1a9b3",
   "metadata": {},
   "outputs": [],
   "source": [
    "# omics_copy_number_train"
   ]
  },
  {
   "cell_type": "code",
   "execution_count": 101,
   "id": "a160e991-ebad-4f48-a8b9-e2ce191865ae",
   "metadata": {},
   "outputs": [
    {
     "data": {
      "text/plain": [
       "((69214, 691), (17316, 691))"
      ]
     },
     "execution_count": 101,
     "metadata": {},
     "output_type": "execute_result"
    }
   ],
   "source": [
    "omics_copy_number_train.shape, omics_copy_number_valid.shape"
   ]
  },
  {
   "cell_type": "code",
   "execution_count": 102,
   "id": "0d8f9737-5d43-4175-a68a-ff03ab3f58c3",
   "metadata": {},
   "outputs": [],
   "source": [
    "# extract gen expr features\n",
    "omics_gen_expr_train = cancer_cell_gen_expr_model(x_train[\"Cancer_Cell_Line\"].values).numpy().astype(\"float32\")\n",
    "omics_gen_expr_valid = cancer_cell_gen_expr_model(x_valid[\"Cancer_Cell_Line\"].values).numpy().astype(\"float32\")"
   ]
  },
  {
   "cell_type": "code",
   "execution_count": 103,
   "id": "79e4911e-99db-4d28-b785-99c8b3da6e38",
   "metadata": {},
   "outputs": [
    {
     "data": {
      "text/plain": [
       "((69214, 691), (17316, 691))"
      ]
     },
     "execution_count": 103,
     "metadata": {},
     "output_type": "execute_result"
    }
   ],
   "source": [
    "omics_gen_expr_train.shape, omics_gen_expr_valid.shape"
   ]
  },
  {
   "cell_type": "code",
   "execution_count": 104,
   "id": "ceb5e8e9-58c8-44b6-af28-2e676cd4c4d9",
   "metadata": {},
   "outputs": [],
   "source": [
    "omics_gen_copy_number_gen_expr_train = np.concatenate([np.expand_dims(omics_copy_number_train, -1),\n",
    "                                                      np.expand_dims(omics_gen_expr_train, -1)], axis = -1)"
   ]
  },
  {
   "cell_type": "code",
   "execution_count": 105,
   "id": "ddd290e2-d981-440e-b33f-d9e269e9e7e5",
   "metadata": {},
   "outputs": [
    {
     "data": {
      "text/plain": [
       "(69214, 691, 2)"
      ]
     },
     "execution_count": 105,
     "metadata": {},
     "output_type": "execute_result"
    }
   ],
   "source": [
    "omics_gen_copy_number_gen_expr_train.shape"
   ]
  },
  {
   "cell_type": "code",
   "execution_count": 106,
   "id": "9af07cd6-3bf6-45eb-a0d9-6ada6e752a5d",
   "metadata": {},
   "outputs": [],
   "source": [
    "omics_gen_copy_number_gen_expr_valid = np.concatenate([np.expand_dims(omics_copy_number_valid, -1),\n",
    "                                                      np.expand_dims(omics_gen_expr_valid, -1)], axis = -1)"
   ]
  },
  {
   "cell_type": "code",
   "execution_count": 107,
   "id": "0de42a7d-07a7-472e-bc3b-8735aac8d8a0",
   "metadata": {},
   "outputs": [
    {
     "data": {
      "text/plain": [
       "(17316, 691, 2)"
      ]
     },
     "execution_count": 107,
     "metadata": {},
     "output_type": "execute_result"
    }
   ],
   "source": [
    "omics_gen_copy_number_gen_expr_valid.shape"
   ]
  },
  {
   "cell_type": "code",
   "execution_count": 108,
   "id": "6fc3a94e-0ffe-4672-a97a-cc87eca89a54",
   "metadata": {},
   "outputs": [],
   "source": [
    "# extract gen methylation features\n",
    "omics_gen_methyl_train = cancer_cell_gen_methy_model(x_train[\"Cancer_Cell_Line\"].values).numpy().astype(\"float32\")\n",
    "omics_gen_methyl_valid = cancer_cell_gen_methy_model(x_valid[\"Cancer_Cell_Line\"].values).numpy().astype(\"float32\")"
   ]
  },
  {
   "cell_type": "code",
   "execution_count": 109,
   "id": "413c009e-c8fe-4ff6-bd81-b46d0f18fbd3",
   "metadata": {},
   "outputs": [
    {
     "data": {
      "text/plain": [
       "((69214, 808), (17316, 808))"
      ]
     },
     "execution_count": 109,
     "metadata": {},
     "output_type": "execute_result"
    }
   ],
   "source": [
    "omics_gen_methyl_train.shape, omics_gen_methyl_valid.shape"
   ]
  },
  {
   "cell_type": "code",
   "execution_count": 110,
   "id": "75398540-13b6-4cfa-b90d-8f2c0124dcd8",
   "metadata": {},
   "outputs": [
    {
     "name": "stdout",
     "output_type": "stream",
     "text": [
      "271/271 [==============================] - 8s 29ms/step\n",
      "68/68 [==============================] - 0s 5ms/step\n"
     ]
    }
   ],
   "source": [
    "# extract gen mutation features\n",
    "with tf.device('/cpu:0'):\n",
    "    omics_gen_mut_train = cancer_cell_gen_mut_model.predict(x_train[\"Cancer_Cell_Line\"].values, verbose = 1, batch_size = 256).astype(\"float32\")\n",
    "    omics_gen_mut_valid = cancer_cell_gen_mut_model.predict(x_valid[\"Cancer_Cell_Line\"].values, verbose = 1, batch_size = 256).astype(\"float32\")"
   ]
  },
  {
   "cell_type": "code",
   "execution_count": 111,
   "id": "1e4d8d51-d564-4df5-985c-2cb91b7909fe",
   "metadata": {},
   "outputs": [
    {
     "data": {
      "text/plain": [
       "((69214, 34673), (17316, 34673))"
      ]
     },
     "execution_count": 111,
     "metadata": {},
     "output_type": "execute_result"
    }
   ],
   "source": [
    "omics_gen_mut_train.shape, omics_gen_mut_valid.shape"
   ]
  },
  {
   "cell_type": "code",
   "execution_count": 112,
   "id": "1cd31175-0cb4-4718-8ff6-221e42f493d9",
   "metadata": {},
   "outputs": [],
   "source": [
    "smile_strings_train = x_train[\"Smiles\"].values.reshape(-1,1)\n",
    "smile_strings_valid = x_valid[\"Smiles\"].values.reshape(-1,1)"
   ]
  },
  {
   "cell_type": "code",
   "execution_count": 113,
   "id": "c88bfcad-a6b4-41d0-b8c0-a2ec02488526",
   "metadata": {},
   "outputs": [
    {
     "data": {
      "text/plain": [
       "((69214, 1), (17316, 1))"
      ]
     },
     "execution_count": 113,
     "metadata": {},
     "output_type": "execute_result"
    }
   ],
   "source": [
    "smile_strings_train.shape, smile_strings_valid.shape"
   ]
  },
  {
   "cell_type": "code",
   "execution_count": 114,
   "id": "d13e5906-e69a-42a6-b9d0-c24f9d941e7d",
   "metadata": {},
   "outputs": [],
   "source": [
    "selected_info_common_cell_lines = \"../data/CCLE/cellline_list.txt\"\n",
    "selected_info_common_genes = \"../data/CCLE/gene_list.txt\""
   ]
  },
  {
   "cell_type": "code",
   "execution_count": 115,
   "id": "81270302-09c9-4885-bf20-1cea79f82c2c",
   "metadata": {},
   "outputs": [],
   "source": [
    "PPI_file = \"../data/PPI/PPI_network.txt\""
   ]
  },
  {
   "cell_type": "code",
   "execution_count": 116,
   "id": "c061dec2-f66e-46bd-b75d-d0d3de3a4197",
   "metadata": {},
   "outputs": [],
   "source": [
    "# len(common_genes)"
   ]
  },
  {
   "cell_type": "code",
   "execution_count": 117,
   "id": "fec2991e-1152-4fc3-afae-e537b1d94224",
   "metadata": {},
   "outputs": [],
   "source": [
    "# 'CHN1' in common_genes"
   ]
  },
  {
   "cell_type": "code",
   "execution_count": 118,
   "id": "dd95b114-413c-48b2-8ac4-d62341ca4b49",
   "metadata": {},
   "outputs": [],
   "source": [
    "with open(selected_info_common_cell_lines) as f:\n",
    "    common_cell_lines = [item.strip() for item in f.readlines()]\n",
    "    \n",
    "with open(\"..//data//common_genes.pickle\", \"rb\") as f:\n",
    "    common_genes = pickle.load(f)\n",
    "    \n",
    "idx_dic={}\n",
    "for index, item in enumerate(common_genes):\n",
    "    idx_dic[item] = index\n",
    "\n",
    "ppi_adj_info = [[] for item in common_genes] \n",
    "for line in open(PPI_file).readlines():\n",
    "    gene1,gene2 = line.split('\\t')[0],line.split('\\t')[1]\n",
    "    if (gene1 in common_genes) & (gene2 in common_genes):\n",
    "        if idx_dic[gene1]<=idx_dic[gene2]:\n",
    "            ppi_adj_info[idx_dic[gene1]].append(idx_dic[gene2])\n",
    "            ppi_adj_info[idx_dic[gene2]].append(idx_dic[gene1])"
   ]
  },
  {
   "cell_type": "code",
   "execution_count": 119,
   "id": "f8272f7e-56cc-4514-95c1-adb7222db957",
   "metadata": {},
   "outputs": [
    {
     "data": {
      "text/plain": [
       "691"
      ]
     },
     "execution_count": 119,
     "metadata": {},
     "output_type": "execute_result"
    }
   ],
   "source": [
    "len(ppi_adj_info)"
   ]
  },
  {
   "cell_type": "code",
   "execution_count": 120,
   "id": "9a65293b-686c-4561-98bc-d70565727c0c",
   "metadata": {},
   "outputs": [],
   "source": [
    "# ppi_adj_info"
   ]
  },
  {
   "cell_type": "code",
   "execution_count": 121,
   "id": "7d66d35a-8e71-434b-9c11-098ed2bf4f48",
   "metadata": {},
   "outputs": [],
   "source": [
    "# common_genes[:20]"
   ]
  },
  {
   "cell_type": "code",
   "execution_count": 122,
   "id": "aee54b11-6d07-45ba-b7c4-480210880d32",
   "metadata": {},
   "outputs": [],
   "source": [
    "# ppi_adj_info"
   ]
  },
  {
   "cell_type": "code",
   "execution_count": 123,
   "id": "041b7ab6-5c26-4466-b99a-8d926735dfad",
   "metadata": {},
   "outputs": [],
   "source": [
    "# ppi_adj_info"
   ]
  },
  {
   "cell_type": "code",
   "execution_count": 124,
   "id": "8f9b5c7b-6b6a-43d1-97b3-c2a901ce3aa7",
   "metadata": {},
   "outputs": [
    {
     "data": {
      "text/plain": [
       "691"
      ]
     },
     "execution_count": 124,
     "metadata": {},
     "output_type": "execute_result"
    }
   ],
   "source": [
    "len(common_genes)"
   ]
  },
  {
   "cell_type": "code",
   "execution_count": 125,
   "id": "74735ada-5c85-498e-9e1a-3bef9376269d",
   "metadata": {},
   "outputs": [],
   "source": [
    "# celline_feature_folder = \"../data/CCLE/omics_data\""
   ]
  },
  {
   "cell_type": "code",
   "execution_count": 126,
   "id": "e637b894-348d-4c09-b4fc-c61fa643989f",
   "metadata": {},
   "outputs": [],
   "source": [
    "# cellline_drug_pair = []\n",
    "# with open(selected_info_common_cell_lines) as f:\n",
    "#     common_cell_lines = [item.strip() for item in f.readlines()]\n",
    "    \n",
    "# # with open(selected_info_common_genes) as f:\n",
    "# #     common_genes = [item.strip() for item in f.readlines()]\n",
    "# dic_cell_line_feat = {}\n",
    "# for each in common_cell_lines:\n",
    "#     dic_cell_line_feat[each] = pd.read_csv('%s/%s.csv'%(celline_feature_folder, each), index_col=0).loc[common_genes].values"
   ]
  },
  {
   "cell_type": "code",
   "execution_count": 127,
   "id": "f813ceb5-3a1d-4b09-8c4a-8c0ea40ef08e",
   "metadata": {},
   "outputs": [],
   "source": [
    "# common_genes[:20]"
   ]
  },
  {
   "cell_type": "code",
   "execution_count": 128,
   "id": "2c2dde8c-6173-4f68-963b-0738fc0dc346",
   "metadata": {},
   "outputs": [],
   "source": [
    "# dic_cell_line_feat[each].shape"
   ]
  },
  {
   "cell_type": "code",
   "execution_count": 129,
   "id": "7e58869f-3179-4581-90bf-38771e0b312a",
   "metadata": {},
   "outputs": [],
   "source": [
    "# ppi_adj_info[0]"
   ]
  },
  {
   "cell_type": "code",
   "execution_count": 130,
   "id": "dae468ad-7fd0-4f02-a8ed-d8db549d7088",
   "metadata": {},
   "outputs": [],
   "source": [
    "# nb_nodes"
   ]
  },
  {
   "cell_type": "code",
   "execution_count": 131,
   "id": "4963301a-175e-4965-8279-29a3f0a55836",
   "metadata": {},
   "outputs": [],
   "source": [
    "# nb_nodes = len(common_genes)"
   ]
  },
  {
   "cell_type": "code",
   "execution_count": 132,
   "id": "e8dba0ba-76bf-43d9-a282-64d5ef857164",
   "metadata": {},
   "outputs": [],
   "source": [
    "def CelllineGraphAdjNorm(ppi_adj_info,common_genes = common_genes):\n",
    "    # with open(selected_info_common_genes) as f:\n",
    "    #     common_genes = [item.strip() for item in f.readlines()]\n",
    "    nb_nodes = len(common_genes)\n",
    "    adj_mat = np.zeros((nb_nodes,nb_nodes),dtype='float32')\n",
    "    # print(adj_mat.shape)\n",
    "    for i in range(len(ppi_adj_info)):\n",
    "        # print(i)\n",
    "        nodes = ppi_adj_info[i]\n",
    "        for each in nodes:\n",
    "            adj_mat[i,each] = 1\n",
    "    assert np.allclose(adj_mat,adj_mat.T)\n",
    "    norm_adj = NormalizeAdj(adj_mat)\n",
    "    return norm_adj "
   ]
  },
  {
   "cell_type": "code",
   "execution_count": 133,
   "id": "ccca20d9-ccb8-4e11-87dc-3b8bca5df5ac",
   "metadata": {},
   "outputs": [],
   "source": [
    "def NormalizeAdj(adj):\n",
    "    adj = adj + np.eye(adj.shape[0])\n",
    "    d = sp.diags(np.power(np.array(adj.sum(1)), -0.5).flatten(), 0).toarray()\n",
    "    a_norm = adj.dot(d).transpose().dot(d)\n",
    "    return a_norm"
   ]
  },
  {
   "cell_type": "code",
   "execution_count": 134,
   "id": "2855c6e4-92b2-4dfc-b81d-1aae7ef46192",
   "metadata": {},
   "outputs": [],
   "source": [
    "import scipy.sparse as sp"
   ]
  },
  {
   "cell_type": "code",
   "execution_count": 135,
   "id": "c091ab77-fe5b-4f41-80c7-9f4e5af94302",
   "metadata": {},
   "outputs": [],
   "source": [
    "ppi_adj = CelllineGraphAdjNorm(ppi_adj_info,common_genes)"
   ]
  },
  {
   "cell_type": "code",
   "execution_count": 136,
   "id": "09894fbc-8a1b-46c6-afd8-02ff6e17d9d5",
   "metadata": {},
   "outputs": [
    {
     "data": {
      "text/plain": [
       "(691, 691)"
      ]
     },
     "execution_count": 136,
     "metadata": {},
     "output_type": "execute_result"
    }
   ],
   "source": [
    "ppi_adj.shape"
   ]
  },
  {
   "cell_type": "code",
   "execution_count": 137,
   "id": "06b66e4c-ece7-40d6-b2d3-bf186c580ebd",
   "metadata": {},
   "outputs": [],
   "source": [
    "ppi_adj = np.expand_dims(ppi_adj,0)"
   ]
  },
  {
   "cell_type": "code",
   "execution_count": 138,
   "id": "4c126791-b275-4551-8d96-bbc9d32c92d6",
   "metadata": {},
   "outputs": [
    {
     "data": {
      "text/plain": [
       "(1, 691, 691)"
      ]
     },
     "execution_count": 138,
     "metadata": {},
     "output_type": "execute_result"
    }
   ],
   "source": [
    "ppi_adj.shape"
   ]
  },
  {
   "cell_type": "code",
   "execution_count": 139,
   "id": "9c523c6b-8a36-468a-966b-4bd5be2566d2",
   "metadata": {},
   "outputs": [],
   "source": [
    "omics_gen_copy_number_gen_expr_train = (ppi_adj@omics_gen_copy_number_gen_expr_train)\n",
    "omics_gen_copy_number_gen_expr_valid = (ppi_adj@omics_gen_copy_number_gen_expr_valid)"
   ]
  },
  {
   "cell_type": "code",
   "execution_count": 140,
   "id": "9e00df9e-3bc3-487f-82ee-c93f72cade79",
   "metadata": {},
   "outputs": [
    {
     "data": {
      "text/plain": [
       "(69214, 691, 2)"
      ]
     },
     "execution_count": 140,
     "metadata": {},
     "output_type": "execute_result"
    }
   ],
   "source": [
    "omics_gen_copy_number_gen_expr_train.shape"
   ]
  },
  {
   "cell_type": "code",
   "execution_count": 141,
   "id": "5bbf18b4-9d86-4ae8-a440-777f4a8c0fc7",
   "metadata": {},
   "outputs": [
    {
     "data": {
      "text/plain": [
       "(17316, 691, 2)"
      ]
     },
     "execution_count": 141,
     "metadata": {},
     "output_type": "execute_result"
    }
   ],
   "source": [
    "omics_gen_copy_number_gen_expr_valid.shape"
   ]
  },
  {
   "cell_type": "code",
   "execution_count": 142,
   "id": "66ce1659-b59d-4fc7-a67c-88fd0667a227",
   "metadata": {},
   "outputs": [],
   "source": [
    "training = False\n",
    "dropout1 = 0.10\n",
    "dropout2 = 0.20"
   ]
  },
  {
   "cell_type": "code",
   "execution_count": 143,
   "id": "bd7a5df4-4bae-428e-980e-4e56d406643a",
   "metadata": {},
   "outputs": [],
   "source": [
    "def deepcdrgcn(training = training, dropout1 = dropout1, dropout2 = dropout2):\n",
    "    input_gcn_features = tf.keras.layers.Input(shape = (100, 75))\n",
    "    input_norm_adj_mat = tf.keras.layers.Input(shape = (100, 100))\n",
    "    mult_1 = tf.keras.layers.Dot(1)([input_norm_adj_mat, input_gcn_features])\n",
    "    dense_layer_gcn = tf.keras.layers.Dense(256, activation = \"relu\")\n",
    "    dense_out = dense_layer_gcn(mult_1)\n",
    "    dense_out = tf.keras.layers.BatchNormalization()(dense_out)\n",
    "    dense_out = tf.keras.layers.Dropout(dropout1)(dense_out, training = training)\n",
    "    mult_2 = tf.keras.layers.Dot(1)([input_norm_adj_mat, dense_out])\n",
    "    dense_layer_gcn = tf.keras.layers.Dense(256, activation = \"relu\")\n",
    "    dense_out = dense_layer_gcn(mult_2)\n",
    "    dense_out = tf.keras.layers.BatchNormalization()(dense_out)\n",
    "    dense_out = tf.keras.layers.Dropout(dropout1)(dense_out, training = training)\n",
    "\n",
    "    dense_layer_gcn = tf.keras.layers.Dense(100, activation = \"relu\")\n",
    "    mult_3 = tf.keras.layers.Dot(1)([input_norm_adj_mat, dense_out])\n",
    "    dense_out = dense_layer_gcn(mult_3)\n",
    "    dense_out = tf.keras.layers.BatchNormalization()(dense_out)\n",
    "    dense_out = tf.keras.layers.Dropout(dropout1)(dense_out, training = training)\n",
    "\n",
    "    dense_out = tf.keras.layers.GlobalAvgPool1D()(dense_out)\n",
    "    input_gen_expr = tf.keras.layers.Input(shape = (omics_gen_expr_train.shape[1],2))\n",
    "    \n",
    "    l1 = tf.keras.layers.Dense(32)(input_gen_expr)\n",
    "    l1 = tf.keras.layers.Dropout(dropout1)(l1, training = training)\n",
    "    l2 = tf.keras.layers.Dense(128)(l1)\n",
    "    l2 = tf.keras.layers.Dropout(dropout1)(l2, training = training)\n",
    "    \n",
    "    dense_layer_gcn1 = tf.keras.layers.Dense(256, activation = \"relu\")\n",
    "    dense_out1 = dense_layer_gcn1(l2)\n",
    "    dense_out1 = tf.keras.layers.BatchNormalization()(dense_out1)\n",
    "    dense_out1 = tf.keras.layers.Dropout(dropout1)(dense_out1, training = training)\n",
    "# mult_21 = tf.keras.layers.Dot(1)([const_input, dense_out1])\n",
    "    dense_layer_gcn1 = tf.keras.layers.Dense(256, activation = \"relu\")\n",
    "    dense_out1 = dense_layer_gcn1(dense_out1)\n",
    "    dense_out1 = tf.keras.layers.BatchNormalization()(dense_out1)\n",
    "    dense_out1 = tf.keras.layers.Dropout(dropout1)(dense_out1, training = training)\n",
    "    dense_layer_gcn1 = tf.keras.layers.Dense(256, activation = \"relu\")\n",
    "    dense_out1 = dense_layer_gcn1(dense_out1)\n",
    "    dense_out1 = tf.keras.layers.BatchNormalization()(dense_out1)\n",
    "    dense_out1 = tf.keras.layers.Dropout(dropout1)(dense_out1, training = training)\n",
    "    dense_layer_gcn1 = tf.keras.layers.Dense(256, activation = \"relu\")\n",
    "    dense_out1 = dense_layer_gcn1(dense_out1)\n",
    "    dense_out1 = tf.keras.layers.BatchNormalization()(dense_out1)\n",
    "    dense_out1 = tf.keras.layers.Dropout(dropout1)(dense_out1, training = training)\n",
    "    dense_out1 = tf.keras.layers.GlobalAvgPool1D()(dense_out1)\n",
    "    \n",
    "    input_gen_methy = tf.keras.layers.Input(shape = (omics_gen_methyl_train.shape[1],))\n",
    "    gen_methy_layer = tf.keras.layers.Dense(256, activation = \"tanh\")\n",
    "    \n",
    "    gen_methy_emb = gen_methy_layer(input_gen_methy)\n",
    "    gen_methy_emb = tf.keras.layers.BatchNormalization()(gen_methy_emb)\n",
    "    gen_methy_emb = tf.keras.layers.Dropout(dropout1)(gen_methy_emb, training = training)\n",
    "    gen_methy_layer = tf.keras.layers.Dense(100, activation = \"relu\")\n",
    "    gen_methy_emb = gen_methy_layer(gen_methy_emb)\n",
    "    \n",
    "    input_gen_mut = tf.keras.layers.Input(shape = (omics_gen_mut_train.shape[1],))\n",
    "    \n",
    "    reshape_gen_mut = tf.keras.layers.Reshape((1, omics_gen_mut_train.shape[1], 1))\n",
    "    reshape_gen_mut = reshape_gen_mut(input_gen_mut)\n",
    "    gen_mut_layer = tf.keras.layers.Conv2D(50, (1, 700), strides=5, activation = \"tanh\")\n",
    "    gen_mut_emb = gen_mut_layer(reshape_gen_mut)\n",
    "    pool_layer = tf.keras.layers.MaxPooling2D((1,5))\n",
    "    pool_out = pool_layer(gen_mut_emb)\n",
    "    gen_mut_layer = tf.keras.layers.Conv2D(30, (1, 5), strides=2, activation = \"relu\")\n",
    "    gen_mut_emb = gen_mut_layer(pool_out)\n",
    "    pool_layer = tf.keras.layers.MaxPooling2D((1,10))\n",
    "    pool_out = pool_layer(gen_mut_emb)\n",
    "    flatten_layer = tf.keras.layers.Flatten()\n",
    "    flatten_out = flatten_layer(pool_out)\n",
    "    all_omics = tf.keras.layers.Concatenate()([gen_methy_emb, flatten_out, dense_out1, dense_out])\n",
    "    x = tf.keras.layers.Dense(300,activation = 'tanh')(all_omics)\n",
    "    x = tf.keras.layers.Dropout(dropout1)(x, training = training)\n",
    "    x = tf.keras.layers.Lambda(lambda x: K.expand_dims(x,axis=-1))(x)\n",
    "    x = tf.keras.layers.Lambda(lambda x: K.expand_dims(x,axis=1))(x)\n",
    "    x = tf.keras.layers.Conv2D(filters=30, kernel_size=(1,150),strides=(1, 1), activation = 'relu',padding='valid')(x)\n",
    "    x = tf.keras.layers.MaxPooling2D(pool_size=(1,2))(x)\n",
    "    x = tf.keras.layers.Conv2D(filters=10, kernel_size=(1,5),strides=(1, 1), activation = 'relu',padding='valid')(x)\n",
    "    x = tf.keras.layers.MaxPooling2D(pool_size=(1,3))(x)\n",
    "    x = tf.keras.layers.Conv2D(filters=5, kernel_size=(1,5),strides=(1, 1), activation = 'relu',padding='valid')(x)\n",
    "    x = tf.keras.layers.MaxPooling2D(pool_size=(1,3))(x)\n",
    "    x = tf.keras.layers.Dropout(dropout1)(x, training = training)\n",
    "    x = tf.keras.layers.Flatten()(x)\n",
    "    x = tf.keras.layers.Dropout(dropout2)(x, training = training)\n",
    "    final_out_layer = tf.keras.layers.Dense(1)\n",
    "    final_out = final_out_layer(x)\n",
    "    simplecdr = tf.keras.models.Model([input_gcn_features, input_norm_adj_mat, input_gen_expr,\n",
    "                                   input_gen_methy, input_gen_mut], final_out)\n",
    "    simplecdr.compile(loss = tf.keras.losses.MeanSquaredError(), \n",
    "                      # optimizer = tf.keras.optimizers.Adam(lr=1e-3),\n",
    "                    optimizer = tf.keras.optimizers.Adam(lr=0.001, beta_1=0.9, beta_2=0.999, epsilon=None, decay=0.0, amsgrad=False), \n",
    "                    metrics = [tf.keras.metrics.RootMeanSquaredError()])\n",
    "    \n",
    "    return simplecdr"
   ]
  },
  {
   "cell_type": "code",
   "execution_count": 144,
   "id": "a31d373a-f7b1-4453-97f0-734065e1ae78",
   "metadata": {},
   "outputs": [
    {
     "name": "stderr",
     "output_type": "stream",
     "text": [
      "/home/statgrads/vpiyush2/.conda/envs/tensorflow-gpu-2.9-custom/lib/python3.9/site-packages/keras/optimizers/optimizer_v2/adam.py:110: UserWarning: The `lr` argument is deprecated, use `learning_rate` instead.\n",
      "  super(Adam, self).__init__(name, **kwargs)\n"
     ]
    }
   ],
   "source": [
    "simplecdr = deepcdrgcn(training, dropout1, dropout2)"
   ]
  },
  {
   "cell_type": "code",
   "execution_count": 145,
   "id": "32a9a130-7a5d-4cb0-b7f1-e95447642926",
   "metadata": {},
   "outputs": [],
   "source": [
    "# input_gcn_features = tf.keras.layers.Input(shape = (100, 75))\n",
    "# input_norm_adj_mat = tf.keras.layers.Input(shape = (100, 100))\n",
    "# mult_1 = tf.keras.layers.Dot(1)([input_norm_adj_mat, input_gcn_features])\n",
    "# dense_layer_gcn = tf.keras.layers.Dense(256, activation = \"relu\")\n",
    "# dense_out = dense_layer_gcn(mult_1)\n",
    "# dense_out = tf.keras.layers.BatchNormalization()(dense_out)\n",
    "# dense_out = tf.keras.layers.Dropout(0.2)(dense_out)\n",
    "# mult_2 = tf.keras.layers.Dot(1)([input_norm_adj_mat, dense_out])\n",
    "# dense_layer_gcn = tf.keras.layers.Dense(256, activation = \"relu\")\n",
    "# dense_out = dense_layer_gcn(mult_2)\n",
    "# dense_out = tf.keras.layers.BatchNormalization()(dense_out)\n",
    "# dense_out = tf.keras.layers.Dropout(0.2)(dense_out)\n",
    "\n",
    "# dense_layer_gcn = tf.keras.layers.Dense(100, activation = \"relu\")\n",
    "# mult_3 = tf.keras.layers.Dot(1)([input_norm_adj_mat, dense_out])\n",
    "# dense_out = dense_layer_gcn(mult_3)\n",
    "# dense_out = tf.keras.layers.BatchNormalization()(dense_out)\n",
    "# dense_out = tf.keras.layers.Dropout(0.2)(dense_out)\n",
    "\n",
    "# dense_out = tf.keras.layers.GlobalAvgPool1D()(dense_out)"
   ]
  },
  {
   "cell_type": "code",
   "execution_count": 146,
   "id": "9c4ffef9-aa7b-4b89-a326-11c7d8805ec3",
   "metadata": {},
   "outputs": [],
   "source": [
    "# dense_out"
   ]
  },
  {
   "cell_type": "code",
   "execution_count": 147,
   "id": "607ca081-e937-4efe-8a2b-73700dae8def",
   "metadata": {},
   "outputs": [],
   "source": [
    "# input_gen_expr = tf.keras.layers.Input(shape = (omics_gen_expr_train.shape[1],2))"
   ]
  },
  {
   "cell_type": "code",
   "execution_count": 148,
   "id": "2569efb4-a166-42aa-9a81-1ec8522f55b3",
   "metadata": {},
   "outputs": [],
   "source": [
    "# input_gen_expr"
   ]
  },
  {
   "cell_type": "code",
   "execution_count": 149,
   "id": "a93348f7-c647-4396-9ef3-efaf997451fb",
   "metadata": {},
   "outputs": [],
   "source": [
    "# l1 = tf.keras.layers.Dense(32)(input_gen_expr)\n",
    "# l1 = tf.keras.layers.Dropout(0.2)(l1)\n",
    "# l2 = tf.keras.layers.Dense(128)(l1)\n",
    "# l2 = tf.keras.layers.Dropout(0.2)(l2)\n",
    "# mult_11 = tf.keras.layers.Dot(1)([const_input, l2])\n"
   ]
  },
  {
   "cell_type": "code",
   "execution_count": 150,
   "id": "a77dec56-fe0a-4435-a0fd-24302b974caf",
   "metadata": {},
   "outputs": [],
   "source": [
    "# dense_layer_gcn1 = tf.keras.layers.Dense(256, activation = \"relu\")\n",
    "# dense_out1 = dense_layer_gcn1(l2)\n",
    "# dense_out1 = tf.keras.layers.BatchNormalization()(dense_out1)\n",
    "# dense_out1 = tf.keras.layers.Dropout(0.2)(dense_out1)\n",
    "# # mult_21 = tf.keras.layers.Dot(1)([const_input, dense_out1])\n",
    "# dense_layer_gcn1 = tf.keras.layers.Dense(256, activation = \"relu\")\n",
    "# dense_out1 = dense_layer_gcn1(dense_out1)\n",
    "# dense_out1 = tf.keras.layers.BatchNormalization()(dense_out1)\n",
    "# dense_out1 = tf.keras.layers.Dropout(0.2)(dense_out1)\n",
    "# dense_layer_gcn1 = tf.keras.layers.Dense(256, activation = \"relu\")\n",
    "# dense_out1 = dense_layer_gcn1(dense_out1)\n",
    "# dense_out1 = tf.keras.layers.BatchNormalization()(dense_out1)\n",
    "# dense_out1 = tf.keras.layers.Dropout(0.2)(dense_out1)\n",
    "# dense_layer_gcn1 = tf.keras.layers.Dense(256, activation = \"relu\")\n",
    "# dense_out1 = dense_layer_gcn1(dense_out1)\n",
    "# dense_out1 = tf.keras.layers.BatchNormalization()(dense_out1)\n",
    "# dense_out1 = tf.keras.layers.Dropout(0.2)(dense_out1)\n",
    "# dense_out1 = tf.keras.layers.GlobalAvgPool1D()(dense_out1)"
   ]
  },
  {
   "cell_type": "code",
   "execution_count": 151,
   "id": "578c95e8-fdb7-42fd-a187-588b59238923",
   "metadata": {},
   "outputs": [],
   "source": [
    "# dense_out1"
   ]
  },
  {
   "cell_type": "code",
   "execution_count": 152,
   "id": "5101070f-2ca2-45ba-ba43-8881a24fca55",
   "metadata": {},
   "outputs": [],
   "source": [
    "# input_gen_methy = tf.keras.layers.Input(shape = (omics_gen_methyl_train.shape[1],))"
   ]
  },
  {
   "cell_type": "code",
   "execution_count": 153,
   "id": "73c6de76-6e7b-495c-a1ed-2f07bcbcac07",
   "metadata": {},
   "outputs": [],
   "source": [
    "# gen_methy_layer = tf.keras.layers.Dense(256, activation = \"tanh\")"
   ]
  },
  {
   "cell_type": "code",
   "execution_count": 154,
   "id": "65dcd97c-9106-4928-b4ec-2b439579910a",
   "metadata": {},
   "outputs": [],
   "source": [
    "# gen_methy_emb = gen_methy_layer(input_gen_methy)\n",
    "# gen_methy_emb = tf.keras.layers.BatchNormalization()(gen_methy_emb)\n",
    "# gen_methy_emb = tf.keras.layers.Dropout(0.2)(gen_methy_emb)"
   ]
  },
  {
   "cell_type": "code",
   "execution_count": 155,
   "id": "874a5732-d680-4cdc-8050-428fdcb3f81c",
   "metadata": {},
   "outputs": [],
   "source": [
    "# gen_methy_layer = tf.keras.layers.Dense(100, activation = \"relu\")\n",
    "# gen_methy_emb = gen_methy_layer(gen_methy_emb)"
   ]
  },
  {
   "cell_type": "code",
   "execution_count": 156,
   "id": "3be74dd0-0188-4bda-ab13-2dc17e8b6e0e",
   "metadata": {},
   "outputs": [],
   "source": [
    "# input_gen_mut = tf.keras.layers.Input(shape = (omics_gen_mut_train.shape[1],))"
   ]
  },
  {
   "cell_type": "code",
   "execution_count": 157,
   "id": "436aa3bf-41ae-46d2-bf0e-6ef8d2703616",
   "metadata": {},
   "outputs": [],
   "source": [
    "# reshape_gen_mut = tf.keras.layers.Reshape((1, omics_gen_mut_train.shape[1], 1))"
   ]
  },
  {
   "cell_type": "code",
   "execution_count": 158,
   "id": "017bb057-9f6d-4c86-a247-6496a2d1607a",
   "metadata": {},
   "outputs": [],
   "source": [
    "# reshape_gen_mut = reshape_gen_mut(input_gen_mut)"
   ]
  },
  {
   "cell_type": "code",
   "execution_count": 159,
   "id": "5f262b6c-eb0c-4296-819e-b1eb82eeb575",
   "metadata": {},
   "outputs": [],
   "source": [
    "# gen_mut_layer = tf.keras.layers.Conv2D(50, (1, 700), strides=5, activation = \"tanh\")"
   ]
  },
  {
   "cell_type": "code",
   "execution_count": 160,
   "id": "b098873c-2154-4cd8-a3fa-08b6940d3f80",
   "metadata": {},
   "outputs": [],
   "source": [
    "# gen_mut_emb = gen_mut_layer(reshape_gen_mut)"
   ]
  },
  {
   "cell_type": "code",
   "execution_count": 161,
   "id": "9c4cc17e-23de-46b1-a02f-5be2ee8af557",
   "metadata": {},
   "outputs": [],
   "source": [
    "# gen_mut_emb.shape"
   ]
  },
  {
   "cell_type": "code",
   "execution_count": 162,
   "id": "f64748ce-c536-4eab-a0ae-e699ce7755bc",
   "metadata": {},
   "outputs": [],
   "source": [
    "# pool_layer = tf.keras.layers.MaxPooling2D((1,5))"
   ]
  },
  {
   "cell_type": "code",
   "execution_count": 163,
   "id": "c4da40cd-9499-4e14-9e07-70c31b75983f",
   "metadata": {},
   "outputs": [],
   "source": [
    "# pool_out = pool_layer(gen_mut_emb)"
   ]
  },
  {
   "cell_type": "code",
   "execution_count": 164,
   "id": "bc9d3a19-3462-4de9-9ed2-f30ff2a6b958",
   "metadata": {},
   "outputs": [],
   "source": [
    "# pool_out"
   ]
  },
  {
   "cell_type": "code",
   "execution_count": 165,
   "id": "fcfe7721-f4eb-4da2-943e-ce1c04db3e00",
   "metadata": {},
   "outputs": [],
   "source": [
    "# gen_mut_layer = tf.keras.layers.Conv2D(30, (1, 5), strides=2, activation = \"relu\")"
   ]
  },
  {
   "cell_type": "code",
   "execution_count": 166,
   "id": "232fac4b-f49c-46cc-ba54-1b503a692262",
   "metadata": {},
   "outputs": [],
   "source": [
    "# gen_mut_emb = gen_mut_layer(pool_out)"
   ]
  },
  {
   "cell_type": "code",
   "execution_count": 167,
   "id": "7de341b9-bb31-41f0-838a-01dc59c2b0b5",
   "metadata": {},
   "outputs": [],
   "source": [
    "# gen_mut_emb "
   ]
  },
  {
   "cell_type": "code",
   "execution_count": 168,
   "id": "0a13f555-d2ad-4c2d-b68a-6f9f1e2a7752",
   "metadata": {},
   "outputs": [],
   "source": [
    "# pool_layer = tf.keras.layers.MaxPooling2D((1,10))"
   ]
  },
  {
   "cell_type": "code",
   "execution_count": 169,
   "id": "543756db-da27-44b0-af3a-cffb7ddf8145",
   "metadata": {},
   "outputs": [],
   "source": [
    "# pool_out = pool_layer(gen_mut_emb)"
   ]
  },
  {
   "cell_type": "code",
   "execution_count": 170,
   "id": "c12b31f8-ae58-4967-a533-f00f825aeed9",
   "metadata": {},
   "outputs": [],
   "source": [
    "# pool_out"
   ]
  },
  {
   "cell_type": "code",
   "execution_count": 171,
   "id": "86756a6b-a92c-4a06-ae80-39bef3c29f05",
   "metadata": {},
   "outputs": [],
   "source": [
    "# flatten_layer = tf.keras.layers.Flatten()"
   ]
  },
  {
   "cell_type": "code",
   "execution_count": 172,
   "id": "99ae4cad-125b-49ca-8697-d0ef58455b96",
   "metadata": {},
   "outputs": [],
   "source": [
    "# flatten_out = flatten_layer(pool_out)"
   ]
  },
  {
   "cell_type": "code",
   "execution_count": 173,
   "id": "c6e44df8-5ba1-46f9-88b9-f62445c791a2",
   "metadata": {},
   "outputs": [],
   "source": [
    "# flatten_out"
   ]
  },
  {
   "cell_type": "code",
   "execution_count": 174,
   "id": "d873bfc5-fb61-4529-b989-424509ba4315",
   "metadata": {},
   "outputs": [],
   "source": [
    "# all_omics = tf.keras.layers.Concatenate()([gen_methy_emb, flatten_out, dense_out1, dense_out])"
   ]
  },
  {
   "cell_type": "code",
   "execution_count": 175,
   "id": "b72f307a-a55d-412d-b669-2e70b2ddd7de",
   "metadata": {},
   "outputs": [],
   "source": [
    "# all_omics"
   ]
  },
  {
   "cell_type": "code",
   "execution_count": 176,
   "id": "c09578f7-e654-451c-91bb-38ec98bda3cc",
   "metadata": {},
   "outputs": [],
   "source": [
    "# x = tf.keras.layers.Dense(300,activation = 'tanh')(all_omics)\n",
    "# x = tf.keras.layers.Dropout(0.2)(x)\n",
    "# x = tf.keras.layers.Lambda(lambda x: K.expand_dims(x,axis=-1))(x)\n",
    "# x = tf.keras.layers.Lambda(lambda x: K.expand_dims(x,axis=1))(x)\n",
    "# x = tf.keras.layers.Conv2D(filters=30, kernel_size=(1,150),strides=(1, 1), activation = 'relu',padding='valid')(x)\n",
    "# x = tf.keras.layers.MaxPooling2D(pool_size=(1,2))(x)\n",
    "# x = tf.keras.layers.Conv2D(filters=10, kernel_size=(1,5),strides=(1, 1), activation = 'relu',padding='valid')(x)\n",
    "# x = tf.keras.layers.MaxPooling2D(pool_size=(1,3))(x)\n",
    "# x = tf.keras.layers.Conv2D(filters=5, kernel_size=(1,5),strides=(1, 1), activation = 'relu',padding='valid')(x)\n",
    "# x = tf.keras.layers.MaxPooling2D(pool_size=(1,3))(x)\n",
    "# x = tf.keras.layers.Dropout(0.2)(x)\n",
    "# x = tf.keras.layers.Flatten()(x)\n",
    "# x = tf.keras.layers.Dropout(0.2)(x)"
   ]
  },
  {
   "cell_type": "code",
   "execution_count": 177,
   "id": "720ae0ed-8be9-44de-8beb-41155d444e76",
   "metadata": {},
   "outputs": [],
   "source": [
    "# final_out_layer = tf.keras.layers.Dense(1)"
   ]
  },
  {
   "cell_type": "code",
   "execution_count": 178,
   "id": "a284faa6-42ed-4834-ab75-28291c65eb15",
   "metadata": {},
   "outputs": [],
   "source": [
    "# final_out = final_out_layer(x)"
   ]
  },
  {
   "cell_type": "code",
   "execution_count": 179,
   "id": "dfe36747-9e6d-4f55-abaa-a52ef150d1f7",
   "metadata": {},
   "outputs": [],
   "source": [
    "# simplecdr = tf.keras.models.Model([input_gcn_features, input_norm_adj_mat, input_gen_expr,\n",
    "#                                    input_gen_methy, input_gen_mut], final_out)"
   ]
  },
  {
   "cell_type": "code",
   "execution_count": 180,
   "id": "6179d8a4-d66a-4084-a944-bc3fced8da92",
   "metadata": {},
   "outputs": [
    {
     "name": "stdout",
     "output_type": "stream",
     "text": [
      "Model: \"model\"\n",
      "__________________________________________________________________________________________________\n",
      " Layer (type)                   Output Shape         Param #     Connected to                     \n",
      "==================================================================================================\n",
      " input_3 (InputLayer)           [(None, 691, 2)]     0           []                               \n",
      "                                                                                                  \n",
      " dense_3 (Dense)                (None, 691, 32)      96          ['input_3[0][0]']                \n",
      "                                                                                                  \n",
      " dropout_3 (Dropout)            (None, 691, 32)      0           ['dense_3[0][0]']                \n",
      "                                                                                                  \n",
      " dense_4 (Dense)                (None, 691, 128)     4224        ['dropout_3[0][0]']              \n",
      "                                                                                                  \n",
      " dropout_4 (Dropout)            (None, 691, 128)     0           ['dense_4[0][0]']                \n",
      "                                                                                                  \n",
      " input_2 (InputLayer)           [(None, 100, 100)]   0           []                               \n",
      "                                                                                                  \n",
      " input_1 (InputLayer)           [(None, 100, 75)]    0           []                               \n",
      "                                                                                                  \n",
      " dense_5 (Dense)                (None, 691, 256)     33024       ['dropout_4[0][0]']              \n",
      "                                                                                                  \n",
      " dot (Dot)                      (None, 100, 75)      0           ['input_2[0][0]',                \n",
      "                                                                  'input_1[0][0]']                \n",
      "                                                                                                  \n",
      " batch_normalization_3 (BatchNo  (None, 691, 256)    1024        ['dense_5[0][0]']                \n",
      " rmalization)                                                                                     \n",
      "                                                                                                  \n",
      " dense (Dense)                  (None, 100, 256)     19456       ['dot[0][0]']                    \n",
      "                                                                                                  \n",
      " dropout_5 (Dropout)            (None, 691, 256)     0           ['batch_normalization_3[0][0]']  \n",
      "                                                                                                  \n",
      " batch_normalization (BatchNorm  (None, 100, 256)    1024        ['dense[0][0]']                  \n",
      " alization)                                                                                       \n",
      "                                                                                                  \n",
      " dense_6 (Dense)                (None, 691, 256)     65792       ['dropout_5[0][0]']              \n",
      "                                                                                                  \n",
      " dropout (Dropout)              (None, 100, 256)     0           ['batch_normalization[0][0]']    \n",
      "                                                                                                  \n",
      " batch_normalization_4 (BatchNo  (None, 691, 256)    1024        ['dense_6[0][0]']                \n",
      " rmalization)                                                                                     \n",
      "                                                                                                  \n",
      " dot_1 (Dot)                    (None, 100, 256)     0           ['input_2[0][0]',                \n",
      "                                                                  'dropout[0][0]']                \n",
      "                                                                                                  \n",
      " dropout_6 (Dropout)            (None, 691, 256)     0           ['batch_normalization_4[0][0]']  \n",
      "                                                                                                  \n",
      " dense_1 (Dense)                (None, 100, 256)     65792       ['dot_1[0][0]']                  \n",
      "                                                                                                  \n",
      " input_5 (InputLayer)           [(None, 34673)]      0           []                               \n",
      "                                                                                                  \n",
      " dense_7 (Dense)                (None, 691, 256)     65792       ['dropout_6[0][0]']              \n",
      "                                                                                                  \n",
      " batch_normalization_1 (BatchNo  (None, 100, 256)    1024        ['dense_1[0][0]']                \n",
      " rmalization)                                                                                     \n",
      "                                                                                                  \n",
      " reshape (Reshape)              (None, 1, 34673, 1)  0           ['input_5[0][0]']                \n",
      "                                                                                                  \n",
      " batch_normalization_5 (BatchNo  (None, 691, 256)    1024        ['dense_7[0][0]']                \n",
      " rmalization)                                                                                     \n",
      "                                                                                                  \n",
      " dropout_1 (Dropout)            (None, 100, 256)     0           ['batch_normalization_1[0][0]']  \n",
      "                                                                                                  \n",
      " input_4 (InputLayer)           [(None, 808)]        0           []                               \n",
      "                                                                                                  \n",
      " conv2d (Conv2D)                (None, 1, 6795, 50)  35050       ['reshape[0][0]']                \n",
      "                                                                                                  \n",
      " dropout_7 (Dropout)            (None, 691, 256)     0           ['batch_normalization_5[0][0]']  \n",
      "                                                                                                  \n",
      " dot_2 (Dot)                    (None, 100, 256)     0           ['input_2[0][0]',                \n",
      "                                                                  'dropout_1[0][0]']              \n",
      "                                                                                                  \n",
      " dense_9 (Dense)                (None, 256)          207104      ['input_4[0][0]']                \n",
      "                                                                                                  \n",
      " max_pooling2d (MaxPooling2D)   (None, 1, 1359, 50)  0           ['conv2d[0][0]']                 \n",
      "                                                                                                  \n",
      " dense_8 (Dense)                (None, 691, 256)     65792       ['dropout_7[0][0]']              \n",
      "                                                                                                  \n",
      " dense_2 (Dense)                (None, 100, 100)     25700       ['dot_2[0][0]']                  \n",
      "                                                                                                  \n",
      " batch_normalization_7 (BatchNo  (None, 256)         1024        ['dense_9[0][0]']                \n",
      " rmalization)                                                                                     \n",
      "                                                                                                  \n",
      " conv2d_1 (Conv2D)              (None, 1, 678, 30)   7530        ['max_pooling2d[0][0]']          \n",
      "                                                                                                  \n",
      " batch_normalization_6 (BatchNo  (None, 691, 256)    1024        ['dense_8[0][0]']                \n",
      " rmalization)                                                                                     \n",
      "                                                                                                  \n",
      " batch_normalization_2 (BatchNo  (None, 100, 100)    400         ['dense_2[0][0]']                \n",
      " rmalization)                                                                                     \n",
      "                                                                                                  \n",
      " dropout_9 (Dropout)            (None, 256)          0           ['batch_normalization_7[0][0]']  \n",
      "                                                                                                  \n",
      " max_pooling2d_1 (MaxPooling2D)  (None, 1, 67, 30)   0           ['conv2d_1[0][0]']               \n",
      "                                                                                                  \n",
      " dropout_8 (Dropout)            (None, 691, 256)     0           ['batch_normalization_6[0][0]']  \n",
      "                                                                                                  \n",
      " dropout_2 (Dropout)            (None, 100, 100)     0           ['batch_normalization_2[0][0]']  \n",
      "                                                                                                  \n",
      " dense_10 (Dense)               (None, 100)          25700       ['dropout_9[0][0]']              \n",
      "                                                                                                  \n",
      " flatten (Flatten)              (None, 2010)         0           ['max_pooling2d_1[0][0]']        \n",
      "                                                                                                  \n",
      " global_average_pooling1d_1 (Gl  (None, 256)         0           ['dropout_8[0][0]']              \n",
      " obalAveragePooling1D)                                                                            \n",
      "                                                                                                  \n",
      " global_average_pooling1d (Glob  (None, 100)         0           ['dropout_2[0][0]']              \n",
      " alAveragePooling1D)                                                                              \n",
      "                                                                                                  \n",
      " concatenate (Concatenate)      (None, 2466)         0           ['dense_10[0][0]',               \n",
      "                                                                  'flatten[0][0]',                \n",
      "                                                                  'global_average_pooling1d_1[0][0\n",
      "                                                                 ]',                              \n",
      "                                                                  'global_average_pooling1d[0][0]'\n",
      "                                                                 ]                                \n",
      "                                                                                                  \n",
      " dense_11 (Dense)               (None, 300)          740100      ['concatenate[0][0]']            \n",
      "                                                                                                  \n",
      " dropout_10 (Dropout)           (None, 300)          0           ['dense_11[0][0]']               \n",
      "                                                                                                  \n",
      " lambda (Lambda)                (None, 300, 1)       0           ['dropout_10[0][0]']             \n",
      "                                                                                                  \n",
      " lambda_1 (Lambda)              (None, 1, 300, 1)    0           ['lambda[0][0]']                 \n",
      "                                                                                                  \n",
      " conv2d_2 (Conv2D)              (None, 1, 151, 30)   4530        ['lambda_1[0][0]']               \n",
      "                                                                                                  \n",
      " max_pooling2d_2 (MaxPooling2D)  (None, 1, 75, 30)   0           ['conv2d_2[0][0]']               \n",
      "                                                                                                  \n",
      " conv2d_3 (Conv2D)              (None, 1, 71, 10)    1510        ['max_pooling2d_2[0][0]']        \n",
      "                                                                                                  \n",
      " max_pooling2d_3 (MaxPooling2D)  (None, 1, 23, 10)   0           ['conv2d_3[0][0]']               \n",
      "                                                                                                  \n",
      " conv2d_4 (Conv2D)              (None, 1, 19, 5)     255         ['max_pooling2d_3[0][0]']        \n",
      "                                                                                                  \n",
      " max_pooling2d_4 (MaxPooling2D)  (None, 1, 6, 5)     0           ['conv2d_4[0][0]']               \n",
      "                                                                                                  \n",
      " dropout_11 (Dropout)           (None, 1, 6, 5)      0           ['max_pooling2d_4[0][0]']        \n",
      "                                                                                                  \n",
      " flatten_1 (Flatten)            (None, 30)           0           ['dropout_11[0][0]']             \n",
      "                                                                                                  \n",
      " dropout_12 (Dropout)           (None, 30)           0           ['flatten_1[0][0]']              \n",
      "                                                                                                  \n",
      " dense_12 (Dense)               (None, 1)            31          ['dropout_12[0][0]']             \n",
      "                                                                                                  \n",
      "==================================================================================================\n",
      "Total params: 1,375,046\n",
      "Trainable params: 1,371,262\n",
      "Non-trainable params: 3,784\n",
      "__________________________________________________________________________________________________\n"
     ]
    }
   ],
   "source": [
    "simplecdr.summary()"
   ]
  },
  {
   "cell_type": "code",
   "execution_count": 181,
   "id": "e83ba73d-bc93-4d35-948a-3b99fa03ba78",
   "metadata": {},
   "outputs": [],
   "source": [
    "# simplecdr.compile(loss = tf.keras.losses.MeanSquaredError(), \n",
    "#                     optimizer = tf.keras.optimizers.Adam(lr=0.001, beta_1=0.9, beta_2=0.999, epsilon=None, decay=0.0, amsgrad=False), \n",
    "#                     metrics = [tf.keras.metrics.RootMeanSquaredError()])"
   ]
  },
  {
   "cell_type": "code",
   "execution_count": 182,
   "id": "e9d0a707-6893-4259-91a5-f331f812ab5e",
   "metadata": {},
   "outputs": [],
   "source": [
    "import random"
   ]
  },
  {
   "cell_type": "code",
   "execution_count": 183,
   "id": "454a61a0-9c2a-49bd-a5c3-4cc029472006",
   "metadata": {},
   "outputs": [
    {
     "data": {
      "text/plain": [
       "(69214, 100, 75)"
      ]
     },
     "execution_count": 183,
     "metadata": {},
     "output_type": "execute_result"
    }
   ],
   "source": [
    "train_gcn_feats.shape"
   ]
  },
  {
   "cell_type": "code",
   "execution_count": null,
   "id": "ebff6df3-7a4a-4fe9-870e-45bab44001ff",
   "metadata": {},
   "outputs": [
    {
     "name": "stdout",
     "output_type": "stream",
     "text": [
      "Epoch 1/10000\n"
     ]
    },
    {
     "name": "stderr",
     "output_type": "stream",
     "text": [
      "2023-07-29 21:33:59.125439: I tensorflow/stream_executor/cuda/cuda_dnn.cc:384] Loaded cuDNN version 8401\n"
     ]
    },
    {
     "name": "stdout",
     "output_type": "stream",
     "text": [
      "1082/1082 [==============================] - 46s 40ms/step - loss: 2.9813 - root_mean_squared_error: 1.7267 - val_loss: 2.2828 - val_root_mean_squared_error: 1.5109\n",
      "Epoch 2/10000\n",
      "1082/1082 [==============================] - 39s 36ms/step - loss: 1.8630 - root_mean_squared_error: 1.3649 - val_loss: 1.8851 - val_root_mean_squared_error: 1.3730\n",
      "Epoch 3/10000\n",
      "1082/1082 [==============================] - 39s 36ms/step - loss: 1.6513 - root_mean_squared_error: 1.2850 - val_loss: 14.8212 - val_root_mean_squared_error: 3.8498\n",
      "Epoch 4/10000\n",
      " 539/1082 [=============>................] - ETA: 17s - loss: 1.5639 - root_mean_squared_error: 1.2505"
     ]
    }
   ],
   "source": [
    "history = simplecdr.fit([train_gcn_feats[:80000,:, :], train_adj_list[:80000,:, :],\n",
    "                         omics_gen_copy_number_gen_expr_train[:80000,:,:], \n",
    "                         omics_gen_methyl_train[:80000,:], omics_gen_mut_train[:80000,:]], y_train.reshape(-1,1)[:80000,:], \n",
    "                         \n",
    "          batch_size = 64, epochs = 10000, verbose = 1,\n",
    "                         \n",
    "          validation_data=([ valid_gcn_feats, valid_adj_list,\n",
    "                           omics_gen_copy_number_gen_expr_valid, \n",
    "                           omics_gen_methyl_valid, omics_gen_mut_valid], y_valid.reshape(-1,1)),\n",
    "                         \n",
    "\n",
    "        callbacks = tf.keras.callbacks.EarlyStopping(monitor = \"val_loss\", patience = 10, restore_best_weights=True,\n",
    "                                                       mode = \"min\"), \n",
    "         validation_batch_size = 64, shuffle = True)"
   ]
  },
  {
   "cell_type": "code",
   "execution_count": null,
   "id": "163c3816-113b-4011-bc7e-9d312f422388",
   "metadata": {},
   "outputs": [],
   "source": [
    "simplecdr.save(\"..//Models//combo_cdr_gcn_more_dropout_neither_trained_nor_activated\")"
   ]
  },
  {
   "cell_type": "code",
   "execution_count": null,
   "id": "9f8d727d-315a-4659-bffe-6332b8e2a5d5",
   "metadata": {},
   "outputs": [],
   "source": [
    "simplecdr = tf.keras.models.load_model(\"..//Models//combo_cdr_gcn_more_dropout_neither_trained_nor_activated\")"
   ]
  },
  {
   "cell_type": "code",
   "execution_count": null,
   "id": "67999a1b-c3c2-4a5b-8a99-9609a208c7a4",
   "metadata": {},
   "outputs": [],
   "source": [
    "val_preds = simplecdr.predict([ valid_gcn_feats, valid_adj_list,\n",
    "                           omics_gen_copy_number_gen_expr_valid, \n",
    "                           omics_gen_methyl_valid, omics_gen_mut_valid])"
   ]
  },
  {
   "cell_type": "code",
   "execution_count": null,
   "id": "bb2cd2d9-13c1-432b-b587-2ba3cbc823b5",
   "metadata": {},
   "outputs": [],
   "source": [
    "import matplotlib.pyplot as plt"
   ]
  },
  {
   "cell_type": "code",
   "execution_count": null,
   "id": "1263b8c2-1c95-4245-9772-3e314cd1b11d",
   "metadata": {},
   "outputs": [],
   "source": [
    "plt.scatter(y_valid.reshape(-1,1), val_preds, alpha = 0.1)\n",
    "plt.axline((0,0), slope = 1, c = \"black\")\n",
    "plt.show()"
   ]
  },
  {
   "cell_type": "code",
   "execution_count": null,
   "id": "21498443-c4b0-4169-9b5b-e5c92ceeefe7",
   "metadata": {},
   "outputs": [],
   "source": [
    "from scipy.stats import pearsonr"
   ]
  },
  {
   "cell_type": "code",
   "execution_count": null,
   "id": "13ca5ce7-ed15-44cd-9fa0-d51a727e55cb",
   "metadata": {},
   "outputs": [],
   "source": [
    "res = pearsonr(y_valid.tolist(), val_preds.tolist())"
   ]
  },
  {
   "cell_type": "code",
   "execution_count": null,
   "id": "69e83b8e-04aa-4b76-8a4d-37e4f4cb0aa1",
   "metadata": {},
   "outputs": [],
   "source": [
    "res"
   ]
  },
  {
   "cell_type": "code",
   "execution_count": null,
   "id": "96538223-90b7-4fc4-b3f3-e7bcfc6c34c5",
   "metadata": {},
   "outputs": [],
   "source": [
    "res[0][0]"
   ]
  },
  {
   "cell_type": "code",
   "execution_count": null,
   "id": "b4efab4e-7c6f-4b3b-b34b-b58381249fe4",
   "metadata": {},
   "outputs": [],
   "source": [
    "with open(\"..//data//history_combo_cdr_gcn_more_dropout_neither_trained_nor_activated.pickle\", \"wb\") as f:\n",
    "    pickle.dump(history, f)"
   ]
  }
 ],
 "metadata": {
  "kernelspec": {
   "display_name": "Python (enkf_gpu)",
   "language": "python",
   "name": "tf_custom_gayara_2"
  },
  "language_info": {
   "codemirror_mode": {
    "name": "ipython",
    "version": 3
   },
   "file_extension": ".py",
   "mimetype": "text/x-python",
   "name": "python",
   "nbconvert_exporter": "python",
   "pygments_lexer": "ipython3",
   "version": "3.9.13"
  }
 },
 "nbformat": 4,
 "nbformat_minor": 5
}
