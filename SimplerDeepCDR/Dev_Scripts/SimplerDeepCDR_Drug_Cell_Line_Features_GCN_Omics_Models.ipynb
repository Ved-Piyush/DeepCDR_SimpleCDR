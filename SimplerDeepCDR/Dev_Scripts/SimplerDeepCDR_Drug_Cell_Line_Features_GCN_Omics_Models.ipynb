{
 "cells": [
  {
   "cell_type": "code",
   "execution_count": 1,
   "id": "a9c5f6c6-4c0f-4e8a-ad6b-038ec2bece24",
   "metadata": {},
   "outputs": [
    {
     "name": "stderr",
     "output_type": "stream",
     "text": [
      "2023-07-20 21:14:44.727755: I tensorflow/core/util/util.cc:169] oneDNN custom operations are on. You may see slightly different numerical results due to floating-point round-off errors from different computation orders. To turn them off, set the environment variable `TF_ENABLE_ONEDNN_OPTS=0`.\n"
     ]
    }
   ],
   "source": [
    "import pandas as pd\n",
    "import numpy as np\n",
    "import tensorflow as tf\n",
    "from sklearn.preprocessing import StandardScaler"
   ]
  },
  {
   "cell_type": "code",
   "execution_count": 2,
   "id": "337393a3-703a-4450-aee3-6a5107db817a",
   "metadata": {},
   "outputs": [],
   "source": [
    "# read the file that has smiles and ids"
   ]
  },
  {
   "cell_type": "code",
   "execution_count": 3,
   "id": "f827d866-6e16-4d4f-aee6-c3a15562f949",
   "metadata": {},
   "outputs": [],
   "source": [
    "pubchem_to_drugs_df = pd.read_csv('../data/GDSC/1.Drug_listMon Jun 24 09_00_55 2019.csv')"
   ]
  },
  {
   "cell_type": "code",
   "execution_count": 4,
   "id": "88ca79c0-6a19-4163-b473-096db2231e7d",
   "metadata": {},
   "outputs": [],
   "source": [
    "pubchem_to_drugs_df = pubchem_to_drugs_df[[\"drug_id\", \"PubCHEM\"]]"
   ]
  },
  {
   "cell_type": "code",
   "execution_count": 5,
   "id": "9a8ce4bd-c165-4791-be74-16ab00fe49a6",
   "metadata": {},
   "outputs": [
    {
     "data": {
      "text/plain": [
       "drug_id     int64\n",
       "PubCHEM    object\n",
       "dtype: object"
      ]
     },
     "execution_count": 5,
     "metadata": {},
     "output_type": "execute_result"
    }
   ],
   "source": [
    "pubchem_to_drugs_df.dtypes"
   ]
  },
  {
   "cell_type": "code",
   "execution_count": 6,
   "id": "39b52daa-a6fe-49d7-9920-118e0708a8e7",
   "metadata": {},
   "outputs": [],
   "source": [
    "pubchem_to_drugs_df[\"PubCHEM\"] = [val if str(val).isdigit() else np.nan for val in pubchem_to_drugs_df[\"PubCHEM\"] ]"
   ]
  },
  {
   "cell_type": "code",
   "execution_count": 7,
   "id": "ca15852a-6541-477a-ad0c-664e8ae55855",
   "metadata": {},
   "outputs": [],
   "source": [
    "pubchem_to_drugs_df = pubchem_to_drugs_df.dropna()"
   ]
  },
  {
   "cell_type": "code",
   "execution_count": 8,
   "id": "761ec3eb-27b8-424d-884b-16527a0cd317",
   "metadata": {},
   "outputs": [],
   "source": [
    "pubchem_to_drugs_df[\"PubCHEM\"] = pubchem_to_drugs_df[\"PubCHEM\"].astype(np.int64)"
   ]
  },
  {
   "cell_type": "code",
   "execution_count": 9,
   "id": "e3dd8967-aac8-4606-a9f8-ce6bd29fa3a3",
   "metadata": {},
   "outputs": [],
   "source": [
    "pubchem_to_smiles = pd.read_csv('../data/223drugs_pubchem_smiles.txt', sep=\"\\t\", header=None)"
   ]
  },
  {
   "cell_type": "code",
   "execution_count": 10,
   "id": "e746e4c6-714f-4dbd-a906-b71450657c8f",
   "metadata": {},
   "outputs": [],
   "source": [
    "pubchem_to_smiles.columns = [\"PubCHEM\", \"Smiles\"]"
   ]
  },
  {
   "cell_type": "code",
   "execution_count": 11,
   "id": "eb85a00b-40dc-4502-8bcf-70ef3b9c0d5a",
   "metadata": {},
   "outputs": [],
   "source": [
    "pubchem_to_smiles[\"PubCHEM\"] = pubchem_to_smiles[\"PubCHEM\"].astype(np.int64)"
   ]
  },
  {
   "cell_type": "code",
   "execution_count": 12,
   "id": "fee4d18b-72d8-4635-b4b6-5bfb4804b65a",
   "metadata": {},
   "outputs": [],
   "source": [
    "pubchem_drugs_smiles_df = pubchem_to_drugs_df.merge(pubchem_to_smiles, on = \"PubCHEM\")"
   ]
  },
  {
   "cell_type": "code",
   "execution_count": 13,
   "id": "8187d9eb-d5b1-4932-9dfb-828953734d40",
   "metadata": {},
   "outputs": [],
   "source": [
    "def get_emb_models(dataset, id_col):\n",
    "    # std = StandardScaler()\n",
    "    unique_ids = dataset[id_col].values\n",
    "    text_vec_layer = tf.keras.layers.TextVectorization(max_tokens = dataset.shape[0] + 2, \n",
    "                                                  standardize=None, split = None, \n",
    "                                                  output_mode = \"int\", \n",
    "                                                  vocabulary = unique_ids.tolist())\n",
    "    weights = dataset.drop(id_col, 1).values\n",
    "    padding_zeros = np.zeros((2, weights.shape[1]))\n",
    "    weights = np.vstack((padding_zeros, weights))\n",
    "    # std.fit(weights)\n",
    "    # weights = std.transform(weights)\n",
    "    emb_layer = tf.keras.layers.Embedding(dataset.shape[0] + 2, \n",
    "                                     weights.shape[1], \n",
    "                                     weights = [weights], \n",
    "                                     trainable = False)\n",
    "    input_layer = tf.keras.layers.Input(shape = (1,), dtype = tf.string)\n",
    "    vec_out = text_vec_layer(input_layer)\n",
    "    emb_out = emb_layer(vec_out)\n",
    "    flat_out = tf.keras.layers.Flatten()(emb_out)\n",
    "    emb_model = tf.keras.models.Model(input_layer, flat_out)\n",
    "    return emb_model"
   ]
  },
  {
   "cell_type": "code",
   "execution_count": 14,
   "id": "1eb2398a-5dcb-451d-a44a-a4d663367786",
   "metadata": {},
   "outputs": [],
   "source": [
    "selected_info_common_cell_lines = \"../data/CCLE/cellline_list.txt\"\n",
    "selected_info_common_genes = \"../data/CCLE/gene_list.txt\""
   ]
  },
  {
   "cell_type": "code",
   "execution_count": 15,
   "id": "7d06153f-7749-4241-8547-8285af4a5e54",
   "metadata": {},
   "outputs": [],
   "source": [
    "with open(selected_info_common_genes) as f:\n",
    "    common_genes = [item.strip() for item in f.readlines()]"
   ]
  },
  {
   "cell_type": "code",
   "execution_count": 16,
   "id": "81b8bcfe-b10c-4f4a-bf26-07d315a0c817",
   "metadata": {},
   "outputs": [
    {
     "data": {
      "text/plain": [
       "697"
      ]
     },
     "execution_count": 16,
     "metadata": {},
     "output_type": "execute_result"
    }
   ],
   "source": [
    "len(common_genes)"
   ]
  },
  {
   "cell_type": "code",
   "execution_count": 18,
   "id": "0343b0f8-7b7f-4edf-8646-1daa0151289a",
   "metadata": {},
   "outputs": [],
   "source": [
    "# read cancer cell line data\n",
    "cancer_cell_copy_num_df = pd.read_csv('../data/CCLE/genomic_copynumber_561celllines_710genes_demap_features.csv')"
   ]
  },
  {
   "cell_type": "code",
   "execution_count": 19,
   "id": "cd0a1721-e95b-43c7-b31c-dc11f43cfdfd",
   "metadata": {},
   "outputs": [
    {
     "data": {
      "text/plain": [
       "(561, 711)"
      ]
     },
     "execution_count": 19,
     "metadata": {},
     "output_type": "execute_result"
    }
   ],
   "source": [
    "cancer_cell_copy_num_df.shape"
   ]
  },
  {
   "cell_type": "code",
   "execution_count": 20,
   "id": "024e1339-3629-4249-a3dc-c7bb01a4f72d",
   "metadata": {},
   "outputs": [
    {
     "data": {
      "text/html": [
       "<div>\n",
       "<style scoped>\n",
       "    .dataframe tbody tr th:only-of-type {\n",
       "        vertical-align: middle;\n",
       "    }\n",
       "\n",
       "    .dataframe tbody tr th {\n",
       "        vertical-align: top;\n",
       "    }\n",
       "\n",
       "    .dataframe thead th {\n",
       "        text-align: right;\n",
       "    }\n",
       "</style>\n",
       "<table border=\"1\" class=\"dataframe\">\n",
       "  <thead>\n",
       "    <tr style=\"text-align: right;\">\n",
       "      <th></th>\n",
       "      <th>Unnamed: 0</th>\n",
       "      <th>AKT3</th>\n",
       "      <th>ABI1</th>\n",
       "      <th>SH2B3</th>\n",
       "      <th>CDH10</th>\n",
       "      <th>CDH11</th>\n",
       "      <th>AKAP9</th>\n",
       "      <th>CDH17</th>\n",
       "      <th>LHFP</th>\n",
       "      <th>CDK4</th>\n",
       "      <th>...</th>\n",
       "      <th>CD79B</th>\n",
       "      <th>BCLAF1</th>\n",
       "      <th>KEAP1</th>\n",
       "      <th>SETDB1</th>\n",
       "      <th>SRGAP3</th>\n",
       "      <th>MAFB</th>\n",
       "      <th>GOLGA5</th>\n",
       "      <th>THRAP3</th>\n",
       "      <th>MED12</th>\n",
       "      <th>CDH1</th>\n",
       "    </tr>\n",
       "  </thead>\n",
       "  <tbody>\n",
       "    <tr>\n",
       "      <th>0</th>\n",
       "      <td>ACH-000828</td>\n",
       "      <td>1.548332</td>\n",
       "      <td>1.040041</td>\n",
       "      <td>1.020747</td>\n",
       "      <td>1.374471</td>\n",
       "      <td>1.042200</td>\n",
       "      <td>0.848321</td>\n",
       "      <td>1.729350</td>\n",
       "      <td>0.847032</td>\n",
       "      <td>1.025471</td>\n",
       "      <td>...</td>\n",
       "      <td>1.121307</td>\n",
       "      <td>0.830675</td>\n",
       "      <td>0.879632</td>\n",
       "      <td>1.492768</td>\n",
       "      <td>1.053714</td>\n",
       "      <td>1.014371</td>\n",
       "      <td>1.213421</td>\n",
       "      <td>0.780331</td>\n",
       "      <td>1.013260</td>\n",
       "      <td>0.641870</td>\n",
       "    </tr>\n",
       "    <tr>\n",
       "      <th>1</th>\n",
       "      <td>ACH-000568</td>\n",
       "      <td>0.798791</td>\n",
       "      <td>1.072012</td>\n",
       "      <td>1.038193</td>\n",
       "      <td>1.061508</td>\n",
       "      <td>0.792855</td>\n",
       "      <td>1.061508</td>\n",
       "      <td>1.271905</td>\n",
       "      <td>0.779829</td>\n",
       "      <td>1.002602</td>\n",
       "      <td>...</td>\n",
       "      <td>1.316797</td>\n",
       "      <td>1.049884</td>\n",
       "      <td>0.821346</td>\n",
       "      <td>1.621861</td>\n",
       "      <td>1.291863</td>\n",
       "      <td>1.046269</td>\n",
       "      <td>0.799812</td>\n",
       "      <td>1.074006</td>\n",
       "      <td>1.005510</td>\n",
       "      <td>0.792855</td>\n",
       "    </tr>\n",
       "    <tr>\n",
       "      <th>2</th>\n",
       "      <td>ACH-000560</td>\n",
       "      <td>1.080266</td>\n",
       "      <td>0.864616</td>\n",
       "      <td>0.694564</td>\n",
       "      <td>1.053766</td>\n",
       "      <td>0.628903</td>\n",
       "      <td>1.423261</td>\n",
       "      <td>1.369500</td>\n",
       "      <td>0.632267</td>\n",
       "      <td>0.911728</td>\n",
       "      <td>...</td>\n",
       "      <td>1.100098</td>\n",
       "      <td>1.069393</td>\n",
       "      <td>1.232225</td>\n",
       "      <td>0.860476</td>\n",
       "      <td>1.063332</td>\n",
       "      <td>1.194632</td>\n",
       "      <td>1.050246</td>\n",
       "      <td>0.894051</td>\n",
       "      <td>0.873167</td>\n",
       "      <td>0.620049</td>\n",
       "    </tr>\n",
       "    <tr>\n",
       "      <th>3</th>\n",
       "      <td>ACH-000561</td>\n",
       "      <td>1.032649</td>\n",
       "      <td>1.408964</td>\n",
       "      <td>0.949651</td>\n",
       "      <td>1.293622</td>\n",
       "      <td>1.274622</td>\n",
       "      <td>1.503638</td>\n",
       "      <td>1.470401</td>\n",
       "      <td>1.198447</td>\n",
       "      <td>0.893277</td>\n",
       "      <td>...</td>\n",
       "      <td>1.063162</td>\n",
       "      <td>0.660578</td>\n",
       "      <td>0.892464</td>\n",
       "      <td>1.252069</td>\n",
       "      <td>0.650263</td>\n",
       "      <td>1.178741</td>\n",
       "      <td>1.052244</td>\n",
       "      <td>0.902153</td>\n",
       "      <td>0.681885</td>\n",
       "      <td>1.274622</td>\n",
       "    </tr>\n",
       "    <tr>\n",
       "      <th>4</th>\n",
       "      <td>ACH-000562</td>\n",
       "      <td>1.406262</td>\n",
       "      <td>1.005521</td>\n",
       "      <td>0.997044</td>\n",
       "      <td>1.015986</td>\n",
       "      <td>0.932915</td>\n",
       "      <td>1.007777</td>\n",
       "      <td>1.051055</td>\n",
       "      <td>0.822244</td>\n",
       "      <td>0.997044</td>\n",
       "      <td>...</td>\n",
       "      <td>1.192299</td>\n",
       "      <td>0.974316</td>\n",
       "      <td>0.997944</td>\n",
       "      <td>1.406262</td>\n",
       "      <td>0.810652</td>\n",
       "      <td>1.008153</td>\n",
       "      <td>0.943241</td>\n",
       "      <td>0.878888</td>\n",
       "      <td>0.608959</td>\n",
       "      <td>0.932915</td>\n",
       "    </tr>\n",
       "  </tbody>\n",
       "</table>\n",
       "<p>5 rows × 711 columns</p>\n",
       "</div>"
      ],
      "text/plain": [
       "   Unnamed: 0      AKT3      ABI1     SH2B3     CDH10     CDH11     AKAP9  \\\n",
       "0  ACH-000828  1.548332  1.040041  1.020747  1.374471  1.042200  0.848321   \n",
       "1  ACH-000568  0.798791  1.072012  1.038193  1.061508  0.792855  1.061508   \n",
       "2  ACH-000560  1.080266  0.864616  0.694564  1.053766  0.628903  1.423261   \n",
       "3  ACH-000561  1.032649  1.408964  0.949651  1.293622  1.274622  1.503638   \n",
       "4  ACH-000562  1.406262  1.005521  0.997044  1.015986  0.932915  1.007777   \n",
       "\n",
       "      CDH17      LHFP      CDK4  ...     CD79B    BCLAF1     KEAP1    SETDB1  \\\n",
       "0  1.729350  0.847032  1.025471  ...  1.121307  0.830675  0.879632  1.492768   \n",
       "1  1.271905  0.779829  1.002602  ...  1.316797  1.049884  0.821346  1.621861   \n",
       "2  1.369500  0.632267  0.911728  ...  1.100098  1.069393  1.232225  0.860476   \n",
       "3  1.470401  1.198447  0.893277  ...  1.063162  0.660578  0.892464  1.252069   \n",
       "4  1.051055  0.822244  0.997044  ...  1.192299  0.974316  0.997944  1.406262   \n",
       "\n",
       "     SRGAP3      MAFB    GOLGA5    THRAP3     MED12      CDH1  \n",
       "0  1.053714  1.014371  1.213421  0.780331  1.013260  0.641870  \n",
       "1  1.291863  1.046269  0.799812  1.074006  1.005510  0.792855  \n",
       "2  1.063332  1.194632  1.050246  0.894051  0.873167  0.620049  \n",
       "3  0.650263  1.178741  1.052244  0.902153  0.681885  1.274622  \n",
       "4  0.810652  1.008153  0.943241  0.878888  0.608959  0.932915  \n",
       "\n",
       "[5 rows x 711 columns]"
      ]
     },
     "execution_count": 20,
     "metadata": {},
     "output_type": "execute_result"
    }
   ],
   "source": [
    "cancer_cell_copy_num_df.head()"
   ]
  },
  {
   "cell_type": "code",
   "execution_count": 28,
   "id": "bb027f7a-dcbe-4d86-a497-e5beab9562b7",
   "metadata": {},
   "outputs": [
    {
     "ename": "KeyError",
     "evalue": "\"['ZMYM2', 'RANBP17', 'PCSK7', 'TTL', 'CHN1', 'PATZ1'] not in index\"",
     "output_type": "error",
     "traceback": [
      "\u001b[0;31m---------------------------------------------------------------------------\u001b[0m",
      "\u001b[0;31mKeyError\u001b[0m                                  Traceback (most recent call last)",
      "Cell \u001b[0;32mIn [28], line 1\u001b[0m\n\u001b[0;32m----> 1\u001b[0m \u001b[43mcancer_cell_copy_num_df\u001b[49m\u001b[43m[\u001b[49m\u001b[43mcommon_genes\u001b[49m\u001b[43m]\u001b[49m\n",
      "File \u001b[0;32m~/.conda/envs/tensorflow-gpu-2.9-custom/lib/python3.9/site-packages/pandas/core/frame.py:3511\u001b[0m, in \u001b[0;36mDataFrame.__getitem__\u001b[0;34m(self, key)\u001b[0m\n\u001b[1;32m   3509\u001b[0m     \u001b[38;5;28;01mif\u001b[39;00m is_iterator(key):\n\u001b[1;32m   3510\u001b[0m         key \u001b[38;5;241m=\u001b[39m \u001b[38;5;28mlist\u001b[39m(key)\n\u001b[0;32m-> 3511\u001b[0m     indexer \u001b[38;5;241m=\u001b[39m \u001b[38;5;28;43mself\u001b[39;49m\u001b[38;5;241;43m.\u001b[39;49m\u001b[43mcolumns\u001b[49m\u001b[38;5;241;43m.\u001b[39;49m\u001b[43m_get_indexer_strict\u001b[49m\u001b[43m(\u001b[49m\u001b[43mkey\u001b[49m\u001b[43m,\u001b[49m\u001b[43m \u001b[49m\u001b[38;5;124;43m\"\u001b[39;49m\u001b[38;5;124;43mcolumns\u001b[39;49m\u001b[38;5;124;43m\"\u001b[39;49m\u001b[43m)\u001b[49m[\u001b[38;5;241m1\u001b[39m]\n\u001b[1;32m   3513\u001b[0m \u001b[38;5;66;03m# take() does not accept boolean indexers\u001b[39;00m\n\u001b[1;32m   3514\u001b[0m \u001b[38;5;28;01mif\u001b[39;00m \u001b[38;5;28mgetattr\u001b[39m(indexer, \u001b[38;5;124m\"\u001b[39m\u001b[38;5;124mdtype\u001b[39m\u001b[38;5;124m\"\u001b[39m, \u001b[38;5;28;01mNone\u001b[39;00m) \u001b[38;5;241m==\u001b[39m \u001b[38;5;28mbool\u001b[39m:\n",
      "File \u001b[0;32m~/.conda/envs/tensorflow-gpu-2.9-custom/lib/python3.9/site-packages/pandas/core/indexes/base.py:5796\u001b[0m, in \u001b[0;36mIndex._get_indexer_strict\u001b[0;34m(self, key, axis_name)\u001b[0m\n\u001b[1;32m   5793\u001b[0m \u001b[38;5;28;01melse\u001b[39;00m:\n\u001b[1;32m   5794\u001b[0m     keyarr, indexer, new_indexer \u001b[38;5;241m=\u001b[39m \u001b[38;5;28mself\u001b[39m\u001b[38;5;241m.\u001b[39m_reindex_non_unique(keyarr)\n\u001b[0;32m-> 5796\u001b[0m \u001b[38;5;28;43mself\u001b[39;49m\u001b[38;5;241;43m.\u001b[39;49m\u001b[43m_raise_if_missing\u001b[49m\u001b[43m(\u001b[49m\u001b[43mkeyarr\u001b[49m\u001b[43m,\u001b[49m\u001b[43m \u001b[49m\u001b[43mindexer\u001b[49m\u001b[43m,\u001b[49m\u001b[43m \u001b[49m\u001b[43maxis_name\u001b[49m\u001b[43m)\u001b[49m\n\u001b[1;32m   5798\u001b[0m keyarr \u001b[38;5;241m=\u001b[39m \u001b[38;5;28mself\u001b[39m\u001b[38;5;241m.\u001b[39mtake(indexer)\n\u001b[1;32m   5799\u001b[0m \u001b[38;5;28;01mif\u001b[39;00m \u001b[38;5;28misinstance\u001b[39m(key, Index):\n\u001b[1;32m   5800\u001b[0m     \u001b[38;5;66;03m# GH 42790 - Preserve name from an Index\u001b[39;00m\n",
      "File \u001b[0;32m~/.conda/envs/tensorflow-gpu-2.9-custom/lib/python3.9/site-packages/pandas/core/indexes/base.py:5859\u001b[0m, in \u001b[0;36mIndex._raise_if_missing\u001b[0;34m(self, key, indexer, axis_name)\u001b[0m\n\u001b[1;32m   5856\u001b[0m     \u001b[38;5;28;01mraise\u001b[39;00m \u001b[38;5;167;01mKeyError\u001b[39;00m(\u001b[38;5;124mf\u001b[39m\u001b[38;5;124m\"\u001b[39m\u001b[38;5;124mNone of [\u001b[39m\u001b[38;5;132;01m{\u001b[39;00mkey\u001b[38;5;132;01m}\u001b[39;00m\u001b[38;5;124m] are in the [\u001b[39m\u001b[38;5;132;01m{\u001b[39;00maxis_name\u001b[38;5;132;01m}\u001b[39;00m\u001b[38;5;124m]\u001b[39m\u001b[38;5;124m\"\u001b[39m)\n\u001b[1;32m   5858\u001b[0m not_found \u001b[38;5;241m=\u001b[39m \u001b[38;5;28mlist\u001b[39m(ensure_index(key)[missing_mask\u001b[38;5;241m.\u001b[39mnonzero()[\u001b[38;5;241m0\u001b[39m]]\u001b[38;5;241m.\u001b[39munique())\n\u001b[0;32m-> 5859\u001b[0m \u001b[38;5;28;01mraise\u001b[39;00m \u001b[38;5;167;01mKeyError\u001b[39;00m(\u001b[38;5;124mf\u001b[39m\u001b[38;5;124m\"\u001b[39m\u001b[38;5;132;01m{\u001b[39;00mnot_found\u001b[38;5;132;01m}\u001b[39;00m\u001b[38;5;124m not in index\u001b[39m\u001b[38;5;124m\"\u001b[39m)\n",
      "\u001b[0;31mKeyError\u001b[0m: \"['ZMYM2', 'RANBP17', 'PCSK7', 'TTL', 'CHN1', 'PATZ1'] not in index\""
     ]
    }
   ],
   "source": [
    "cancer_cell_copy_num_df[common_genes]"
   ]
  },
  {
   "cell_type": "code",
   "execution_count": 21,
   "id": "8f3e18ac-7756-4c00-8edf-8e0d4e627252",
   "metadata": {},
   "outputs": [
    {
     "name": "stderr",
     "output_type": "stream",
     "text": [
      "/tmp/ipykernel_1382693/1778569368.py:1: FutureWarning: Dropping of nuisance columns in DataFrame reductions (with 'numeric_only=None') is deprecated; in a future version this will raise TypeError.  Select only valid columns before calling the reduction.\n",
      "  cancer_cell_copy_num_df = cancer_cell_copy_num_df.fillna(cancer_cell_copy_num_df.mean())\n"
     ]
    }
   ],
   "source": [
    "cancer_cell_copy_num_df = cancer_cell_copy_num_df.fillna(cancer_cell_copy_num_df.mean())"
   ]
  },
  {
   "cell_type": "code",
   "execution_count": 22,
   "id": "bf367f3f-7c62-4c7f-9745-58bb3d9abc71",
   "metadata": {},
   "outputs": [],
   "source": [
    "int1 = cancer_cell_copy_num_df.columns[1:].tolist()"
   ]
  },
  {
   "cell_type": "code",
   "execution_count": 23,
   "id": "c2969c40-65b8-4a66-8b50-42c74bf1497c",
   "metadata": {},
   "outputs": [],
   "source": [
    "# read cancer cell line data\n",
    "cancer_cell_gen_expr_df = pd.read_csv('../data/CCLE/genomic_expression_561celllines_697genes_demap_features.csv')"
   ]
  },
  {
   "cell_type": "code",
   "execution_count": 24,
   "id": "d92e7eb6-b437-4d6f-881d-272b1f974ab3",
   "metadata": {},
   "outputs": [
    {
     "name": "stderr",
     "output_type": "stream",
     "text": [
      "/tmp/ipykernel_1382693/1063970889.py:1: FutureWarning: Dropping of nuisance columns in DataFrame reductions (with 'numeric_only=None') is deprecated; in a future version this will raise TypeError.  Select only valid columns before calling the reduction.\n",
      "  cancer_cell_gen_expr_df = cancer_cell_gen_expr_df.fillna(cancer_cell_gen_expr_df.mean())\n"
     ]
    }
   ],
   "source": [
    "cancer_cell_gen_expr_df = cancer_cell_gen_expr_df.fillna(cancer_cell_gen_expr_df.mean())"
   ]
  },
  {
   "cell_type": "code",
   "execution_count": 29,
   "id": "d28d2f71-6e0a-42f0-84a2-215fc45a26f9",
   "metadata": {},
   "outputs": [
    {
     "ename": "KeyError",
     "evalue": "\"['ZMYM2', 'RANBP17', 'PCSK7', 'TTL', 'CHN1', 'PATZ1'] not in index\"",
     "output_type": "error",
     "traceback": [
      "\u001b[0;31m---------------------------------------------------------------------------\u001b[0m",
      "\u001b[0;31mKeyError\u001b[0m                                  Traceback (most recent call last)",
      "Cell \u001b[0;32mIn [29], line 1\u001b[0m\n\u001b[0;32m----> 1\u001b[0m \u001b[43mcancer_cell_gen_expr_df\u001b[49m\u001b[43m[\u001b[49m\u001b[43mcommon_genes\u001b[49m\u001b[43m]\u001b[49m\n",
      "File \u001b[0;32m~/.conda/envs/tensorflow-gpu-2.9-custom/lib/python3.9/site-packages/pandas/core/frame.py:3511\u001b[0m, in \u001b[0;36mDataFrame.__getitem__\u001b[0;34m(self, key)\u001b[0m\n\u001b[1;32m   3509\u001b[0m     \u001b[38;5;28;01mif\u001b[39;00m is_iterator(key):\n\u001b[1;32m   3510\u001b[0m         key \u001b[38;5;241m=\u001b[39m \u001b[38;5;28mlist\u001b[39m(key)\n\u001b[0;32m-> 3511\u001b[0m     indexer \u001b[38;5;241m=\u001b[39m \u001b[38;5;28;43mself\u001b[39;49m\u001b[38;5;241;43m.\u001b[39;49m\u001b[43mcolumns\u001b[49m\u001b[38;5;241;43m.\u001b[39;49m\u001b[43m_get_indexer_strict\u001b[49m\u001b[43m(\u001b[49m\u001b[43mkey\u001b[49m\u001b[43m,\u001b[49m\u001b[43m \u001b[49m\u001b[38;5;124;43m\"\u001b[39;49m\u001b[38;5;124;43mcolumns\u001b[39;49m\u001b[38;5;124;43m\"\u001b[39;49m\u001b[43m)\u001b[49m[\u001b[38;5;241m1\u001b[39m]\n\u001b[1;32m   3513\u001b[0m \u001b[38;5;66;03m# take() does not accept boolean indexers\u001b[39;00m\n\u001b[1;32m   3514\u001b[0m \u001b[38;5;28;01mif\u001b[39;00m \u001b[38;5;28mgetattr\u001b[39m(indexer, \u001b[38;5;124m\"\u001b[39m\u001b[38;5;124mdtype\u001b[39m\u001b[38;5;124m\"\u001b[39m, \u001b[38;5;28;01mNone\u001b[39;00m) \u001b[38;5;241m==\u001b[39m \u001b[38;5;28mbool\u001b[39m:\n",
      "File \u001b[0;32m~/.conda/envs/tensorflow-gpu-2.9-custom/lib/python3.9/site-packages/pandas/core/indexes/base.py:5796\u001b[0m, in \u001b[0;36mIndex._get_indexer_strict\u001b[0;34m(self, key, axis_name)\u001b[0m\n\u001b[1;32m   5793\u001b[0m \u001b[38;5;28;01melse\u001b[39;00m:\n\u001b[1;32m   5794\u001b[0m     keyarr, indexer, new_indexer \u001b[38;5;241m=\u001b[39m \u001b[38;5;28mself\u001b[39m\u001b[38;5;241m.\u001b[39m_reindex_non_unique(keyarr)\n\u001b[0;32m-> 5796\u001b[0m \u001b[38;5;28;43mself\u001b[39;49m\u001b[38;5;241;43m.\u001b[39;49m\u001b[43m_raise_if_missing\u001b[49m\u001b[43m(\u001b[49m\u001b[43mkeyarr\u001b[49m\u001b[43m,\u001b[49m\u001b[43m \u001b[49m\u001b[43mindexer\u001b[49m\u001b[43m,\u001b[49m\u001b[43m \u001b[49m\u001b[43maxis_name\u001b[49m\u001b[43m)\u001b[49m\n\u001b[1;32m   5798\u001b[0m keyarr \u001b[38;5;241m=\u001b[39m \u001b[38;5;28mself\u001b[39m\u001b[38;5;241m.\u001b[39mtake(indexer)\n\u001b[1;32m   5799\u001b[0m \u001b[38;5;28;01mif\u001b[39;00m \u001b[38;5;28misinstance\u001b[39m(key, Index):\n\u001b[1;32m   5800\u001b[0m     \u001b[38;5;66;03m# GH 42790 - Preserve name from an Index\u001b[39;00m\n",
      "File \u001b[0;32m~/.conda/envs/tensorflow-gpu-2.9-custom/lib/python3.9/site-packages/pandas/core/indexes/base.py:5859\u001b[0m, in \u001b[0;36mIndex._raise_if_missing\u001b[0;34m(self, key, indexer, axis_name)\u001b[0m\n\u001b[1;32m   5856\u001b[0m     \u001b[38;5;28;01mraise\u001b[39;00m \u001b[38;5;167;01mKeyError\u001b[39;00m(\u001b[38;5;124mf\u001b[39m\u001b[38;5;124m\"\u001b[39m\u001b[38;5;124mNone of [\u001b[39m\u001b[38;5;132;01m{\u001b[39;00mkey\u001b[38;5;132;01m}\u001b[39;00m\u001b[38;5;124m] are in the [\u001b[39m\u001b[38;5;132;01m{\u001b[39;00maxis_name\u001b[38;5;132;01m}\u001b[39;00m\u001b[38;5;124m]\u001b[39m\u001b[38;5;124m\"\u001b[39m)\n\u001b[1;32m   5858\u001b[0m not_found \u001b[38;5;241m=\u001b[39m \u001b[38;5;28mlist\u001b[39m(ensure_index(key)[missing_mask\u001b[38;5;241m.\u001b[39mnonzero()[\u001b[38;5;241m0\u001b[39m]]\u001b[38;5;241m.\u001b[39munique())\n\u001b[0;32m-> 5859\u001b[0m \u001b[38;5;28;01mraise\u001b[39;00m \u001b[38;5;167;01mKeyError\u001b[39;00m(\u001b[38;5;124mf\u001b[39m\u001b[38;5;124m\"\u001b[39m\u001b[38;5;132;01m{\u001b[39;00mnot_found\u001b[38;5;132;01m}\u001b[39;00m\u001b[38;5;124m not in index\u001b[39m\u001b[38;5;124m\"\u001b[39m)\n",
      "\u001b[0;31mKeyError\u001b[0m: \"['ZMYM2', 'RANBP17', 'PCSK7', 'TTL', 'CHN1', 'PATZ1'] not in index\""
     ]
    }
   ],
   "source": [
    "cancer_cell_gen_expr_df[common_genes]"
   ]
  },
  {
   "cell_type": "code",
   "execution_count": 25,
   "id": "25b65fd5-9756-44f2-a425-24fc4c794384",
   "metadata": {},
   "outputs": [],
   "source": [
    "int2 = cancer_cell_gen_expr_df.columns[1:].tolist()"
   ]
  },
  {
   "cell_type": "code",
   "execution_count": 27,
   "id": "93f48770-a9b1-4943-a86a-80ab8630e66c",
   "metadata": {},
   "outputs": [
    {
     "data": {
      "text/plain": [
       "691"
      ]
     },
     "execution_count": 27,
     "metadata": {},
     "output_type": "execute_result"
    }
   ],
   "source": [
    "len(set(int2).intersection(common_genes))"
   ]
  },
  {
   "cell_type": "code",
   "execution_count": 24,
   "id": "a855e82a-504c-4325-8866-27a4494c3ed3",
   "metadata": {},
   "outputs": [],
   "source": [
    "common_genes = set(common_genes).intersection(int1)"
   ]
  },
  {
   "cell_type": "code",
   "execution_count": 25,
   "id": "d0acfd2b-8be1-46d2-bf6a-d15fc613a6cb",
   "metadata": {},
   "outputs": [],
   "source": [
    "common_genes = set(common_genes).intersection(int2)"
   ]
  },
  {
   "cell_type": "code",
   "execution_count": 26,
   "id": "1d642f30-0862-4afd-b891-eaf8135e7b99",
   "metadata": {},
   "outputs": [],
   "source": [
    "# len(common_genes)"
   ]
  },
  {
   "cell_type": "code",
   "execution_count": 27,
   "id": "a7405ea2-547d-43c3-9ff0-b98bf498e164",
   "metadata": {},
   "outputs": [
    {
     "name": "stderr",
     "output_type": "stream",
     "text": [
      "/tmp/ipykernel_579255/2924742545.py:1: FutureWarning: Passing a set as an indexer is deprecated and will raise in a future version. Use a list instead.\n",
      "  cancer_cell_copy_num_df = pd.concat([cancer_cell_copy_num_df.iloc[:,0], cancer_cell_copy_num_df.iloc[:,1:][common_genes]], axis = 1)\n"
     ]
    }
   ],
   "source": [
    "cancer_cell_copy_num_df = pd.concat([cancer_cell_copy_num_df.iloc[:,0], cancer_cell_copy_num_df.iloc[:,1:][common_genes]], axis = 1)"
   ]
  },
  {
   "cell_type": "code",
   "execution_count": 28,
   "id": "f697a6c6-8638-43fa-b054-510f1a984676",
   "metadata": {},
   "outputs": [],
   "source": [
    "# common_genes"
   ]
  },
  {
   "cell_type": "code",
   "execution_count": 29,
   "id": "6e5ade2b-4954-4f3a-9291-853043388950",
   "metadata": {},
   "outputs": [],
   "source": [
    "common_genes = list(common_genes)"
   ]
  },
  {
   "cell_type": "code",
   "execution_count": 30,
   "id": "a2030542-9ad7-4ad0-b32c-a606e0740fca",
   "metadata": {},
   "outputs": [],
   "source": [
    "import pickle"
   ]
  },
  {
   "cell_type": "code",
   "execution_count": 31,
   "id": "a9c9e165-d47f-4d38-9d20-e02898c8ed63",
   "metadata": {},
   "outputs": [],
   "source": [
    "with open(\"..//data//common_genes.pickle\", \"wb\") as f:\n",
    "    pickle.dump(common_genes, f)"
   ]
  },
  {
   "cell_type": "code",
   "execution_count": 32,
   "id": "05cd0ae7-c530-4c36-a653-84e95384dc37",
   "metadata": {},
   "outputs": [],
   "source": [
    "cancer_cell_gen_expr_df = pd.concat([cancer_cell_gen_expr_df.iloc[:,0], cancer_cell_gen_expr_df.iloc[:,1:][common_genes]], axis = 1)"
   ]
  },
  {
   "cell_type": "code",
   "execution_count": 33,
   "id": "1c5b8a7e-7f6c-495d-af9a-582fb8d31e7c",
   "metadata": {},
   "outputs": [
    {
     "data": {
      "text/html": [
       "<div>\n",
       "<style scoped>\n",
       "    .dataframe tbody tr th:only-of-type {\n",
       "        vertical-align: middle;\n",
       "    }\n",
       "\n",
       "    .dataframe tbody tr th {\n",
       "        vertical-align: top;\n",
       "    }\n",
       "\n",
       "    .dataframe thead th {\n",
       "        text-align: right;\n",
       "    }\n",
       "</style>\n",
       "<table border=\"1\" class=\"dataframe\">\n",
       "  <thead>\n",
       "    <tr style=\"text-align: right;\">\n",
       "      <th></th>\n",
       "      <th>Unnamed: 0</th>\n",
       "      <th>PTCH1</th>\n",
       "      <th>LATS1</th>\n",
       "      <th>ERBB2</th>\n",
       "      <th>BCL10</th>\n",
       "      <th>NCOR2</th>\n",
       "      <th>NRAS</th>\n",
       "      <th>CCNE1</th>\n",
       "      <th>ACKR3</th>\n",
       "      <th>PRDM2</th>\n",
       "      <th>...</th>\n",
       "      <th>BRCA2</th>\n",
       "      <th>POLG</th>\n",
       "      <th>PHOX2B</th>\n",
       "      <th>GOPC</th>\n",
       "      <th>PRPF40B</th>\n",
       "      <th>CIC</th>\n",
       "      <th>HOXC11</th>\n",
       "      <th>EIF1AX</th>\n",
       "      <th>USP8</th>\n",
       "      <th>ALK</th>\n",
       "    </tr>\n",
       "  </thead>\n",
       "  <tbody>\n",
       "    <tr>\n",
       "      <th>0</th>\n",
       "      <td>ACH-000828</td>\n",
       "      <td>0.695994</td>\n",
       "      <td>2.713696</td>\n",
       "      <td>11.456611</td>\n",
       "      <td>3.349082</td>\n",
       "      <td>6.412104</td>\n",
       "      <td>3.106013</td>\n",
       "      <td>3.723559</td>\n",
       "      <td>1.974529</td>\n",
       "      <td>3.499527</td>\n",
       "      <td>...</td>\n",
       "      <td>2.211012</td>\n",
       "      <td>5.301222</td>\n",
       "      <td>0.000000</td>\n",
       "      <td>3.612352</td>\n",
       "      <td>4.625855</td>\n",
       "      <td>4.649041</td>\n",
       "      <td>4.373648</td>\n",
       "      <td>5.694602</td>\n",
       "      <td>4.767125</td>\n",
       "      <td>0.000000</td>\n",
       "    </tr>\n",
       "    <tr>\n",
       "      <th>1</th>\n",
       "      <td>ACH-000568</td>\n",
       "      <td>2.169925</td>\n",
       "      <td>2.776104</td>\n",
       "      <td>10.959857</td>\n",
       "      <td>2.049631</td>\n",
       "      <td>5.475085</td>\n",
       "      <td>1.981853</td>\n",
       "      <td>3.661065</td>\n",
       "      <td>2.490570</td>\n",
       "      <td>2.432959</td>\n",
       "      <td>...</td>\n",
       "      <td>2.056584</td>\n",
       "      <td>4.800641</td>\n",
       "      <td>0.000000</td>\n",
       "      <td>3.764474</td>\n",
       "      <td>5.007644</td>\n",
       "      <td>4.688180</td>\n",
       "      <td>2.568032</td>\n",
       "      <td>5.239169</td>\n",
       "      <td>3.482848</td>\n",
       "      <td>0.070389</td>\n",
       "    </tr>\n",
       "    <tr>\n",
       "      <th>2</th>\n",
       "      <td>ACH-000560</td>\n",
       "      <td>3.884598</td>\n",
       "      <td>3.849999</td>\n",
       "      <td>3.300124</td>\n",
       "      <td>1.799087</td>\n",
       "      <td>5.960929</td>\n",
       "      <td>4.488001</td>\n",
       "      <td>4.676380</td>\n",
       "      <td>0.594549</td>\n",
       "      <td>3.799087</td>\n",
       "      <td>...</td>\n",
       "      <td>2.516015</td>\n",
       "      <td>5.763412</td>\n",
       "      <td>0.014355</td>\n",
       "      <td>5.245267</td>\n",
       "      <td>3.960697</td>\n",
       "      <td>5.780048</td>\n",
       "      <td>1.914565</td>\n",
       "      <td>6.024586</td>\n",
       "      <td>4.878725</td>\n",
       "      <td>0.070389</td>\n",
       "    </tr>\n",
       "    <tr>\n",
       "      <th>3</th>\n",
       "      <td>ACH-000561</td>\n",
       "      <td>4.297925</td>\n",
       "      <td>2.877744</td>\n",
       "      <td>5.804776</td>\n",
       "      <td>2.653060</td>\n",
       "      <td>5.077243</td>\n",
       "      <td>7.098769</td>\n",
       "      <td>2.952334</td>\n",
       "      <td>6.689858</td>\n",
       "      <td>4.009885</td>\n",
       "      <td>...</td>\n",
       "      <td>2.430285</td>\n",
       "      <td>6.017031</td>\n",
       "      <td>0.000000</td>\n",
       "      <td>3.598127</td>\n",
       "      <td>3.957915</td>\n",
       "      <td>3.948601</td>\n",
       "      <td>1.485427</td>\n",
       "      <td>6.373474</td>\n",
       "      <td>5.316870</td>\n",
       "      <td>0.422233</td>\n",
       "    </tr>\n",
       "    <tr>\n",
       "      <th>4</th>\n",
       "      <td>ACH-000562</td>\n",
       "      <td>1.201634</td>\n",
       "      <td>2.653060</td>\n",
       "      <td>5.973611</td>\n",
       "      <td>4.746850</td>\n",
       "      <td>5.421223</td>\n",
       "      <td>3.988230</td>\n",
       "      <td>4.313246</td>\n",
       "      <td>0.238787</td>\n",
       "      <td>3.147307</td>\n",
       "      <td>...</td>\n",
       "      <td>2.599318</td>\n",
       "      <td>5.459759</td>\n",
       "      <td>0.014355</td>\n",
       "      <td>3.761285</td>\n",
       "      <td>3.658783</td>\n",
       "      <td>4.100978</td>\n",
       "      <td>0.000000</td>\n",
       "      <td>5.681449</td>\n",
       "      <td>4.184280</td>\n",
       "      <td>0.275007</td>\n",
       "    </tr>\n",
       "    <tr>\n",
       "      <th>...</th>\n",
       "      <td>...</td>\n",
       "      <td>...</td>\n",
       "      <td>...</td>\n",
       "      <td>...</td>\n",
       "      <td>...</td>\n",
       "      <td>...</td>\n",
       "      <td>...</td>\n",
       "      <td>...</td>\n",
       "      <td>...</td>\n",
       "      <td>...</td>\n",
       "      <td>...</td>\n",
       "      <td>...</td>\n",
       "      <td>...</td>\n",
       "      <td>...</td>\n",
       "      <td>...</td>\n",
       "      <td>...</td>\n",
       "      <td>...</td>\n",
       "      <td>...</td>\n",
       "      <td>...</td>\n",
       "      <td>...</td>\n",
       "      <td>...</td>\n",
       "    </tr>\n",
       "    <tr>\n",
       "      <th>556</th>\n",
       "      <td>ACH-000242</td>\n",
       "      <td>1.485427</td>\n",
       "      <td>3.035624</td>\n",
       "      <td>6.441616</td>\n",
       "      <td>3.588565</td>\n",
       "      <td>5.997292</td>\n",
       "      <td>4.781360</td>\n",
       "      <td>4.280956</td>\n",
       "      <td>7.292506</td>\n",
       "      <td>3.324811</td>\n",
       "      <td>...</td>\n",
       "      <td>3.401903</td>\n",
       "      <td>5.643568</td>\n",
       "      <td>0.000000</td>\n",
       "      <td>3.375735</td>\n",
       "      <td>3.021480</td>\n",
       "      <td>5.087463</td>\n",
       "      <td>0.773996</td>\n",
       "      <td>6.121844</td>\n",
       "      <td>5.134632</td>\n",
       "      <td>0.014355</td>\n",
       "    </tr>\n",
       "    <tr>\n",
       "      <th>557</th>\n",
       "      <td>ACH-000245</td>\n",
       "      <td>3.135863</td>\n",
       "      <td>2.906891</td>\n",
       "      <td>1.516015</td>\n",
       "      <td>2.669027</td>\n",
       "      <td>5.025472</td>\n",
       "      <td>4.970394</td>\n",
       "      <td>4.829850</td>\n",
       "      <td>0.695994</td>\n",
       "      <td>5.239551</td>\n",
       "      <td>...</td>\n",
       "      <td>4.418865</td>\n",
       "      <td>6.417684</td>\n",
       "      <td>0.014355</td>\n",
       "      <td>4.631686</td>\n",
       "      <td>1.989139</td>\n",
       "      <td>4.620586</td>\n",
       "      <td>0.298658</td>\n",
       "      <td>6.216649</td>\n",
       "      <td>4.616475</td>\n",
       "      <td>0.000000</td>\n",
       "    </tr>\n",
       "    <tr>\n",
       "      <th>558</th>\n",
       "      <td>ACH-000244</td>\n",
       "      <td>1.469886</td>\n",
       "      <td>3.111031</td>\n",
       "      <td>5.431623</td>\n",
       "      <td>4.002703</td>\n",
       "      <td>6.752882</td>\n",
       "      <td>5.249825</td>\n",
       "      <td>3.326250</td>\n",
       "      <td>0.238787</td>\n",
       "      <td>3.600508</td>\n",
       "      <td>...</td>\n",
       "      <td>1.214125</td>\n",
       "      <td>5.351204</td>\n",
       "      <td>0.000000</td>\n",
       "      <td>4.429616</td>\n",
       "      <td>3.724650</td>\n",
       "      <td>4.991408</td>\n",
       "      <td>0.879706</td>\n",
       "      <td>6.822475</td>\n",
       "      <td>5.260402</td>\n",
       "      <td>0.263034</td>\n",
       "    </tr>\n",
       "    <tr>\n",
       "      <th>559</th>\n",
       "      <td>ACH-000247</td>\n",
       "      <td>3.134221</td>\n",
       "      <td>2.803227</td>\n",
       "      <td>6.014802</td>\n",
       "      <td>3.019702</td>\n",
       "      <td>6.217812</td>\n",
       "      <td>4.491212</td>\n",
       "      <td>3.976364</td>\n",
       "      <td>0.056584</td>\n",
       "      <td>3.566815</td>\n",
       "      <td>...</td>\n",
       "      <td>4.054848</td>\n",
       "      <td>5.666188</td>\n",
       "      <td>0.000000</td>\n",
       "      <td>4.118526</td>\n",
       "      <td>2.799087</td>\n",
       "      <td>4.274262</td>\n",
       "      <td>3.529821</td>\n",
       "      <td>6.670585</td>\n",
       "      <td>4.530445</td>\n",
       "      <td>0.000000</td>\n",
       "    </tr>\n",
       "    <tr>\n",
       "      <th>560</th>\n",
       "      <td>ACH-000369</td>\n",
       "      <td>3.465974</td>\n",
       "      <td>3.894333</td>\n",
       "      <td>2.107688</td>\n",
       "      <td>3.095924</td>\n",
       "      <td>5.197708</td>\n",
       "      <td>5.770036</td>\n",
       "      <td>5.424586</td>\n",
       "      <td>0.070389</td>\n",
       "      <td>4.252476</td>\n",
       "      <td>...</td>\n",
       "      <td>3.094236</td>\n",
       "      <td>5.402586</td>\n",
       "      <td>0.000000</td>\n",
       "      <td>4.009885</td>\n",
       "      <td>1.794936</td>\n",
       "      <td>5.006298</td>\n",
       "      <td>0.000000</td>\n",
       "      <td>6.819668</td>\n",
       "      <td>4.976822</td>\n",
       "      <td>0.014355</td>\n",
       "    </tr>\n",
       "  </tbody>\n",
       "</table>\n",
       "<p>561 rows × 692 columns</p>\n",
       "</div>"
      ],
      "text/plain": [
       "     Unnamed: 0     PTCH1     LATS1      ERBB2     BCL10     NCOR2      NRAS  \\\n",
       "0    ACH-000828  0.695994  2.713696  11.456611  3.349082  6.412104  3.106013   \n",
       "1    ACH-000568  2.169925  2.776104  10.959857  2.049631  5.475085  1.981853   \n",
       "2    ACH-000560  3.884598  3.849999   3.300124  1.799087  5.960929  4.488001   \n",
       "3    ACH-000561  4.297925  2.877744   5.804776  2.653060  5.077243  7.098769   \n",
       "4    ACH-000562  1.201634  2.653060   5.973611  4.746850  5.421223  3.988230   \n",
       "..          ...       ...       ...        ...       ...       ...       ...   \n",
       "556  ACH-000242  1.485427  3.035624   6.441616  3.588565  5.997292  4.781360   \n",
       "557  ACH-000245  3.135863  2.906891   1.516015  2.669027  5.025472  4.970394   \n",
       "558  ACH-000244  1.469886  3.111031   5.431623  4.002703  6.752882  5.249825   \n",
       "559  ACH-000247  3.134221  2.803227   6.014802  3.019702  6.217812  4.491212   \n",
       "560  ACH-000369  3.465974  3.894333   2.107688  3.095924  5.197708  5.770036   \n",
       "\n",
       "        CCNE1     ACKR3     PRDM2  ...     BRCA2      POLG    PHOX2B  \\\n",
       "0    3.723559  1.974529  3.499527  ...  2.211012  5.301222  0.000000   \n",
       "1    3.661065  2.490570  2.432959  ...  2.056584  4.800641  0.000000   \n",
       "2    4.676380  0.594549  3.799087  ...  2.516015  5.763412  0.014355   \n",
       "3    2.952334  6.689858  4.009885  ...  2.430285  6.017031  0.000000   \n",
       "4    4.313246  0.238787  3.147307  ...  2.599318  5.459759  0.014355   \n",
       "..        ...       ...       ...  ...       ...       ...       ...   \n",
       "556  4.280956  7.292506  3.324811  ...  3.401903  5.643568  0.000000   \n",
       "557  4.829850  0.695994  5.239551  ...  4.418865  6.417684  0.014355   \n",
       "558  3.326250  0.238787  3.600508  ...  1.214125  5.351204  0.000000   \n",
       "559  3.976364  0.056584  3.566815  ...  4.054848  5.666188  0.000000   \n",
       "560  5.424586  0.070389  4.252476  ...  3.094236  5.402586  0.000000   \n",
       "\n",
       "         GOPC   PRPF40B       CIC    HOXC11    EIF1AX      USP8       ALK  \n",
       "0    3.612352  4.625855  4.649041  4.373648  5.694602  4.767125  0.000000  \n",
       "1    3.764474  5.007644  4.688180  2.568032  5.239169  3.482848  0.070389  \n",
       "2    5.245267  3.960697  5.780048  1.914565  6.024586  4.878725  0.070389  \n",
       "3    3.598127  3.957915  3.948601  1.485427  6.373474  5.316870  0.422233  \n",
       "4    3.761285  3.658783  4.100978  0.000000  5.681449  4.184280  0.275007  \n",
       "..        ...       ...       ...       ...       ...       ...       ...  \n",
       "556  3.375735  3.021480  5.087463  0.773996  6.121844  5.134632  0.014355  \n",
       "557  4.631686  1.989139  4.620586  0.298658  6.216649  4.616475  0.000000  \n",
       "558  4.429616  3.724650  4.991408  0.879706  6.822475  5.260402  0.263034  \n",
       "559  4.118526  2.799087  4.274262  3.529821  6.670585  4.530445  0.000000  \n",
       "560  4.009885  1.794936  5.006298  0.000000  6.819668  4.976822  0.014355  \n",
       "\n",
       "[561 rows x 692 columns]"
      ]
     },
     "execution_count": 33,
     "metadata": {},
     "output_type": "execute_result"
    }
   ],
   "source": [
    "cancer_cell_gen_expr_df"
   ]
  },
  {
   "cell_type": "code",
   "execution_count": 34,
   "id": "4a2f0660-8493-4ded-8b98-2f0a7f869fb8",
   "metadata": {},
   "outputs": [
    {
     "name": "stderr",
     "output_type": "stream",
     "text": [
      "2023-07-18 17:16:13.066698: W tensorflow/stream_executor/platform/default/dso_loader.cc:64] Could not load dynamic library 'libcuda.so.1'; dlerror: libcuda.so.1: cannot open shared object file: No such file or directory; LD_LIBRARY_PATH: :\n",
      "2023-07-18 17:16:13.066738: W tensorflow/stream_executor/cuda/cuda_driver.cc:269] failed call to cuInit: UNKNOWN ERROR (303)\n",
      "2023-07-18 17:16:13.066765: I tensorflow/stream_executor/cuda/cuda_diagnostics.cc:156] kernel driver does not appear to be running on this host (c2518.swan.hcc.unl.edu): /proc/driver/nvidia/version does not exist\n",
      "2023-07-18 17:16:13.067129: I tensorflow/core/platform/cpu_feature_guard.cc:193] This TensorFlow binary is optimized with oneAPI Deep Neural Network Library (oneDNN) to use the following CPU instructions in performance-critical operations:  SSE4.1 SSE4.2 AVX AVX2 AVX512F AVX512_VNNI FMA\n",
      "To enable them in other operations, rebuild TensorFlow with the appropriate compiler flags.\n",
      "/tmp/ipykernel_579255/367420769.py:8: FutureWarning: In a future version of pandas all arguments of DataFrame.drop except for the argument 'labels' will be keyword-only.\n",
      "  weights = dataset.drop(id_col, 1).values\n"
     ]
    }
   ],
   "source": [
    "cancer_copy_number_model = get_emb_models(cancer_cell_copy_num_df, \"Unnamed: 0\")"
   ]
  },
  {
   "cell_type": "code",
   "execution_count": 35,
   "id": "8ce8de5f-07b3-4ffc-8f91-23713e6e7954",
   "metadata": {},
   "outputs": [
    {
     "name": "stdout",
     "output_type": "stream",
     "text": [
      "Model: \"model\"\n",
      "_________________________________________________________________\n",
      " Layer (type)                Output Shape              Param #   \n",
      "=================================================================\n",
      " input_1 (InputLayer)        [(None, 1)]               0         \n",
      "                                                                 \n",
      " text_vectorization (TextVec  (None, 1)                0         \n",
      " torization)                                                     \n",
      "                                                                 \n",
      " embedding (Embedding)       (None, 1, 691)            389033    \n",
      "                                                                 \n",
      " flatten (Flatten)           (None, 691)               0         \n",
      "                                                                 \n",
      "=================================================================\n",
      "Total params: 389,033\n",
      "Trainable params: 0\n",
      "Non-trainable params: 389,033\n",
      "_________________________________________________________________\n"
     ]
    }
   ],
   "source": [
    "cancer_copy_number_model.summary()"
   ]
  },
  {
   "cell_type": "code",
   "execution_count": 36,
   "id": "4890f83b-cc18-4250-bf40-d51b9e7592c9",
   "metadata": {},
   "outputs": [
    {
     "name": "stdout",
     "output_type": "stream",
     "text": [
      "WARNING:tensorflow:Compiled the loaded model, but the compiled metrics have yet to be built. `model.compile_metrics` will be empty until you train or evaluate the model.\n"
     ]
    },
    {
     "name": "stderr",
     "output_type": "stream",
     "text": [
      "WARNING:tensorflow:Compiled the loaded model, but the compiled metrics have yet to be built. `model.compile_metrics` will be empty until you train or evaluate the model.\n"
     ]
    },
    {
     "name": "stdout",
     "output_type": "stream",
     "text": [
      "INFO:tensorflow:Assets written to: ..//Models//cancer_copy_number_model_no_norm_common/assets\n"
     ]
    },
    {
     "name": "stderr",
     "output_type": "stream",
     "text": [
      "INFO:tensorflow:Assets written to: ..//Models//cancer_copy_number_model_no_norm_common/assets\n"
     ]
    }
   ],
   "source": [
    "cancer_copy_number_model.save(\"..//Models//cancer_copy_number_model_no_norm_common\")"
   ]
  },
  {
   "cell_type": "code",
   "execution_count": 37,
   "id": "7cf795f9-d87f-4702-8170-2c7e2b9501d4",
   "metadata": {},
   "outputs": [
    {
     "data": {
      "text/plain": [
       "(561, 692)"
      ]
     },
     "execution_count": 37,
     "metadata": {},
     "output_type": "execute_result"
    }
   ],
   "source": [
    "cancer_cell_gen_expr_df.shape"
   ]
  },
  {
   "cell_type": "code",
   "execution_count": 38,
   "id": "18e32d34-0c73-4f5b-884e-0db0baedf913",
   "metadata": {},
   "outputs": [
    {
     "data": {
      "text/html": [
       "<div>\n",
       "<style scoped>\n",
       "    .dataframe tbody tr th:only-of-type {\n",
       "        vertical-align: middle;\n",
       "    }\n",
       "\n",
       "    .dataframe tbody tr th {\n",
       "        vertical-align: top;\n",
       "    }\n",
       "\n",
       "    .dataframe thead th {\n",
       "        text-align: right;\n",
       "    }\n",
       "</style>\n",
       "<table border=\"1\" class=\"dataframe\">\n",
       "  <thead>\n",
       "    <tr style=\"text-align: right;\">\n",
       "      <th></th>\n",
       "      <th>Unnamed: 0</th>\n",
       "      <th>PTCH1</th>\n",
       "      <th>LATS1</th>\n",
       "      <th>ERBB2</th>\n",
       "      <th>BCL10</th>\n",
       "      <th>NCOR2</th>\n",
       "      <th>NRAS</th>\n",
       "      <th>CCNE1</th>\n",
       "      <th>ACKR3</th>\n",
       "      <th>PRDM2</th>\n",
       "      <th>...</th>\n",
       "      <th>BRCA2</th>\n",
       "      <th>POLG</th>\n",
       "      <th>PHOX2B</th>\n",
       "      <th>GOPC</th>\n",
       "      <th>PRPF40B</th>\n",
       "      <th>CIC</th>\n",
       "      <th>HOXC11</th>\n",
       "      <th>EIF1AX</th>\n",
       "      <th>USP8</th>\n",
       "      <th>ALK</th>\n",
       "    </tr>\n",
       "  </thead>\n",
       "  <tbody>\n",
       "    <tr>\n",
       "      <th>0</th>\n",
       "      <td>ACH-000828</td>\n",
       "      <td>0.695994</td>\n",
       "      <td>2.713696</td>\n",
       "      <td>11.456611</td>\n",
       "      <td>3.349082</td>\n",
       "      <td>6.412104</td>\n",
       "      <td>3.106013</td>\n",
       "      <td>3.723559</td>\n",
       "      <td>1.974529</td>\n",
       "      <td>3.499527</td>\n",
       "      <td>...</td>\n",
       "      <td>2.211012</td>\n",
       "      <td>5.301222</td>\n",
       "      <td>0.000000</td>\n",
       "      <td>3.612352</td>\n",
       "      <td>4.625855</td>\n",
       "      <td>4.649041</td>\n",
       "      <td>4.373648</td>\n",
       "      <td>5.694602</td>\n",
       "      <td>4.767125</td>\n",
       "      <td>0.000000</td>\n",
       "    </tr>\n",
       "    <tr>\n",
       "      <th>1</th>\n",
       "      <td>ACH-000568</td>\n",
       "      <td>2.169925</td>\n",
       "      <td>2.776104</td>\n",
       "      <td>10.959857</td>\n",
       "      <td>2.049631</td>\n",
       "      <td>5.475085</td>\n",
       "      <td>1.981853</td>\n",
       "      <td>3.661065</td>\n",
       "      <td>2.490570</td>\n",
       "      <td>2.432959</td>\n",
       "      <td>...</td>\n",
       "      <td>2.056584</td>\n",
       "      <td>4.800641</td>\n",
       "      <td>0.000000</td>\n",
       "      <td>3.764474</td>\n",
       "      <td>5.007644</td>\n",
       "      <td>4.688180</td>\n",
       "      <td>2.568032</td>\n",
       "      <td>5.239169</td>\n",
       "      <td>3.482848</td>\n",
       "      <td>0.070389</td>\n",
       "    </tr>\n",
       "    <tr>\n",
       "      <th>2</th>\n",
       "      <td>ACH-000560</td>\n",
       "      <td>3.884598</td>\n",
       "      <td>3.849999</td>\n",
       "      <td>3.300124</td>\n",
       "      <td>1.799087</td>\n",
       "      <td>5.960929</td>\n",
       "      <td>4.488001</td>\n",
       "      <td>4.676380</td>\n",
       "      <td>0.594549</td>\n",
       "      <td>3.799087</td>\n",
       "      <td>...</td>\n",
       "      <td>2.516015</td>\n",
       "      <td>5.763412</td>\n",
       "      <td>0.014355</td>\n",
       "      <td>5.245267</td>\n",
       "      <td>3.960697</td>\n",
       "      <td>5.780048</td>\n",
       "      <td>1.914565</td>\n",
       "      <td>6.024586</td>\n",
       "      <td>4.878725</td>\n",
       "      <td>0.070389</td>\n",
       "    </tr>\n",
       "    <tr>\n",
       "      <th>3</th>\n",
       "      <td>ACH-000561</td>\n",
       "      <td>4.297925</td>\n",
       "      <td>2.877744</td>\n",
       "      <td>5.804776</td>\n",
       "      <td>2.653060</td>\n",
       "      <td>5.077243</td>\n",
       "      <td>7.098769</td>\n",
       "      <td>2.952334</td>\n",
       "      <td>6.689858</td>\n",
       "      <td>4.009885</td>\n",
       "      <td>...</td>\n",
       "      <td>2.430285</td>\n",
       "      <td>6.017031</td>\n",
       "      <td>0.000000</td>\n",
       "      <td>3.598127</td>\n",
       "      <td>3.957915</td>\n",
       "      <td>3.948601</td>\n",
       "      <td>1.485427</td>\n",
       "      <td>6.373474</td>\n",
       "      <td>5.316870</td>\n",
       "      <td>0.422233</td>\n",
       "    </tr>\n",
       "    <tr>\n",
       "      <th>4</th>\n",
       "      <td>ACH-000562</td>\n",
       "      <td>1.201634</td>\n",
       "      <td>2.653060</td>\n",
       "      <td>5.973611</td>\n",
       "      <td>4.746850</td>\n",
       "      <td>5.421223</td>\n",
       "      <td>3.988230</td>\n",
       "      <td>4.313246</td>\n",
       "      <td>0.238787</td>\n",
       "      <td>3.147307</td>\n",
       "      <td>...</td>\n",
       "      <td>2.599318</td>\n",
       "      <td>5.459759</td>\n",
       "      <td>0.014355</td>\n",
       "      <td>3.761285</td>\n",
       "      <td>3.658783</td>\n",
       "      <td>4.100978</td>\n",
       "      <td>0.000000</td>\n",
       "      <td>5.681449</td>\n",
       "      <td>4.184280</td>\n",
       "      <td>0.275007</td>\n",
       "    </tr>\n",
       "  </tbody>\n",
       "</table>\n",
       "<p>5 rows × 692 columns</p>\n",
       "</div>"
      ],
      "text/plain": [
       "   Unnamed: 0     PTCH1     LATS1      ERBB2     BCL10     NCOR2      NRAS  \\\n",
       "0  ACH-000828  0.695994  2.713696  11.456611  3.349082  6.412104  3.106013   \n",
       "1  ACH-000568  2.169925  2.776104  10.959857  2.049631  5.475085  1.981853   \n",
       "2  ACH-000560  3.884598  3.849999   3.300124  1.799087  5.960929  4.488001   \n",
       "3  ACH-000561  4.297925  2.877744   5.804776  2.653060  5.077243  7.098769   \n",
       "4  ACH-000562  1.201634  2.653060   5.973611  4.746850  5.421223  3.988230   \n",
       "\n",
       "      CCNE1     ACKR3     PRDM2  ...     BRCA2      POLG    PHOX2B      GOPC  \\\n",
       "0  3.723559  1.974529  3.499527  ...  2.211012  5.301222  0.000000  3.612352   \n",
       "1  3.661065  2.490570  2.432959  ...  2.056584  4.800641  0.000000  3.764474   \n",
       "2  4.676380  0.594549  3.799087  ...  2.516015  5.763412  0.014355  5.245267   \n",
       "3  2.952334  6.689858  4.009885  ...  2.430285  6.017031  0.000000  3.598127   \n",
       "4  4.313246  0.238787  3.147307  ...  2.599318  5.459759  0.014355  3.761285   \n",
       "\n",
       "    PRPF40B       CIC    HOXC11    EIF1AX      USP8       ALK  \n",
       "0  4.625855  4.649041  4.373648  5.694602  4.767125  0.000000  \n",
       "1  5.007644  4.688180  2.568032  5.239169  3.482848  0.070389  \n",
       "2  3.960697  5.780048  1.914565  6.024586  4.878725  0.070389  \n",
       "3  3.957915  3.948601  1.485427  6.373474  5.316870  0.422233  \n",
       "4  3.658783  4.100978  0.000000  5.681449  4.184280  0.275007  \n",
       "\n",
       "[5 rows x 692 columns]"
      ]
     },
     "execution_count": 38,
     "metadata": {},
     "output_type": "execute_result"
    }
   ],
   "source": [
    "cancer_cell_gen_expr_df.head()"
   ]
  },
  {
   "cell_type": "code",
   "execution_count": 39,
   "id": "9cc76202-66cc-4c0a-9333-0d400100dcf2",
   "metadata": {},
   "outputs": [
    {
     "name": "stderr",
     "output_type": "stream",
     "text": [
      "/tmp/ipykernel_579255/367420769.py:8: FutureWarning: In a future version of pandas all arguments of DataFrame.drop except for the argument 'labels' will be keyword-only.\n",
      "  weights = dataset.drop(id_col, 1).values\n"
     ]
    }
   ],
   "source": [
    "cancer_cell_gen_expr_model = get_emb_models(cancer_cell_gen_expr_df, \"Unnamed: 0\")"
   ]
  },
  {
   "cell_type": "code",
   "execution_count": 40,
   "id": "31889205-4ddb-4b55-b73b-831bc08a4791",
   "metadata": {},
   "outputs": [
    {
     "name": "stdout",
     "output_type": "stream",
     "text": [
      "WARNING:tensorflow:Compiled the loaded model, but the compiled metrics have yet to be built. `model.compile_metrics` will be empty until you train or evaluate the model.\n"
     ]
    },
    {
     "name": "stderr",
     "output_type": "stream",
     "text": [
      "WARNING:tensorflow:Compiled the loaded model, but the compiled metrics have yet to be built. `model.compile_metrics` will be empty until you train or evaluate the model.\n"
     ]
    },
    {
     "name": "stdout",
     "output_type": "stream",
     "text": [
      "INFO:tensorflow:Assets written to: ..//Models//cancer_cell_gen_expr_model_no_norm_common/assets\n"
     ]
    },
    {
     "name": "stderr",
     "output_type": "stream",
     "text": [
      "INFO:tensorflow:Assets written to: ..//Models//cancer_cell_gen_expr_model_no_norm_common/assets\n"
     ]
    }
   ],
   "source": [
    "cancer_cell_gen_expr_model.save(\"..//Models//cancer_cell_gen_expr_model_no_norm_common\")"
   ]
  },
  {
   "cell_type": "code",
   "execution_count": 41,
   "id": "5fa419c6-5e73-4ef5-a0de-b63cea9f8ae1",
   "metadata": {},
   "outputs": [
    {
     "name": "stdout",
     "output_type": "stream",
     "text": [
      "Model: \"model_1\"\n",
      "_________________________________________________________________\n",
      " Layer (type)                Output Shape              Param #   \n",
      "=================================================================\n",
      " input_2 (InputLayer)        [(None, 1)]               0         \n",
      "                                                                 \n",
      " text_vectorization_1 (TextV  (None, 1)                0         \n",
      " ectorization)                                                   \n",
      "                                                                 \n",
      " embedding_1 (Embedding)     (None, 1, 691)            389033    \n",
      "                                                                 \n",
      " flatten_1 (Flatten)         (None, 691)               0         \n",
      "                                                                 \n",
      "=================================================================\n",
      "Total params: 389,033\n",
      "Trainable params: 0\n",
      "Non-trainable params: 389,033\n",
      "_________________________________________________________________\n"
     ]
    }
   ],
   "source": [
    "cancer_cell_gen_expr_model.summary()"
   ]
  }
 ],
 "metadata": {
  "kernelspec": {
   "display_name": "Python (enkf_gpu)",
   "language": "python",
   "name": "tf_custom_gayara_2"
  },
  "language_info": {
   "codemirror_mode": {
    "name": "ipython",
    "version": 3
   },
   "file_extension": ".py",
   "mimetype": "text/x-python",
   "name": "python",
   "nbconvert_exporter": "python",
   "pygments_lexer": "ipython3",
   "version": "3.9.13"
  }
 },
 "nbformat": 4,
 "nbformat_minor": 5
}
