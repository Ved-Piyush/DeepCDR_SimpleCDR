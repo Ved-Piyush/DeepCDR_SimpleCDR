{
 "cells": [
  {
   "cell_type": "code",
   "execution_count": 1,
   "id": "d79c4d60-25e3-41cb-b814-ef360e2fee9e",
   "metadata": {},
   "outputs": [
    {
     "name": "stderr",
     "output_type": "stream",
     "text": [
      "2023-07-16 09:29:01.248146: I tensorflow/core/util/util.cc:169] oneDNN custom operations are on. You may see slightly different numerical results due to floating-point round-off errors from different computation orders. To turn them off, set the environment variable `TF_ENABLE_ONEDNN_OPTS=0`.\n"
     ]
    }
   ],
   "source": [
    "import pandas as pd\n",
    "import tensorflow as tf\n",
    "import tensorflow_probability as tfp\n",
    "from tensorflow import keras\n",
    "from tensorflow.python.keras import backend as K\n",
    "from tensorflow.python.ops import array_ops\n",
    "from tensorflow.python.ops import math_ops"
   ]
  },
  {
   "cell_type": "code",
   "execution_count": 2,
   "id": "06020fb9-0d23-4866-8a4b-d13beac7044f",
   "metadata": {},
   "outputs": [],
   "source": [
    "drugs_cell_lines_ic50_df = pd.read_csv(\"..//data//drugs_cell_lines_ic50.csv\")"
   ]
  },
  {
   "cell_type": "code",
   "execution_count": 3,
   "id": "ef3c56b4-0691-4fb7-8d8d-e4637957e91a",
   "metadata": {},
   "outputs": [
    {
     "data": {
      "text/html": [
       "<div>\n",
       "<style scoped>\n",
       "    .dataframe tbody tr th:only-of-type {\n",
       "        vertical-align: middle;\n",
       "    }\n",
       "\n",
       "    .dataframe tbody tr th {\n",
       "        vertical-align: top;\n",
       "    }\n",
       "\n",
       "    .dataframe thead th {\n",
       "        text-align: right;\n",
       "    }\n",
       "</style>\n",
       "<table border=\"1\" class=\"dataframe\">\n",
       "  <thead>\n",
       "    <tr style=\"text-align: right;\">\n",
       "      <th></th>\n",
       "      <th>drug_id</th>\n",
       "      <th>Cancer_Cell_Line</th>\n",
       "      <th>IC50</th>\n",
       "    </tr>\n",
       "  </thead>\n",
       "  <tbody>\n",
       "    <tr>\n",
       "      <th>0</th>\n",
       "      <td>1001</td>\n",
       "      <td>ACH-002137</td>\n",
       "      <td>7.258918</td>\n",
       "    </tr>\n",
       "    <tr>\n",
       "      <th>1</th>\n",
       "      <td>1004</td>\n",
       "      <td>ACH-002137</td>\n",
       "      <td>-3.802467</td>\n",
       "    </tr>\n",
       "    <tr>\n",
       "      <th>2</th>\n",
       "      <td>1005</td>\n",
       "      <td>ACH-002137</td>\n",
       "      <td>4.146364</td>\n",
       "    </tr>\n",
       "    <tr>\n",
       "      <th>3</th>\n",
       "      <td>1006</td>\n",
       "      <td>ACH-002137</td>\n",
       "      <td>3.171367</td>\n",
       "    </tr>\n",
       "    <tr>\n",
       "      <th>4</th>\n",
       "      <td>1007</td>\n",
       "      <td>ACH-002137</td>\n",
       "      <td>-4.959442</td>\n",
       "    </tr>\n",
       "  </tbody>\n",
       "</table>\n",
       "</div>"
      ],
      "text/plain": [
       "   drug_id Cancer_Cell_Line      IC50\n",
       "0     1001       ACH-002137  7.258918\n",
       "1     1004       ACH-002137 -3.802467\n",
       "2     1005       ACH-002137  4.146364\n",
       "3     1006       ACH-002137  3.171367\n",
       "4     1007       ACH-002137 -4.959442"
      ]
     },
     "execution_count": 3,
     "metadata": {},
     "output_type": "execute_result"
    }
   ],
   "source": [
    "drugs_cell_lines_ic50_df.head()"
   ]
  },
  {
   "cell_type": "code",
   "execution_count": 4,
   "id": "1660298b-b5ce-4cff-bd71-86f7dc9222f5",
   "metadata": {},
   "outputs": [],
   "source": [
    "pubchem_drugs_smiles_df = pd.read_csv('..//data//drugs_smile_strings.csv')"
   ]
  },
  {
   "cell_type": "code",
   "execution_count": 5,
   "id": "58feccba-d7f5-4839-b44d-7c5bb7557ddd",
   "metadata": {},
   "outputs": [
    {
     "data": {
      "text/html": [
       "<div>\n",
       "<style scoped>\n",
       "    .dataframe tbody tr th:only-of-type {\n",
       "        vertical-align: middle;\n",
       "    }\n",
       "\n",
       "    .dataframe tbody tr th {\n",
       "        vertical-align: top;\n",
       "    }\n",
       "\n",
       "    .dataframe thead th {\n",
       "        text-align: right;\n",
       "    }\n",
       "</style>\n",
       "<table border=\"1\" class=\"dataframe\">\n",
       "  <thead>\n",
       "    <tr style=\"text-align: right;\">\n",
       "      <th></th>\n",
       "      <th>drug_id</th>\n",
       "      <th>Smiles</th>\n",
       "    </tr>\n",
       "  </thead>\n",
       "  <tbody>\n",
       "    <tr>\n",
       "      <th>0</th>\n",
       "      <td>1242</td>\n",
       "      <td>COc1cc(O)c2c(c1)C=CCC(O)C(O)C(=O)C=CCC(C)OC2=O</td>\n",
       "    </tr>\n",
       "    <tr>\n",
       "      <th>1</th>\n",
       "      <td>179</td>\n",
       "      <td>O=c1[nH]cc(F)c(=O)[nH]1</td>\n",
       "    </tr>\n",
       "    <tr>\n",
       "      <th>2</th>\n",
       "      <td>86</td>\n",
       "      <td>Cc1[nH]nc2ccc(-c3cncc(OCC(N)Cc4c[nH]c5ccccc45)...</td>\n",
       "    </tr>\n",
       "    <tr>\n",
       "      <th>3</th>\n",
       "      <td>55</td>\n",
       "      <td>COc1cc(-c2nn(C3CCC(N4CCN(C(C)=O)CC4)CC3)c3ncnc...</td>\n",
       "    </tr>\n",
       "    <tr>\n",
       "      <th>4</th>\n",
       "      <td>1001</td>\n",
       "      <td>NC(=O)c1ncn(C2OC(COP(=O)(O)O)C(O)C2O)c1N</td>\n",
       "    </tr>\n",
       "  </tbody>\n",
       "</table>\n",
       "</div>"
      ],
      "text/plain": [
       "   drug_id                                             Smiles\n",
       "0     1242     COc1cc(O)c2c(c1)C=CCC(O)C(O)C(=O)C=CCC(C)OC2=O\n",
       "1      179                            O=c1[nH]cc(F)c(=O)[nH]1\n",
       "2       86  Cc1[nH]nc2ccc(-c3cncc(OCC(N)Cc4c[nH]c5ccccc45)...\n",
       "3       55  COc1cc(-c2nn(C3CCC(N4CCN(C(C)=O)CC4)CC3)c3ncnc...\n",
       "4     1001           NC(=O)c1ncn(C2OC(COP(=O)(O)O)C(O)C2O)c1N"
      ]
     },
     "execution_count": 5,
     "metadata": {},
     "output_type": "execute_result"
    }
   ],
   "source": [
    "pubchem_drugs_smiles_df.head()"
   ]
  },
  {
   "cell_type": "code",
   "execution_count": 6,
   "id": "d3b2a897-77be-420b-bd26-ab84d56a2ff3",
   "metadata": {},
   "outputs": [],
   "source": [
    "drugs_smiles_cell_lines_ic50_df = pd.merge(drugs_cell_lines_ic50_df, pubchem_drugs_smiles_df, \n",
    "                                             on = \"drug_id\")"
   ]
  },
  {
   "cell_type": "code",
   "execution_count": 7,
   "id": "c9c0eda5-75c5-45e4-b48b-7f90b38da4d8",
   "metadata": {},
   "outputs": [],
   "source": [
    "drugs_smiles_cell_lines_ic50_df = drugs_smiles_cell_lines_ic50_df[[\"drug_id\", \"Cancer_Cell_Line\", \"Smiles\", \"IC50\"]]"
   ]
  },
  {
   "cell_type": "code",
   "execution_count": 8,
   "id": "4255a229-bb41-4ffe-abef-e6d466e1c00b",
   "metadata": {},
   "outputs": [
    {
     "data": {
      "text/plain": [
       "drug_id               int64\n",
       "Cancer_Cell_Line     object\n",
       "Smiles               object\n",
       "IC50                float64\n",
       "dtype: object"
      ]
     },
     "execution_count": 8,
     "metadata": {},
     "output_type": "execute_result"
    }
   ],
   "source": [
    "drugs_smiles_cell_lines_ic50_df.dtypes"
   ]
  },
  {
   "cell_type": "code",
   "execution_count": 9,
   "id": "b8f12d16-3e37-4c9a-aabb-51e6ceb99a00",
   "metadata": {},
   "outputs": [],
   "source": [
    "drugs_smiles_cell_lines_ic50_df[\"drug_id\"] = drugs_smiles_cell_lines_ic50_df[\"drug_id\"].astype(str)"
   ]
  },
  {
   "cell_type": "code",
   "execution_count": 10,
   "id": "11f133e4-70a2-4fae-8066-2d1d77de5fe8",
   "metadata": {},
   "outputs": [],
   "source": [
    "from sklearn.model_selection import train_test_split"
   ]
  },
  {
   "cell_type": "code",
   "execution_count": 11,
   "id": "3286fd91-f6df-49fc-8d72-5e493f31d0ae",
   "metadata": {},
   "outputs": [
    {
     "name": "stderr",
     "output_type": "stream",
     "text": [
      "/tmp/ipykernel_3290750/365374518.py:1: FutureWarning: In a future version of pandas all arguments of DataFrame.drop except for the argument 'labels' will be keyword-only.\n",
      "  x_train, x_valid, y_train, y_valid = train_test_split(drugs_smiles_cell_lines_ic50_df.drop([\"IC50\"],1), drugs_smiles_cell_lines_ic50_df[\"IC50\"].values,\n"
     ]
    }
   ],
   "source": [
    "x_train, x_valid, y_train, y_valid = train_test_split(drugs_smiles_cell_lines_ic50_df.drop([\"IC50\"],1), drugs_smiles_cell_lines_ic50_df[\"IC50\"].values, \n",
    "                                                     test_size = 0.10, random_state = 42)"
   ]
  },
  {
   "cell_type": "code",
   "execution_count": 12,
   "id": "b57c86db-c67b-4492-b945-9ee5ef7633be",
   "metadata": {},
   "outputs": [
    {
     "name": "stderr",
     "output_type": "stream",
     "text": [
      "2023-07-16 09:29:03.621863: I tensorflow/core/platform/cpu_feature_guard.cc:193] This TensorFlow binary is optimized with oneAPI Deep Neural Network Library (oneDNN) to use the following CPU instructions in performance-critical operations:  SSE4.1 SSE4.2 AVX AVX2 AVX512F AVX512_VNNI FMA\n",
      "To enable them in other operations, rebuild TensorFlow with the appropriate compiler flags.\n"
     ]
    },
    {
     "name": "stdout",
     "output_type": "stream",
     "text": [
      "WARNING:tensorflow:No training configuration found in save file, so the model was *not* compiled. Compile it manually.\n"
     ]
    },
    {
     "name": "stderr",
     "output_type": "stream",
     "text": [
      "2023-07-16 09:29:04.118018: I tensorflow/core/common_runtime/gpu/gpu_device.cc:1532] Created device /job:localhost/replica:0/task:0/device:GPU:0 with 78910 MB memory:  -> device: 0, name: NVIDIA A100 80GB PCIe, pci bus id: 0000:98:00.0, compute capability: 8.0\n",
      "WARNING:tensorflow:No training configuration found in save file, so the model was *not* compiled. Compile it manually.\n"
     ]
    },
    {
     "name": "stdout",
     "output_type": "stream",
     "text": [
      "WARNING:tensorflow:No training configuration found in save file, so the model was *not* compiled. Compile it manually.\n"
     ]
    },
    {
     "name": "stderr",
     "output_type": "stream",
     "text": [
      "WARNING:tensorflow:No training configuration found in save file, so the model was *not* compiled. Compile it manually.\n"
     ]
    },
    {
     "name": "stdout",
     "output_type": "stream",
     "text": [
      "WARNING:tensorflow:No training configuration found in save file, so the model was *not* compiled. Compile it manually.\n"
     ]
    },
    {
     "name": "stderr",
     "output_type": "stream",
     "text": [
      "WARNING:tensorflow:No training configuration found in save file, so the model was *not* compiled. Compile it manually.\n"
     ]
    },
    {
     "name": "stdout",
     "output_type": "stream",
     "text": [
      "WARNING:tensorflow:No training configuration found in save file, so the model was *not* compiled. Compile it manually.\n"
     ]
    },
    {
     "name": "stderr",
     "output_type": "stream",
     "text": [
      "WARNING:tensorflow:No training configuration found in save file, so the model was *not* compiled. Compile it manually.\n"
     ]
    }
   ],
   "source": [
    "# load models\n",
    "# omic models\n",
    "cancer_copy_number_model = tf.keras.models.load_model(\"..//Models//cancer_copy_number_model_no_norm\")\n",
    "cancer_cell_gen_expr_model = tf.keras.models.load_model(\"..//Models//cancer_cell_gen_expr_model_no_norm\")\n",
    "cancer_cell_gen_methy_model = tf.keras.models.load_model(\"..//Models//cancer_cell_gen_methy_model_no_norm\")\n",
    "cancer_cell_gen_mut_model = tf.keras.models.load_model(\"..//Models//cancer_cell_gen_mut_model_no_norm\")"
   ]
  },
  {
   "cell_type": "code",
   "execution_count": 13,
   "id": "4c1533dd-2e0e-424f-be0d-24f06b51453b",
   "metadata": {},
   "outputs": [
    {
     "name": "stdout",
     "output_type": "stream",
     "text": [
      "WARNING:tensorflow:No training configuration found in save file, so the model was *not* compiled. Compile it manually.\n"
     ]
    },
    {
     "name": "stderr",
     "output_type": "stream",
     "text": [
      "WARNING:tensorflow:No training configuration found in save file, so the model was *not* compiled. Compile it manually.\n"
     ]
    }
   ],
   "source": [
    "# load models\n",
    "# drug models\n",
    "pubchem_drugs_rdkit_model = tf.keras.models.load_model(\"..//Models//pubchem_drugs_rdkit_model_no_norm\")"
   ]
  },
  {
   "cell_type": "code",
   "execution_count": 14,
   "id": "6d5f0911-6e51-446d-a281-dc05086de8bf",
   "metadata": {},
   "outputs": [],
   "source": [
    "# extract drug features\n",
    "drug_features_train = pubchem_drugs_rdkit_model(x_train[\"drug_id\"].values).numpy()\n",
    "drug_features_valid = pubchem_drugs_rdkit_model(x_valid[\"drug_id\"].values).numpy()"
   ]
  },
  {
   "cell_type": "code",
   "execution_count": 15,
   "id": "88e60e47-08b0-44cf-8593-28931c972c30",
   "metadata": {},
   "outputs": [],
   "source": [
    "from sklearn.preprocessing import StandardScaler"
   ]
  },
  {
   "cell_type": "code",
   "execution_count": 16,
   "id": "2a7aab8e-0dde-4ea2-a03a-c6022b895f2d",
   "metadata": {},
   "outputs": [],
   "source": [
    "std = StandardScaler()"
   ]
  },
  {
   "cell_type": "code",
   "execution_count": 17,
   "id": "543468fa-c1c5-438b-a189-3e943c28b0fb",
   "metadata": {},
   "outputs": [],
   "source": [
    "drug_features_train = std.fit_transform(drug_features_train)"
   ]
  },
  {
   "cell_type": "code",
   "execution_count": 18,
   "id": "b4bdb7ac-795a-4afa-9f85-3ee61e37d818",
   "metadata": {},
   "outputs": [],
   "source": [
    "drug_features_valid = std.transform(drug_features_valid)"
   ]
  },
  {
   "cell_type": "code",
   "execution_count": 19,
   "id": "532d3eda-f04b-459a-b662-186a8d5f4184",
   "metadata": {},
   "outputs": [
    {
     "data": {
      "text/plain": [
       "((168110, 106), (18679, 106))"
      ]
     },
     "execution_count": 19,
     "metadata": {},
     "output_type": "execute_result"
    }
   ],
   "source": [
    "drug_features_train.shape, drug_features_valid.shape"
   ]
  },
  {
   "cell_type": "code",
   "execution_count": 20,
   "id": "8a581814-8f25-47f8-88eb-b6d94e841e96",
   "metadata": {},
   "outputs": [],
   "source": [
    "# extract copy number features\n",
    "omics_copy_number_train = cancer_copy_number_model(x_train[\"Cancer_Cell_Line\"].values).numpy()\n",
    "omics_copy_number_valid = cancer_copy_number_model(x_valid[\"Cancer_Cell_Line\"].values).numpy()"
   ]
  },
  {
   "cell_type": "code",
   "execution_count": 21,
   "id": "a160e991-ebad-4f48-a8b9-e2ce191865ae",
   "metadata": {},
   "outputs": [
    {
     "data": {
      "text/plain": [
       "((168110, 710), (18679, 710))"
      ]
     },
     "execution_count": 21,
     "metadata": {},
     "output_type": "execute_result"
    }
   ],
   "source": [
    "omics_copy_number_train.shape, omics_copy_number_valid.shape"
   ]
  },
  {
   "cell_type": "code",
   "execution_count": 22,
   "id": "0d8f9737-5d43-4175-a68a-ff03ab3f58c3",
   "metadata": {},
   "outputs": [],
   "source": [
    "# extract gen expr features\n",
    "omics_gen_expr_train = cancer_cell_gen_expr_model(x_train[\"Cancer_Cell_Line\"].values).numpy()\n",
    "omics_gen_expr_valid = cancer_cell_gen_expr_model(x_valid[\"Cancer_Cell_Line\"].values).numpy()"
   ]
  },
  {
   "cell_type": "code",
   "execution_count": 23,
   "id": "79e4911e-99db-4d28-b785-99c8b3da6e38",
   "metadata": {},
   "outputs": [
    {
     "data": {
      "text/plain": [
       "((168110, 697), (18679, 697))"
      ]
     },
     "execution_count": 23,
     "metadata": {},
     "output_type": "execute_result"
    }
   ],
   "source": [
    "omics_gen_expr_train.shape, omics_gen_expr_valid.shape"
   ]
  },
  {
   "cell_type": "code",
   "execution_count": 24,
   "id": "6fc3a94e-0ffe-4672-a97a-cc87eca89a54",
   "metadata": {},
   "outputs": [],
   "source": [
    "# extract gen methylation features\n",
    "omics_gen_methyl_train = cancer_cell_gen_methy_model(x_train[\"Cancer_Cell_Line\"].values).numpy()\n",
    "omics_gen_methyl_valid = cancer_cell_gen_methy_model(x_valid[\"Cancer_Cell_Line\"].values).numpy()"
   ]
  },
  {
   "cell_type": "code",
   "execution_count": 25,
   "id": "413c009e-c8fe-4ff6-bd81-b46d0f18fbd3",
   "metadata": {},
   "outputs": [
    {
     "data": {
      "text/plain": [
       "((168110, 808), (18679, 808))"
      ]
     },
     "execution_count": 25,
     "metadata": {},
     "output_type": "execute_result"
    }
   ],
   "source": [
    "omics_gen_methyl_train.shape, omics_gen_methyl_valid.shape"
   ]
  },
  {
   "cell_type": "code",
   "execution_count": 26,
   "id": "75398540-13b6-4cfa-b90d-8f2c0124dcd8",
   "metadata": {},
   "outputs": [],
   "source": [
    "# extract gen mutation features\n",
    "omics_gen_mut_train = cancer_cell_gen_mut_model(x_train[\"Cancer_Cell_Line\"].values).numpy()\n",
    "omics_gen_mut_valid = cancer_cell_gen_mut_model(x_valid[\"Cancer_Cell_Line\"].values).numpy()"
   ]
  },
  {
   "cell_type": "code",
   "execution_count": 27,
   "id": "1e4d8d51-d564-4df5-985c-2cb91b7909fe",
   "metadata": {},
   "outputs": [
    {
     "data": {
      "text/plain": [
       "((168110, 34673), (18679, 34673))"
      ]
     },
     "execution_count": 27,
     "metadata": {},
     "output_type": "execute_result"
    }
   ],
   "source": [
    "omics_gen_mut_train.shape, omics_gen_mut_valid.shape"
   ]
  },
  {
   "cell_type": "code",
   "execution_count": 28,
   "id": "1cd31175-0cb4-4718-8ff6-221e42f493d9",
   "metadata": {},
   "outputs": [],
   "source": [
    "smile_strings_train = x_train[\"Smiles\"].values.reshape(-1,1)\n",
    "smile_strings_valid = x_valid[\"Smiles\"].values.reshape(-1,1)"
   ]
  },
  {
   "cell_type": "code",
   "execution_count": 29,
   "id": "c88bfcad-a6b4-41d0-b8c0-a2ec02488526",
   "metadata": {},
   "outputs": [
    {
     "data": {
      "text/plain": [
       "((168110, 1), (18679, 1))"
      ]
     },
     "execution_count": 29,
     "metadata": {},
     "output_type": "execute_result"
    }
   ],
   "source": [
    "smile_strings_train.shape, smile_strings_valid.shape"
   ]
  },
  {
   "cell_type": "code",
   "execution_count": 30,
   "id": "3099870c-52d4-4612-8b80-fab178bdfb6a",
   "metadata": {},
   "outputs": [],
   "source": [
    "# input_smiles_string = tf.keras.layers.Input(shape = (1,), dtype = tf.string)"
   ]
  },
  {
   "cell_type": "code",
   "execution_count": 31,
   "id": "263466ac-b002-4f8f-8bcf-e77dc89e2e52",
   "metadata": {},
   "outputs": [],
   "source": [
    "# text_vec = tf.keras.layers.TextVectorization(standardize=None,\n",
    "#     split='character', output_mode = \"int\")\n",
    "\n",
    "# text_vec.adapt(smile_strings_train, batch_size = 100000)"
   ]
  },
  {
   "cell_type": "code",
   "execution_count": 32,
   "id": "37ead106-b77b-4b89-8277-fbf6be9fd567",
   "metadata": {},
   "outputs": [],
   "source": [
    "# text_vec_output = text_vec(input_smiles_string)"
   ]
  },
  {
   "cell_type": "code",
   "execution_count": 33,
   "id": "2977368d-cbb6-493f-a5b9-af70aecaa090",
   "metadata": {},
   "outputs": [],
   "source": [
    "# embedding_layer = tf.keras.layers.Embedding(len(text_vec.get_vocabulary()), 128)\n",
    "# embedding_output = embedding_layer(text_vec_output)\n",
    "# lstm_layer = tf.keras.layers.LSTM(64)\n",
    "# lstm_output_smiles = lstm_layer(embedding_output)"
   ]
  },
  {
   "cell_type": "code",
   "execution_count": 34,
   "id": "6294b65c-47e4-40bc-aaae-51d27b6c14aa",
   "metadata": {},
   "outputs": [],
   "source": [
    "# bottleneck_layer_smiles = tf.keras.layers.Dense(32, activation = \"relu\")"
   ]
  },
  {
   "cell_type": "code",
   "execution_count": 35,
   "id": "69eda98f-ad04-473a-99ba-7ffd34af0200",
   "metadata": {},
   "outputs": [],
   "source": [
    "# bottleneck_layer_smiles_out = bottleneck_layer_smiles(lstm_output_smiles)"
   ]
  },
  {
   "cell_type": "code",
   "execution_count": 36,
   "id": "bbf6f1dc-0692-4f45-84a6-797ce77115e0",
   "metadata": {},
   "outputs": [],
   "source": [
    "input_rdkit = tf.keras.layers.Input(shape = (drug_features_train.shape[1],))"
   ]
  },
  {
   "cell_type": "code",
   "execution_count": 37,
   "id": "c71e72c3-e6f4-443d-988a-cc626f29cb5f",
   "metadata": {},
   "outputs": [],
   "source": [
    "input_rdkit = tf.keras.layers.BatchNormalization()(input_rdkit)"
   ]
  },
  {
   "cell_type": "code",
   "execution_count": 38,
   "id": "d0758018-5370-45b0-a192-5089ae853dbe",
   "metadata": {},
   "outputs": [],
   "source": [
    "dense_rdkit_layer = tf.keras.layers.Dense(64, activation = \"relu\")"
   ]
  },
  {
   "cell_type": "code",
   "execution_count": 39,
   "id": "8ee3467b-a8fe-4653-9a63-c02cdc418612",
   "metadata": {},
   "outputs": [],
   "source": [
    "rdkit_embs = dense_rdkit_layer(input_rdkit)\n",
    "dense_rdkit_layer = tf.keras.layers.Dense(32, activation = \"relu\")\n",
    "rdkit_embs = dense_rdkit_layer(rdkit_embs)"
   ]
  },
  {
   "cell_type": "code",
   "execution_count": 40,
   "id": "5dadaae3-e442-4eeb-9830-702d1130467f",
   "metadata": {},
   "outputs": [],
   "source": [
    "# rdkit_with_smile_embs = tf.keras.layers.Concatenate()([rdkit_embs])"
   ]
  },
  {
   "cell_type": "code",
   "execution_count": 41,
   "id": "0820b856-fc6e-4dd9-a13c-ae73a75e2440",
   "metadata": {},
   "outputs": [],
   "source": [
    "drugs_final_emb_layer = tf.keras.layers.Dense(32, activation = \"relu\")"
   ]
  },
  {
   "cell_type": "code",
   "execution_count": 42,
   "id": "1fbe4c72-ed99-4385-b34f-d8adb6ffd873",
   "metadata": {},
   "outputs": [],
   "source": [
    "drugs_smiles_rdkit_embs = drugs_final_emb_layer(rdkit_embs)"
   ]
  },
  {
   "cell_type": "code",
   "execution_count": 43,
   "id": "a49224f4-c940-40c7-80a5-5e4244d69ba7",
   "metadata": {},
   "outputs": [],
   "source": [
    "# drugs_smiles_rdkit_embs = tf.keras.layers.Dropout(0.25)(drugs_smiles_rdkit_embs)"
   ]
  },
  {
   "cell_type": "code",
   "execution_count": 44,
   "id": "762b08ce-be6c-4ab8-8705-390d1b86279a",
   "metadata": {},
   "outputs": [],
   "source": [
    "input_copy_number = tf.keras.layers.Input(shape = (omics_copy_number_train.shape[1],))"
   ]
  },
  {
   "cell_type": "code",
   "execution_count": 45,
   "id": "41023a69-382a-4d3c-8882-00d35865e999",
   "metadata": {},
   "outputs": [],
   "source": [
    "input_copy_number = tf.keras.layers.BatchNormalization()(input_copy_number)"
   ]
  },
  {
   "cell_type": "code",
   "execution_count": 46,
   "id": "82d117e8-cdc7-45c5-9a4c-c07f0b6e60ca",
   "metadata": {},
   "outputs": [],
   "source": [
    "copy_number_layer = tf.keras.layers.Dense(256, activation = \"relu\")"
   ]
  },
  {
   "cell_type": "code",
   "execution_count": 47,
   "id": "eec99059-6bf2-4189-8a37-874b6c8731c5",
   "metadata": {},
   "outputs": [],
   "source": [
    "copy_number_emb = copy_number_layer(input_copy_number)"
   ]
  },
  {
   "cell_type": "code",
   "execution_count": 48,
   "id": "0371b11a-04db-4c99-97e3-a0f589245a03",
   "metadata": {},
   "outputs": [],
   "source": [
    "copy_number_layer = tf.keras.layers.Dense(100, activation = \"relu\")"
   ]
  },
  {
   "cell_type": "code",
   "execution_count": 49,
   "id": "47979e92-6c2e-441c-8f93-fea5d4f0be61",
   "metadata": {},
   "outputs": [],
   "source": [
    "copy_number_emb = copy_number_layer(copy_number_emb)"
   ]
  },
  {
   "cell_type": "code",
   "execution_count": 50,
   "id": "607ca081-e937-4efe-8a2b-73700dae8def",
   "metadata": {},
   "outputs": [],
   "source": [
    "input_gen_expr = tf.keras.layers.Input(shape = (omics_gen_expr_train.shape[1],))"
   ]
  },
  {
   "cell_type": "code",
   "execution_count": 51,
   "id": "4e0845a7-6eba-4fe9-bb60-2413556c6708",
   "metadata": {},
   "outputs": [],
   "source": [
    "input_gen_expr = tf.keras.layers.BatchNormalization()(input_gen_expr)"
   ]
  },
  {
   "cell_type": "code",
   "execution_count": 52,
   "id": "483ce7b6-99c1-4adf-b9a3-9c126a052dae",
   "metadata": {},
   "outputs": [],
   "source": [
    "gen_expr_layer = tf.keras.layers.Dense(256, activation = \"relu\")"
   ]
  },
  {
   "cell_type": "code",
   "execution_count": 53,
   "id": "52304767-c734-47d6-8dd8-163a9982fb6a",
   "metadata": {},
   "outputs": [],
   "source": [
    "gen_expr_emb = gen_expr_layer(input_gen_expr)\n",
    "gen_expr_layer = tf.keras.layers.Dense(100, activation = \"relu\")\n",
    "gen_expr_emb = gen_expr_layer(gen_expr_emb)"
   ]
  },
  {
   "cell_type": "code",
   "execution_count": 54,
   "id": "5101070f-2ca2-45ba-ba43-8881a24fca55",
   "metadata": {},
   "outputs": [],
   "source": [
    "input_gen_methy = tf.keras.layers.Input(shape = (omics_gen_methyl_train.shape[1],))"
   ]
  },
  {
   "cell_type": "code",
   "execution_count": 55,
   "id": "d029b142-c5bb-4ace-a925-907596485d70",
   "metadata": {},
   "outputs": [],
   "source": [
    "input_gen_methy = tf.keras.layers.BatchNormalization()(input_gen_methy)"
   ]
  },
  {
   "cell_type": "code",
   "execution_count": 56,
   "id": "73c6de76-6e7b-495c-a1ed-2f07bcbcac07",
   "metadata": {},
   "outputs": [],
   "source": [
    "gen_methy_layer = tf.keras.layers.Dense(256, activation = \"relu\")"
   ]
  },
  {
   "cell_type": "code",
   "execution_count": 57,
   "id": "65dcd97c-9106-4928-b4ec-2b439579910a",
   "metadata": {},
   "outputs": [],
   "source": [
    "gen_methy_emb = gen_methy_layer(input_gen_methy)"
   ]
  },
  {
   "cell_type": "code",
   "execution_count": 58,
   "id": "874a5732-d680-4cdc-8050-428fdcb3f81c",
   "metadata": {},
   "outputs": [],
   "source": [
    "gen_methy_layer = tf.keras.layers.Dense(100, activation = \"relu\")\n",
    "gen_methy_emb = gen_methy_layer(gen_methy_emb)"
   ]
  },
  {
   "cell_type": "code",
   "execution_count": 59,
   "id": "3be74dd0-0188-4bda-ab13-2dc17e8b6e0e",
   "metadata": {},
   "outputs": [],
   "source": [
    "input_gen_mut = tf.keras.layers.Input(shape = (omics_gen_mut_train.shape[1],))"
   ]
  },
  {
   "cell_type": "code",
   "execution_count": 60,
   "id": "2466973f-9372-405f-9b23-95cdaa625d2f",
   "metadata": {},
   "outputs": [],
   "source": [
    "input_gen_mut = tf.keras.layers.BatchNormalization()(input_gen_mut)"
   ]
  },
  {
   "cell_type": "code",
   "execution_count": 61,
   "id": "436aa3bf-41ae-46d2-bf0e-6ef8d2703616",
   "metadata": {},
   "outputs": [],
   "source": [
    "reshape_gen_mut = tf.keras.layers.Reshape((1, omics_gen_mut_train.shape[1], 1))"
   ]
  },
  {
   "cell_type": "code",
   "execution_count": 62,
   "id": "017bb057-9f6d-4c86-a247-6496a2d1607a",
   "metadata": {},
   "outputs": [],
   "source": [
    "reshape_gen_mut = reshape_gen_mut(input_gen_mut)"
   ]
  },
  {
   "cell_type": "code",
   "execution_count": 63,
   "id": "5f262b6c-eb0c-4296-819e-b1eb82eeb575",
   "metadata": {},
   "outputs": [],
   "source": [
    "gen_mut_layer = tf.keras.layers.Conv2D(50, (1, 700), strides=5, activation = \"relu\")"
   ]
  },
  {
   "cell_type": "code",
   "execution_count": 64,
   "id": "b098873c-2154-4cd8-a3fa-08b6940d3f80",
   "metadata": {},
   "outputs": [],
   "source": [
    "gen_mut_emb = gen_mut_layer(reshape_gen_mut)"
   ]
  },
  {
   "cell_type": "code",
   "execution_count": 65,
   "id": "9c4cc17e-23de-46b1-a02f-5be2ee8af557",
   "metadata": {},
   "outputs": [
    {
     "data": {
      "text/plain": [
       "TensorShape([None, 1, 6795, 50])"
      ]
     },
     "execution_count": 65,
     "metadata": {},
     "output_type": "execute_result"
    }
   ],
   "source": [
    "gen_mut_emb.shape"
   ]
  },
  {
   "cell_type": "code",
   "execution_count": 66,
   "id": "f64748ce-c536-4eab-a0ae-e699ce7755bc",
   "metadata": {},
   "outputs": [],
   "source": [
    "pool_layer = tf.keras.layers.MaxPooling2D((1,5))"
   ]
  },
  {
   "cell_type": "code",
   "execution_count": 67,
   "id": "c4da40cd-9499-4e14-9e07-70c31b75983f",
   "metadata": {},
   "outputs": [],
   "source": [
    "pool_out = pool_layer(gen_mut_emb)"
   ]
  },
  {
   "cell_type": "code",
   "execution_count": 68,
   "id": "bc9d3a19-3462-4de9-9ed2-f30ff2a6b958",
   "metadata": {},
   "outputs": [
    {
     "data": {
      "text/plain": [
       "<KerasTensor: shape=(None, 1, 1359, 50) dtype=float32 (created by layer 'max_pooling2d')>"
      ]
     },
     "execution_count": 68,
     "metadata": {},
     "output_type": "execute_result"
    }
   ],
   "source": [
    "pool_out"
   ]
  },
  {
   "cell_type": "code",
   "execution_count": 69,
   "id": "fcfe7721-f4eb-4da2-943e-ce1c04db3e00",
   "metadata": {},
   "outputs": [],
   "source": [
    "gen_mut_layer = tf.keras.layers.Conv2D(30, (1, 5), strides=2, activation = \"relu\")"
   ]
  },
  {
   "cell_type": "code",
   "execution_count": 70,
   "id": "232fac4b-f49c-46cc-ba54-1b503a692262",
   "metadata": {},
   "outputs": [],
   "source": [
    "gen_mut_emb = gen_mut_layer(pool_out)"
   ]
  },
  {
   "cell_type": "code",
   "execution_count": 71,
   "id": "7de341b9-bb31-41f0-838a-01dc59c2b0b5",
   "metadata": {},
   "outputs": [
    {
     "data": {
      "text/plain": [
       "<KerasTensor: shape=(None, 1, 678, 30) dtype=float32 (created by layer 'conv2d_1')>"
      ]
     },
     "execution_count": 71,
     "metadata": {},
     "output_type": "execute_result"
    }
   ],
   "source": [
    "gen_mut_emb "
   ]
  },
  {
   "cell_type": "code",
   "execution_count": 72,
   "id": "0a13f555-d2ad-4c2d-b68a-6f9f1e2a7752",
   "metadata": {},
   "outputs": [],
   "source": [
    "pool_layer = tf.keras.layers.MaxPooling2D((1,10))"
   ]
  },
  {
   "cell_type": "code",
   "execution_count": 73,
   "id": "543756db-da27-44b0-af3a-cffb7ddf8145",
   "metadata": {},
   "outputs": [],
   "source": [
    "pool_out = pool_layer(gen_mut_emb)"
   ]
  },
  {
   "cell_type": "code",
   "execution_count": 74,
   "id": "c12b31f8-ae58-4967-a533-f00f825aeed9",
   "metadata": {},
   "outputs": [
    {
     "data": {
      "text/plain": [
       "<KerasTensor: shape=(None, 1, 67, 30) dtype=float32 (created by layer 'max_pooling2d_1')>"
      ]
     },
     "execution_count": 74,
     "metadata": {},
     "output_type": "execute_result"
    }
   ],
   "source": [
    "pool_out"
   ]
  },
  {
   "cell_type": "code",
   "execution_count": 75,
   "id": "86756a6b-a92c-4a06-ae80-39bef3c29f05",
   "metadata": {},
   "outputs": [],
   "source": [
    "flatten_layer = tf.keras.layers.Flatten()"
   ]
  },
  {
   "cell_type": "code",
   "execution_count": 76,
   "id": "99ae4cad-125b-49ca-8697-d0ef58455b96",
   "metadata": {},
   "outputs": [],
   "source": [
    "flatten_out = flatten_layer(pool_out)"
   ]
  },
  {
   "cell_type": "code",
   "execution_count": 77,
   "id": "d873bfc5-fb61-4529-b989-424509ba4315",
   "metadata": {},
   "outputs": [],
   "source": [
    "all_omics = tf.keras.layers.Concatenate()([copy_number_emb, gen_expr_emb, gen_methy_emb, flatten_out])"
   ]
  },
  {
   "cell_type": "code",
   "execution_count": 78,
   "id": "3750e3bf-2b64-45df-9101-31361765ea00",
   "metadata": {},
   "outputs": [],
   "source": [
    "last_omics_emb = tf.keras.layers.Dense(64, activation = \"relu\")"
   ]
  },
  {
   "cell_type": "code",
   "execution_count": 79,
   "id": "26fa414a-f689-4b60-b4ca-10a967839979",
   "metadata": {},
   "outputs": [],
   "source": [
    "final_omics_emb = last_omics_emb(all_omics)"
   ]
  },
  {
   "cell_type": "code",
   "execution_count": 80,
   "id": "4ea6e78c-2011-4a0d-a3c6-d3d10b3c4734",
   "metadata": {},
   "outputs": [],
   "source": [
    "# final_omics_emb = tf.keras.layers.Dropout(0.25)(final_omics_emb)"
   ]
  },
  {
   "cell_type": "code",
   "execution_count": 81,
   "id": "1dd8f027-1db1-4edc-b8ae-c42c224e93bf",
   "metadata": {},
   "outputs": [],
   "source": [
    "final_drugs_omics = tf.keras.layers.Concatenate()([drugs_smiles_rdkit_embs, final_omics_emb])"
   ]
  },
  {
   "cell_type": "code",
   "execution_count": 82,
   "id": "b7fb1852-1fe8-4dfe-a06d-86c565095931",
   "metadata": {},
   "outputs": [],
   "source": [
    "final_emb_layer = tf.keras.layers.Dense(32, activation = \"relu\")"
   ]
  },
  {
   "cell_type": "code",
   "execution_count": 83,
   "id": "7906d432-892f-4cc0-973f-929dce7f5074",
   "metadata": {},
   "outputs": [],
   "source": [
    "final_emb = final_emb_layer(final_drugs_omics)"
   ]
  },
  {
   "cell_type": "code",
   "execution_count": 84,
   "id": "21edf137-6544-4c4e-811c-276bc520d0a5",
   "metadata": {},
   "outputs": [],
   "source": [
    "final_emb = tf.keras.layers.Dropout(0.05)(final_emb)"
   ]
  },
  {
   "cell_type": "code",
   "execution_count": 85,
   "id": "720ae0ed-8be9-44de-8beb-41155d444e76",
   "metadata": {},
   "outputs": [],
   "source": [
    "final_out_layer = tf.keras.layers.Dense(1)"
   ]
  },
  {
   "cell_type": "code",
   "execution_count": 86,
   "id": "a284faa6-42ed-4834-ab75-28291c65eb15",
   "metadata": {},
   "outputs": [],
   "source": [
    "final_out = final_out_layer(final_emb)"
   ]
  },
  {
   "cell_type": "code",
   "execution_count": 87,
   "id": "dfe36747-9e6d-4f55-abaa-a52ef150d1f7",
   "metadata": {},
   "outputs": [],
   "source": [
    "simplecdr = tf.keras.models.Model([input_rdkit, input_copy_number, \n",
    "                                  input_gen_expr, input_gen_methy, input_gen_mut], final_out)"
   ]
  },
  {
   "cell_type": "code",
   "execution_count": 88,
   "id": "6179d8a4-d66a-4084-a944-bc3fced8da92",
   "metadata": {},
   "outputs": [
    {
     "name": "stdout",
     "output_type": "stream",
     "text": [
      "Model: \"model\"\n",
      "__________________________________________________________________________________________________\n",
      " Layer (type)                   Output Shape         Param #     Connected to                     \n",
      "==================================================================================================\n",
      " input_10 (InputLayer)          [(None, 34673)]      0           []                               \n",
      "                                                                                                  \n",
      " reshape (Reshape)              (None, 1, 34673, 1)  0           ['input_10[0][0]']               \n",
      "                                                                                                  \n",
      " conv2d (Conv2D)                (None, 1, 6795, 50)  35050       ['reshape[1][0]']                \n",
      "                                                                                                  \n",
      " max_pooling2d (MaxPooling2D)   (None, 1, 1359, 50)  0           ['conv2d[1][0]']                 \n",
      "                                                                                                  \n",
      " input_7 (InputLayer)           [(None, 710)]        0           []                               \n",
      "                                                                                                  \n",
      " input_8 (InputLayer)           [(None, 697)]        0           []                               \n",
      "                                                                                                  \n",
      " input_9 (InputLayer)           [(None, 808)]        0           []                               \n",
      "                                                                                                  \n",
      " conv2d_1 (Conv2D)              (None, 1, 678, 30)   7530        ['max_pooling2d[1][0]']          \n",
      "                                                                                                  \n",
      " input_6 (InputLayer)           [(None, 106)]        0           []                               \n",
      "                                                                                                  \n",
      " dense_3 (Dense)                (None, 256)          182016      ['input_7[0][0]']                \n",
      "                                                                                                  \n",
      " dense_5 (Dense)                (None, 256)          178688      ['input_8[0][0]']                \n",
      "                                                                                                  \n",
      " dense_7 (Dense)                (None, 256)          207104      ['input_9[0][0]']                \n",
      "                                                                                                  \n",
      " max_pooling2d_1 (MaxPooling2D)  (None, 1, 67, 30)   0           ['conv2d_1[1][0]']               \n",
      "                                                                                                  \n",
      " dense (Dense)                  (None, 64)           6848        ['input_6[0][0]']                \n",
      "                                                                                                  \n",
      " dense_4 (Dense)                (None, 100)          25700       ['dense_3[1][0]']                \n",
      "                                                                                                  \n",
      " dense_6 (Dense)                (None, 100)          25700       ['dense_5[1][0]']                \n",
      "                                                                                                  \n",
      " dense_8 (Dense)                (None, 100)          25700       ['dense_7[1][0]']                \n",
      "                                                                                                  \n",
      " flatten (Flatten)              (None, 2010)         0           ['max_pooling2d_1[1][0]']        \n",
      "                                                                                                  \n",
      " dense_1 (Dense)                (None, 32)           2080        ['dense[1][0]']                  \n",
      "                                                                                                  \n",
      " concatenate (Concatenate)      (None, 2310)         0           ['dense_4[1][0]',                \n",
      "                                                                  'dense_6[1][0]',                \n",
      "                                                                  'dense_8[1][0]',                \n",
      "                                                                  'flatten[1][0]']                \n",
      "                                                                                                  \n",
      " dense_2 (Dense)                (None, 32)           1056        ['dense_1[1][0]']                \n",
      "                                                                                                  \n",
      " dense_9 (Dense)                (None, 64)           147904      ['concatenate[1][0]']            \n",
      "                                                                                                  \n",
      " concatenate_1 (Concatenate)    (None, 96)           0           ['dense_2[1][0]',                \n",
      "                                                                  'dense_9[1][0]']                \n",
      "                                                                                                  \n",
      " dense_10 (Dense)               (None, 32)           3104        ['concatenate_1[1][0]']          \n",
      "                                                                                                  \n",
      " dropout (Dropout)              (None, 32)           0           ['dense_10[1][0]']               \n",
      "                                                                                                  \n",
      " dense_11 (Dense)               (None, 1)            33          ['dropout[1][0]']                \n",
      "                                                                                                  \n",
      "==================================================================================================\n",
      "Total params: 848,513\n",
      "Trainable params: 848,513\n",
      "Non-trainable params: 0\n",
      "__________________________________________________________________________________________________\n"
     ]
    }
   ],
   "source": [
    "simplecdr.summary()"
   ]
  },
  {
   "cell_type": "code",
   "execution_count": 89,
   "id": "e83ba73d-bc93-4d35-948a-3b99fa03ba78",
   "metadata": {},
   "outputs": [],
   "source": [
    "simplecdr.compile(loss = tf.keras.losses.MeanSquaredError(), \n",
    "                    optimizer = tf.keras.optimizers.Adam(1e-2), \n",
    "                    metrics = [tf.keras.metrics.RootMeanSquaredError()])"
   ]
  },
  {
   "cell_type": "code",
   "execution_count": 90,
   "id": "ebff6df3-7a4a-4fe9-870e-45bab44001ff",
   "metadata": {},
   "outputs": [
    {
     "name": "stdout",
     "output_type": "stream",
     "text": [
      "Epoch 1/10000\n"
     ]
    },
    {
     "name": "stderr",
     "output_type": "stream",
     "text": [
      "2023-07-16 09:29:26.469174: I tensorflow/stream_executor/cuda/cuda_blas.cc:1786] TensorFloat-32 will be used for the matrix multiplication. This will only be logged once.\n",
      "2023-07-16 09:29:26.602302: I tensorflow/stream_executor/cuda/cuda_dnn.cc:384] Loaded cuDNN version 8401\n"
     ]
    },
    {
     "name": "stdout",
     "output_type": "stream",
     "text": [
      "329/329 [==============================] - 23s 58ms/step - loss: 3.8403 - root_mean_squared_error: 1.9597 - val_loss: 2.0490 - val_root_mean_squared_error: 1.4314\n",
      "Epoch 2/10000\n",
      "329/329 [==============================] - 16s 50ms/step - loss: 2.0462 - root_mean_squared_error: 1.4304 - val_loss: 1.9817 - val_root_mean_squared_error: 1.4077\n",
      "Epoch 3/10000\n",
      "329/329 [==============================] - 16s 50ms/step - loss: 1.9756 - root_mean_squared_error: 1.4055 - val_loss: 1.9150 - val_root_mean_squared_error: 1.3839\n",
      "Epoch 4/10000\n",
      "329/329 [==============================] - 17s 50ms/step - loss: 1.9442 - root_mean_squared_error: 1.3944 - val_loss: 1.8917 - val_root_mean_squared_error: 1.3754\n",
      "Epoch 5/10000\n",
      "329/329 [==============================] - 16s 50ms/step - loss: 1.9037 - root_mean_squared_error: 1.3798 - val_loss: 1.8756 - val_root_mean_squared_error: 1.3695\n",
      "Epoch 6/10000\n",
      "329/329 [==============================] - 16s 50ms/step - loss: 1.8790 - root_mean_squared_error: 1.3708 - val_loss: 1.8506 - val_root_mean_squared_error: 1.3604\n",
      "Epoch 7/10000\n",
      "329/329 [==============================] - 16s 50ms/step - loss: 1.8637 - root_mean_squared_error: 1.3652 - val_loss: 1.8439 - val_root_mean_squared_error: 1.3579\n",
      "Epoch 8/10000\n",
      "329/329 [==============================] - 16s 50ms/step - loss: 1.8343 - root_mean_squared_error: 1.3543 - val_loss: 1.8419 - val_root_mean_squared_error: 1.3572\n",
      "Epoch 9/10000\n",
      "329/329 [==============================] - 16s 50ms/step - loss: 1.8395 - root_mean_squared_error: 1.3563 - val_loss: 1.9693 - val_root_mean_squared_error: 1.4033\n",
      "Epoch 10/10000\n",
      "329/329 [==============================] - 16s 50ms/step - loss: 1.8266 - root_mean_squared_error: 1.3515 - val_loss: 1.8223 - val_root_mean_squared_error: 1.3499\n",
      "Epoch 11/10000\n",
      "329/329 [==============================] - 16s 50ms/step - loss: 1.8153 - root_mean_squared_error: 1.3473 - val_loss: 1.8599 - val_root_mean_squared_error: 1.3638\n",
      "Epoch 12/10000\n",
      "329/329 [==============================] - 16s 50ms/step - loss: 1.7996 - root_mean_squared_error: 1.3415 - val_loss: 1.8070 - val_root_mean_squared_error: 1.3443\n",
      "Epoch 13/10000\n",
      "329/329 [==============================] - 16s 50ms/step - loss: 1.7919 - root_mean_squared_error: 1.3386 - val_loss: 1.8870 - val_root_mean_squared_error: 1.3737\n",
      "Epoch 14/10000\n",
      "329/329 [==============================] - 16s 50ms/step - loss: 1.7849 - root_mean_squared_error: 1.3360 - val_loss: 1.8518 - val_root_mean_squared_error: 1.3608\n",
      "Epoch 15/10000\n",
      "329/329 [==============================] - 16s 50ms/step - loss: 1.7678 - root_mean_squared_error: 1.3296 - val_loss: 1.8423 - val_root_mean_squared_error: 1.3573\n",
      "Epoch 16/10000\n",
      "329/329 [==============================] - 17s 50ms/step - loss: 1.7811 - root_mean_squared_error: 1.3346 - val_loss: 1.7696 - val_root_mean_squared_error: 1.3303\n",
      "Epoch 17/10000\n",
      "329/329 [==============================] - 16s 50ms/step - loss: 1.7685 - root_mean_squared_error: 1.3298 - val_loss: 1.7795 - val_root_mean_squared_error: 1.3340\n",
      "Epoch 18/10000\n",
      "329/329 [==============================] - 16s 50ms/step - loss: 1.7667 - root_mean_squared_error: 1.3292 - val_loss: 1.8189 - val_root_mean_squared_error: 1.3487\n",
      "Epoch 19/10000\n",
      "329/329 [==============================] - 16s 50ms/step - loss: 1.7578 - root_mean_squared_error: 1.3258 - val_loss: 1.8038 - val_root_mean_squared_error: 1.3431\n",
      "Epoch 20/10000\n",
      "329/329 [==============================] - 16s 50ms/step - loss: 1.7546 - root_mean_squared_error: 1.3246 - val_loss: 1.7991 - val_root_mean_squared_error: 1.3413\n",
      "Epoch 21/10000\n",
      "329/329 [==============================] - 17s 50ms/step - loss: 1.7651 - root_mean_squared_error: 1.3286 - val_loss: 1.7764 - val_root_mean_squared_error: 1.3328\n",
      "Epoch 22/10000\n",
      "329/329 [==============================] - 16s 50ms/step - loss: 1.7636 - root_mean_squared_error: 1.3280 - val_loss: 1.7644 - val_root_mean_squared_error: 1.3283\n",
      "Epoch 23/10000\n",
      "329/329 [==============================] - 17s 50ms/step - loss: 1.7564 - root_mean_squared_error: 1.3253 - val_loss: 1.7977 - val_root_mean_squared_error: 1.3408\n",
      "Epoch 24/10000\n",
      "329/329 [==============================] - 17s 50ms/step - loss: 1.7693 - root_mean_squared_error: 1.3302 - val_loss: 1.7992 - val_root_mean_squared_error: 1.3414\n",
      "Epoch 25/10000\n",
      "329/329 [==============================] - 17s 50ms/step - loss: 1.7469 - root_mean_squared_error: 1.3217 - val_loss: 1.7451 - val_root_mean_squared_error: 1.3210\n",
      "Epoch 26/10000\n",
      "329/329 [==============================] - 16s 50ms/step - loss: 1.7449 - root_mean_squared_error: 1.3209 - val_loss: 1.7546 - val_root_mean_squared_error: 1.3246\n",
      "Epoch 27/10000\n",
      "329/329 [==============================] - 16s 50ms/step - loss: 1.7550 - root_mean_squared_error: 1.3248 - val_loss: 1.7936 - val_root_mean_squared_error: 1.3392\n",
      "Epoch 28/10000\n",
      "329/329 [==============================] - 16s 50ms/step - loss: 1.7529 - root_mean_squared_error: 1.3240 - val_loss: 1.7551 - val_root_mean_squared_error: 1.3248\n",
      "Epoch 29/10000\n",
      "329/329 [==============================] - 16s 50ms/step - loss: 1.7469 - root_mean_squared_error: 1.3217 - val_loss: 1.7524 - val_root_mean_squared_error: 1.3238\n",
      "Epoch 30/10000\n",
      "329/329 [==============================] - 16s 50ms/step - loss: 1.7377 - root_mean_squared_error: 1.3182 - val_loss: 1.7463 - val_root_mean_squared_error: 1.3215\n",
      "Epoch 31/10000\n",
      "329/329 [==============================] - 16s 50ms/step - loss: 1.7420 - root_mean_squared_error: 1.3198 - val_loss: 1.7445 - val_root_mean_squared_error: 1.3208\n",
      "Epoch 32/10000\n",
      "329/329 [==============================] - 16s 50ms/step - loss: 1.7432 - root_mean_squared_error: 1.3203 - val_loss: 1.7757 - val_root_mean_squared_error: 1.3325\n",
      "Epoch 33/10000\n",
      "329/329 [==============================] - 16s 50ms/step - loss: 1.7606 - root_mean_squared_error: 1.3269 - val_loss: 1.8114 - val_root_mean_squared_error: 1.3459\n",
      "Epoch 34/10000\n",
      "329/329 [==============================] - 16s 50ms/step - loss: 1.7570 - root_mean_squared_error: 1.3255 - val_loss: 1.7988 - val_root_mean_squared_error: 1.3412\n",
      "Epoch 35/10000\n",
      "329/329 [==============================] - 16s 50ms/step - loss: 1.7861 - root_mean_squared_error: 1.3365 - val_loss: 1.8209 - val_root_mean_squared_error: 1.3494\n",
      "Epoch 36/10000\n",
      "329/329 [==============================] - 16s 50ms/step - loss: 1.8228 - root_mean_squared_error: 1.3501 - val_loss: 1.8418 - val_root_mean_squared_error: 1.3571\n",
      "Epoch 37/10000\n",
      "329/329 [==============================] - 16s 50ms/step - loss: 1.7950 - root_mean_squared_error: 1.3398 - val_loss: 1.8177 - val_root_mean_squared_error: 1.3482\n",
      "Epoch 38/10000\n",
      "329/329 [==============================] - 16s 50ms/step - loss: 1.8042 - root_mean_squared_error: 1.3432 - val_loss: 1.8128 - val_root_mean_squared_error: 1.3464\n",
      "Epoch 39/10000\n",
      "329/329 [==============================] - 16s 50ms/step - loss: 1.7888 - root_mean_squared_error: 1.3374 - val_loss: 1.8268 - val_root_mean_squared_error: 1.3516\n",
      "Epoch 40/10000\n",
      "329/329 [==============================] - 16s 50ms/step - loss: 1.7504 - root_mean_squared_error: 1.3230 - val_loss: 1.8379 - val_root_mean_squared_error: 1.3557\n",
      "Epoch 41/10000\n",
      "329/329 [==============================] - 16s 50ms/step - loss: 1.7702 - root_mean_squared_error: 1.3305 - val_loss: 1.7583 - val_root_mean_squared_error: 1.3260\n",
      "Epoch 42/10000\n",
      "329/329 [==============================] - 16s 50ms/step - loss: 1.7556 - root_mean_squared_error: 1.3250 - val_loss: 1.7557 - val_root_mean_squared_error: 1.3250\n",
      "Epoch 43/10000\n",
      "329/329 [==============================] - 16s 50ms/step - loss: 1.7394 - root_mean_squared_error: 1.3189 - val_loss: 1.7546 - val_root_mean_squared_error: 1.3246\n",
      "Epoch 44/10000\n",
      "329/329 [==============================] - 16s 50ms/step - loss: 1.7333 - root_mean_squared_error: 1.3166 - val_loss: 1.7655 - val_root_mean_squared_error: 1.3287\n",
      "Epoch 45/10000\n",
      "329/329 [==============================] - 16s 50ms/step - loss: 1.7724 - root_mean_squared_error: 1.3313 - val_loss: 1.7858 - val_root_mean_squared_error: 1.3363\n",
      "Epoch 46/10000\n",
      "329/329 [==============================] - 16s 50ms/step - loss: 1.7625 - root_mean_squared_error: 1.3276 - val_loss: 1.7998 - val_root_mean_squared_error: 1.3416\n",
      "Epoch 47/10000\n",
      "329/329 [==============================] - 16s 50ms/step - loss: 1.7732 - root_mean_squared_error: 1.3316 - val_loss: 1.8109 - val_root_mean_squared_error: 1.3457\n",
      "Epoch 48/10000\n",
      "329/329 [==============================] - 16s 50ms/step - loss: 1.7640 - root_mean_squared_error: 1.3282 - val_loss: 1.8120 - val_root_mean_squared_error: 1.3461\n",
      "Epoch 49/10000\n",
      "329/329 [==============================] - 16s 50ms/step - loss: 1.7894 - root_mean_squared_error: 1.3377 - val_loss: 1.7689 - val_root_mean_squared_error: 1.3300\n",
      "Epoch 50/10000\n",
      "329/329 [==============================] - 16s 50ms/step - loss: 1.7766 - root_mean_squared_error: 1.3329 - val_loss: 1.8091 - val_root_mean_squared_error: 1.3450\n",
      "Epoch 51/10000\n",
      "329/329 [==============================] - 16s 50ms/step - loss: 1.7734 - root_mean_squared_error: 1.3317 - val_loss: 1.7842 - val_root_mean_squared_error: 1.3357\n"
     ]
    }
   ],
   "source": [
    "history = simplecdr.fit([drug_features_train, \n",
    "                         omics_copy_number_train, omics_gen_expr_train, \n",
    "                         omics_gen_methyl_train, omics_gen_mut_train], y_train.reshape(-1,1), \n",
    "                         \n",
    "          batch_size = 512, epochs = 10000, verbose = 1,\n",
    "                         \n",
    "          validation_data=([drug_features_valid, \n",
    "                           omics_copy_number_valid, omics_gen_expr_valid, \n",
    "                           omics_gen_methyl_valid, omics_gen_mut_valid], y_valid.reshape(-1,1)),\n",
    "                         \n",
    "\n",
    "        callbacks = tf.keras.callbacks.EarlyStopping(monitor = \"val_loss\", patience = 20, restore_best_weights=True,\n",
    "                                                       mode = \"min\"), \n",
    "         validation_batch_size = 512, shuffle = True)"
   ]
  },
  {
   "cell_type": "code",
   "execution_count": 91,
   "id": "163c3816-113b-4011-bc7e-9d312f422388",
   "metadata": {},
   "outputs": [
    {
     "name": "stderr",
     "output_type": "stream",
     "text": [
      "WARNING:absl:Function `_wrapped_model` contains input name(s) args_0 with unsupported characters which will be renamed to args_0_4 in the SavedModel.\n",
      "WARNING:absl:Found untraced functions such as _jit_compiled_convolution_op, _jit_compiled_convolution_op while saving (showing 2 of 2). These functions will not be directly callable after loading.\n"
     ]
    },
    {
     "name": "stdout",
     "output_type": "stream",
     "text": [
      "INFO:tensorflow:Assets written to: ..//Models//simplecdr_alt_config2_no_smiles_but_rdkit/assets\n"
     ]
    },
    {
     "name": "stderr",
     "output_type": "stream",
     "text": [
      "INFO:tensorflow:Assets written to: ..//Models//simplecdr_alt_config2_no_smiles_but_rdkit/assets\n"
     ]
    }
   ],
   "source": [
    "simplecdr.save(\"..//Models//simplecdr_alt_config2_no_smiles_but_rdkit\")"
   ]
  },
  {
   "cell_type": "code",
   "execution_count": 92,
   "id": "9f8d727d-315a-4659-bffe-6332b8e2a5d5",
   "metadata": {},
   "outputs": [],
   "source": [
    "simplecdr = tf.keras.models.load_model(\"..//Models//simplecdr_alt_config2_no_smiles_but_rdkit\")"
   ]
  },
  {
   "cell_type": "code",
   "execution_count": 94,
   "id": "67999a1b-c3c2-4a5b-8a99-9609a208c7a4",
   "metadata": {},
   "outputs": [
    {
     "name": "stdout",
     "output_type": "stream",
     "text": [
      "584/584 [==============================] - 2s 2ms/step\n"
     ]
    }
   ],
   "source": [
    "val_preds = simplecdr.predict([drug_features_valid, \n",
    "                           omics_copy_number_valid, omics_gen_expr_valid, \n",
    "                           omics_gen_methyl_valid, omics_gen_mut_valid])"
   ]
  },
  {
   "cell_type": "code",
   "execution_count": 95,
   "id": "bb2cd2d9-13c1-432b-b587-2ba3cbc823b5",
   "metadata": {},
   "outputs": [],
   "source": [
    "import matplotlib.pyplot as plt"
   ]
  },
  {
   "cell_type": "code",
   "execution_count": 96,
   "id": "1263b8c2-1c95-4245-9772-3e314cd1b11d",
   "metadata": {},
   "outputs": [
    {
     "data": {
      "image/png": "[encoded data removed]",
      "text/plain": [
       "<Figure size 640x480 with 1 Axes>"
      ]
     },
     "metadata": {},
     "output_type": "display_data"
    }
   ],
   "source": [
    "plt.scatter(y_valid.reshape(-1,1), val_preds, alpha = 0.1)\n",
    "plt.axline((0,0), slope = 1, c = \"black\")\n",
    "plt.show()"
   ]
  },
  {
   "cell_type": "code",
   "execution_count": 97,
   "id": "21498443-c4b0-4169-9b5b-e5c92ceeefe7",
   "metadata": {},
   "outputs": [],
   "source": [
    "from scipy.stats import pearsonr"
   ]
  },
  {
   "cell_type": "code",
   "execution_count": 98,
   "id": "13ca5ce7-ed15-44cd-9fa0-d51a727e55cb",
   "metadata": {},
   "outputs": [],
   "source": [
    "res = pearsonr(y_valid.tolist(), val_preds.tolist())"
   ]
  },
  {
   "cell_type": "code",
   "execution_count": 99,
   "id": "69e83b8e-04aa-4b76-8a4d-37e4f4cb0aa1",
   "metadata": {},
   "outputs": [
    {
     "data": {
      "text/plain": [
       "(array([0.8770132378463643], dtype=object), 0.0)"
      ]
     },
     "execution_count": 99,
     "metadata": {},
     "output_type": "execute_result"
    }
   ],
   "source": [
    "res"
   ]
  },
  {
   "cell_type": "code",
   "execution_count": 100,
   "id": "96538223-90b7-4fc4-b3f3-e7bcfc6c34c5",
   "metadata": {},
   "outputs": [
    {
     "data": {
      "text/plain": [
       "0.8770132378463643"
      ]
     },
     "execution_count": 100,
     "metadata": {},
     "output_type": "execute_result"
    }
   ],
   "source": [
    "res[0][0]"
   ]
  }
 ],
 "metadata": {
  "kernelspec": {
   "display_name": "Python (enkf_gpu)",
   "language": "python",
   "name": "tf_custom_gayara_2"
  },
  "language_info": {
   "codemirror_mode": {
    "name": "ipython",
    "version": 3
   },
   "file_extension": ".py",
   "mimetype": "text/x-python",
   "name": "python",
   "nbconvert_exporter": "python",
   "pygments_lexer": "ipython3",
   "version": "3.9.13"
  }
 },
 "nbformat": 4,
 "nbformat_minor": 5
}
