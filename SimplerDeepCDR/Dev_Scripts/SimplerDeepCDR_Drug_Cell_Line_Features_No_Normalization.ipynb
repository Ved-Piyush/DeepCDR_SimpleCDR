{
 "cells": [
  {
   "cell_type": "code",
   "execution_count": 1,
   "id": "a9c5f6c6-4c0f-4e8a-ad6b-038ec2bece24",
   "metadata": {},
   "outputs": [
    {
     "name": "stderr",
     "output_type": "stream",
     "text": [
      "2023-07-16 08:20:43.998148: I tensorflow/core/util/util.cc:169] oneDNN custom operations are on. You may see slightly different numerical results due to floating-point round-off errors from different computation orders. To turn them off, set the environment variable `TF_ENABLE_ONEDNN_OPTS=0`.\n"
     ]
    }
   ],
   "source": [
    "import pandas as pd\n",
    "import numpy as np\n",
    "import tensorflow as tf\n",
    "from sklearn.preprocessing import StandardScaler"
   ]
  },
  {
   "cell_type": "code",
   "execution_count": 2,
   "id": "337393a3-703a-4450-aee3-6a5107db817a",
   "metadata": {},
   "outputs": [],
   "source": [
    "# read the file that has smiles and ids"
   ]
  },
  {
   "cell_type": "code",
   "execution_count": 3,
   "id": "f827d866-6e16-4d4f-aee6-c3a15562f949",
   "metadata": {},
   "outputs": [],
   "source": [
    "pubchem_to_drugs_df = pd.read_csv('../data/GDSC/1.Drug_listMon Jun 24 09_00_55 2019.csv')"
   ]
  },
  {
   "cell_type": "code",
   "execution_count": 4,
   "id": "88ca79c0-6a19-4163-b473-096db2231e7d",
   "metadata": {},
   "outputs": [],
   "source": [
    "pubchem_to_drugs_df = pubchem_to_drugs_df[[\"drug_id\", \"PubCHEM\"]]"
   ]
  },
  {
   "cell_type": "code",
   "execution_count": 5,
   "id": "9a8ce4bd-c165-4791-be74-16ab00fe49a6",
   "metadata": {},
   "outputs": [
    {
     "data": {
      "text/plain": [
       "drug_id     int64\n",
       "PubCHEM    object\n",
       "dtype: object"
      ]
     },
     "execution_count": 5,
     "metadata": {},
     "output_type": "execute_result"
    }
   ],
   "source": [
    "pubchem_to_drugs_df.dtypes"
   ]
  },
  {
   "cell_type": "code",
   "execution_count": 6,
   "id": "39b52daa-a6fe-49d7-9920-118e0708a8e7",
   "metadata": {},
   "outputs": [],
   "source": [
    "pubchem_to_drugs_df[\"PubCHEM\"] = [val if str(val).isdigit() else np.nan for val in pubchem_to_drugs_df[\"PubCHEM\"] ]"
   ]
  },
  {
   "cell_type": "code",
   "execution_count": 7,
   "id": "ca15852a-6541-477a-ad0c-664e8ae55855",
   "metadata": {},
   "outputs": [],
   "source": [
    "pubchem_to_drugs_df = pubchem_to_drugs_df.dropna()"
   ]
  },
  {
   "cell_type": "code",
   "execution_count": 8,
   "id": "761ec3eb-27b8-424d-884b-16527a0cd317",
   "metadata": {},
   "outputs": [],
   "source": [
    "pubchem_to_drugs_df[\"PubCHEM\"] = pubchem_to_drugs_df[\"PubCHEM\"].astype(np.int64)"
   ]
  },
  {
   "cell_type": "code",
   "execution_count": 9,
   "id": "e3dd8967-aac8-4606-a9f8-ce6bd29fa3a3",
   "metadata": {},
   "outputs": [],
   "source": [
    "pubchem_to_smiles = pd.read_csv('../data/223drugs_pubchem_smiles.txt', sep=\"\\t\", header=None)"
   ]
  },
  {
   "cell_type": "code",
   "execution_count": 10,
   "id": "e746e4c6-714f-4dbd-a906-b71450657c8f",
   "metadata": {},
   "outputs": [],
   "source": [
    "pubchem_to_smiles.columns = [\"PubCHEM\", \"Smiles\"]"
   ]
  },
  {
   "cell_type": "code",
   "execution_count": 11,
   "id": "eb85a00b-40dc-4502-8bcf-70ef3b9c0d5a",
   "metadata": {},
   "outputs": [],
   "source": [
    "pubchem_to_smiles[\"PubCHEM\"] = pubchem_to_smiles[\"PubCHEM\"].astype(np.int64)"
   ]
  },
  {
   "cell_type": "code",
   "execution_count": 12,
   "id": "fee4d18b-72d8-4635-b4b6-5bfb4804b65a",
   "metadata": {},
   "outputs": [],
   "source": [
    "pubchem_drugs_smiles_df = pubchem_to_drugs_df.merge(pubchem_to_smiles, on = \"PubCHEM\")"
   ]
  },
  {
   "cell_type": "code",
   "execution_count": 13,
   "id": "8187d9eb-d5b1-4932-9dfb-828953734d40",
   "metadata": {},
   "outputs": [],
   "source": [
    "def get_emb_models(dataset, id_col, norm = False):\n",
    "    std = StandardScaler()\n",
    "    unique_ids = dataset[id_col].values\n",
    "    text_vec_layer = tf.keras.layers.TextVectorization(max_tokens = dataset.shape[0] + 2, \n",
    "                                                  standardize=None, split = None, \n",
    "                                                  output_mode = \"int\", \n",
    "                                                  vocabulary = unique_ids.tolist())\n",
    "    weights = dataset.drop(id_col, 1).values\n",
    "    padding_zeros = np.zeros((2, weights.shape[1]))\n",
    "    weights = np.vstack((padding_zeros, weights))\n",
    "    if norm == True:\n",
    "        std.fit(weights)\n",
    "        weights = std.transform(weights)\n",
    "    emb_layer = tf.keras.layers.Embedding(dataset.shape[0] + 2, \n",
    "                                     weights.shape[1], \n",
    "                                     weights = [weights], \n",
    "                                     trainable = False)\n",
    "    input_layer = tf.keras.layers.Input(shape = (1,), dtype = tf.string)\n",
    "    vec_out = text_vec_layer(input_layer)\n",
    "    emb_out = emb_layer(vec_out)\n",
    "    flat_out = tf.keras.layers.Flatten()(emb_out)\n",
    "    emb_model = tf.keras.models.Model(input_layer, flat_out)\n",
    "    return emb_model"
   ]
  },
  {
   "cell_type": "code",
   "execution_count": 14,
   "id": "0343b0f8-7b7f-4edf-8646-1daa0151289a",
   "metadata": {},
   "outputs": [],
   "source": [
    "# read cancer cell line data\n",
    "cancer_cell_copy_num_df = pd.read_csv('../data/CCLE/genomic_copynumber_561celllines_710genes_demap_features.csv')"
   ]
  },
  {
   "cell_type": "code",
   "execution_count": 15,
   "id": "cd0a1721-e95b-43c7-b31c-dc11f43cfdfd",
   "metadata": {},
   "outputs": [
    {
     "data": {
      "text/plain": [
       "(561, 711)"
      ]
     },
     "execution_count": 15,
     "metadata": {},
     "output_type": "execute_result"
    }
   ],
   "source": [
    "cancer_cell_copy_num_df.shape"
   ]
  },
  {
   "cell_type": "code",
   "execution_count": 16,
   "id": "024e1339-3629-4249-a3dc-c7bb01a4f72d",
   "metadata": {},
   "outputs": [
    {
     "data": {
      "text/html": [
       "<div>\n",
       "<style scoped>\n",
       "    .dataframe tbody tr th:only-of-type {\n",
       "        vertical-align: middle;\n",
       "    }\n",
       "\n",
       "    .dataframe tbody tr th {\n",
       "        vertical-align: top;\n",
       "    }\n",
       "\n",
       "    .dataframe thead th {\n",
       "        text-align: right;\n",
       "    }\n",
       "</style>\n",
       "<table border=\"1\" class=\"dataframe\">\n",
       "  <thead>\n",
       "    <tr style=\"text-align: right;\">\n",
       "      <th></th>\n",
       "      <th>Unnamed: 0</th>\n",
       "      <th>AKT3</th>\n",
       "      <th>ABI1</th>\n",
       "      <th>SH2B3</th>\n",
       "      <th>CDH10</th>\n",
       "      <th>CDH11</th>\n",
       "      <th>AKAP9</th>\n",
       "      <th>CDH17</th>\n",
       "      <th>LHFP</th>\n",
       "      <th>CDK4</th>\n",
       "      <th>...</th>\n",
       "      <th>CD79B</th>\n",
       "      <th>BCLAF1</th>\n",
       "      <th>KEAP1</th>\n",
       "      <th>SETDB1</th>\n",
       "      <th>SRGAP3</th>\n",
       "      <th>MAFB</th>\n",
       "      <th>GOLGA5</th>\n",
       "      <th>THRAP3</th>\n",
       "      <th>MED12</th>\n",
       "      <th>CDH1</th>\n",
       "    </tr>\n",
       "  </thead>\n",
       "  <tbody>\n",
       "    <tr>\n",
       "      <th>0</th>\n",
       "      <td>ACH-000828</td>\n",
       "      <td>1.548332</td>\n",
       "      <td>1.040041</td>\n",
       "      <td>1.020747</td>\n",
       "      <td>1.374471</td>\n",
       "      <td>1.042200</td>\n",
       "      <td>0.848321</td>\n",
       "      <td>1.729350</td>\n",
       "      <td>0.847032</td>\n",
       "      <td>1.025471</td>\n",
       "      <td>...</td>\n",
       "      <td>1.121307</td>\n",
       "      <td>0.830675</td>\n",
       "      <td>0.879632</td>\n",
       "      <td>1.492768</td>\n",
       "      <td>1.053714</td>\n",
       "      <td>1.014371</td>\n",
       "      <td>1.213421</td>\n",
       "      <td>0.780331</td>\n",
       "      <td>1.013260</td>\n",
       "      <td>0.641870</td>\n",
       "    </tr>\n",
       "    <tr>\n",
       "      <th>1</th>\n",
       "      <td>ACH-000568</td>\n",
       "      <td>0.798791</td>\n",
       "      <td>1.072012</td>\n",
       "      <td>1.038193</td>\n",
       "      <td>1.061508</td>\n",
       "      <td>0.792855</td>\n",
       "      <td>1.061508</td>\n",
       "      <td>1.271905</td>\n",
       "      <td>0.779829</td>\n",
       "      <td>1.002602</td>\n",
       "      <td>...</td>\n",
       "      <td>1.316797</td>\n",
       "      <td>1.049884</td>\n",
       "      <td>0.821346</td>\n",
       "      <td>1.621861</td>\n",
       "      <td>1.291863</td>\n",
       "      <td>1.046269</td>\n",
       "      <td>0.799812</td>\n",
       "      <td>1.074006</td>\n",
       "      <td>1.005510</td>\n",
       "      <td>0.792855</td>\n",
       "    </tr>\n",
       "    <tr>\n",
       "      <th>2</th>\n",
       "      <td>ACH-000560</td>\n",
       "      <td>1.080266</td>\n",
       "      <td>0.864616</td>\n",
       "      <td>0.694564</td>\n",
       "      <td>1.053766</td>\n",
       "      <td>0.628903</td>\n",
       "      <td>1.423261</td>\n",
       "      <td>1.369500</td>\n",
       "      <td>0.632267</td>\n",
       "      <td>0.911728</td>\n",
       "      <td>...</td>\n",
       "      <td>1.100098</td>\n",
       "      <td>1.069393</td>\n",
       "      <td>1.232225</td>\n",
       "      <td>0.860476</td>\n",
       "      <td>1.063332</td>\n",
       "      <td>1.194632</td>\n",
       "      <td>1.050246</td>\n",
       "      <td>0.894051</td>\n",
       "      <td>0.873167</td>\n",
       "      <td>0.620049</td>\n",
       "    </tr>\n",
       "    <tr>\n",
       "      <th>3</th>\n",
       "      <td>ACH-000561</td>\n",
       "      <td>1.032649</td>\n",
       "      <td>1.408964</td>\n",
       "      <td>0.949651</td>\n",
       "      <td>1.293622</td>\n",
       "      <td>1.274622</td>\n",
       "      <td>1.503638</td>\n",
       "      <td>1.470401</td>\n",
       "      <td>1.198447</td>\n",
       "      <td>0.893277</td>\n",
       "      <td>...</td>\n",
       "      <td>1.063162</td>\n",
       "      <td>0.660578</td>\n",
       "      <td>0.892464</td>\n",
       "      <td>1.252069</td>\n",
       "      <td>0.650263</td>\n",
       "      <td>1.178741</td>\n",
       "      <td>1.052244</td>\n",
       "      <td>0.902153</td>\n",
       "      <td>0.681885</td>\n",
       "      <td>1.274622</td>\n",
       "    </tr>\n",
       "    <tr>\n",
       "      <th>4</th>\n",
       "      <td>ACH-000562</td>\n",
       "      <td>1.406262</td>\n",
       "      <td>1.005521</td>\n",
       "      <td>0.997044</td>\n",
       "      <td>1.015986</td>\n",
       "      <td>0.932915</td>\n",
       "      <td>1.007777</td>\n",
       "      <td>1.051055</td>\n",
       "      <td>0.822244</td>\n",
       "      <td>0.997044</td>\n",
       "      <td>...</td>\n",
       "      <td>1.192299</td>\n",
       "      <td>0.974316</td>\n",
       "      <td>0.997944</td>\n",
       "      <td>1.406262</td>\n",
       "      <td>0.810652</td>\n",
       "      <td>1.008153</td>\n",
       "      <td>0.943241</td>\n",
       "      <td>0.878888</td>\n",
       "      <td>0.608959</td>\n",
       "      <td>0.932915</td>\n",
       "    </tr>\n",
       "  </tbody>\n",
       "</table>\n",
       "<p>5 rows × 711 columns</p>\n",
       "</div>"
      ],
      "text/plain": [
       "   Unnamed: 0      AKT3      ABI1     SH2B3     CDH10     CDH11     AKAP9  \\\n",
       "0  ACH-000828  1.548332  1.040041  1.020747  1.374471  1.042200  0.848321   \n",
       "1  ACH-000568  0.798791  1.072012  1.038193  1.061508  0.792855  1.061508   \n",
       "2  ACH-000560  1.080266  0.864616  0.694564  1.053766  0.628903  1.423261   \n",
       "3  ACH-000561  1.032649  1.408964  0.949651  1.293622  1.274622  1.503638   \n",
       "4  ACH-000562  1.406262  1.005521  0.997044  1.015986  0.932915  1.007777   \n",
       "\n",
       "      CDH17      LHFP      CDK4  ...     CD79B    BCLAF1     KEAP1    SETDB1  \\\n",
       "0  1.729350  0.847032  1.025471  ...  1.121307  0.830675  0.879632  1.492768   \n",
       "1  1.271905  0.779829  1.002602  ...  1.316797  1.049884  0.821346  1.621861   \n",
       "2  1.369500  0.632267  0.911728  ...  1.100098  1.069393  1.232225  0.860476   \n",
       "3  1.470401  1.198447  0.893277  ...  1.063162  0.660578  0.892464  1.252069   \n",
       "4  1.051055  0.822244  0.997044  ...  1.192299  0.974316  0.997944  1.406262   \n",
       "\n",
       "     SRGAP3      MAFB    GOLGA5    THRAP3     MED12      CDH1  \n",
       "0  1.053714  1.014371  1.213421  0.780331  1.013260  0.641870  \n",
       "1  1.291863  1.046269  0.799812  1.074006  1.005510  0.792855  \n",
       "2  1.063332  1.194632  1.050246  0.894051  0.873167  0.620049  \n",
       "3  0.650263  1.178741  1.052244  0.902153  0.681885  1.274622  \n",
       "4  0.810652  1.008153  0.943241  0.878888  0.608959  0.932915  \n",
       "\n",
       "[5 rows x 711 columns]"
      ]
     },
     "execution_count": 16,
     "metadata": {},
     "output_type": "execute_result"
    }
   ],
   "source": [
    "cancer_cell_copy_num_df.head()"
   ]
  },
  {
   "cell_type": "code",
   "execution_count": 17,
   "id": "8f3e18ac-7756-4c00-8edf-8e0d4e627252",
   "metadata": {},
   "outputs": [
    {
     "name": "stderr",
     "output_type": "stream",
     "text": [
      "/tmp/ipykernel_3276142/1778569368.py:1: FutureWarning: Dropping of nuisance columns in DataFrame reductions (with 'numeric_only=None') is deprecated; in a future version this will raise TypeError.  Select only valid columns before calling the reduction.\n",
      "  cancer_cell_copy_num_df = cancer_cell_copy_num_df.fillna(cancer_cell_copy_num_df.mean())\n"
     ]
    }
   ],
   "source": [
    "cancer_cell_copy_num_df = cancer_cell_copy_num_df.fillna(cancer_cell_copy_num_df.mean())"
   ]
  },
  {
   "cell_type": "code",
   "execution_count": 18,
   "id": "4a2f0660-8493-4ded-8b98-2f0a7f869fb8",
   "metadata": {},
   "outputs": [
    {
     "name": "stderr",
     "output_type": "stream",
     "text": [
      "2023-07-16 08:20:46.718584: I tensorflow/core/platform/cpu_feature_guard.cc:193] This TensorFlow binary is optimized with oneAPI Deep Neural Network Library (oneDNN) to use the following CPU instructions in performance-critical operations:  SSE4.1 SSE4.2 AVX AVX2 AVX512F AVX512_VNNI FMA\n",
      "To enable them in other operations, rebuild TensorFlow with the appropriate compiler flags.\n",
      "2023-07-16 08:20:47.553742: I tensorflow/core/common_runtime/gpu/gpu_device.cc:1532] Created device /job:localhost/replica:0/task:0/device:GPU:0 with 78910 MB memory:  -> device: 0, name: NVIDIA A100 80GB PCIe, pci bus id: 0000:98:00.0, compute capability: 8.0\n",
      "/tmp/ipykernel_3276142/2410486213.py:8: FutureWarning: In a future version of pandas all arguments of DataFrame.drop except for the argument 'labels' will be keyword-only.\n",
      "  weights = dataset.drop(id_col, 1).values\n"
     ]
    }
   ],
   "source": [
    "cancer_copy_number_model = get_emb_models(cancer_cell_copy_num_df, \"Unnamed: 0\")"
   ]
  },
  {
   "cell_type": "code",
   "execution_count": 19,
   "id": "4890f83b-cc18-4250-bf40-d51b9e7592c9",
   "metadata": {},
   "outputs": [
    {
     "name": "stdout",
     "output_type": "stream",
     "text": [
      "WARNING:tensorflow:Compiled the loaded model, but the compiled metrics have yet to be built. `model.compile_metrics` will be empty until you train or evaluate the model.\n"
     ]
    },
    {
     "name": "stderr",
     "output_type": "stream",
     "text": [
      "WARNING:tensorflow:Compiled the loaded model, but the compiled metrics have yet to be built. `model.compile_metrics` will be empty until you train or evaluate the model.\n"
     ]
    },
    {
     "name": "stdout",
     "output_type": "stream",
     "text": [
      "INFO:tensorflow:Assets written to: ..//Models//cancer_copy_number_model_no_norm/assets\n"
     ]
    },
    {
     "name": "stderr",
     "output_type": "stream",
     "text": [
      "INFO:tensorflow:Assets written to: ..//Models//cancer_copy_number_model_no_norm/assets\n"
     ]
    }
   ],
   "source": [
    "cancer_copy_number_model.save(\"..//Models//cancer_copy_number_model_no_norm\")"
   ]
  },
  {
   "cell_type": "code",
   "execution_count": 20,
   "id": "a9d5dd77-30bb-4572-ab90-d7b76cf857b8",
   "metadata": {},
   "outputs": [],
   "source": [
    "# read cancer cell line data\n",
    "cancer_cell_gen_expr_df = pd.read_csv('../data/CCLE/genomic_expression_561celllines_697genes_demap_features.csv')"
   ]
  },
  {
   "cell_type": "code",
   "execution_count": 21,
   "id": "7cf795f9-d87f-4702-8170-2c7e2b9501d4",
   "metadata": {},
   "outputs": [
    {
     "data": {
      "text/plain": [
       "(561, 698)"
      ]
     },
     "execution_count": 21,
     "metadata": {},
     "output_type": "execute_result"
    }
   ],
   "source": [
    "cancer_cell_gen_expr_df.shape"
   ]
  },
  {
   "cell_type": "code",
   "execution_count": 22,
   "id": "18e32d34-0c73-4f5b-884e-0db0baedf913",
   "metadata": {},
   "outputs": [
    {
     "data": {
      "text/html": [
       "<div>\n",
       "<style scoped>\n",
       "    .dataframe tbody tr th:only-of-type {\n",
       "        vertical-align: middle;\n",
       "    }\n",
       "\n",
       "    .dataframe tbody tr th {\n",
       "        vertical-align: top;\n",
       "    }\n",
       "\n",
       "    .dataframe thead th {\n",
       "        text-align: right;\n",
       "    }\n",
       "</style>\n",
       "<table border=\"1\" class=\"dataframe\">\n",
       "  <thead>\n",
       "    <tr style=\"text-align: right;\">\n",
       "      <th></th>\n",
       "      <th>Unnamed: 0</th>\n",
       "      <th>LASP1</th>\n",
       "      <th>HOXA11</th>\n",
       "      <th>CREBBP</th>\n",
       "      <th>ETV1</th>\n",
       "      <th>GAS7</th>\n",
       "      <th>CD79B</th>\n",
       "      <th>PAX7</th>\n",
       "      <th>BTK</th>\n",
       "      <th>BRCA1</th>\n",
       "      <th>...</th>\n",
       "      <th>NCKIPSD</th>\n",
       "      <th>MTCP1</th>\n",
       "      <th>DDX3X</th>\n",
       "      <th>FANCG</th>\n",
       "      <th>SSX2</th>\n",
       "      <th>ETV5</th>\n",
       "      <th>CEBPA</th>\n",
       "      <th>LSM14A</th>\n",
       "      <th>CUX1</th>\n",
       "      <th>C15orf65</th>\n",
       "    </tr>\n",
       "  </thead>\n",
       "  <tbody>\n",
       "    <tr>\n",
       "      <th>0</th>\n",
       "      <td>ACH-000828</td>\n",
       "      <td>9.393476</td>\n",
       "      <td>0.042644</td>\n",
       "      <td>3.935460</td>\n",
       "      <td>0.871844</td>\n",
       "      <td>0.070389</td>\n",
       "      <td>0.084064</td>\n",
       "      <td>0.000000</td>\n",
       "      <td>0.056584</td>\n",
       "      <td>3.339137</td>\n",
       "      <td>...</td>\n",
       "      <td>4.071248</td>\n",
       "      <td>3.119356</td>\n",
       "      <td>6.849374</td>\n",
       "      <td>4.355439</td>\n",
       "      <td>0.000000</td>\n",
       "      <td>0.137504</td>\n",
       "      <td>1.769772</td>\n",
       "      <td>6.501598</td>\n",
       "      <td>4.700994</td>\n",
       "      <td>2.295723</td>\n",
       "    </tr>\n",
       "    <tr>\n",
       "      <th>1</th>\n",
       "      <td>ACH-000568</td>\n",
       "      <td>7.638074</td>\n",
       "      <td>0.056584</td>\n",
       "      <td>3.427606</td>\n",
       "      <td>0.201634</td>\n",
       "      <td>1.794936</td>\n",
       "      <td>0.739848</td>\n",
       "      <td>0.042644</td>\n",
       "      <td>0.333424</td>\n",
       "      <td>3.193772</td>\n",
       "      <td>...</td>\n",
       "      <td>4.084064</td>\n",
       "      <td>4.634593</td>\n",
       "      <td>5.671576</td>\n",
       "      <td>5.525443</td>\n",
       "      <td>0.056584</td>\n",
       "      <td>2.195348</td>\n",
       "      <td>0.124328</td>\n",
       "      <td>5.811214</td>\n",
       "      <td>3.590961</td>\n",
       "      <td>1.550901</td>\n",
       "    </tr>\n",
       "    <tr>\n",
       "      <th>2</th>\n",
       "      <td>ACH-000560</td>\n",
       "      <td>5.728193</td>\n",
       "      <td>6.001352</td>\n",
       "      <td>5.032542</td>\n",
       "      <td>5.018812</td>\n",
       "      <td>0.432959</td>\n",
       "      <td>0.250962</td>\n",
       "      <td>0.000000</td>\n",
       "      <td>0.263034</td>\n",
       "      <td>4.678635</td>\n",
       "      <td>...</td>\n",
       "      <td>5.057450</td>\n",
       "      <td>3.468583</td>\n",
       "      <td>6.617798</td>\n",
       "      <td>6.425761</td>\n",
       "      <td>0.000000</td>\n",
       "      <td>5.203201</td>\n",
       "      <td>1.922198</td>\n",
       "      <td>7.581351</td>\n",
       "      <td>5.320124</td>\n",
       "      <td>1.438293</td>\n",
       "    </tr>\n",
       "    <tr>\n",
       "      <th>3</th>\n",
       "      <td>ACH-000561</td>\n",
       "      <td>6.037163</td>\n",
       "      <td>1.565597</td>\n",
       "      <td>4.262283</td>\n",
       "      <td>0.790772</td>\n",
       "      <td>1.257011</td>\n",
       "      <td>0.028569</td>\n",
       "      <td>0.056584</td>\n",
       "      <td>0.042644</td>\n",
       "      <td>3.442280</td>\n",
       "      <td>...</td>\n",
       "      <td>3.400538</td>\n",
       "      <td>3.407353</td>\n",
       "      <td>6.154211</td>\n",
       "      <td>4.794936</td>\n",
       "      <td>0.000000</td>\n",
       "      <td>3.984589</td>\n",
       "      <td>1.028569</td>\n",
       "      <td>6.533719</td>\n",
       "      <td>5.132166</td>\n",
       "      <td>2.144046</td>\n",
       "    </tr>\n",
       "    <tr>\n",
       "      <th>4</th>\n",
       "      <td>ACH-000562</td>\n",
       "      <td>7.050502</td>\n",
       "      <td>0.014355</td>\n",
       "      <td>3.360364</td>\n",
       "      <td>0.879706</td>\n",
       "      <td>0.084064</td>\n",
       "      <td>0.137504</td>\n",
       "      <td>0.000000</td>\n",
       "      <td>0.042644</td>\n",
       "      <td>4.939227</td>\n",
       "      <td>...</td>\n",
       "      <td>4.125982</td>\n",
       "      <td>4.047015</td>\n",
       "      <td>6.281884</td>\n",
       "      <td>5.853497</td>\n",
       "      <td>0.056584</td>\n",
       "      <td>3.757023</td>\n",
       "      <td>0.056584</td>\n",
       "      <td>5.912171</td>\n",
       "      <td>4.877744</td>\n",
       "      <td>0.815575</td>\n",
       "    </tr>\n",
       "  </tbody>\n",
       "</table>\n",
       "<p>5 rows × 698 columns</p>\n",
       "</div>"
      ],
      "text/plain": [
       "   Unnamed: 0     LASP1    HOXA11    CREBBP      ETV1      GAS7     CD79B  \\\n",
       "0  ACH-000828  9.393476  0.042644  3.935460  0.871844  0.070389  0.084064   \n",
       "1  ACH-000568  7.638074  0.056584  3.427606  0.201634  1.794936  0.739848   \n",
       "2  ACH-000560  5.728193  6.001352  5.032542  5.018812  0.432959  0.250962   \n",
       "3  ACH-000561  6.037163  1.565597  4.262283  0.790772  1.257011  0.028569   \n",
       "4  ACH-000562  7.050502  0.014355  3.360364  0.879706  0.084064  0.137504   \n",
       "\n",
       "       PAX7       BTK     BRCA1  ...   NCKIPSD     MTCP1     DDX3X     FANCG  \\\n",
       "0  0.000000  0.056584  3.339137  ...  4.071248  3.119356  6.849374  4.355439   \n",
       "1  0.042644  0.333424  3.193772  ...  4.084064  4.634593  5.671576  5.525443   \n",
       "2  0.000000  0.263034  4.678635  ...  5.057450  3.468583  6.617798  6.425761   \n",
       "3  0.056584  0.042644  3.442280  ...  3.400538  3.407353  6.154211  4.794936   \n",
       "4  0.000000  0.042644  4.939227  ...  4.125982  4.047015  6.281884  5.853497   \n",
       "\n",
       "       SSX2      ETV5     CEBPA    LSM14A      CUX1  C15orf65  \n",
       "0  0.000000  0.137504  1.769772  6.501598  4.700994  2.295723  \n",
       "1  0.056584  2.195348  0.124328  5.811214  3.590961  1.550901  \n",
       "2  0.000000  5.203201  1.922198  7.581351  5.320124  1.438293  \n",
       "3  0.000000  3.984589  1.028569  6.533719  5.132166  2.144046  \n",
       "4  0.056584  3.757023  0.056584  5.912171  4.877744  0.815575  \n",
       "\n",
       "[5 rows x 698 columns]"
      ]
     },
     "execution_count": 22,
     "metadata": {},
     "output_type": "execute_result"
    }
   ],
   "source": [
    "cancer_cell_gen_expr_df.head()"
   ]
  },
  {
   "cell_type": "code",
   "execution_count": 23,
   "id": "02dea487-7f0a-42bd-89f1-99428453b318",
   "metadata": {},
   "outputs": [
    {
     "name": "stderr",
     "output_type": "stream",
     "text": [
      "/tmp/ipykernel_3276142/1063970889.py:1: FutureWarning: Dropping of nuisance columns in DataFrame reductions (with 'numeric_only=None') is deprecated; in a future version this will raise TypeError.  Select only valid columns before calling the reduction.\n",
      "  cancer_cell_gen_expr_df = cancer_cell_gen_expr_df.fillna(cancer_cell_gen_expr_df.mean())\n"
     ]
    }
   ],
   "source": [
    "cancer_cell_gen_expr_df = cancer_cell_gen_expr_df.fillna(cancer_cell_gen_expr_df.mean())"
   ]
  },
  {
   "cell_type": "code",
   "execution_count": 24,
   "id": "9cc76202-66cc-4c0a-9333-0d400100dcf2",
   "metadata": {},
   "outputs": [
    {
     "name": "stderr",
     "output_type": "stream",
     "text": [
      "/tmp/ipykernel_3276142/2410486213.py:8: FutureWarning: In a future version of pandas all arguments of DataFrame.drop except for the argument 'labels' will be keyword-only.\n",
      "  weights = dataset.drop(id_col, 1).values\n"
     ]
    }
   ],
   "source": [
    "cancer_cell_gen_expr_model = get_emb_models(cancer_cell_gen_expr_df, \"Unnamed: 0\")"
   ]
  },
  {
   "cell_type": "code",
   "execution_count": 25,
   "id": "31889205-4ddb-4b55-b73b-831bc08a4791",
   "metadata": {},
   "outputs": [
    {
     "name": "stdout",
     "output_type": "stream",
     "text": [
      "WARNING:tensorflow:Compiled the loaded model, but the compiled metrics have yet to be built. `model.compile_metrics` will be empty until you train or evaluate the model.\n"
     ]
    },
    {
     "name": "stderr",
     "output_type": "stream",
     "text": [
      "WARNING:tensorflow:Compiled the loaded model, but the compiled metrics have yet to be built. `model.compile_metrics` will be empty until you train or evaluate the model.\n"
     ]
    },
    {
     "name": "stdout",
     "output_type": "stream",
     "text": [
      "INFO:tensorflow:Assets written to: ..//Models//cancer_cell_gen_expr_model_no_norm/assets\n"
     ]
    },
    {
     "name": "stderr",
     "output_type": "stream",
     "text": [
      "INFO:tensorflow:Assets written to: ..//Models//cancer_cell_gen_expr_model_no_norm/assets\n"
     ]
    }
   ],
   "source": [
    "cancer_cell_gen_expr_model.save(\"..//Models//cancer_cell_gen_expr_model_no_norm\")"
   ]
  },
  {
   "cell_type": "code",
   "execution_count": 26,
   "id": "5fa419c6-5e73-4ef5-a0de-b63cea9f8ae1",
   "metadata": {},
   "outputs": [
    {
     "name": "stdout",
     "output_type": "stream",
     "text": [
      "Model: \"model_1\"\n",
      "_________________________________________________________________\n",
      " Layer (type)                Output Shape              Param #   \n",
      "=================================================================\n",
      " input_2 (InputLayer)        [(None, 1)]               0         \n",
      "                                                                 \n",
      " text_vectorization_1 (TextV  (None, 1)                0         \n",
      " ectorization)                                                   \n",
      "                                                                 \n",
      " embedding_1 (Embedding)     (None, 1, 697)            392411    \n",
      "                                                                 \n",
      " flatten_1 (Flatten)         (None, 697)               0         \n",
      "                                                                 \n",
      "=================================================================\n",
      "Total params: 392,411\n",
      "Trainable params: 0\n",
      "Non-trainable params: 392,411\n",
      "_________________________________________________________________\n"
     ]
    }
   ],
   "source": [
    "cancer_cell_gen_expr_model.summary()"
   ]
  },
  {
   "cell_type": "code",
   "execution_count": 27,
   "id": "f3ace337-df6c-49cc-9ce6-235c2861e5e6",
   "metadata": {},
   "outputs": [],
   "source": [
    "# read cancer cell line data\n",
    "cancer_cell_gen_methy_df = pd.read_csv('../data/CCLE/genomic_methylation_561celllines_808genes_demap_features.csv')"
   ]
  },
  {
   "cell_type": "code",
   "execution_count": 28,
   "id": "ef4662f0-2826-4243-b9d9-204911a58dc9",
   "metadata": {},
   "outputs": [
    {
     "data": {
      "text/plain": [
       "(561, 809)"
      ]
     },
     "execution_count": 28,
     "metadata": {},
     "output_type": "execute_result"
    }
   ],
   "source": [
    "cancer_cell_gen_methy_df.shape"
   ]
  },
  {
   "cell_type": "code",
   "execution_count": 29,
   "id": "6bbb7bf9-b3c7-4c5c-89e8-547fbc53c05a",
   "metadata": {},
   "outputs": [
    {
     "name": "stderr",
     "output_type": "stream",
     "text": [
      "/tmp/ipykernel_3276142/155548174.py:1: FutureWarning: Dropping of nuisance columns in DataFrame reductions (with 'numeric_only=None') is deprecated; in a future version this will raise TypeError.  Select only valid columns before calling the reduction.\n",
      "  cancer_cell_gen_methy_df = cancer_cell_gen_methy_df.fillna(cancer_cell_gen_methy_df.mean())\n"
     ]
    }
   ],
   "source": [
    "cancer_cell_gen_methy_df = cancer_cell_gen_methy_df.fillna(cancer_cell_gen_methy_df.mean())"
   ]
  },
  {
   "cell_type": "code",
   "execution_count": 30,
   "id": "e3deb7a7-fb57-466e-b829-f2a6799728cc",
   "metadata": {},
   "outputs": [
    {
     "name": "stderr",
     "output_type": "stream",
     "text": [
      "/tmp/ipykernel_3276142/2410486213.py:8: FutureWarning: In a future version of pandas all arguments of DataFrame.drop except for the argument 'labels' will be keyword-only.\n",
      "  weights = dataset.drop(id_col, 1).values\n"
     ]
    }
   ],
   "source": [
    "cancer_cell_gen_methy_model = get_emb_models(cancer_cell_gen_methy_df, \"Unnamed: 0\")"
   ]
  },
  {
   "cell_type": "code",
   "execution_count": 31,
   "id": "25869ead-05eb-4f2a-8223-a6cd36778ba7",
   "metadata": {},
   "outputs": [
    {
     "name": "stdout",
     "output_type": "stream",
     "text": [
      "WARNING:tensorflow:Compiled the loaded model, but the compiled metrics have yet to be built. `model.compile_metrics` will be empty until you train or evaluate the model.\n"
     ]
    },
    {
     "name": "stderr",
     "output_type": "stream",
     "text": [
      "WARNING:tensorflow:Compiled the loaded model, but the compiled metrics have yet to be built. `model.compile_metrics` will be empty until you train or evaluate the model.\n"
     ]
    },
    {
     "name": "stdout",
     "output_type": "stream",
     "text": [
      "INFO:tensorflow:Assets written to: ..//Models//cancer_cell_gen_methy_model_no_norm/assets\n"
     ]
    },
    {
     "name": "stderr",
     "output_type": "stream",
     "text": [
      "INFO:tensorflow:Assets written to: ..//Models//cancer_cell_gen_methy_model_no_norm/assets\n"
     ]
    }
   ],
   "source": [
    "cancer_cell_gen_methy_model.save(\"..//Models//cancer_cell_gen_methy_model_no_norm\")"
   ]
  },
  {
   "cell_type": "code",
   "execution_count": 32,
   "id": "690f4963-073b-4c5b-9b6d-c8a220e83981",
   "metadata": {},
   "outputs": [],
   "source": [
    "# read cancer cell line data\n",
    "cancer_cell_gen_mut_df = pd.read_csv('../data/CCLE/genomic_mutation_34673_demap_features.csv')"
   ]
  },
  {
   "cell_type": "code",
   "execution_count": 33,
   "id": "05a16241-55a8-4cfe-8729-1015ad049b29",
   "metadata": {},
   "outputs": [
    {
     "data": {
      "text/plain": [
       "(961, 34674)"
      ]
     },
     "execution_count": 33,
     "metadata": {},
     "output_type": "execute_result"
    }
   ],
   "source": [
    "cancer_cell_gen_mut_df.shape"
   ]
  },
  {
   "cell_type": "code",
   "execution_count": 34,
   "id": "93dde447-a263-4760-b5a6-2674c88201d5",
   "metadata": {},
   "outputs": [
    {
     "name": "stderr",
     "output_type": "stream",
     "text": [
      "/tmp/ipykernel_3276142/3221742912.py:1: FutureWarning: Dropping of nuisance columns in DataFrame reductions (with 'numeric_only=None') is deprecated; in a future version this will raise TypeError.  Select only valid columns before calling the reduction.\n",
      "  cancer_cell_gen_mut_df = cancer_cell_gen_mut_df.fillna(cancer_cell_gen_mut_df.mean())\n"
     ]
    }
   ],
   "source": [
    "cancer_cell_gen_mut_df = cancer_cell_gen_mut_df.fillna(cancer_cell_gen_mut_df.mean())"
   ]
  },
  {
   "cell_type": "code",
   "execution_count": 35,
   "id": "4e9f0fa9-9828-47c8-b32b-80da767a0a6c",
   "metadata": {},
   "outputs": [
    {
     "name": "stderr",
     "output_type": "stream",
     "text": [
      "/tmp/ipykernel_3276142/2410486213.py:8: FutureWarning: In a future version of pandas all arguments of DataFrame.drop except for the argument 'labels' will be keyword-only.\n",
      "  weights = dataset.drop(id_col, 1).values\n"
     ]
    }
   ],
   "source": [
    "cancer_cell_gen_mut_model = get_emb_models(cancer_cell_gen_mut_df, \"Unnamed: 0\")"
   ]
  },
  {
   "cell_type": "code",
   "execution_count": 36,
   "id": "b318a387-487f-455f-a87b-af71ce6f3136",
   "metadata": {},
   "outputs": [
    {
     "name": "stdout",
     "output_type": "stream",
     "text": [
      "Model: \"model_3\"\n",
      "_________________________________________________________________\n",
      " Layer (type)                Output Shape              Param #   \n",
      "=================================================================\n",
      " input_4 (InputLayer)        [(None, 1)]               0         \n",
      "                                                                 \n",
      " text_vectorization_3 (TextV  (None, 1)                0         \n",
      " ectorization)                                                   \n",
      "                                                                 \n",
      " embedding_3 (Embedding)     (None, 1, 34673)          33390099  \n",
      "                                                                 \n",
      " flatten_3 (Flatten)         (None, 34673)             0         \n",
      "                                                                 \n",
      "=================================================================\n",
      "Total params: 33,390,099\n",
      "Trainable params: 0\n",
      "Non-trainable params: 33,390,099\n",
      "_________________________________________________________________\n"
     ]
    }
   ],
   "source": [
    "cancer_cell_gen_mut_model.summary()"
   ]
  },
  {
   "cell_type": "code",
   "execution_count": 37,
   "id": "1e450d8b-69c7-4321-9526-3e8aa3f3bb1e",
   "metadata": {},
   "outputs": [
    {
     "name": "stdout",
     "output_type": "stream",
     "text": [
      "WARNING:tensorflow:Compiled the loaded model, but the compiled metrics have yet to be built. `model.compile_metrics` will be empty until you train or evaluate the model.\n"
     ]
    },
    {
     "name": "stderr",
     "output_type": "stream",
     "text": [
      "WARNING:tensorflow:Compiled the loaded model, but the compiled metrics have yet to be built. `model.compile_metrics` will be empty until you train or evaluate the model.\n"
     ]
    },
    {
     "name": "stdout",
     "output_type": "stream",
     "text": [
      "INFO:tensorflow:Assets written to: ..//Models//cancer_cell_gen_mut_model_no_norm/assets\n"
     ]
    },
    {
     "name": "stderr",
     "output_type": "stream",
     "text": [
      "INFO:tensorflow:Assets written to: ..//Models//cancer_cell_gen_mut_model_no_norm/assets\n"
     ]
    }
   ],
   "source": [
    "cancer_cell_gen_mut_model.save(\"..//Models//cancer_cell_gen_mut_model_no_norm\")"
   ]
  },
  {
   "cell_type": "code",
   "execution_count": 38,
   "id": "c5068a1e-b663-430e-bbbe-1111390db504",
   "metadata": {},
   "outputs": [],
   "source": [
    "cancer_cell_lines_drug_ic_50 = pd.read_csv('../data/CCLE/GDSC_IC50.csv')"
   ]
  },
  {
   "cell_type": "code",
   "execution_count": 39,
   "id": "889f62d5-fefb-4c96-b6ea-7a80d2a12bfc",
   "metadata": {},
   "outputs": [
    {
     "data": {
      "text/html": [
       "<div>\n",
       "<style scoped>\n",
       "    .dataframe tbody tr th:only-of-type {\n",
       "        vertical-align: middle;\n",
       "    }\n",
       "\n",
       "    .dataframe tbody tr th {\n",
       "        vertical-align: top;\n",
       "    }\n",
       "\n",
       "    .dataframe thead th {\n",
       "        text-align: right;\n",
       "    }\n",
       "</style>\n",
       "<table border=\"1\" class=\"dataframe\">\n",
       "  <thead>\n",
       "    <tr style=\"text-align: right;\">\n",
       "      <th></th>\n",
       "      <th>Unnamed: 0</th>\n",
       "      <th>ACH-002137</th>\n",
       "      <th>ACH-000474</th>\n",
       "      <th>ACH-002089</th>\n",
       "      <th>ACH-000956</th>\n",
       "      <th>ACH-000948</th>\n",
       "      <th>ACH-000323</th>\n",
       "      <th>ACH-001002</th>\n",
       "      <th>ACH-000905</th>\n",
       "      <th>ACH-000973</th>\n",
       "      <th>...</th>\n",
       "      <th>ACH-002207</th>\n",
       "      <th>ACH-000827</th>\n",
       "      <th>ACH-000534</th>\n",
       "      <th>ACH-001709</th>\n",
       "      <th>ACH-000332</th>\n",
       "      <th>ACH-000469</th>\n",
       "      <th>ACH-000570</th>\n",
       "      <th>ACH-002208</th>\n",
       "      <th>ACH-002317</th>\n",
       "      <th>ACH-000828</th>\n",
       "    </tr>\n",
       "  </thead>\n",
       "  <tbody>\n",
       "    <tr>\n",
       "      <th>0</th>\n",
       "      <td>GDSC:1</td>\n",
       "      <td>NaN</td>\n",
       "      <td>NaN</td>\n",
       "      <td>NaN</td>\n",
       "      <td>NaN</td>\n",
       "      <td>NaN</td>\n",
       "      <td>NaN</td>\n",
       "      <td>NaN</td>\n",
       "      <td>NaN</td>\n",
       "      <td>NaN</td>\n",
       "      <td>...</td>\n",
       "      <td>NaN</td>\n",
       "      <td>NaN</td>\n",
       "      <td>2.724636</td>\n",
       "      <td>2.576109</td>\n",
       "      <td>NaN</td>\n",
       "      <td>NaN</td>\n",
       "      <td>NaN</td>\n",
       "      <td>NaN</td>\n",
       "      <td>2.842845</td>\n",
       "      <td>NaN</td>\n",
       "    </tr>\n",
       "    <tr>\n",
       "      <th>1</th>\n",
       "      <td>GDSC:1001</td>\n",
       "      <td>7.258918</td>\n",
       "      <td>9.131374</td>\n",
       "      <td>10.182594</td>\n",
       "      <td>8.332992</td>\n",
       "      <td>8.597157</td>\n",
       "      <td>7.606939</td>\n",
       "      <td>8.168512</td>\n",
       "      <td>8.021503</td>\n",
       "      <td>7.517325</td>\n",
       "      <td>...</td>\n",
       "      <td>5.794405</td>\n",
       "      <td>7.748403</td>\n",
       "      <td>7.899330</td>\n",
       "      <td>6.896593</td>\n",
       "      <td>9.338678</td>\n",
       "      <td>9.200637</td>\n",
       "      <td>6.464226</td>\n",
       "      <td>NaN</td>\n",
       "      <td>9.426281</td>\n",
       "      <td>8.916867</td>\n",
       "    </tr>\n",
       "    <tr>\n",
       "      <th>2</th>\n",
       "      <td>GDSC:1004</td>\n",
       "      <td>-3.802467</td>\n",
       "      <td>-5.702659</td>\n",
       "      <td>-4.499864</td>\n",
       "      <td>-4.366928</td>\n",
       "      <td>-4.563040</td>\n",
       "      <td>-4.633045</td>\n",
       "      <td>-6.050113</td>\n",
       "      <td>-6.618734</td>\n",
       "      <td>-5.374042</td>\n",
       "      <td>...</td>\n",
       "      <td>-5.929886</td>\n",
       "      <td>-4.435285</td>\n",
       "      <td>-5.623723</td>\n",
       "      <td>-5.886495</td>\n",
       "      <td>-2.237481</td>\n",
       "      <td>-5.476621</td>\n",
       "      <td>-4.985852</td>\n",
       "      <td>NaN</td>\n",
       "      <td>-1.382754</td>\n",
       "      <td>-2.206867</td>\n",
       "    </tr>\n",
       "    <tr>\n",
       "      <th>3</th>\n",
       "      <td>GDSC:1005</td>\n",
       "      <td>4.146364</td>\n",
       "      <td>4.551663</td>\n",
       "      <td>1.772586</td>\n",
       "      <td>3.263056</td>\n",
       "      <td>4.091980</td>\n",
       "      <td>3.090641</td>\n",
       "      <td>1.673430</td>\n",
       "      <td>1.523128</td>\n",
       "      <td>0.794987</td>\n",
       "      <td>...</td>\n",
       "      <td>2.009858</td>\n",
       "      <td>2.576495</td>\n",
       "      <td>3.462176</td>\n",
       "      <td>2.572676</td>\n",
       "      <td>5.706240</td>\n",
       "      <td>2.498858</td>\n",
       "      <td>1.850879</td>\n",
       "      <td>NaN</td>\n",
       "      <td>4.143535</td>\n",
       "      <td>5.344525</td>\n",
       "    </tr>\n",
       "    <tr>\n",
       "      <th>4</th>\n",
       "      <td>GDSC:1006</td>\n",
       "      <td>3.171367</td>\n",
       "      <td>-2.014854</td>\n",
       "      <td>-1.818771</td>\n",
       "      <td>0.252367</td>\n",
       "      <td>-1.688469</td>\n",
       "      <td>0.020116</td>\n",
       "      <td>-0.460778</td>\n",
       "      <td>-0.877788</td>\n",
       "      <td>-0.103689</td>\n",
       "      <td>...</td>\n",
       "      <td>-0.121731</td>\n",
       "      <td>-0.889294</td>\n",
       "      <td>0.681844</td>\n",
       "      <td>-2.041620</td>\n",
       "      <td>1.454613</td>\n",
       "      <td>-1.346782</td>\n",
       "      <td>-1.255548</td>\n",
       "      <td>NaN</td>\n",
       "      <td>2.067330</td>\n",
       "      <td>1.230528</td>\n",
       "    </tr>\n",
       "  </tbody>\n",
       "</table>\n",
       "<p>5 rows × 970 columns</p>\n",
       "</div>"
      ],
      "text/plain": [
       "  Unnamed: 0  ACH-002137  ACH-000474  ACH-002089  ACH-000956  ACH-000948  \\\n",
       "0     GDSC:1         NaN         NaN         NaN         NaN         NaN   \n",
       "1  GDSC:1001    7.258918    9.131374   10.182594    8.332992    8.597157   \n",
       "2  GDSC:1004   -3.802467   -5.702659   -4.499864   -4.366928   -4.563040   \n",
       "3  GDSC:1005    4.146364    4.551663    1.772586    3.263056    4.091980   \n",
       "4  GDSC:1006    3.171367   -2.014854   -1.818771    0.252367   -1.688469   \n",
       "\n",
       "   ACH-000323  ACH-001002  ACH-000905  ACH-000973  ...  ACH-002207  \\\n",
       "0         NaN         NaN         NaN         NaN  ...         NaN   \n",
       "1    7.606939    8.168512    8.021503    7.517325  ...    5.794405   \n",
       "2   -4.633045   -6.050113   -6.618734   -5.374042  ...   -5.929886   \n",
       "3    3.090641    1.673430    1.523128    0.794987  ...    2.009858   \n",
       "4    0.020116   -0.460778   -0.877788   -0.103689  ...   -0.121731   \n",
       "\n",
       "   ACH-000827  ACH-000534  ACH-001709  ACH-000332  ACH-000469  ACH-000570  \\\n",
       "0         NaN    2.724636    2.576109         NaN         NaN         NaN   \n",
       "1    7.748403    7.899330    6.896593    9.338678    9.200637    6.464226   \n",
       "2   -4.435285   -5.623723   -5.886495   -2.237481   -5.476621   -4.985852   \n",
       "3    2.576495    3.462176    2.572676    5.706240    2.498858    1.850879   \n",
       "4   -0.889294    0.681844   -2.041620    1.454613   -1.346782   -1.255548   \n",
       "\n",
       "   ACH-002208  ACH-002317  ACH-000828  \n",
       "0         NaN    2.842845         NaN  \n",
       "1         NaN    9.426281    8.916867  \n",
       "2         NaN   -1.382754   -2.206867  \n",
       "3         NaN    4.143535    5.344525  \n",
       "4         NaN    2.067330    1.230528  \n",
       "\n",
       "[5 rows x 970 columns]"
      ]
     },
     "execution_count": 39,
     "metadata": {},
     "output_type": "execute_result"
    }
   ],
   "source": [
    "cancer_cell_lines_drug_ic_50.head()"
   ]
  },
  {
   "cell_type": "code",
   "execution_count": 40,
   "id": "c5c58cb7-4b09-43a3-aba8-212ff90a89b0",
   "metadata": {},
   "outputs": [],
   "source": [
    "# combine all multi-omic features"
   ]
  },
  {
   "cell_type": "code",
   "execution_count": 41,
   "id": "15b94af1-3b1e-44c3-9d41-e275697bc64b",
   "metadata": {},
   "outputs": [],
   "source": [
    "# first_two_omics = cancer_cell_copy_num_df.merge(cancer_cell_gen_expr_df, on = [\"Unnamed: 0\"])"
   ]
  },
  {
   "cell_type": "code",
   "execution_count": 42,
   "id": "cb9a0f87-270e-402c-b99d-8dbfb5c4e104",
   "metadata": {},
   "outputs": [],
   "source": [
    "# first_three_omics = first_two_omics.merge(cancer_cell_gen_methy_df, on = [\"Unnamed: 0\"])"
   ]
  },
  {
   "cell_type": "code",
   "execution_count": 43,
   "id": "b838ec3b-7e69-468c-b49e-fc1f2bd92972",
   "metadata": {},
   "outputs": [],
   "source": [
    "# first_four_omics = first_three_omics.merge(cancer_cell_gen_mut_df, on = [\"Unnamed: 0\"])"
   ]
  },
  {
   "cell_type": "code",
   "execution_count": 44,
   "id": "a651e083-d28d-433f-8379-75aba2da9d38",
   "metadata": {},
   "outputs": [],
   "source": [
    "# first_four_omics.shape"
   ]
  },
  {
   "cell_type": "code",
   "execution_count": 45,
   "id": "7d2b0414-d224-4982-9e49-d1780bf109a0",
   "metadata": {},
   "outputs": [],
   "source": [
    "drug_ids_gdsc = [int(item.split(\":\")[-1]) for item in cancer_cell_lines_drug_ic_50[\"Unnamed: 0\"].values]"
   ]
  },
  {
   "cell_type": "code",
   "execution_count": 46,
   "id": "faff6887-a5e0-46d4-9a7a-3f25fd0b77a9",
   "metadata": {},
   "outputs": [
    {
     "data": {
      "text/plain": [
       "1.0"
      ]
     },
     "execution_count": 46,
     "metadata": {},
     "output_type": "execute_result"
    }
   ],
   "source": [
    "len(set(pubchem_drugs_smiles_df[\"drug_id\"].values).intersection(drug_ids_gdsc))/len(set(pubchem_drugs_smiles_df[\"drug_id\"].values))"
   ]
  },
  {
   "cell_type": "code",
   "execution_count": 47,
   "id": "d6e7078b-0c2f-426d-b797-e2d989aaf3f3",
   "metadata": {},
   "outputs": [],
   "source": [
    "# get the responses for the cancer cell lines and drugs"
   ]
  },
  {
   "cell_type": "code",
   "execution_count": 48,
   "id": "e79da76b-0ed2-477c-804a-13c58445ce4d",
   "metadata": {},
   "outputs": [
    {
     "name": "stderr",
     "output_type": "stream",
     "text": [
      "WARNING:deepchem.models:Skipped loading some PyTorch models, missing a dependency. No module named 'torch'\n",
      "WARNING:deepchem.models:Skipped loading modules with pytorch-geometric dependency, missing a dependency. No module named 'torch'\n",
      "WARNING:deepchem.models:Skipped loading modules with pytorch-lightning dependency, missing a dependency. No module named 'torch'\n",
      "WARNING:deepchem.models:Skipped loading some Jax models, missing a dependency. No module named 'haiku'\n"
     ]
    }
   ],
   "source": [
    "import deepchem as dc\n",
    "from rdkit import Chem"
   ]
  },
  {
   "cell_type": "code",
   "execution_count": 49,
   "id": "8e85e3de-cb12-4890-936c-1c895676d55f",
   "metadata": {},
   "outputs": [],
   "source": [
    "sample_smile = pubchem_drugs_smiles_df[\"Smiles\"].values[0]"
   ]
  },
  {
   "cell_type": "code",
   "execution_count": 50,
   "id": "d72c68ca-8a29-4837-b96b-2ac199005a05",
   "metadata": {},
   "outputs": [],
   "source": [
    "from rdkit import Chem\n",
    "import rdkit\n",
    "from rdkit.Chem import Descriptors"
   ]
  },
  {
   "cell_type": "code",
   "execution_count": 51,
   "id": "a5fe635e-63a9-4247-9c51-872e82451372",
   "metadata": {},
   "outputs": [],
   "source": [
    "from joblib import Parallel, delayed"
   ]
  },
  {
   "cell_type": "code",
   "execution_count": 52,
   "id": "c7b16c95-db8e-46e2-b6a0-803f8af2207c",
   "metadata": {},
   "outputs": [],
   "source": [
    "## function from link: https://greglandrum.github.io/rdkit-blog/posts/2022-12-23-descriptor-tutorial.html\n",
    "def getMolDescriptors(smiles, missingVal=None):\n",
    "    ''' calculate the full list of descriptors for a molecule\n",
    "    \n",
    "        missingVal is used if the descriptor cannot be calculated\n",
    "    '''\n",
    "    mol = Chem.MolFromSmiles(smiles)\n",
    "    res = {}\n",
    "    for nm,fn in Descriptors._descList:\n",
    "        # some of the descriptor fucntions can throw errors if they fail, catch those here:\n",
    "        try:\n",
    "            val = fn(mol)\n",
    "        except:\n",
    "            # print the error message:\n",
    "            import traceback\n",
    "            traceback.print_exc()\n",
    "            # and set the descriptor value to whatever missingVal is\n",
    "            val = missingVal\n",
    "        res[nm] = val\n",
    "    return res"
   ]
  },
  {
   "cell_type": "code",
   "execution_count": 53,
   "id": "8ca52379-6f14-46d3-a825-7f2529af889d",
   "metadata": {},
   "outputs": [
    {
     "name": "stderr",
     "output_type": "stream",
     "text": [
      "[Parallel(n_jobs=15)]: Using backend LokyBackend with 15 concurrent workers.\n",
      "[Parallel(n_jobs=15)]: Done  20 tasks      | elapsed:    0.6s\n",
      "[Parallel(n_jobs=15)]: Done 238 out of 238 | elapsed:    0.8s finished\n"
     ]
    }
   ],
   "source": [
    "catch = Parallel(n_jobs=15, verbose = 1)(delayed(getMolDescriptors)(i) for i in pubchem_drugs_smiles_df[\"Smiles\"].values)"
   ]
  },
  {
   "cell_type": "code",
   "execution_count": 54,
   "id": "61a13992-5a5e-45ea-82e5-d973dd205104",
   "metadata": {},
   "outputs": [],
   "source": [
    "rdkit_features = pd.DataFrame(catch)"
   ]
  },
  {
   "cell_type": "code",
   "execution_count": 55,
   "id": "7390dea7-7aec-4c6a-a53f-14c94d392143",
   "metadata": {},
   "outputs": [
    {
     "data": {
      "text/plain": [
       "8"
      ]
     },
     "execution_count": 55,
     "metadata": {},
     "output_type": "execute_result"
    }
   ],
   "source": [
    "rdkit_features.isnull().sum().sum()"
   ]
  },
  {
   "cell_type": "code",
   "execution_count": 56,
   "id": "32fea4cc-6a16-449d-87e5-38ab1e387787",
   "metadata": {},
   "outputs": [],
   "source": [
    "rdkit_features = rdkit_features.fillna(rdkit_features.mean())"
   ]
  },
  {
   "cell_type": "code",
   "execution_count": 57,
   "id": "e596b7e3-fd31-4448-9d81-66a4b5afd3ac",
   "metadata": {},
   "outputs": [
    {
     "data": {
      "text/plain": [
       "(238, 209)"
      ]
     },
     "execution_count": 57,
     "metadata": {},
     "output_type": "execute_result"
    }
   ],
   "source": [
    "rdkit_features.shape"
   ]
  },
  {
   "cell_type": "code",
   "execution_count": 58,
   "id": "82d60bdf-cc94-482b-ae93-56f172480ec3",
   "metadata": {},
   "outputs": [],
   "source": [
    "# rdkit_features.head()"
   ]
  },
  {
   "cell_type": "code",
   "execution_count": 59,
   "id": "82996945-ff58-402a-a624-25418ca783f5",
   "metadata": {},
   "outputs": [],
   "source": [
    "# rdkit_features.var()"
   ]
  },
  {
   "cell_type": "code",
   "execution_count": 60,
   "id": "da3fe6bd-9fc8-4827-a356-6f3bce582663",
   "metadata": {},
   "outputs": [],
   "source": [
    "# plt.hist(rdkit_features.var())\n",
    "# plt.show()"
   ]
  },
  {
   "cell_type": "code",
   "execution_count": 61,
   "id": "8bc7f4cc-11b4-4d08-8b91-fcac41ffbc30",
   "metadata": {},
   "outputs": [],
   "source": [
    "from sklearn.feature_selection import VarianceThreshold"
   ]
  },
  {
   "cell_type": "code",
   "execution_count": 62,
   "id": "9874e637-fc52-44fc-9ad7-6f0b775ec5d8",
   "metadata": {},
   "outputs": [],
   "source": [
    "vt = VarianceThreshold(1)"
   ]
  },
  {
   "cell_type": "code",
   "execution_count": 63,
   "id": "cc32a80e-195a-49bb-b172-0075cb5c6c92",
   "metadata": {},
   "outputs": [
    {
     "data": {
      "text/html": [
       "<style>#sk-container-id-1 {color: black;background-color: white;}#sk-container-id-1 pre{padding: 0;}#sk-container-id-1 div.sk-toggleable {background-color: white;}#sk-container-id-1 label.sk-toggleable__label {cursor: pointer;display: block;width: 100%;margin-bottom: 0;padding: 0.3em;box-sizing: border-box;text-align: center;}#sk-container-id-1 label.sk-toggleable__label-arrow:before {content: \"▸\";float: left;margin-right: 0.25em;color: #696969;}#sk-container-id-1 label.sk-toggleable__label-arrow:hover:before {color: black;}#sk-container-id-1 div.sk-estimator:hover label.sk-toggleable__label-arrow:before {color: black;}#sk-container-id-1 div.sk-toggleable__content {max-height: 0;max-width: 0;overflow: hidden;text-align: left;background-color: #f0f8ff;}#sk-container-id-1 div.sk-toggleable__content pre {margin: 0.2em;color: black;border-radius: 0.25em;background-color: #f0f8ff;}#sk-container-id-1 input.sk-toggleable__control:checked~div.sk-toggleable__content {max-height: 200px;max-width: 100%;overflow: auto;}#sk-container-id-1 input.sk-toggleable__control:checked~label.sk-toggleable__label-arrow:before {content: \"▾\";}#sk-container-id-1 div.sk-estimator input.sk-toggleable__control:checked~label.sk-toggleable__label {background-color: #d4ebff;}#sk-container-id-1 div.sk-label input.sk-toggleable__control:checked~label.sk-toggleable__label {background-color: #d4ebff;}#sk-container-id-1 input.sk-hidden--visually {border: 0;clip: rect(1px 1px 1px 1px);clip: rect(1px, 1px, 1px, 1px);height: 1px;margin: -1px;overflow: hidden;padding: 0;position: absolute;width: 1px;}#sk-container-id-1 div.sk-estimator {font-family: monospace;background-color: #f0f8ff;border: 1px dotted black;border-radius: 0.25em;box-sizing: border-box;margin-bottom: 0.5em;}#sk-container-id-1 div.sk-estimator:hover {background-color: #d4ebff;}#sk-container-id-1 div.sk-parallel-item::after {content: \"\";width: 100%;border-bottom: 1px solid gray;flex-grow: 1;}#sk-container-id-1 div.sk-label:hover label.sk-toggleable__label {background-color: #d4ebff;}#sk-container-id-1 div.sk-serial::before {content: \"\";position: absolute;border-left: 1px solid gray;box-sizing: border-box;top: 0;bottom: 0;left: 50%;z-index: 0;}#sk-container-id-1 div.sk-serial {display: flex;flex-direction: column;align-items: center;background-color: white;padding-right: 0.2em;padding-left: 0.2em;position: relative;}#sk-container-id-1 div.sk-item {position: relative;z-index: 1;}#sk-container-id-1 div.sk-parallel {display: flex;align-items: stretch;justify-content: center;background-color: white;position: relative;}#sk-container-id-1 div.sk-item::before, #sk-container-id-1 div.sk-parallel-item::before {content: \"\";position: absolute;border-left: 1px solid gray;box-sizing: border-box;top: 0;bottom: 0;left: 50%;z-index: -1;}#sk-container-id-1 div.sk-parallel-item {display: flex;flex-direction: column;z-index: 1;position: relative;background-color: white;}#sk-container-id-1 div.sk-parallel-item:first-child::after {align-self: flex-end;width: 50%;}#sk-container-id-1 div.sk-parallel-item:last-child::after {align-self: flex-start;width: 50%;}#sk-container-id-1 div.sk-parallel-item:only-child::after {width: 0;}#sk-container-id-1 div.sk-dashed-wrapped {border: 1px dashed gray;margin: 0 0.4em 0.5em 0.4em;box-sizing: border-box;padding-bottom: 0.4em;background-color: white;}#sk-container-id-1 div.sk-label label {font-family: monospace;font-weight: bold;display: inline-block;line-height: 1.2em;}#sk-container-id-1 div.sk-label-container {text-align: center;}#sk-container-id-1 div.sk-container {/* jupyter's `normalize.less` sets `[hidden] { display: none; }` but bootstrap.min.css set `[hidden] { display: none !important; }` so we also need the `!important` here to be able to override the default hidden behavior on the sphinx rendered scikit-learn.org. See: https://github.com/scikit-learn/scikit-learn/issues/21755 */display: inline-block !important;position: relative;}#sk-container-id-1 div.sk-text-repr-fallback {display: none;}</style><div id=\"sk-container-id-1\" class=\"sk-top-container\"><div class=\"sk-text-repr-fallback\"><pre>VarianceThreshold(threshold=1)</pre><b>In a Jupyter environment, please rerun this cell to show the HTML representation or trust the notebook. <br />On GitHub, the HTML representation is unable to render, please try loading this page with nbviewer.org.</b></div><div class=\"sk-container\" hidden><div class=\"sk-item\"><div class=\"sk-estimator sk-toggleable\"><input class=\"sk-toggleable__control sk-hidden--visually\" id=\"sk-estimator-id-1\" type=\"checkbox\" checked><label for=\"sk-estimator-id-1\" class=\"sk-toggleable__label sk-toggleable__label-arrow\">VarianceThreshold</label><div class=\"sk-toggleable__content\"><pre>VarianceThreshold(threshold=1)</pre></div></div></div></div></div>"
      ],
      "text/plain": [
       "VarianceThreshold(threshold=1)"
      ]
     },
     "execution_count": 63,
     "metadata": {},
     "output_type": "execute_result"
    }
   ],
   "source": [
    "vt.fit(rdkit_features)"
   ]
  },
  {
   "cell_type": "code",
   "execution_count": 64,
   "id": "a600bccb-a759-4c61-911d-c79f8eee8258",
   "metadata": {},
   "outputs": [],
   "source": [
    "selected_cols = vt.get_feature_names_out(rdkit_features.columns)"
   ]
  },
  {
   "cell_type": "code",
   "execution_count": 65,
   "id": "fb2a8df3-a41d-47ca-a59d-e722dfef0096",
   "metadata": {},
   "outputs": [],
   "source": [
    "rdkit_features = pd.DataFrame(vt.transform(rdkit_features))"
   ]
  },
  {
   "cell_type": "code",
   "execution_count": 66,
   "id": "9320d406-0479-449b-b038-2afc46ba6bb0",
   "metadata": {},
   "outputs": [],
   "source": [
    "rdkit_features.columns = selected_cols"
   ]
  },
  {
   "cell_type": "code",
   "execution_count": 67,
   "id": "fcb164e0-fab8-46f7-8723-45819e10c2d1",
   "metadata": {},
   "outputs": [
    {
     "data": {
      "text/plain": [
       "(238, 3)"
      ]
     },
     "execution_count": 67,
     "metadata": {},
     "output_type": "execute_result"
    }
   ],
   "source": [
    "pubchem_drugs_smiles_df.shape"
   ]
  },
  {
   "cell_type": "code",
   "execution_count": 68,
   "id": "085ea935-f210-403e-b2b6-fee6719d2f10",
   "metadata": {},
   "outputs": [
    {
     "name": "stderr",
     "output_type": "stream",
     "text": [
      "/tmp/ipykernel_3276142/3774330047.py:1: FutureWarning: In a future version of pandas all arguments of concat except for the argument 'objs' will be keyword-only.\n",
      "  pubchem_drugs_smiles_rdkit_df = pd.concat([pubchem_drugs_smiles_df, rdkit_features], 1)\n"
     ]
    }
   ],
   "source": [
    "pubchem_drugs_smiles_rdkit_df = pd.concat([pubchem_drugs_smiles_df, rdkit_features], 1)"
   ]
  },
  {
   "cell_type": "code",
   "execution_count": 69,
   "id": "51d46770-9e56-4d57-8665-0e39b4ca6369",
   "metadata": {},
   "outputs": [
    {
     "data": {
      "text/plain": [
       "(238, 109)"
      ]
     },
     "execution_count": 69,
     "metadata": {},
     "output_type": "execute_result"
    }
   ],
   "source": [
    "pubchem_drugs_smiles_rdkit_df.shape"
   ]
  },
  {
   "cell_type": "code",
   "execution_count": 70,
   "id": "75e1dea4-c111-493e-972d-6fe18f423ce6",
   "metadata": {},
   "outputs": [
    {
     "name": "stderr",
     "output_type": "stream",
     "text": [
      "/tmp/ipykernel_3276142/673436452.py:1: FutureWarning: In a future version of pandas all arguments of DataFrame.drop except for the argument 'labels' will be keyword-only.\n",
      "  pubchem_drugs_smiles_rdkit_df = pubchem_drugs_smiles_rdkit_df.drop(\"PubCHEM\", 1)\n"
     ]
    }
   ],
   "source": [
    "pubchem_drugs_smiles_rdkit_df = pubchem_drugs_smiles_rdkit_df.drop(\"PubCHEM\", 1)"
   ]
  },
  {
   "cell_type": "code",
   "execution_count": 71,
   "id": "9d440aeb-f954-40b8-a33a-769f2b241ba3",
   "metadata": {},
   "outputs": [
    {
     "data": {
      "text/html": [
       "<div>\n",
       "<style scoped>\n",
       "    .dataframe tbody tr th:only-of-type {\n",
       "        vertical-align: middle;\n",
       "    }\n",
       "\n",
       "    .dataframe tbody tr th {\n",
       "        vertical-align: top;\n",
       "    }\n",
       "\n",
       "    .dataframe thead th {\n",
       "        text-align: right;\n",
       "    }\n",
       "</style>\n",
       "<table border=\"1\" class=\"dataframe\">\n",
       "  <thead>\n",
       "    <tr style=\"text-align: right;\">\n",
       "      <th></th>\n",
       "      <th>drug_id</th>\n",
       "      <th>Smiles</th>\n",
       "      <th>MaxAbsEStateIndex</th>\n",
       "      <th>MaxEStateIndex</th>\n",
       "      <th>MinEStateIndex</th>\n",
       "      <th>MolWt</th>\n",
       "      <th>HeavyAtomMolWt</th>\n",
       "      <th>ExactMolWt</th>\n",
       "      <th>NumValenceElectrons</th>\n",
       "      <th>BCUT2D_MWHI</th>\n",
       "      <th>...</th>\n",
       "      <th>fr_C_O</th>\n",
       "      <th>fr_C_O_noCOO</th>\n",
       "      <th>fr_NH0</th>\n",
       "      <th>fr_NH1</th>\n",
       "      <th>fr_alkyl_halide</th>\n",
       "      <th>fr_allylic_oxid</th>\n",
       "      <th>fr_aniline</th>\n",
       "      <th>fr_bicyclic</th>\n",
       "      <th>fr_ether</th>\n",
       "      <th>fr_halogen</th>\n",
       "    </tr>\n",
       "  </thead>\n",
       "  <tbody>\n",
       "    <tr>\n",
       "      <th>0</th>\n",
       "      <td>1242</td>\n",
       "      <td>COc1cc(O)c2c(c1)C=CCC(O)C(O)C(=O)C=CCC(C)OC2=O</td>\n",
       "      <td>12.449593</td>\n",
       "      <td>12.449593</td>\n",
       "      <td>-1.546408</td>\n",
       "      <td>362.378</td>\n",
       "      <td>340.202</td>\n",
       "      <td>362.136553</td>\n",
       "      <td>140.0</td>\n",
       "      <td>16.543459</td>\n",
       "      <td>...</td>\n",
       "      <td>2.0</td>\n",
       "      <td>2.0</td>\n",
       "      <td>0.0</td>\n",
       "      <td>0.0</td>\n",
       "      <td>0.0</td>\n",
       "      <td>0.0</td>\n",
       "      <td>0.0</td>\n",
       "      <td>1.0</td>\n",
       "      <td>2.0</td>\n",
       "      <td>0.0</td>\n",
       "    </tr>\n",
       "    <tr>\n",
       "      <th>1</th>\n",
       "      <td>179</td>\n",
       "      <td>O=c1[nH]cc(F)c(=O)[nH]1</td>\n",
       "      <td>11.984815</td>\n",
       "      <td>11.984815</td>\n",
       "      <td>-1.001157</td>\n",
       "      <td>130.078</td>\n",
       "      <td>127.054</td>\n",
       "      <td>130.017856</td>\n",
       "      <td>48.0</td>\n",
       "      <td>19.142220</td>\n",
       "      <td>...</td>\n",
       "      <td>0.0</td>\n",
       "      <td>0.0</td>\n",
       "      <td>0.0</td>\n",
       "      <td>2.0</td>\n",
       "      <td>0.0</td>\n",
       "      <td>0.0</td>\n",
       "      <td>0.0</td>\n",
       "      <td>0.0</td>\n",
       "      <td>0.0</td>\n",
       "      <td>1.0</td>\n",
       "    </tr>\n",
       "    <tr>\n",
       "      <th>2</th>\n",
       "      <td>86</td>\n",
       "      <td>Cc1[nH]nc2ccc(-c3cncc(OCC(N)Cc4c[nH]c5ccccc45)...</td>\n",
       "      <td>6.350272</td>\n",
       "      <td>6.350272</td>\n",
       "      <td>-0.113155</td>\n",
       "      <td>397.482</td>\n",
       "      <td>374.298</td>\n",
       "      <td>397.190260</td>\n",
       "      <td>150.0</td>\n",
       "      <td>16.478404</td>\n",
       "      <td>...</td>\n",
       "      <td>0.0</td>\n",
       "      <td>0.0</td>\n",
       "      <td>2.0</td>\n",
       "      <td>2.0</td>\n",
       "      <td>0.0</td>\n",
       "      <td>0.0</td>\n",
       "      <td>0.0</td>\n",
       "      <td>2.0</td>\n",
       "      <td>1.0</td>\n",
       "      <td>0.0</td>\n",
       "    </tr>\n",
       "    <tr>\n",
       "      <th>3</th>\n",
       "      <td>55</td>\n",
       "      <td>COc1cc(-c2nn(C3CCC(N4CCN(C(C)=O)CC4)CC3)c3ncnc...</td>\n",
       "      <td>13.336041</td>\n",
       "      <td>13.336041</td>\n",
       "      <td>-0.228281</td>\n",
       "      <td>621.746</td>\n",
       "      <td>582.434</td>\n",
       "      <td>621.317586</td>\n",
       "      <td>238.0</td>\n",
       "      <td>16.466511</td>\n",
       "      <td>...</td>\n",
       "      <td>2.0</td>\n",
       "      <td>2.0</td>\n",
       "      <td>7.0</td>\n",
       "      <td>1.0</td>\n",
       "      <td>0.0</td>\n",
       "      <td>0.0</td>\n",
       "      <td>2.0</td>\n",
       "      <td>2.0</td>\n",
       "      <td>1.0</td>\n",
       "      <td>0.0</td>\n",
       "    </tr>\n",
       "    <tr>\n",
       "      <th>4</th>\n",
       "      <td>1001</td>\n",
       "      <td>NC(=O)c1ncn(C2OC(COP(=O)(O)O)C(O)C2O)c1N</td>\n",
       "      <td>11.080113</td>\n",
       "      <td>11.080113</td>\n",
       "      <td>-4.752405</td>\n",
       "      <td>338.213</td>\n",
       "      <td>323.093</td>\n",
       "      <td>338.062750</td>\n",
       "      <td>124.0</td>\n",
       "      <td>31.204462</td>\n",
       "      <td>...</td>\n",
       "      <td>1.0</td>\n",
       "      <td>1.0</td>\n",
       "      <td>2.0</td>\n",
       "      <td>0.0</td>\n",
       "      <td>0.0</td>\n",
       "      <td>0.0</td>\n",
       "      <td>1.0</td>\n",
       "      <td>0.0</td>\n",
       "      <td>1.0</td>\n",
       "      <td>0.0</td>\n",
       "    </tr>\n",
       "  </tbody>\n",
       "</table>\n",
       "<p>5 rows × 108 columns</p>\n",
       "</div>"
      ],
      "text/plain": [
       "   drug_id                                             Smiles  \\\n",
       "0     1242     COc1cc(O)c2c(c1)C=CCC(O)C(O)C(=O)C=CCC(C)OC2=O   \n",
       "1      179                            O=c1[nH]cc(F)c(=O)[nH]1   \n",
       "2       86  Cc1[nH]nc2ccc(-c3cncc(OCC(N)Cc4c[nH]c5ccccc45)...   \n",
       "3       55  COc1cc(-c2nn(C3CCC(N4CCN(C(C)=O)CC4)CC3)c3ncnc...   \n",
       "4     1001           NC(=O)c1ncn(C2OC(COP(=O)(O)O)C(O)C2O)c1N   \n",
       "\n",
       "   MaxAbsEStateIndex  MaxEStateIndex  MinEStateIndex    MolWt  HeavyAtomMolWt  \\\n",
       "0          12.449593       12.449593       -1.546408  362.378         340.202   \n",
       "1          11.984815       11.984815       -1.001157  130.078         127.054   \n",
       "2           6.350272        6.350272       -0.113155  397.482         374.298   \n",
       "3          13.336041       13.336041       -0.228281  621.746         582.434   \n",
       "4          11.080113       11.080113       -4.752405  338.213         323.093   \n",
       "\n",
       "   ExactMolWt  NumValenceElectrons  BCUT2D_MWHI  ...  fr_C_O  fr_C_O_noCOO  \\\n",
       "0  362.136553                140.0    16.543459  ...     2.0           2.0   \n",
       "1  130.017856                 48.0    19.142220  ...     0.0           0.0   \n",
       "2  397.190260                150.0    16.478404  ...     0.0           0.0   \n",
       "3  621.317586                238.0    16.466511  ...     2.0           2.0   \n",
       "4  338.062750                124.0    31.204462  ...     1.0           1.0   \n",
       "\n",
       "   fr_NH0  fr_NH1  fr_alkyl_halide  fr_allylic_oxid  fr_aniline  fr_bicyclic  \\\n",
       "0     0.0     0.0              0.0              0.0         0.0          1.0   \n",
       "1     0.0     2.0              0.0              0.0         0.0          0.0   \n",
       "2     2.0     2.0              0.0              0.0         0.0          2.0   \n",
       "3     7.0     1.0              0.0              0.0         2.0          2.0   \n",
       "4     2.0     0.0              0.0              0.0         1.0          0.0   \n",
       "\n",
       "   fr_ether  fr_halogen  \n",
       "0       2.0         0.0  \n",
       "1       0.0         1.0  \n",
       "2       1.0         0.0  \n",
       "3       1.0         0.0  \n",
       "4       1.0         0.0  \n",
       "\n",
       "[5 rows x 108 columns]"
      ]
     },
     "execution_count": 71,
     "metadata": {},
     "output_type": "execute_result"
    }
   ],
   "source": [
    "pubchem_drugs_smiles_rdkit_df.head()"
   ]
  },
  {
   "cell_type": "code",
   "execution_count": 72,
   "id": "642a58ba-4a39-410a-b093-86dbc55a6008",
   "metadata": {},
   "outputs": [
    {
     "data": {
      "text/plain": [
       "0"
      ]
     },
     "execution_count": 72,
     "metadata": {},
     "output_type": "execute_result"
    }
   ],
   "source": [
    "pubchem_drugs_smiles_rdkit_df.isnull().sum().sum()"
   ]
  },
  {
   "cell_type": "code",
   "execution_count": 73,
   "id": "a82b99e6-7df0-4585-b9e7-5a4ab6fa87c1",
   "metadata": {},
   "outputs": [],
   "source": [
    "pubchem_drugs_smiles_df = pubchem_drugs_smiles_rdkit_df.copy()[[\"drug_id\", \"Smiles\"]]"
   ]
  },
  {
   "cell_type": "code",
   "execution_count": 74,
   "id": "45f855bc-d8f5-4779-a0f7-c53caa12d94b",
   "metadata": {},
   "outputs": [
    {
     "data": {
      "text/html": [
       "<div>\n",
       "<style scoped>\n",
       "    .dataframe tbody tr th:only-of-type {\n",
       "        vertical-align: middle;\n",
       "    }\n",
       "\n",
       "    .dataframe tbody tr th {\n",
       "        vertical-align: top;\n",
       "    }\n",
       "\n",
       "    .dataframe thead th {\n",
       "        text-align: right;\n",
       "    }\n",
       "</style>\n",
       "<table border=\"1\" class=\"dataframe\">\n",
       "  <thead>\n",
       "    <tr style=\"text-align: right;\">\n",
       "      <th></th>\n",
       "      <th>drug_id</th>\n",
       "      <th>Smiles</th>\n",
       "    </tr>\n",
       "  </thead>\n",
       "  <tbody>\n",
       "    <tr>\n",
       "      <th>0</th>\n",
       "      <td>1242</td>\n",
       "      <td>COc1cc(O)c2c(c1)C=CCC(O)C(O)C(=O)C=CCC(C)OC2=O</td>\n",
       "    </tr>\n",
       "    <tr>\n",
       "      <th>1</th>\n",
       "      <td>179</td>\n",
       "      <td>O=c1[nH]cc(F)c(=O)[nH]1</td>\n",
       "    </tr>\n",
       "    <tr>\n",
       "      <th>2</th>\n",
       "      <td>86</td>\n",
       "      <td>Cc1[nH]nc2ccc(-c3cncc(OCC(N)Cc4c[nH]c5ccccc45)...</td>\n",
       "    </tr>\n",
       "    <tr>\n",
       "      <th>3</th>\n",
       "      <td>55</td>\n",
       "      <td>COc1cc(-c2nn(C3CCC(N4CCN(C(C)=O)CC4)CC3)c3ncnc...</td>\n",
       "    </tr>\n",
       "    <tr>\n",
       "      <th>4</th>\n",
       "      <td>1001</td>\n",
       "      <td>NC(=O)c1ncn(C2OC(COP(=O)(O)O)C(O)C2O)c1N</td>\n",
       "    </tr>\n",
       "  </tbody>\n",
       "</table>\n",
       "</div>"
      ],
      "text/plain": [
       "   drug_id                                             Smiles\n",
       "0     1242     COc1cc(O)c2c(c1)C=CCC(O)C(O)C(=O)C=CCC(C)OC2=O\n",
       "1      179                            O=c1[nH]cc(F)c(=O)[nH]1\n",
       "2       86  Cc1[nH]nc2ccc(-c3cncc(OCC(N)Cc4c[nH]c5ccccc45)...\n",
       "3       55  COc1cc(-c2nn(C3CCC(N4CCN(C(C)=O)CC4)CC3)c3ncnc...\n",
       "4     1001           NC(=O)c1ncn(C2OC(COP(=O)(O)O)C(O)C2O)c1N"
      ]
     },
     "execution_count": 74,
     "metadata": {},
     "output_type": "execute_result"
    }
   ],
   "source": [
    "pubchem_drugs_smiles_df.head()"
   ]
  },
  {
   "cell_type": "code",
   "execution_count": 75,
   "id": "ffa90c4f-a74f-42b7-bd1b-b62b1413fb61",
   "metadata": {},
   "outputs": [],
   "source": [
    "pubchem_drugs_smiles_df.to_csv('..//data//drugs_smile_strings.csv', index = False)"
   ]
  },
  {
   "cell_type": "code",
   "execution_count": 76,
   "id": "1a7b4890-1540-4c15-9ae2-b808f00ba858",
   "metadata": {},
   "outputs": [
    {
     "name": "stderr",
     "output_type": "stream",
     "text": [
      "/tmp/ipykernel_3276142/615271134.py:1: FutureWarning: In a future version of pandas all arguments of DataFrame.drop except for the argument 'labels' will be keyword-only.\n",
      "  pubchem_drugs_rdkit_df = pubchem_drugs_smiles_rdkit_df.copy().drop([\"Smiles\"], 1)\n"
     ]
    }
   ],
   "source": [
    "pubchem_drugs_rdkit_df = pubchem_drugs_smiles_rdkit_df.copy().drop([\"Smiles\"], 1)"
   ]
  },
  {
   "cell_type": "code",
   "execution_count": 77,
   "id": "14bd9320-a159-401e-88cd-7e463248c466",
   "metadata": {},
   "outputs": [
    {
     "data": {
      "text/html": [
       "<div>\n",
       "<style scoped>\n",
       "    .dataframe tbody tr th:only-of-type {\n",
       "        vertical-align: middle;\n",
       "    }\n",
       "\n",
       "    .dataframe tbody tr th {\n",
       "        vertical-align: top;\n",
       "    }\n",
       "\n",
       "    .dataframe thead th {\n",
       "        text-align: right;\n",
       "    }\n",
       "</style>\n",
       "<table border=\"1\" class=\"dataframe\">\n",
       "  <thead>\n",
       "    <tr style=\"text-align: right;\">\n",
       "      <th></th>\n",
       "      <th>drug_id</th>\n",
       "      <th>MaxAbsEStateIndex</th>\n",
       "      <th>MaxEStateIndex</th>\n",
       "      <th>MinEStateIndex</th>\n",
       "      <th>MolWt</th>\n",
       "      <th>HeavyAtomMolWt</th>\n",
       "      <th>ExactMolWt</th>\n",
       "      <th>NumValenceElectrons</th>\n",
       "      <th>BCUT2D_MWHI</th>\n",
       "      <th>BCUT2D_MRHI</th>\n",
       "      <th>...</th>\n",
       "      <th>fr_C_O</th>\n",
       "      <th>fr_C_O_noCOO</th>\n",
       "      <th>fr_NH0</th>\n",
       "      <th>fr_NH1</th>\n",
       "      <th>fr_alkyl_halide</th>\n",
       "      <th>fr_allylic_oxid</th>\n",
       "      <th>fr_aniline</th>\n",
       "      <th>fr_bicyclic</th>\n",
       "      <th>fr_ether</th>\n",
       "      <th>fr_halogen</th>\n",
       "    </tr>\n",
       "  </thead>\n",
       "  <tbody>\n",
       "    <tr>\n",
       "      <th>0</th>\n",
       "      <td>1242</td>\n",
       "      <td>12.449593</td>\n",
       "      <td>12.449593</td>\n",
       "      <td>-1.546408</td>\n",
       "      <td>362.378</td>\n",
       "      <td>340.202</td>\n",
       "      <td>362.136553</td>\n",
       "      <td>140.0</td>\n",
       "      <td>16.543459</td>\n",
       "      <td>5.969311</td>\n",
       "      <td>...</td>\n",
       "      <td>2.0</td>\n",
       "      <td>2.0</td>\n",
       "      <td>0.0</td>\n",
       "      <td>0.0</td>\n",
       "      <td>0.0</td>\n",
       "      <td>0.0</td>\n",
       "      <td>0.0</td>\n",
       "      <td>1.0</td>\n",
       "      <td>2.0</td>\n",
       "      <td>0.0</td>\n",
       "    </tr>\n",
       "    <tr>\n",
       "      <th>1</th>\n",
       "      <td>179</td>\n",
       "      <td>11.984815</td>\n",
       "      <td>11.984815</td>\n",
       "      <td>-1.001157</td>\n",
       "      <td>130.078</td>\n",
       "      <td>127.054</td>\n",
       "      <td>130.017856</td>\n",
       "      <td>48.0</td>\n",
       "      <td>19.142220</td>\n",
       "      <td>4.826193</td>\n",
       "      <td>...</td>\n",
       "      <td>0.0</td>\n",
       "      <td>0.0</td>\n",
       "      <td>0.0</td>\n",
       "      <td>2.0</td>\n",
       "      <td>0.0</td>\n",
       "      <td>0.0</td>\n",
       "      <td>0.0</td>\n",
       "      <td>0.0</td>\n",
       "      <td>0.0</td>\n",
       "      <td>1.0</td>\n",
       "    </tr>\n",
       "    <tr>\n",
       "      <th>2</th>\n",
       "      <td>86</td>\n",
       "      <td>6.350272</td>\n",
       "      <td>6.350272</td>\n",
       "      <td>-0.113155</td>\n",
       "      <td>397.482</td>\n",
       "      <td>374.298</td>\n",
       "      <td>397.190260</td>\n",
       "      <td>150.0</td>\n",
       "      <td>16.478404</td>\n",
       "      <td>5.861654</td>\n",
       "      <td>...</td>\n",
       "      <td>0.0</td>\n",
       "      <td>0.0</td>\n",
       "      <td>2.0</td>\n",
       "      <td>2.0</td>\n",
       "      <td>0.0</td>\n",
       "      <td>0.0</td>\n",
       "      <td>0.0</td>\n",
       "      <td>2.0</td>\n",
       "      <td>1.0</td>\n",
       "      <td>0.0</td>\n",
       "    </tr>\n",
       "    <tr>\n",
       "      <th>3</th>\n",
       "      <td>55</td>\n",
       "      <td>13.336041</td>\n",
       "      <td>13.336041</td>\n",
       "      <td>-0.228281</td>\n",
       "      <td>621.746</td>\n",
       "      <td>582.434</td>\n",
       "      <td>621.317586</td>\n",
       "      <td>238.0</td>\n",
       "      <td>16.466511</td>\n",
       "      <td>6.071345</td>\n",
       "      <td>...</td>\n",
       "      <td>2.0</td>\n",
       "      <td>2.0</td>\n",
       "      <td>7.0</td>\n",
       "      <td>1.0</td>\n",
       "      <td>0.0</td>\n",
       "      <td>0.0</td>\n",
       "      <td>2.0</td>\n",
       "      <td>2.0</td>\n",
       "      <td>1.0</td>\n",
       "      <td>0.0</td>\n",
       "    </tr>\n",
       "    <tr>\n",
       "      <th>4</th>\n",
       "      <td>1001</td>\n",
       "      <td>11.080113</td>\n",
       "      <td>11.080113</td>\n",
       "      <td>-4.752405</td>\n",
       "      <td>338.213</td>\n",
       "      <td>323.093</td>\n",
       "      <td>338.062750</td>\n",
       "      <td>124.0</td>\n",
       "      <td>31.204462</td>\n",
       "      <td>7.458300</td>\n",
       "      <td>...</td>\n",
       "      <td>1.0</td>\n",
       "      <td>1.0</td>\n",
       "      <td>2.0</td>\n",
       "      <td>0.0</td>\n",
       "      <td>0.0</td>\n",
       "      <td>0.0</td>\n",
       "      <td>1.0</td>\n",
       "      <td>0.0</td>\n",
       "      <td>1.0</td>\n",
       "      <td>0.0</td>\n",
       "    </tr>\n",
       "  </tbody>\n",
       "</table>\n",
       "<p>5 rows × 107 columns</p>\n",
       "</div>"
      ],
      "text/plain": [
       "   drug_id  MaxAbsEStateIndex  MaxEStateIndex  MinEStateIndex    MolWt  \\\n",
       "0     1242          12.449593       12.449593       -1.546408  362.378   \n",
       "1      179          11.984815       11.984815       -1.001157  130.078   \n",
       "2       86           6.350272        6.350272       -0.113155  397.482   \n",
       "3       55          13.336041       13.336041       -0.228281  621.746   \n",
       "4     1001          11.080113       11.080113       -4.752405  338.213   \n",
       "\n",
       "   HeavyAtomMolWt  ExactMolWt  NumValenceElectrons  BCUT2D_MWHI  BCUT2D_MRHI  \\\n",
       "0         340.202  362.136553                140.0    16.543459     5.969311   \n",
       "1         127.054  130.017856                 48.0    19.142220     4.826193   \n",
       "2         374.298  397.190260                150.0    16.478404     5.861654   \n",
       "3         582.434  621.317586                238.0    16.466511     6.071345   \n",
       "4         323.093  338.062750                124.0    31.204462     7.458300   \n",
       "\n",
       "   ...  fr_C_O  fr_C_O_noCOO  fr_NH0  fr_NH1  fr_alkyl_halide  \\\n",
       "0  ...     2.0           2.0     0.0     0.0              0.0   \n",
       "1  ...     0.0           0.0     0.0     2.0              0.0   \n",
       "2  ...     0.0           0.0     2.0     2.0              0.0   \n",
       "3  ...     2.0           2.0     7.0     1.0              0.0   \n",
       "4  ...     1.0           1.0     2.0     0.0              0.0   \n",
       "\n",
       "   fr_allylic_oxid  fr_aniline  fr_bicyclic  fr_ether  fr_halogen  \n",
       "0              0.0         0.0          1.0       2.0         0.0  \n",
       "1              0.0         0.0          0.0       0.0         1.0  \n",
       "2              0.0         0.0          2.0       1.0         0.0  \n",
       "3              0.0         2.0          2.0       1.0         0.0  \n",
       "4              0.0         1.0          0.0       1.0         0.0  \n",
       "\n",
       "[5 rows x 107 columns]"
      ]
     },
     "execution_count": 77,
     "metadata": {},
     "output_type": "execute_result"
    }
   ],
   "source": [
    "pubchem_drugs_rdkit_df.head()"
   ]
  },
  {
   "cell_type": "code",
   "execution_count": 78,
   "id": "5d874af8-c084-494f-8aa3-4ee7f967ae2b",
   "metadata": {},
   "outputs": [],
   "source": [
    "pubchem_drugs_rdkit_df[\"drug_id\"] = pubchem_drugs_rdkit_df[\"drug_id\"].astype(str)"
   ]
  },
  {
   "cell_type": "code",
   "execution_count": 79,
   "id": "eded92fd-5dc4-453e-b537-876ff65f65d5",
   "metadata": {},
   "outputs": [
    {
     "name": "stderr",
     "output_type": "stream",
     "text": [
      "/tmp/ipykernel_3276142/2410486213.py:8: FutureWarning: In a future version of pandas all arguments of DataFrame.drop except for the argument 'labels' will be keyword-only.\n",
      "  weights = dataset.drop(id_col, 1).values\n"
     ]
    }
   ],
   "source": [
    "pubchem_drugs_rdkit_model = get_emb_models(pubchem_drugs_rdkit_df, \"drug_id\", False)"
   ]
  },
  {
   "cell_type": "code",
   "execution_count": 80,
   "id": "65c80439-b2ad-4c73-b962-7bf031dce09b",
   "metadata": {},
   "outputs": [
    {
     "name": "stdout",
     "output_type": "stream",
     "text": [
      "Model: \"model_4\"\n",
      "_________________________________________________________________\n",
      " Layer (type)                Output Shape              Param #   \n",
      "=================================================================\n",
      " input_5 (InputLayer)        [(None, 1)]               0         \n",
      "                                                                 \n",
      " text_vectorization_4 (TextV  (None, 1)                0         \n",
      " ectorization)                                                   \n",
      "                                                                 \n",
      " embedding_4 (Embedding)     (None, 1, 106)            25440     \n",
      "                                                                 \n",
      " flatten_4 (Flatten)         (None, 106)               0         \n",
      "                                                                 \n",
      "=================================================================\n",
      "Total params: 25,440\n",
      "Trainable params: 0\n",
      "Non-trainable params: 25,440\n",
      "_________________________________________________________________\n"
     ]
    }
   ],
   "source": [
    "pubchem_drugs_rdkit_model.summary()"
   ]
  },
  {
   "cell_type": "code",
   "execution_count": 81,
   "id": "0802f037-f8c3-4466-b929-02dbc0e13662",
   "metadata": {},
   "outputs": [
    {
     "name": "stdout",
     "output_type": "stream",
     "text": [
      "WARNING:tensorflow:Compiled the loaded model, but the compiled metrics have yet to be built. `model.compile_metrics` will be empty until you train or evaluate the model.\n"
     ]
    },
    {
     "name": "stderr",
     "output_type": "stream",
     "text": [
      "WARNING:tensorflow:Compiled the loaded model, but the compiled metrics have yet to be built. `model.compile_metrics` will be empty until you train or evaluate the model.\n"
     ]
    },
    {
     "name": "stdout",
     "output_type": "stream",
     "text": [
      "INFO:tensorflow:Assets written to: ..//Models//pubchem_drugs_rdkit_model_no_norm/assets\n"
     ]
    },
    {
     "name": "stderr",
     "output_type": "stream",
     "text": [
      "INFO:tensorflow:Assets written to: ..//Models//pubchem_drugs_rdkit_model_no_norm/assets\n"
     ]
    }
   ],
   "source": [
    "pubchem_drugs_rdkit_model.save(\"..//Models//pubchem_drugs_rdkit_model_no_norm\")"
   ]
  },
  {
   "cell_type": "code",
   "execution_count": 82,
   "id": "c5682f3a-8c58-4c13-b5ce-bdc2ce55eb4a",
   "metadata": {},
   "outputs": [],
   "source": [
    "cancer_cell_line_drug_ic50 = cancer_cell_lines_drug_ic_50.melt(id_vars=['Unnamed: 0'], var_name=\"Cancer_Cell_Line\", value_name = \"IC50\")"
   ]
  },
  {
   "cell_type": "code",
   "execution_count": 83,
   "id": "ac027d90-6023-4f0b-826a-90b9111f89db",
   "metadata": {},
   "outputs": [],
   "source": [
    "cancer_cell_line_drug_ic50.columns = [\"drug_id\", \"Cancer_Cell_Line\", \"IC50\"]"
   ]
  },
  {
   "cell_type": "code",
   "execution_count": 84,
   "id": "d46a06e4-df2c-4597-b84b-f450bcda1ae7",
   "metadata": {},
   "outputs": [],
   "source": [
    "cancer_cell_line_drug_ic50[\"drug_id\"] = cancer_cell_line_drug_ic50[\"drug_id\"].map(lambda x: x.split(\":\")[-1]).values"
   ]
  },
  {
   "cell_type": "code",
   "execution_count": 85,
   "id": "316ef3ce-4eba-412b-9bc6-91093ede42cc",
   "metadata": {},
   "outputs": [],
   "source": [
    "cancer_cell_line_drug_ic50 = cancer_cell_line_drug_ic50.dropna()"
   ]
  },
  {
   "cell_type": "code",
   "execution_count": 86,
   "id": "dceb4704-e370-4e0d-b58b-b44fdcd7c82e",
   "metadata": {},
   "outputs": [
    {
     "data": {
      "text/plain": [
       "(208734, 3)"
      ]
     },
     "execution_count": 86,
     "metadata": {},
     "output_type": "execute_result"
    }
   ],
   "source": [
    "cancer_cell_line_drug_ic50.shape"
   ]
  },
  {
   "cell_type": "code",
   "execution_count": 87,
   "id": "b9dcb38c-23ce-43fb-9f0a-b5b332a3b24c",
   "metadata": {},
   "outputs": [
    {
     "data": {
      "text/html": [
       "<div>\n",
       "<style scoped>\n",
       "    .dataframe tbody tr th:only-of-type {\n",
       "        vertical-align: middle;\n",
       "    }\n",
       "\n",
       "    .dataframe tbody tr th {\n",
       "        vertical-align: top;\n",
       "    }\n",
       "\n",
       "    .dataframe thead th {\n",
       "        text-align: right;\n",
       "    }\n",
       "</style>\n",
       "<table border=\"1\" class=\"dataframe\">\n",
       "  <thead>\n",
       "    <tr style=\"text-align: right;\">\n",
       "      <th></th>\n",
       "      <th>drug_id</th>\n",
       "      <th>Cancer_Cell_Line</th>\n",
       "      <th>IC50</th>\n",
       "    </tr>\n",
       "  </thead>\n",
       "  <tbody>\n",
       "    <tr>\n",
       "      <th>1</th>\n",
       "      <td>1001</td>\n",
       "      <td>ACH-002137</td>\n",
       "      <td>7.258918</td>\n",
       "    </tr>\n",
       "    <tr>\n",
       "      <th>2</th>\n",
       "      <td>1004</td>\n",
       "      <td>ACH-002137</td>\n",
       "      <td>-3.802467</td>\n",
       "    </tr>\n",
       "    <tr>\n",
       "      <th>3</th>\n",
       "      <td>1005</td>\n",
       "      <td>ACH-002137</td>\n",
       "      <td>4.146364</td>\n",
       "    </tr>\n",
       "    <tr>\n",
       "      <th>4</th>\n",
       "      <td>1006</td>\n",
       "      <td>ACH-002137</td>\n",
       "      <td>3.171367</td>\n",
       "    </tr>\n",
       "    <tr>\n",
       "      <th>5</th>\n",
       "      <td>1007</td>\n",
       "      <td>ACH-002137</td>\n",
       "      <td>-4.959442</td>\n",
       "    </tr>\n",
       "  </tbody>\n",
       "</table>\n",
       "</div>"
      ],
      "text/plain": [
       "  drug_id Cancer_Cell_Line      IC50\n",
       "1    1001       ACH-002137  7.258918\n",
       "2    1004       ACH-002137 -3.802467\n",
       "3    1005       ACH-002137  4.146364\n",
       "4    1006       ACH-002137  3.171367\n",
       "5    1007       ACH-002137 -4.959442"
      ]
     },
     "execution_count": 87,
     "metadata": {},
     "output_type": "execute_result"
    }
   ],
   "source": [
    "cancer_cell_line_drug_ic50.head()"
   ]
  },
  {
   "cell_type": "code",
   "execution_count": 88,
   "id": "0504864c-323f-4377-84a7-39e8093e9dfc",
   "metadata": {},
   "outputs": [],
   "source": [
    "cancer_cell_line_drug_ic50[\"drug_id\"] = cancer_cell_line_drug_ic50[\"drug_id\"].astype(np.int64)"
   ]
  },
  {
   "cell_type": "code",
   "execution_count": 89,
   "id": "3e8f510d-0467-4d34-a2e6-1c62ffc72ab7",
   "metadata": {},
   "outputs": [
    {
     "data": {
      "text/plain": [
       "(208734, 3)"
      ]
     },
     "execution_count": 89,
     "metadata": {},
     "output_type": "execute_result"
    }
   ],
   "source": [
    "cancer_cell_line_drug_ic50.shape"
   ]
  },
  {
   "cell_type": "code",
   "execution_count": 90,
   "id": "205120ba-adf8-4bcf-a25f-e543bd90afa9",
   "metadata": {},
   "outputs": [
    {
     "data": {
      "text/plain": [
       "0"
      ]
     },
     "execution_count": 90,
     "metadata": {},
     "output_type": "execute_result"
    }
   ],
   "source": [
    "cancer_cell_line_drug_ic50.isnull().sum().sum()"
   ]
  },
  {
   "cell_type": "code",
   "execution_count": 91,
   "id": "80227a80-1d08-4734-9084-73da0638dbf9",
   "metadata": {},
   "outputs": [],
   "source": [
    "cancer_cell_line_drug_ic50.to_csv('..//data//drugs_cell_lines_ic50.csv', index = False)"
   ]
  }
 ],
 "metadata": {
  "kernelspec": {
   "display_name": "Python (enkf_gpu)",
   "language": "python",
   "name": "tf_custom_gayara_2"
  },
  "language_info": {
   "codemirror_mode": {
    "name": "ipython",
    "version": 3
   },
   "file_extension": ".py",
   "mimetype": "text/x-python",
   "name": "python",
   "nbconvert_exporter": "python",
   "pygments_lexer": "ipython3",
   "version": "3.9.13"
  }
 },
 "nbformat": 4,
 "nbformat_minor": 5
}
