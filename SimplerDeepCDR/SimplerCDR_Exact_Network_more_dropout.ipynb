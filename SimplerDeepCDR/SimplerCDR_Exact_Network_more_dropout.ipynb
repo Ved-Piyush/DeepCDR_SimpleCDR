{
 "cells": [
  {
   "cell_type": "code",
   "execution_count": 1,
   "id": "d79c4d60-25e3-41cb-b814-ef360e2fee9e",
   "metadata": {},
   "outputs": [
    {
     "name": "stderr",
     "output_type": "stream",
     "text": [
      "2023-08-10 19:28:37.173800: I tensorflow/core/util/util.cc:169] oneDNN custom operations are on. You may see slightly different numerical results due to floating-point round-off errors from different computation orders. To turn them off, set the environment variable `TF_ENABLE_ONEDNN_OPTS=0`.\n"
     ]
    }
   ],
   "source": [
    "import pandas as pd\n",
    "import tensorflow as tf\n",
    "import tensorflow_probability as tfp\n",
    "from tensorflow import keras\n",
    "from tensorflow.python.keras import backend as K\n",
    "from tensorflow.python.ops import array_ops\n",
    "from tensorflow.python.ops import math_ops"
   ]
  },
  {
   "cell_type": "code",
   "execution_count": 2,
   "id": "295124af-1d9b-4e8a-b30c-eb76dbf7f7ba",
   "metadata": {},
   "outputs": [],
   "source": [
    "# tf.compat.v1.disable_eager_execution()"
   ]
  },
  {
   "cell_type": "code",
   "execution_count": 2,
   "id": "06020fb9-0d23-4866-8a4b-d13beac7044f",
   "metadata": {},
   "outputs": [],
   "source": [
    "drugs_cell_lines_ic50_df = pd.read_csv(\"..//data//drugs_cell_lines_ic50.csv\")"
   ]
  },
  {
   "cell_type": "code",
   "execution_count": 3,
   "id": "ef3c56b4-0691-4fb7-8d8d-e4637957e91a",
   "metadata": {},
   "outputs": [
    {
     "data": {
      "text/html": [
       "<div>\n",
       "<style scoped>\n",
       "    .dataframe tbody tr th:only-of-type {\n",
       "        vertical-align: middle;\n",
       "    }\n",
       "\n",
       "    .dataframe tbody tr th {\n",
       "        vertical-align: top;\n",
       "    }\n",
       "\n",
       "    .dataframe thead th {\n",
       "        text-align: right;\n",
       "    }\n",
       "</style>\n",
       "<table border=\"1\" class=\"dataframe\">\n",
       "  <thead>\n",
       "    <tr style=\"text-align: right;\">\n",
       "      <th></th>\n",
       "      <th>drug_id</th>\n",
       "      <th>Cancer_Cell_Line</th>\n",
       "      <th>IC50</th>\n",
       "    </tr>\n",
       "  </thead>\n",
       "  <tbody>\n",
       "    <tr>\n",
       "      <th>0</th>\n",
       "      <td>1001</td>\n",
       "      <td>ACH-002137</td>\n",
       "      <td>7.258918</td>\n",
       "    </tr>\n",
       "    <tr>\n",
       "      <th>1</th>\n",
       "      <td>1004</td>\n",
       "      <td>ACH-002137</td>\n",
       "      <td>-3.802467</td>\n",
       "    </tr>\n",
       "    <tr>\n",
       "      <th>2</th>\n",
       "      <td>1005</td>\n",
       "      <td>ACH-002137</td>\n",
       "      <td>4.146364</td>\n",
       "    </tr>\n",
       "    <tr>\n",
       "      <th>3</th>\n",
       "      <td>1006</td>\n",
       "      <td>ACH-002137</td>\n",
       "      <td>3.171367</td>\n",
       "    </tr>\n",
       "    <tr>\n",
       "      <th>4</th>\n",
       "      <td>1007</td>\n",
       "      <td>ACH-002137</td>\n",
       "      <td>-4.959442</td>\n",
       "    </tr>\n",
       "  </tbody>\n",
       "</table>\n",
       "</div>"
      ],
      "text/plain": [
       "   drug_id Cancer_Cell_Line      IC50\n",
       "0     1001       ACH-002137  7.258918\n",
       "1     1004       ACH-002137 -3.802467\n",
       "2     1005       ACH-002137  4.146364\n",
       "3     1006       ACH-002137  3.171367\n",
       "4     1007       ACH-002137 -4.959442"
      ]
     },
     "execution_count": 3,
     "metadata": {},
     "output_type": "execute_result"
    }
   ],
   "source": [
    "drugs_cell_lines_ic50_df.head()"
   ]
  },
  {
   "cell_type": "code",
   "execution_count": 4,
   "id": "1660298b-b5ce-4cff-bd71-86f7dc9222f5",
   "metadata": {},
   "outputs": [],
   "source": [
    "pubchem_drugs_smiles_df = pd.read_csv('..//data//drugs_smile_strings.csv')"
   ]
  },
  {
   "cell_type": "code",
   "execution_count": 5,
   "id": "58feccba-d7f5-4839-b44d-7c5bb7557ddd",
   "metadata": {},
   "outputs": [
    {
     "data": {
      "text/html": [
       "<div>\n",
       "<style scoped>\n",
       "    .dataframe tbody tr th:only-of-type {\n",
       "        vertical-align: middle;\n",
       "    }\n",
       "\n",
       "    .dataframe tbody tr th {\n",
       "        vertical-align: top;\n",
       "    }\n",
       "\n",
       "    .dataframe thead th {\n",
       "        text-align: right;\n",
       "    }\n",
       "</style>\n",
       "<table border=\"1\" class=\"dataframe\">\n",
       "  <thead>\n",
       "    <tr style=\"text-align: right;\">\n",
       "      <th></th>\n",
       "      <th>drug_id</th>\n",
       "      <th>Smiles</th>\n",
       "    </tr>\n",
       "  </thead>\n",
       "  <tbody>\n",
       "    <tr>\n",
       "      <th>0</th>\n",
       "      <td>1242</td>\n",
       "      <td>COc1cc(O)c2c(c1)C=CCC(O)C(O)C(=O)C=CCC(C)OC2=O</td>\n",
       "    </tr>\n",
       "    <tr>\n",
       "      <th>1</th>\n",
       "      <td>179</td>\n",
       "      <td>O=c1[nH]cc(F)c(=O)[nH]1</td>\n",
       "    </tr>\n",
       "    <tr>\n",
       "      <th>2</th>\n",
       "      <td>86</td>\n",
       "      <td>Cc1[nH]nc2ccc(-c3cncc(OCC(N)Cc4c[nH]c5ccccc45)...</td>\n",
       "    </tr>\n",
       "    <tr>\n",
       "      <th>3</th>\n",
       "      <td>55</td>\n",
       "      <td>COc1cc(-c2nn(C3CCC(N4CCN(C(C)=O)CC4)CC3)c3ncnc...</td>\n",
       "    </tr>\n",
       "    <tr>\n",
       "      <th>4</th>\n",
       "      <td>1001</td>\n",
       "      <td>NC(=O)c1ncn(C2OC(COP(=O)(O)O)C(O)C2O)c1N</td>\n",
       "    </tr>\n",
       "  </tbody>\n",
       "</table>\n",
       "</div>"
      ],
      "text/plain": [
       "   drug_id                                             Smiles\n",
       "0     1242     COc1cc(O)c2c(c1)C=CCC(O)C(O)C(=O)C=CCC(C)OC2=O\n",
       "1      179                            O=c1[nH]cc(F)c(=O)[nH]1\n",
       "2       86  Cc1[nH]nc2ccc(-c3cncc(OCC(N)Cc4c[nH]c5ccccc45)...\n",
       "3       55  COc1cc(-c2nn(C3CCC(N4CCN(C(C)=O)CC4)CC3)c3ncnc...\n",
       "4     1001           NC(=O)c1ncn(C2OC(COP(=O)(O)O)C(O)C2O)c1N"
      ]
     },
     "execution_count": 5,
     "metadata": {},
     "output_type": "execute_result"
    }
   ],
   "source": [
    "pubchem_drugs_smiles_df.head()"
   ]
  },
  {
   "cell_type": "code",
   "execution_count": 6,
   "id": "d3b2a897-77be-420b-bd26-ab84d56a2ff3",
   "metadata": {},
   "outputs": [],
   "source": [
    "drugs_smiles_cell_lines_ic50_df = pd.merge(drugs_cell_lines_ic50_df, pubchem_drugs_smiles_df, \n",
    "                                             on = \"drug_id\")"
   ]
  },
  {
   "cell_type": "code",
   "execution_count": 7,
   "id": "c9c0eda5-75c5-45e4-b48b-7f90b38da4d8",
   "metadata": {},
   "outputs": [],
   "source": [
    "drugs_smiles_cell_lines_ic50_df = drugs_smiles_cell_lines_ic50_df[[\"drug_id\", \"Cancer_Cell_Line\", \"Smiles\", \"IC50\"]]"
   ]
  },
  {
   "cell_type": "code",
   "execution_count": 8,
   "id": "4255a229-bb41-4ffe-abef-e6d466e1c00b",
   "metadata": {},
   "outputs": [
    {
     "data": {
      "text/plain": [
       "drug_id               int64\n",
       "Cancer_Cell_Line     object\n",
       "Smiles               object\n",
       "IC50                float64\n",
       "dtype: object"
      ]
     },
     "execution_count": 8,
     "metadata": {},
     "output_type": "execute_result"
    }
   ],
   "source": [
    "drugs_smiles_cell_lines_ic50_df.dtypes"
   ]
  },
  {
   "cell_type": "code",
   "execution_count": 9,
   "id": "b8f12d16-3e37-4c9a-aabb-51e6ceb99a00",
   "metadata": {},
   "outputs": [],
   "source": [
    "drugs_smiles_cell_lines_ic50_df[\"drug_id\"] = drugs_smiles_cell_lines_ic50_df[\"drug_id\"].astype(object)"
   ]
  },
  {
   "cell_type": "code",
   "execution_count": 10,
   "id": "e17ed73d-5051-4322-afa0-f95e71485d50",
   "metadata": {},
   "outputs": [
    {
     "data": {
      "text/plain": [
       "(186789, 4)"
      ]
     },
     "execution_count": 10,
     "metadata": {},
     "output_type": "execute_result"
    }
   ],
   "source": [
    "drugs_smiles_cell_lines_ic50_df.shape"
   ]
  },
  {
   "cell_type": "code",
   "execution_count": 12,
   "id": "6f4dc746-ac42-4d4a-b745-aaafd82ed1c0",
   "metadata": {},
   "outputs": [],
   "source": [
    "# drugs_smiles_cell_lines_ic50_df.head()"
   ]
  },
  {
   "cell_type": "code",
   "execution_count": 13,
   "id": "bd97c4b0-5e75-451b-a375-8aa19a27a460",
   "metadata": {},
   "outputs": [],
   "source": [
    "import pickle"
   ]
  },
  {
   "cell_type": "code",
   "execution_count": 14,
   "id": "1318885c-6fc2-4ee6-a74d-0a8337307777",
   "metadata": {},
   "outputs": [],
   "source": [
    "with open(\"..//data//drug_gcn_features.pickle\", \"rb\") as f:\n",
    "    dict_features = pickle.load(f)"
   ]
  },
  {
   "cell_type": "code",
   "execution_count": 16,
   "id": "e4c65da0-6424-49ea-9bad-494d95e10b09",
   "metadata": {},
   "outputs": [
    {
     "data": {
      "text/plain": [
       "238"
      ]
     },
     "execution_count": 16,
     "metadata": {},
     "output_type": "execute_result"
    }
   ],
   "source": [
    "len(dict_features)"
   ]
  },
  {
   "cell_type": "code",
   "execution_count": 15,
   "id": "46e0e644-213c-4bc6-8dde-78b3bd5638bb",
   "metadata": {},
   "outputs": [],
   "source": [
    "with open(\"..//data//drug_gcn_normalized_adj_mats.pickle\", \"rb\") as f:\n",
    "    dict_normalized_adj_mats = pickle.load(f)"
   ]
  },
  {
   "cell_type": "code",
   "execution_count": 17,
   "id": "29e85796-1d24-44d5-af90-2a2b4eb7ffb8",
   "metadata": {},
   "outputs": [
    {
     "data": {
      "text/plain": [
       "238"
      ]
     },
     "execution_count": 17,
     "metadata": {},
     "output_type": "execute_result"
    }
   ],
   "source": [
    "len(dict_normalized_adj_mats)"
   ]
  },
  {
   "cell_type": "code",
   "execution_count": 18,
   "id": "bfadc255-519f-4d0f-83c5-49277a277209",
   "metadata": {},
   "outputs": [],
   "source": [
    "dualgcn_train = pd.read_csv(\"..//data//DualGCN_Embedding_train.csv\")"
   ]
  },
  {
   "cell_type": "code",
   "execution_count": 19,
   "id": "7e62a800-6f13-4a2f-965d-62d34061612d",
   "metadata": {},
   "outputs": [],
   "source": [
    "dualgcn_test = pd.read_csv(\"..//data//DualGCN_Embedding_test.csv\")"
   ]
  },
  {
   "cell_type": "code",
   "execution_count": 20,
   "id": "5bd3f846-d0c4-4c92-b2af-1836b2cdf13b",
   "metadata": {},
   "outputs": [],
   "source": [
    "pubchem_to_drugs_df = pd.read_csv('../data/GDSC/1.Drug_listMon Jun 24 09_00_55 2019.csv')"
   ]
  },
  {
   "cell_type": "code",
   "execution_count": 21,
   "id": "4c1cabed-895b-4a33-9478-9c414246d9d6",
   "metadata": {},
   "outputs": [],
   "source": [
    "pubchem_to_drugs_df = pubchem_to_drugs_df[[\"drug_id\", \"PubCHEM\"]]"
   ]
  },
  {
   "cell_type": "code",
   "execution_count": 22,
   "id": "06050248-be5d-4413-a9f6-afba9c6dc1da",
   "metadata": {},
   "outputs": [
    {
     "data": {
      "text/plain": [
       "drug_id     int64\n",
       "PubCHEM    object\n",
       "dtype: object"
      ]
     },
     "execution_count": 22,
     "metadata": {},
     "output_type": "execute_result"
    }
   ],
   "source": [
    "pubchem_to_drugs_df.dtypes"
   ]
  },
  {
   "cell_type": "code",
   "execution_count": 23,
   "id": "3c0bea4c-f12a-4b03-814b-cadf7cbee967",
   "metadata": {},
   "outputs": [],
   "source": [
    "import numpy as np"
   ]
  },
  {
   "cell_type": "code",
   "execution_count": 24,
   "id": "226a6b4e-ddb7-4f0a-8e24-25fe64de8992",
   "metadata": {},
   "outputs": [],
   "source": [
    "pubchem_to_drugs_df[\"PubCHEM\"] = [val if str(val).isdigit() else np.nan for val in pubchem_to_drugs_df[\"PubCHEM\"] ]"
   ]
  },
  {
   "cell_type": "code",
   "execution_count": 25,
   "id": "49920b0c-24e4-4900-b65c-238b7918cb9f",
   "metadata": {},
   "outputs": [],
   "source": [
    "pubchem_to_drugs_df = pubchem_to_drugs_df.dropna()"
   ]
  },
  {
   "cell_type": "code",
   "execution_count": 26,
   "id": "7691b28b-0ae2-4ed4-8e16-54ff384b9dee",
   "metadata": {},
   "outputs": [
    {
     "data": {
      "text/plain": [
       "drug_id     int64\n",
       "PubCHEM    object\n",
       "dtype: object"
      ]
     },
     "execution_count": 26,
     "metadata": {},
     "output_type": "execute_result"
    }
   ],
   "source": [
    "pubchem_to_drugs_df.dtypes"
   ]
  },
  {
   "cell_type": "code",
   "execution_count": 27,
   "id": "6462ade0-cd2d-491d-be8a-aa0e7ddd3863",
   "metadata": {},
   "outputs": [],
   "source": [
    "pubchem_to_drugs_df[\"drug_id\"] = pubchem_to_drugs_df[\"drug_id\"].astype(str)"
   ]
  },
  {
   "cell_type": "code",
   "execution_count": 24,
   "id": "9f4ef849-3457-4de8-b907-efb27592420a",
   "metadata": {},
   "outputs": [],
   "source": [
    "# pubchem_to_drugs_df[\"drug_id\"].values[0]"
   ]
  },
  {
   "cell_type": "code",
   "execution_count": 25,
   "id": "94952b6c-ecea-4ae2-912d-7e5e5f354eed",
   "metadata": {},
   "outputs": [],
   "source": [
    "# '1001' in pubchem_to_drugs_df[\"drug_id\"].values"
   ]
  },
  {
   "cell_type": "code",
   "execution_count": 28,
   "id": "5b3c2533-d329-48f1-bae8-c3eba2e1cea8",
   "metadata": {},
   "outputs": [],
   "source": [
    "with open(\"..//data//drug_gcn_normalized_adj_mats.pickle\", \"rb\") as f:\n",
    "    dict_normalized_adj_mats = pickle.load(f)"
   ]
  },
  {
   "cell_type": "code",
   "execution_count": 29,
   "id": "11f133e4-70a2-4fae-8066-2d1d77de5fe8",
   "metadata": {},
   "outputs": [],
   "source": [
    "from sklearn.model_selection import train_test_split"
   ]
  },
  {
   "cell_type": "code",
   "execution_count": 30,
   "id": "3286fd91-f6df-49fc-8d72-5e493f31d0ae",
   "metadata": {},
   "outputs": [
    {
     "name": "stderr",
     "output_type": "stream",
     "text": [
      "/tmp/ipykernel_4066411/747247744.py:1: FutureWarning: In a future version of pandas all arguments of DataFrame.drop except for the argument 'labels' will be keyword-only.\n",
      "  x_train, x_valid, y_train, y_valid = train_test_split(drugs_smiles_cell_lines_ic50_df.drop([\"IC50\"],1), drugs_smiles_cell_lines_ic50_df[\"IC50\"].values,\n"
     ]
    }
   ],
   "source": [
    "x_train, x_valid, y_train, y_valid = train_test_split(drugs_smiles_cell_lines_ic50_df.drop([\"IC50\"],1), drugs_smiles_cell_lines_ic50_df[\"IC50\"].values, \n",
    "                                                     test_size = 0.20, random_state = 42)"
   ]
  },
  {
   "cell_type": "code",
   "execution_count": 34,
   "id": "ccd8b1b2-ae20-449d-848f-6db348107221",
   "metadata": {},
   "outputs": [
    {
     "data": {
      "text/plain": [
       "(149431, 3)"
      ]
     },
     "execution_count": 34,
     "metadata": {},
     "output_type": "execute_result"
    }
   ],
   "source": [
    "x_train.shape"
   ]
  },
  {
   "cell_type": "code",
   "execution_count": 35,
   "id": "66e3e840-5d0c-4402-b19d-8c8957499ce7",
   "metadata": {},
   "outputs": [
    {
     "data": {
      "text/plain": [
       "(37358, 3)"
      ]
     },
     "execution_count": 35,
     "metadata": {},
     "output_type": "execute_result"
    }
   ],
   "source": [
    "x_valid.shape"
   ]
  },
  {
   "cell_type": "code",
   "execution_count": 36,
   "id": "1b1ddb77-6e32-4225-96ba-cce23480ab1b",
   "metadata": {},
   "outputs": [],
   "source": [
    "dualgcn_train[\"Drug_ID\"] = dualgcn_train[\"Drug_ID\"].astype(str)"
   ]
  },
  {
   "cell_type": "code",
   "execution_count": 37,
   "id": "5d534def-d5c7-4b2c-a3ee-f4c5c43650c2",
   "metadata": {},
   "outputs": [],
   "source": [
    "dualgcn_test[\"Drug_ID\"] = dualgcn_test[\"Drug_ID\"].astype(str)"
   ]
  },
  {
   "cell_type": "code",
   "execution_count": 38,
   "id": "5a7161ee-e146-4c38-a8b8-66369327384f",
   "metadata": {},
   "outputs": [
    {
     "data": {
      "text/plain": [
       "drug_id    object\n",
       "PubCHEM    object\n",
       "dtype: object"
      ]
     },
     "execution_count": 38,
     "metadata": {},
     "output_type": "execute_result"
    }
   ],
   "source": [
    "pubchem_to_drugs_df.dtypes"
   ]
  },
  {
   "cell_type": "code",
   "execution_count": 39,
   "id": "26536155-5c48-4960-bff8-21c5ec06bab2",
   "metadata": {},
   "outputs": [],
   "source": [
    "dualgcn_train = pubchem_to_drugs_df.merge(dualgcn_train, left_on = [\"PubCHEM\"], right_on = [\"Drug_ID\"])"
   ]
  },
  {
   "cell_type": "code",
   "execution_count": 40,
   "id": "2bc82e0e-8eff-4ca1-bf75-b7a7a9b129e0",
   "metadata": {},
   "outputs": [],
   "source": [
    "dualgcn_train = dualgcn_train[['Cell_Line', 'drug_id']]"
   ]
  },
  {
   "cell_type": "code",
   "execution_count": 41,
   "id": "eae9ef05-6e1c-4aaa-bf6b-940d92f46ffb",
   "metadata": {},
   "outputs": [],
   "source": [
    "dualgcn_test = pubchem_to_drugs_df.merge(dualgcn_test, left_on = [\"PubCHEM\"], right_on = [\"Drug_ID\"])"
   ]
  },
  {
   "cell_type": "code",
   "execution_count": 42,
   "id": "f30684d3-1a27-4d66-8fc4-f84310a30d70",
   "metadata": {},
   "outputs": [],
   "source": [
    "dualgcn_test = dualgcn_test[['Cell_Line', 'drug_id']]"
   ]
  },
  {
   "cell_type": "code",
   "execution_count": 43,
   "id": "4402d433-aefc-436a-aee5-b63a41c341aa",
   "metadata": {},
   "outputs": [
    {
     "data": {
      "text/html": [
       "<div>\n",
       "<style scoped>\n",
       "    .dataframe tbody tr th:only-of-type {\n",
       "        vertical-align: middle;\n",
       "    }\n",
       "\n",
       "    .dataframe tbody tr th {\n",
       "        vertical-align: top;\n",
       "    }\n",
       "\n",
       "    .dataframe thead th {\n",
       "        text-align: right;\n",
       "    }\n",
       "</style>\n",
       "<table border=\"1\" class=\"dataframe\">\n",
       "  <thead>\n",
       "    <tr style=\"text-align: right;\">\n",
       "      <th></th>\n",
       "      <th>Cell_Line</th>\n",
       "      <th>drug_id</th>\n",
       "    </tr>\n",
       "  </thead>\n",
       "  <tbody>\n",
       "    <tr>\n",
       "      <th>0</th>\n",
       "      <td>ACH-000070</td>\n",
       "      <td>1242</td>\n",
       "    </tr>\n",
       "    <tr>\n",
       "      <th>1</th>\n",
       "      <td>ACH-000105</td>\n",
       "      <td>1242</td>\n",
       "    </tr>\n",
       "    <tr>\n",
       "      <th>2</th>\n",
       "      <td>ACH-000981</td>\n",
       "      <td>1242</td>\n",
       "    </tr>\n",
       "    <tr>\n",
       "      <th>3</th>\n",
       "      <td>ACH-000061</td>\n",
       "      <td>1242</td>\n",
       "    </tr>\n",
       "    <tr>\n",
       "      <th>4</th>\n",
       "      <td>ACH-000995</td>\n",
       "      <td>1242</td>\n",
       "    </tr>\n",
       "  </tbody>\n",
       "</table>\n",
       "</div>"
      ],
      "text/plain": [
       "    Cell_Line drug_id\n",
       "0  ACH-000070    1242\n",
       "1  ACH-000105    1242\n",
       "2  ACH-000981    1242\n",
       "3  ACH-000061    1242\n",
       "4  ACH-000995    1242"
      ]
     },
     "execution_count": 43,
     "metadata": {},
     "output_type": "execute_result"
    }
   ],
   "source": [
    "dualgcn_train.head()"
   ]
  },
  {
   "cell_type": "code",
   "execution_count": 44,
   "id": "f0542289-770e-4e4b-b664-92e4bc29cfc0",
   "metadata": {},
   "outputs": [
    {
     "data": {
      "text/plain": [
       "Cell_Line    object\n",
       "drug_id      object\n",
       "dtype: object"
      ]
     },
     "execution_count": 44,
     "metadata": {},
     "output_type": "execute_result"
    }
   ],
   "source": [
    "dualgcn_train.dtypes"
   ]
  },
  {
   "cell_type": "code",
   "execution_count": 38,
   "id": "c2322204-c032-4c64-a2f7-319e233717b4",
   "metadata": {},
   "outputs": [],
   "source": [
    "# x_train["
   ]
  },
  {
   "cell_type": "code",
   "execution_count": 45,
   "id": "1c63ae0c-24be-4d2e-91d5-6e2616980c51",
   "metadata": {},
   "outputs": [
    {
     "data": {
      "text/plain": [
       "drug_id             object\n",
       "Cancer_Cell_Line    object\n",
       "Smiles              object\n",
       "dtype: object"
      ]
     },
     "execution_count": 45,
     "metadata": {},
     "output_type": "execute_result"
    }
   ],
   "source": [
    "x_train.dtypes"
   ]
  },
  {
   "cell_type": "code",
   "execution_count": 40,
   "id": "ab53e997-9aa3-46ae-b3fe-f30549c35fdb",
   "metadata": {},
   "outputs": [],
   "source": [
    "# dualgcn_train"
   ]
  },
  {
   "cell_type": "code",
   "execution_count": 41,
   "id": "6cddda70-6c3e-4e5f-a2f7-882194bb43d1",
   "metadata": {},
   "outputs": [],
   "source": [
    "# x_train['drug_id'].values[0]"
   ]
  },
  {
   "cell_type": "code",
   "execution_count": 46,
   "id": "76078299-ae77-4b6b-99bf-c8d04c0d8d89",
   "metadata": {},
   "outputs": [],
   "source": [
    "x_train['drug_id'] = x_train['drug_id'].astype(str)"
   ]
  },
  {
   "cell_type": "code",
   "execution_count": 47,
   "id": "5c693879-9d22-426a-973c-10f2428782e8",
   "metadata": {},
   "outputs": [],
   "source": [
    "x_valid['drug_id'] = x_valid['drug_id'].astype(str)"
   ]
  },
  {
   "cell_type": "code",
   "execution_count": 48,
   "id": "bc17185f-ea74-4d95-8e77-549522dc6d9d",
   "metadata": {},
   "outputs": [],
   "source": [
    "x_train_valid_feats = pd.concat([x_train, x_valid], ignore_index = True)"
   ]
  },
  {
   "cell_type": "code",
   "execution_count": 49,
   "id": "3dd68714-74df-4643-9b6a-554e0db5884e",
   "metadata": {},
   "outputs": [],
   "source": [
    "y_train_valid = pd.concat([pd.DataFrame(y_train.reshape(-1,1)), pd.DataFrame(y_valid.reshape(-1,1))], ignore_index = True)"
   ]
  },
  {
   "cell_type": "code",
   "execution_count": 50,
   "id": "e5bdf3b9-9644-4f7a-a2d3-825b184a4671",
   "metadata": {},
   "outputs": [
    {
     "name": "stderr",
     "output_type": "stream",
     "text": [
      "/tmp/ipykernel_4066411/1008667345.py:1: FutureWarning: In a future version of pandas all arguments of concat except for the argument 'objs' will be keyword-only.\n",
      "  combo_train_valid = pd.concat([x_train_valid_feats, y_train_valid], 1)\n"
     ]
    }
   ],
   "source": [
    "combo_train_valid = pd.concat([x_train_valid_feats, y_train_valid], 1)"
   ]
  },
  {
   "cell_type": "code",
   "execution_count": 51,
   "id": "cd487c80-f100-47d8-91b4-704bc01aa318",
   "metadata": {},
   "outputs": [
    {
     "data": {
      "text/html": [
       "<div>\n",
       "<style scoped>\n",
       "    .dataframe tbody tr th:only-of-type {\n",
       "        vertical-align: middle;\n",
       "    }\n",
       "\n",
       "    .dataframe tbody tr th {\n",
       "        vertical-align: top;\n",
       "    }\n",
       "\n",
       "    .dataframe thead th {\n",
       "        text-align: right;\n",
       "    }\n",
       "</style>\n",
       "<table border=\"1\" class=\"dataframe\">\n",
       "  <thead>\n",
       "    <tr style=\"text-align: right;\">\n",
       "      <th></th>\n",
       "      <th>drug_id</th>\n",
       "      <th>Cancer_Cell_Line</th>\n",
       "      <th>Smiles</th>\n",
       "      <th>0</th>\n",
       "    </tr>\n",
       "  </thead>\n",
       "  <tbody>\n",
       "    <tr>\n",
       "      <th>0</th>\n",
       "      <td>1059</td>\n",
       "      <td>ACH-001368</td>\n",
       "      <td>COc1ccc(-c2ccc3c(N4CCOCC4C)nc(N4CCOCC4C)nc3n2)...</td>\n",
       "      <td>1.086644</td>\n",
       "    </tr>\n",
       "    <tr>\n",
       "      <th>1</th>\n",
       "      <td>255</td>\n",
       "      <td>ACH-000142</td>\n",
       "      <td>COCC(=O)NCC=Cc1ccc2ncnc(Nc3ccc(Oc4ccc(C)nc4)c(...</td>\n",
       "      <td>4.227800</td>\n",
       "    </tr>\n",
       "    <tr>\n",
       "      <th>2</th>\n",
       "      <td>178</td>\n",
       "      <td>ACH-000218</td>\n",
       "      <td>COc1ccc(-c2cc3nccn3c(Nc3ncccc3C(N)=O)n2)cc1OC</td>\n",
       "      <td>0.067505</td>\n",
       "    </tr>\n",
       "    <tr>\n",
       "      <th>3</th>\n",
       "      <td>152</td>\n",
       "      <td>ACH-002155</td>\n",
       "      <td>COc1cc2ncnc(-n3nc(-c4ccccn4)nc3N)c2cc1OC</td>\n",
       "      <td>4.894550</td>\n",
       "    </tr>\n",
       "    <tr>\n",
       "      <th>4</th>\n",
       "      <td>1243</td>\n",
       "      <td>ACH-000277</td>\n",
       "      <td>COc1cc(C=CC(=O)N2CCC=CC2=O)cc(OC)c1OC</td>\n",
       "      <td>4.572953</td>\n",
       "    </tr>\n",
       "  </tbody>\n",
       "</table>\n",
       "</div>"
      ],
      "text/plain": [
       "  drug_id Cancer_Cell_Line                                             Smiles  \\\n",
       "0    1059       ACH-001368  COc1ccc(-c2ccc3c(N4CCOCC4C)nc(N4CCOCC4C)nc3n2)...   \n",
       "1     255       ACH-000142  COCC(=O)NCC=Cc1ccc2ncnc(Nc3ccc(Oc4ccc(C)nc4)c(...   \n",
       "2     178       ACH-000218      COc1ccc(-c2cc3nccn3c(Nc3ncccc3C(N)=O)n2)cc1OC   \n",
       "3     152       ACH-002155           COc1cc2ncnc(-n3nc(-c4ccccn4)nc3N)c2cc1OC   \n",
       "4    1243       ACH-000277              COc1cc(C=CC(=O)N2CCC=CC2=O)cc(OC)c1OC   \n",
       "\n",
       "          0  \n",
       "0  1.086644  \n",
       "1  4.227800  \n",
       "2  0.067505  \n",
       "3  4.894550  \n",
       "4  4.572953  "
      ]
     },
     "execution_count": 51,
     "metadata": {},
     "output_type": "execute_result"
    }
   ],
   "source": [
    "combo_train_valid.head()"
   ]
  },
  {
   "cell_type": "code",
   "execution_count": 52,
   "id": "b9de540d-bb4c-48e1-bcbe-b07df1a2c7f7",
   "metadata": {},
   "outputs": [],
   "source": [
    "combo_train_valid.columns = ['drug_id', 'Cancer_Cell_Line', 'Smiles', 'IC50']"
   ]
  },
  {
   "cell_type": "code",
   "execution_count": 53,
   "id": "6ad83127-f200-4ea3-8405-e3ec9e599ec1",
   "metadata": {},
   "outputs": [],
   "source": [
    "# filter x_train x _valid here\n",
    "x_y_train = combo_train_valid.merge(dualgcn_train, left_on = ['Cancer_Cell_Line','drug_id'], right_on = [ 'Cell_Line','drug_id'])"
   ]
  },
  {
   "cell_type": "code",
   "execution_count": 54,
   "id": "3ff87221-d69e-4ac0-b81c-408c18e6f3eb",
   "metadata": {},
   "outputs": [],
   "source": [
    "x_y_test = combo_train_valid.merge(dualgcn_test, left_on = ['Cancer_Cell_Line','drug_id'], right_on = [ 'Cell_Line','drug_id'])"
   ]
  },
  {
   "cell_type": "code",
   "execution_count": 55,
   "id": "9d286265-bbd6-4410-bcf7-3326e2bcfb6b",
   "metadata": {},
   "outputs": [
    {
     "data": {
      "text/plain": [
       "(17316, 5)"
      ]
     },
     "execution_count": 55,
     "metadata": {},
     "output_type": "execute_result"
    }
   ],
   "source": [
    "x_y_test.shape"
   ]
  },
  {
   "cell_type": "code",
   "execution_count": 56,
   "id": "6ca8133d-93bf-4598-a809-106415ce65f1",
   "metadata": {},
   "outputs": [
    {
     "data": {
      "text/plain": [
       "drug_id             object\n",
       "Cancer_Cell_Line    object\n",
       "Smiles              object\n",
       "dtype: object"
      ]
     },
     "execution_count": 56,
     "metadata": {},
     "output_type": "execute_result"
    }
   ],
   "source": [
    "x_train.dtypes"
   ]
  },
  {
   "cell_type": "code",
   "execution_count": 53,
   "id": "2e379fb0-8a4c-4481-801c-22ad21dca5ab",
   "metadata": {},
   "outputs": [],
   "source": [
    "# x_y_test"
   ]
  },
  {
   "cell_type": "code",
   "execution_count": 57,
   "id": "d526502f-cd0c-45f1-b1ac-21062fdb1ab6",
   "metadata": {},
   "outputs": [
    {
     "name": "stderr",
     "output_type": "stream",
     "text": [
      "/tmp/ipykernel_4066411/1750859165.py:1: FutureWarning: In a future version of pandas all arguments of DataFrame.drop except for the argument 'labels' will be keyword-only.\n",
      "  x_train, x_valid, y_train, y_valid = x_y_train.drop([\"IC50\", 'Cell_Line'],1), x_y_test.drop([\"IC50\", 'Cell_Line'], 1), x_y_train[\"IC50\"].values, x_y_test[\"IC50\"].values\n",
      "/tmp/ipykernel_4066411/1750859165.py:1: FutureWarning: In a future version of pandas all arguments of DataFrame.drop except for the argument 'labels' will be keyword-only.\n",
      "  x_train, x_valid, y_train, y_valid = x_y_train.drop([\"IC50\", 'Cell_Line'],1), x_y_test.drop([\"IC50\", 'Cell_Line'], 1), x_y_train[\"IC50\"].values, x_y_test[\"IC50\"].values\n"
     ]
    }
   ],
   "source": [
    "x_train, x_valid, y_train, y_valid = x_y_train.drop([\"IC50\", 'Cell_Line'],1), x_y_test.drop([\"IC50\", 'Cell_Line'], 1), x_y_train[\"IC50\"].values, x_y_test[\"IC50\"].values"
   ]
  },
  {
   "cell_type": "code",
   "execution_count": 58,
   "id": "2a23b681-34c0-4140-87d1-1ecc4af2fcc7",
   "metadata": {},
   "outputs": [
    {
     "data": {
      "text/plain": [
       "(69214, 3)"
      ]
     },
     "execution_count": 58,
     "metadata": {},
     "output_type": "execute_result"
    }
   ],
   "source": [
    "x_train.shape"
   ]
  },
  {
   "cell_type": "code",
   "execution_count": 59,
   "id": "7485d8d6-6c7e-42ba-89e2-39d5bad5bd16",
   "metadata": {},
   "outputs": [
    {
     "data": {
      "text/html": [
       "<div>\n",
       "<style scoped>\n",
       "    .dataframe tbody tr th:only-of-type {\n",
       "        vertical-align: middle;\n",
       "    }\n",
       "\n",
       "    .dataframe tbody tr th {\n",
       "        vertical-align: top;\n",
       "    }\n",
       "\n",
       "    .dataframe thead th {\n",
       "        text-align: right;\n",
       "    }\n",
       "</style>\n",
       "<table border=\"1\" class=\"dataframe\">\n",
       "  <thead>\n",
       "    <tr style=\"text-align: right;\">\n",
       "      <th></th>\n",
       "      <th>drug_id</th>\n",
       "      <th>Cancer_Cell_Line</th>\n",
       "      <th>Smiles</th>\n",
       "    </tr>\n",
       "  </thead>\n",
       "  <tbody>\n",
       "    <tr>\n",
       "      <th>0</th>\n",
       "      <td>255</td>\n",
       "      <td>ACH-000142</td>\n",
       "      <td>COCC(=O)NCC=Cc1ccc2ncnc(Nc3ccc(Oc4ccc(C)nc4)c(...</td>\n",
       "    </tr>\n",
       "    <tr>\n",
       "      <th>1</th>\n",
       "      <td>178</td>\n",
       "      <td>ACH-000218</td>\n",
       "      <td>COc1ccc(-c2cc3nccn3c(Nc3ncccc3C(N)=O)n2)cc1OC</td>\n",
       "    </tr>\n",
       "    <tr>\n",
       "      <th>2</th>\n",
       "      <td>1230</td>\n",
       "      <td>ACH-000090</td>\n",
       "      <td>O=C(O)CNC(=O)c1c(O)c2ccccc2n(Cc2ccccc2)c1=O</td>\n",
       "    </tr>\n",
       "    <tr>\n",
       "      <th>3</th>\n",
       "      <td>167</td>\n",
       "      <td>ACH-000348</td>\n",
       "      <td>NCC(=O)Nc1ccc(-n2nc(C(F)(F)F)cc2-c2ccc3c(ccc4c...</td>\n",
       "    </tr>\n",
       "    <tr>\n",
       "      <th>4</th>\n",
       "      <td>1372</td>\n",
       "      <td>ACH-000914</td>\n",
       "      <td>CC(=O)Nc1cccc(-n2c(=O)n(C3CC3)c(=O)c3c(Nc4ccc(...</td>\n",
       "    </tr>\n",
       "  </tbody>\n",
       "</table>\n",
       "</div>"
      ],
      "text/plain": [
       "  drug_id Cancer_Cell_Line                                             Smiles\n",
       "0     255       ACH-000142  COCC(=O)NCC=Cc1ccc2ncnc(Nc3ccc(Oc4ccc(C)nc4)c(...\n",
       "1     178       ACH-000218      COc1ccc(-c2cc3nccn3c(Nc3ncccc3C(N)=O)n2)cc1OC\n",
       "2    1230       ACH-000090        O=C(O)CNC(=O)c1c(O)c2ccccc2n(Cc2ccccc2)c1=O\n",
       "3     167       ACH-000348  NCC(=O)Nc1ccc(-n2nc(C(F)(F)F)cc2-c2ccc3c(ccc4c...\n",
       "4    1372       ACH-000914  CC(=O)Nc1cccc(-n2c(=O)n(C3CC3)c(=O)c3c(Nc4ccc(..."
      ]
     },
     "execution_count": 59,
     "metadata": {},
     "output_type": "execute_result"
    }
   ],
   "source": [
    "x_train.head()"
   ]
  },
  {
   "cell_type": "code",
   "execution_count": 57,
   "id": "95752f83-ac4a-4dd0-8b53-ea3f821ddf64",
   "metadata": {},
   "outputs": [],
   "source": [
    "# set(pubchem_to_drugs_df['PubCHEM'].values).intersection(dualgcn_train['Drug_ID'].values)"
   ]
  },
  {
   "cell_type": "code",
   "execution_count": 58,
   "id": "bd537031-56d1-490f-91e4-baae76106da5",
   "metadata": {},
   "outputs": [],
   "source": [
    "# dualgcn_train['Drug_ID'].values"
   ]
  },
  {
   "cell_type": "code",
   "execution_count": 59,
   "id": "33b7b7f0-651b-4332-ac61-f2b3fb3f0347",
   "metadata": {},
   "outputs": [],
   "source": [
    "# drugs_pubchem = pubchem_to_drugs_df.merge(dualgcn_train['Drug_ID'], left_on = [\"PubCHEM\"], right_on = [\"Drug_ID\"])[\"Drug_ID\"].values"
   ]
  },
  {
   "cell_type": "code",
   "execution_count": 60,
   "id": "956ce2cc-d3ca-41e2-89be-2c46873edd33",
   "metadata": {},
   "outputs": [],
   "source": [
    "# to_keep_train = pubchem_to_drugs_df.merge(dualgcn_train['Drug_ID'], left_on = [\"PubCHEM\"], right_on = [\"Drug_ID\"])[\"Drug_ID\"].values"
   ]
  },
  {
   "cell_type": "code",
   "execution_count": 61,
   "id": "32d5c0c2-7424-4c93-81fe-a5fd9b2d359f",
   "metadata": {},
   "outputs": [],
   "source": [
    "# train_gcn_feats[0]"
   ]
  },
  {
   "cell_type": "code",
   "execution_count": 62,
   "id": "41397b63-de61-4a3e-8cdf-6c930dc9e43c",
   "metadata": {},
   "outputs": [],
   "source": [
    "# dict_features"
   ]
  },
  {
   "cell_type": "code",
   "execution_count": 63,
   "id": "d8e8a19c-3fc2-4c28-8a5c-5d44890baff8",
   "metadata": {},
   "outputs": [],
   "source": [
    "train_gcn_feats = []\n",
    "train_adj_list = []\n",
    "for drug_id in x_train[\"drug_id\"].values:\n",
    "    train_gcn_feats.append(dict_features[drug_id])\n",
    "    train_adj_list.append(dict_normalized_adj_mats[drug_id])"
   ]
  },
  {
   "cell_type": "code",
   "execution_count": 64,
   "id": "f18af922-6ad2-4ec9-8a06-e21dfec89e16",
   "metadata": {},
   "outputs": [],
   "source": [
    "valid_gcn_feats = []\n",
    "valid_adj_list = []\n",
    "for drug_id in x_valid[\"drug_id\"].values:\n",
    "    valid_gcn_feats.append(dict_features[drug_id])\n",
    "    valid_adj_list.append(dict_normalized_adj_mats[drug_id])"
   ]
  },
  {
   "cell_type": "code",
   "execution_count": 65,
   "id": "9bed1e37-8576-42df-bc9d-4490bf6777c8",
   "metadata": {},
   "outputs": [],
   "source": [
    "import numpy as np"
   ]
  },
  {
   "cell_type": "code",
   "execution_count": 66,
   "id": "8727a949-fe53-4c23-a8f1-495b0575cfe7",
   "metadata": {},
   "outputs": [],
   "source": [
    "train_gcn_feats = np.array(train_gcn_feats).astype(\"float16\")\n",
    "valid_gcn_feats = np.array(valid_gcn_feats).astype(\"float16\")"
   ]
  },
  {
   "cell_type": "code",
   "execution_count": 67,
   "id": "de082df9-c334-41bd-a423-9791ef6596a4",
   "metadata": {},
   "outputs": [
    {
     "data": {
      "text/plain": [
       "(17316, 100, 75)"
      ]
     },
     "execution_count": 67,
     "metadata": {},
     "output_type": "execute_result"
    }
   ],
   "source": [
    "valid_gcn_feats.shape"
   ]
  },
  {
   "cell_type": "code",
   "execution_count": 68,
   "id": "2051e9cb-d041-4112-8155-cac3b6ef6684",
   "metadata": {},
   "outputs": [],
   "source": [
    "train_adj_list = np.array(train_adj_list).astype(\"float16\")\n",
    "valid_adj_list = np.array(valid_adj_list).astype(\"float16\")"
   ]
  },
  {
   "cell_type": "code",
   "execution_count": 69,
   "id": "8d454e40-a06a-46f9-a178-88e74173ee5d",
   "metadata": {},
   "outputs": [
    {
     "data": {
      "text/plain": [
       "(69214, 100, 100)"
      ]
     },
     "execution_count": 69,
     "metadata": {},
     "output_type": "execute_result"
    }
   ],
   "source": [
    "train_adj_list.shape"
   ]
  },
  {
   "cell_type": "code",
   "execution_count": 70,
   "id": "caac5fc1-2924-4fe1-aeef-bf741cfbba0e",
   "metadata": {},
   "outputs": [],
   "source": [
    "# valid_adj_list[0,:, :]@valid_gcn_feats[0,:, :]"
   ]
  },
  {
   "cell_type": "code",
   "execution_count": 71,
   "id": "6f7ceb2f-4f65-4498-9ddd-4b44fc16c2da",
   "metadata": {},
   "outputs": [],
   "source": [
    "# dict_features[drug_id]"
   ]
  },
  {
   "cell_type": "code",
   "execution_count": 72,
   "id": "755176a9-f00d-471a-bdd0-31b44c14b885",
   "metadata": {},
   "outputs": [],
   "source": [
    "# train_gcn_feats.shape"
   ]
  },
  {
   "cell_type": "code",
   "execution_count": 73,
   "id": "9f5a2cad-2b71-4054-9c0d-5972a333ba07",
   "metadata": {},
   "outputs": [],
   "source": [
    "# def gcn_feature_model(dataset): \n",
    "    "
   ]
  },
  {
   "cell_type": "code",
   "execution_count": 74,
   "id": "94440810-f34c-4d24-ba0a-e2fb428a71b2",
   "metadata": {},
   "outputs": [],
   "source": [
    "# dense_layer_gcn = tf.keras.layers.Dense(1)"
   ]
  },
  {
   "cell_type": "code",
   "execution_count": 75,
   "id": "ba635fa1-185a-4110-a21e-43a8fcf39df1",
   "metadata": {},
   "outputs": [],
   "source": [
    "# dense_out = dense_layer_gcn(valid_gcn_feats)"
   ]
  },
  {
   "cell_type": "code",
   "execution_count": 76,
   "id": "d41d7ba3-19f6-4155-b70f-0f2d04a3953e",
   "metadata": {},
   "outputs": [],
   "source": [
    "# dense_out = tf.keras.layers.Flatten()(dense_out)"
   ]
  },
  {
   "cell_type": "code",
   "execution_count": 77,
   "id": "c07517ab-3666-459c-88b5-555067fb9372",
   "metadata": {},
   "outputs": [],
   "source": [
    "# weights = tf.keras.layers.Softmax()(dense_out)"
   ]
  },
  {
   "cell_type": "code",
   "execution_count": 78,
   "id": "73a2f691-40a6-4f04-8897-3662b8de01e0",
   "metadata": {},
   "outputs": [],
   "source": [
    "# weights = tf.keras.layers.Reshape((100, 1))(weights)"
   ]
  },
  {
   "cell_type": "code",
   "execution_count": 79,
   "id": "3c76d891-b177-471a-9463-3b9b089c5ffd",
   "metadata": {},
   "outputs": [],
   "source": [
    "# valid_gcn_feats"
   ]
  },
  {
   "cell_type": "code",
   "execution_count": 80,
   "id": "1a13c531-7e3d-407f-a5dd-e41d5097eb5e",
   "metadata": {},
   "outputs": [],
   "source": [
    "# multiply_out = tf.keras.layers.Multiply()([valid_gcn_feats, weights])"
   ]
  },
  {
   "cell_type": "code",
   "execution_count": 81,
   "id": "8c79f770-c75a-48b9-ba02-ebc21ec72dba",
   "metadata": {},
   "outputs": [],
   "source": [
    "# sum_lambda = tf.keras.layers.Lambda(lambda x: tf.math.reduce_sum(x, axis=1))"
   ]
  },
  {
   "cell_type": "code",
   "execution_count": 82,
   "id": "6d0b07b6-9d0b-4459-8b6b-0a27f5b3626c",
   "metadata": {},
   "outputs": [],
   "source": [
    "# sum_lambda(multiply_out)"
   ]
  },
  {
   "cell_type": "code",
   "execution_count": 83,
   "id": "d0935f4a-b7ba-46f8-baa6-1e5960a1b495",
   "metadata": {},
   "outputs": [],
   "source": [
    "# weights"
   ]
  },
  {
   "cell_type": "code",
   "execution_count": 84,
   "id": "e62b5bde-3aa0-48eb-9f6b-82177582880c",
   "metadata": {},
   "outputs": [],
   "source": [
    "# train_num_atoms = np.array(train_num_atoms).reshape(-1,1)\n",
    "# valid_num_atoms = np.array(valid_num_atoms).reshape(-1,1)"
   ]
  },
  {
   "cell_type": "code",
   "execution_count": 85,
   "id": "8e0b43bf-a308-4df0-8853-1ab0162129e5",
   "metadata": {},
   "outputs": [],
   "source": [
    "# train_num_atoms.shape"
   ]
  },
  {
   "cell_type": "code",
   "execution_count": 86,
   "id": "b57c86db-c67b-4492-b945-9ee5ef7633be",
   "metadata": {},
   "outputs": [
    {
     "name": "stderr",
     "output_type": "stream",
     "text": [
      "2023-07-23 11:29:06.252591: W tensorflow/stream_executor/platform/default/dso_loader.cc:64] Could not load dynamic library 'libcuda.so.1'; dlerror: libcuda.so.1: cannot open shared object file: No such file or directory; LD_LIBRARY_PATH: :\n",
      "2023-07-23 11:29:06.252624: W tensorflow/stream_executor/cuda/cuda_driver.cc:269] failed call to cuInit: UNKNOWN ERROR (303)\n",
      "2023-07-23 11:29:06.252642: I tensorflow/stream_executor/cuda/cuda_diagnostics.cc:156] kernel driver does not appear to be running on this host (c2518.swan.hcc.unl.edu): /proc/driver/nvidia/version does not exist\n",
      "2023-07-23 11:29:06.253559: I tensorflow/core/platform/cpu_feature_guard.cc:193] This TensorFlow binary is optimized with oneAPI Deep Neural Network Library (oneDNN) to use the following CPU instructions in performance-critical operations:  SSE4.1 SSE4.2 AVX AVX2 AVX512F AVX512_VNNI FMA\n",
      "To enable them in other operations, rebuild TensorFlow with the appropriate compiler flags.\n"
     ]
    },
    {
     "name": "stdout",
     "output_type": "stream",
     "text": [
      "WARNING:tensorflow:No training configuration found in save file, so the model was *not* compiled. Compile it manually.\n"
     ]
    },
    {
     "name": "stderr",
     "output_type": "stream",
     "text": [
      "WARNING:tensorflow:No training configuration found in save file, so the model was *not* compiled. Compile it manually.\n"
     ]
    },
    {
     "name": "stdout",
     "output_type": "stream",
     "text": [
      "WARNING:tensorflow:No training configuration found in save file, so the model was *not* compiled. Compile it manually.\n"
     ]
    },
    {
     "name": "stderr",
     "output_type": "stream",
     "text": [
      "WARNING:tensorflow:No training configuration found in save file, so the model was *not* compiled. Compile it manually.\n"
     ]
    },
    {
     "name": "stdout",
     "output_type": "stream",
     "text": [
      "WARNING:tensorflow:No training configuration found in save file, so the model was *not* compiled. Compile it manually.\n"
     ]
    },
    {
     "name": "stderr",
     "output_type": "stream",
     "text": [
      "WARNING:tensorflow:No training configuration found in save file, so the model was *not* compiled. Compile it manually.\n"
     ]
    },
    {
     "name": "stdout",
     "output_type": "stream",
     "text": [
      "WARNING:tensorflow:No training configuration found in save file, so the model was *not* compiled. Compile it manually.\n"
     ]
    },
    {
     "name": "stderr",
     "output_type": "stream",
     "text": [
      "WARNING:tensorflow:No training configuration found in save file, so the model was *not* compiled. Compile it manually.\n"
     ]
    }
   ],
   "source": [
    "# load models\n",
    "# omic models\n",
    "cancer_copy_number_model = tf.keras.models.load_model(\"..//Models//cancer_copy_number_model_no_norm_common\")\n",
    "cancer_cell_gen_expr_model = tf.keras.models.load_model(\"..//Models//cancer_cell_gen_expr_model_no_norm_common\")\n",
    "cancer_cell_gen_methy_model = tf.keras.models.load_model(\"..//Models//cancer_cell_gen_methy_model_no_norm\")\n",
    "cancer_cell_gen_mut_model = tf.keras.models.load_model(\"..//Models//cancer_cell_gen_mut_model_no_norm\")"
   ]
  },
  {
   "cell_type": "code",
   "execution_count": 87,
   "id": "4c1533dd-2e0e-424f-be0d-24f06b51453b",
   "metadata": {},
   "outputs": [
    {
     "name": "stdout",
     "output_type": "stream",
     "text": [
      "WARNING:tensorflow:No training configuration found in save file, so the model was *not* compiled. Compile it manually.\n"
     ]
    },
    {
     "name": "stderr",
     "output_type": "stream",
     "text": [
      "WARNING:tensorflow:No training configuration found in save file, so the model was *not* compiled. Compile it manually.\n"
     ]
    }
   ],
   "source": [
    "# load models\n",
    "# drug models\n",
    "pubchem_drugs_rdkit_model = tf.keras.models.load_model(\"..//Models//pubchem_drugs_rdkit_model_no_norm\")"
   ]
  },
  {
   "cell_type": "code",
   "execution_count": 88,
   "id": "77362536-513b-46f8-9ac9-e6a4b4da514a",
   "metadata": {},
   "outputs": [],
   "source": [
    "from sklearn.preprocessing import StandardScaler"
   ]
  },
  {
   "cell_type": "code",
   "execution_count": 89,
   "id": "4276fa33-3544-4a49-904e-020095d81f43",
   "metadata": {},
   "outputs": [],
   "source": [
    "std = StandardScaler()"
   ]
  },
  {
   "cell_type": "code",
   "execution_count": 90,
   "id": "6d5f0911-6e51-446d-a281-dc05086de8bf",
   "metadata": {},
   "outputs": [],
   "source": [
    "# extract drug features\n",
    "drug_features_train = pubchem_drugs_rdkit_model(x_train[\"drug_id\"].values).numpy().astype(\"float32\")\n",
    "drug_features_valid = pubchem_drugs_rdkit_model(x_valid[\"drug_id\"].values).numpy().astype(\"float32\")\n",
    "\n",
    "# drug_features_train = pubchem_drugs_rdkit_model(x_train[\"drug_id\"].values)\n",
    "# drug_features_valid = pubchem_drugs_rdkit_model(x_valid[\"drug_id\"].values)"
   ]
  },
  {
   "cell_type": "code",
   "execution_count": 91,
   "id": "532d3eda-f04b-459a-b662-186a8d5f4184",
   "metadata": {},
   "outputs": [
    {
     "data": {
      "text/plain": [
       "((69214, 106), (17316, 106))"
      ]
     },
     "execution_count": 91,
     "metadata": {},
     "output_type": "execute_result"
    }
   ],
   "source": [
    "drug_features_train.shape, drug_features_valid.shape"
   ]
  },
  {
   "cell_type": "code",
   "execution_count": 92,
   "id": "428e51af-857a-4524-bf21-af673d792725",
   "metadata": {},
   "outputs": [],
   "source": [
    "# drug_features_train"
   ]
  },
  {
   "cell_type": "code",
   "execution_count": 93,
   "id": "f09c1da2-9df1-4674-9a05-ed475aaed5fa",
   "metadata": {},
   "outputs": [
    {
     "data": {
      "text/plain": [
       "0"
      ]
     },
     "execution_count": 93,
     "metadata": {},
     "output_type": "execute_result"
    }
   ],
   "source": [
    "np.isinf(drug_features_train).sum()"
   ]
  },
  {
   "cell_type": "code",
   "execution_count": 94,
   "id": "175df75f-8b88-43fe-be32-f1e29b5d9ade",
   "metadata": {},
   "outputs": [],
   "source": [
    "# drug_features_train.values"
   ]
  },
  {
   "cell_type": "code",
   "execution_count": 95,
   "id": "76723b45-8e73-41b2-b00a-19c27200d943",
   "metadata": {},
   "outputs": [],
   "source": [
    "drug_features_train = std.fit_transform(drug_features_train)"
   ]
  },
  {
   "cell_type": "code",
   "execution_count": 96,
   "id": "3397ce65-28fa-42a3-8b35-cb378bde141d",
   "metadata": {},
   "outputs": [],
   "source": [
    "drug_features_valid = std.transform(drug_features_valid)"
   ]
  },
  {
   "cell_type": "code",
   "execution_count": 97,
   "id": "bb772fbe-d8ae-4db9-ac63-3fdc2ddebf02",
   "metadata": {},
   "outputs": [],
   "source": [
    "# omics_copy_number_train"
   ]
  },
  {
   "cell_type": "code",
   "execution_count": 98,
   "id": "620a0c37-5cd4-430a-bad5-796e06b4e826",
   "metadata": {},
   "outputs": [],
   "source": [
    "# x_train[\"Cancer_Cell_Line\"].nunique()"
   ]
  },
  {
   "cell_type": "code",
   "execution_count": 99,
   "id": "8a581814-8f25-47f8-88eb-b6d94e841e96",
   "metadata": {},
   "outputs": [],
   "source": [
    "# extract copy number features\n",
    "omics_copy_number_train = cancer_copy_number_model(x_train[\"Cancer_Cell_Line\"].values).numpy().astype(\"float16\")\n",
    "omics_copy_number_valid = cancer_copy_number_model(x_valid[\"Cancer_Cell_Line\"].values).numpy().astype(\"float16\")"
   ]
  },
  {
   "cell_type": "code",
   "execution_count": 100,
   "id": "e94af1a5-9555-4c31-aef5-7e778ed1a9b3",
   "metadata": {},
   "outputs": [],
   "source": [
    "# omics_copy_number_train"
   ]
  },
  {
   "cell_type": "code",
   "execution_count": 101,
   "id": "a160e991-ebad-4f48-a8b9-e2ce191865ae",
   "metadata": {},
   "outputs": [
    {
     "data": {
      "text/plain": [
       "((69214, 691), (17316, 691))"
      ]
     },
     "execution_count": 101,
     "metadata": {},
     "output_type": "execute_result"
    }
   ],
   "source": [
    "omics_copy_number_train.shape, omics_copy_number_valid.shape"
   ]
  },
  {
   "cell_type": "code",
   "execution_count": 102,
   "id": "0d8f9737-5d43-4175-a68a-ff03ab3f58c3",
   "metadata": {},
   "outputs": [],
   "source": [
    "# extract gen expr features\n",
    "omics_gen_expr_train = cancer_cell_gen_expr_model(x_train[\"Cancer_Cell_Line\"].values).numpy().astype(\"float16\")\n",
    "omics_gen_expr_valid = cancer_cell_gen_expr_model(x_valid[\"Cancer_Cell_Line\"].values).numpy().astype(\"float16\")"
   ]
  },
  {
   "cell_type": "code",
   "execution_count": 103,
   "id": "79e4911e-99db-4d28-b785-99c8b3da6e38",
   "metadata": {},
   "outputs": [
    {
     "data": {
      "text/plain": [
       "((69214, 691), (17316, 691))"
      ]
     },
     "execution_count": 103,
     "metadata": {},
     "output_type": "execute_result"
    }
   ],
   "source": [
    "omics_gen_expr_train.shape, omics_gen_expr_valid.shape"
   ]
  },
  {
   "cell_type": "code",
   "execution_count": 104,
   "id": "ceb5e8e9-58c8-44b6-af28-2e676cd4c4d9",
   "metadata": {},
   "outputs": [],
   "source": [
    "# omics_gen_copy_number_gen_expr_train = np.concatenate([np.expand_dims(omics_copy_number_train, -1),\n",
    "#                                                       np.expand_dims(omics_gen_expr_train, -1)], axis = -1)"
   ]
  },
  {
   "cell_type": "code",
   "execution_count": 105,
   "id": "ddd290e2-d981-440e-b33f-d9e269e9e7e5",
   "metadata": {},
   "outputs": [],
   "source": [
    "# omics_gen_copy_number_gen_expr_train.shape"
   ]
  },
  {
   "cell_type": "code",
   "execution_count": 106,
   "id": "9af07cd6-3bf6-45eb-a0d9-6ada6e752a5d",
   "metadata": {},
   "outputs": [],
   "source": [
    "# omics_gen_copy_number_gen_expr_valid = np.concatenate([np.expand_dims(omics_copy_number_valid, -1),\n",
    "#                                                       np.expand_dims(omics_gen_expr_valid, -1)], axis = -1)"
   ]
  },
  {
   "cell_type": "code",
   "execution_count": 107,
   "id": "0de42a7d-07a7-472e-bc3b-8735aac8d8a0",
   "metadata": {},
   "outputs": [],
   "source": [
    "# omics_gen_copy_number_gen_expr_valid.shape"
   ]
  },
  {
   "cell_type": "code",
   "execution_count": 108,
   "id": "6fc3a94e-0ffe-4672-a97a-cc87eca89a54",
   "metadata": {},
   "outputs": [],
   "source": [
    "# extract gen methylation features\n",
    "omics_gen_methyl_train = cancer_cell_gen_methy_model(x_train[\"Cancer_Cell_Line\"].values).numpy().astype(\"float16\")\n",
    "omics_gen_methyl_valid = cancer_cell_gen_methy_model(x_valid[\"Cancer_Cell_Line\"].values).numpy().astype(\"float16\")"
   ]
  },
  {
   "cell_type": "code",
   "execution_count": 109,
   "id": "413c009e-c8fe-4ff6-bd81-b46d0f18fbd3",
   "metadata": {},
   "outputs": [
    {
     "data": {
      "text/plain": [
       "((69214, 808), (17316, 808))"
      ]
     },
     "execution_count": 109,
     "metadata": {},
     "output_type": "execute_result"
    }
   ],
   "source": [
    "omics_gen_methyl_train.shape, omics_gen_methyl_valid.shape"
   ]
  },
  {
   "cell_type": "code",
   "execution_count": 110,
   "id": "75398540-13b6-4cfa-b90d-8f2c0124dcd8",
   "metadata": {},
   "outputs": [
    {
     "name": "stdout",
     "output_type": "stream",
     "text": [
      "271/271 [==============================] - 3s 7ms/step\n",
      "68/68 [==============================] - 0s 2ms/step\n"
     ]
    }
   ],
   "source": [
    "# extract gen mutation features\n",
    "with tf.device('/cpu:0'):\n",
    "    omics_gen_mut_train = cancer_cell_gen_mut_model.predict(x_train[\"Cancer_Cell_Line\"].values, verbose = 1, batch_size = 256).astype(\"float16\")\n",
    "    omics_gen_mut_valid = cancer_cell_gen_mut_model.predict(x_valid[\"Cancer_Cell_Line\"].values, verbose = 1, batch_size = 256).astype(\"float16\")"
   ]
  },
  {
   "cell_type": "code",
   "execution_count": 111,
   "id": "1e4d8d51-d564-4df5-985c-2cb91b7909fe",
   "metadata": {},
   "outputs": [
    {
     "data": {
      "text/plain": [
       "((69214, 34673), (17316, 34673))"
      ]
     },
     "execution_count": 111,
     "metadata": {},
     "output_type": "execute_result"
    }
   ],
   "source": [
    "omics_gen_mut_train.shape, omics_gen_mut_valid.shape"
   ]
  },
  {
   "cell_type": "code",
   "execution_count": 112,
   "id": "1cd31175-0cb4-4718-8ff6-221e42f493d9",
   "metadata": {},
   "outputs": [],
   "source": [
    "smile_strings_train = x_train[\"Smiles\"].values.reshape(-1,1)\n",
    "smile_strings_valid = x_valid[\"Smiles\"].values.reshape(-1,1)"
   ]
  },
  {
   "cell_type": "code",
   "execution_count": 113,
   "id": "c88bfcad-a6b4-41d0-b8c0-a2ec02488526",
   "metadata": {},
   "outputs": [
    {
     "data": {
      "text/plain": [
       "((69214, 1), (17316, 1))"
      ]
     },
     "execution_count": 113,
     "metadata": {},
     "output_type": "execute_result"
    }
   ],
   "source": [
    "smile_strings_train.shape, smile_strings_valid.shape"
   ]
  },
  {
   "cell_type": "code",
   "execution_count": 114,
   "id": "d13e5906-e69a-42a6-b9d0-c24f9d941e7d",
   "metadata": {},
   "outputs": [],
   "source": [
    "# selected_info_common_cell_lines = \"../data/CCLE/cellline_list.txt\"\n",
    "# selected_info_common_genes = \"../data/CCLE/gene_list.txt\""
   ]
  },
  {
   "cell_type": "code",
   "execution_count": 115,
   "id": "81270302-09c9-4885-bf20-1cea79f82c2c",
   "metadata": {},
   "outputs": [],
   "source": [
    "# PPI_file = \"../data/PPI/PPI_network.txt\""
   ]
  },
  {
   "cell_type": "code",
   "execution_count": 116,
   "id": "c061dec2-f66e-46bd-b75d-d0d3de3a4197",
   "metadata": {},
   "outputs": [],
   "source": [
    "# len(common_genes)"
   ]
  },
  {
   "cell_type": "code",
   "execution_count": 117,
   "id": "fec2991e-1152-4fc3-afae-e537b1d94224",
   "metadata": {},
   "outputs": [],
   "source": [
    "# 'CHN1' in common_genes"
   ]
  },
  {
   "cell_type": "code",
   "execution_count": 118,
   "id": "dd95b114-413c-48b2-8ac4-d62341ca4b49",
   "metadata": {},
   "outputs": [],
   "source": [
    "# with open(selected_info_common_cell_lines) as f:\n",
    "#     common_cell_lines = [item.strip() for item in f.readlines()]\n",
    "    \n",
    "# with open(\"..//data//common_genes.pickle\", \"rb\") as f:\n",
    "#     common_genes = pickle.load(f)\n",
    "    \n",
    "# idx_dic={}\n",
    "# for index, item in enumerate(common_genes):\n",
    "#     idx_dic[item] = index\n",
    "\n",
    "# ppi_adj_info = [[] for item in common_genes] \n",
    "# for line in open(PPI_file).readlines():\n",
    "#     gene1,gene2 = line.split('\\t')[0],line.split('\\t')[1]\n",
    "#     if (gene1 in common_genes) & (gene2 in common_genes):\n",
    "#         if idx_dic[gene1]<=idx_dic[gene2]:\n",
    "#             ppi_adj_info[idx_dic[gene1]].append(idx_dic[gene2])\n",
    "#             ppi_adj_info[idx_dic[gene2]].append(idx_dic[gene1])"
   ]
  },
  {
   "cell_type": "code",
   "execution_count": 119,
   "id": "f8272f7e-56cc-4514-95c1-adb7222db957",
   "metadata": {},
   "outputs": [],
   "source": [
    "# len(ppi_adj_info)"
   ]
  },
  {
   "cell_type": "code",
   "execution_count": 120,
   "id": "7d66d35a-8e71-434b-9c11-098ed2bf4f48",
   "metadata": {},
   "outputs": [],
   "source": [
    "# common_genes[:20]"
   ]
  },
  {
   "cell_type": "code",
   "execution_count": 121,
   "id": "aee54b11-6d07-45ba-b7c4-480210880d32",
   "metadata": {},
   "outputs": [],
   "source": [
    "# ppi_adj_info"
   ]
  },
  {
   "cell_type": "code",
   "execution_count": 122,
   "id": "041b7ab6-5c26-4466-b99a-8d926735dfad",
   "metadata": {},
   "outputs": [],
   "source": [
    "# ppi_adj_info"
   ]
  },
  {
   "cell_type": "code",
   "execution_count": 123,
   "id": "8f9b5c7b-6b6a-43d1-97b3-c2a901ce3aa7",
   "metadata": {},
   "outputs": [],
   "source": [
    "# len(common_genes)"
   ]
  },
  {
   "cell_type": "code",
   "execution_count": 124,
   "id": "74735ada-5c85-498e-9e1a-3bef9376269d",
   "metadata": {},
   "outputs": [],
   "source": [
    "# celline_feature_folder = \"../data/CCLE/omics_data\""
   ]
  },
  {
   "cell_type": "code",
   "execution_count": 125,
   "id": "e637b894-348d-4c09-b4fc-c61fa643989f",
   "metadata": {},
   "outputs": [],
   "source": [
    "# cellline_drug_pair = []\n",
    "# with open(selected_info_common_cell_lines) as f:\n",
    "#     common_cell_lines = [item.strip() for item in f.readlines()]\n",
    "    \n",
    "# # with open(selected_info_common_genes) as f:\n",
    "# #     common_genes = [item.strip() for item in f.readlines()]\n",
    "# dic_cell_line_feat = {}\n",
    "# for each in common_cell_lines:\n",
    "#     dic_cell_line_feat[each] = pd.read_csv('%s/%s.csv'%(celline_feature_folder, each), index_col=0).loc[common_genes].values"
   ]
  },
  {
   "cell_type": "code",
   "execution_count": 126,
   "id": "f813ceb5-3a1d-4b09-8c4a-8c0ea40ef08e",
   "metadata": {},
   "outputs": [],
   "source": [
    "# common_genes[:20]"
   ]
  },
  {
   "cell_type": "code",
   "execution_count": 127,
   "id": "2c2dde8c-6173-4f68-963b-0738fc0dc346",
   "metadata": {},
   "outputs": [],
   "source": [
    "# dic_cell_line_feat[each].shape"
   ]
  },
  {
   "cell_type": "code",
   "execution_count": 128,
   "id": "7e58869f-3179-4581-90bf-38771e0b312a",
   "metadata": {},
   "outputs": [],
   "source": [
    "# ppi_adj_info[0]"
   ]
  },
  {
   "cell_type": "code",
   "execution_count": 129,
   "id": "dae468ad-7fd0-4f02-a8ed-d8db549d7088",
   "metadata": {},
   "outputs": [],
   "source": [
    "# nb_nodes"
   ]
  },
  {
   "cell_type": "code",
   "execution_count": 130,
   "id": "4963301a-175e-4965-8279-29a3f0a55836",
   "metadata": {},
   "outputs": [],
   "source": [
    "# nb_nodes = len(common_genes)"
   ]
  },
  {
   "cell_type": "code",
   "execution_count": 131,
   "id": "e8dba0ba-76bf-43d9-a282-64d5ef857164",
   "metadata": {},
   "outputs": [],
   "source": [
    "# def CelllineGraphAdjNorm(ppi_adj_info,common_genes = common_genes):\n",
    "#     # with open(selected_info_common_genes) as f:\n",
    "#     #     common_genes = [item.strip() for item in f.readlines()]\n",
    "#     nb_nodes = len(common_genes)\n",
    "#     adj_mat = np.zeros((nb_nodes,nb_nodes),dtype='float32')\n",
    "#     # print(adj_mat.shape)\n",
    "#     for i in range(len(ppi_adj_info)):\n",
    "#         # print(i)\n",
    "#         nodes = ppi_adj_info[i]\n",
    "#         for each in nodes:\n",
    "#             adj_mat[i,each] = 1\n",
    "#     assert np.allclose(adj_mat,adj_mat.T)\n",
    "#     norm_adj = NormalizeAdj(adj_mat)\n",
    "#     return norm_adj "
   ]
  },
  {
   "cell_type": "code",
   "execution_count": 132,
   "id": "ccca20d9-ccb8-4e11-87dc-3b8bca5df5ac",
   "metadata": {},
   "outputs": [],
   "source": [
    "# def NormalizeAdj(adj):\n",
    "#     adj = adj + np.eye(adj.shape[0])\n",
    "#     d = sp.diags(np.power(np.array(adj.sum(1)), -0.5).flatten(), 0).toarray()\n",
    "#     a_norm = adj.dot(d).transpose().dot(d)\n",
    "#     return a_norm"
   ]
  },
  {
   "cell_type": "code",
   "execution_count": 133,
   "id": "2855c6e4-92b2-4dfc-b81d-1aae7ef46192",
   "metadata": {},
   "outputs": [],
   "source": [
    "import scipy.sparse as sp"
   ]
  },
  {
   "cell_type": "code",
   "execution_count": 134,
   "id": "c091ab77-fe5b-4f41-80c7-9f4e5af94302",
   "metadata": {},
   "outputs": [],
   "source": [
    "# ppi_adj = CelllineGraphAdjNorm(ppi_adj_info,common_genes)"
   ]
  },
  {
   "cell_type": "code",
   "execution_count": 135,
   "id": "09894fbc-8a1b-46c6-afd8-02ff6e17d9d5",
   "metadata": {},
   "outputs": [],
   "source": [
    "# ppi_adj.shape"
   ]
  },
  {
   "cell_type": "code",
   "execution_count": 136,
   "id": "06b66e4c-ece7-40d6-b2d3-bf186c580ebd",
   "metadata": {},
   "outputs": [],
   "source": [
    "# ppi_adj = np.expand_dims(ppi_adj,0)"
   ]
  },
  {
   "cell_type": "code",
   "execution_count": 137,
   "id": "4c126791-b275-4551-8d96-bbc9d32c92d6",
   "metadata": {},
   "outputs": [],
   "source": [
    "# ppi_adj.shape"
   ]
  },
  {
   "cell_type": "code",
   "execution_count": 138,
   "id": "9c523c6b-8a36-468a-966b-4bd5be2566d2",
   "metadata": {},
   "outputs": [],
   "source": [
    "# omics_gen_copy_number_gen_expr_train = (ppi_adj@omics_gen_copy_number_gen_expr_train)\n",
    "# omics_gen_copy_number_gen_expr_valid = (ppi_adj@omics_gen_copy_number_gen_expr_valid)"
   ]
  },
  {
   "cell_type": "code",
   "execution_count": 139,
   "id": "9e00df9e-3bc3-487f-82ee-c93f72cade79",
   "metadata": {},
   "outputs": [],
   "source": [
    "# omics_gen_copy_number_gen_expr_train.shape"
   ]
  },
  {
   "cell_type": "code",
   "execution_count": 140,
   "id": "5bbf18b4-9d86-4ae8-a440-777f4a8c0fc7",
   "metadata": {},
   "outputs": [],
   "source": [
    "# omics_gen_copy_number_gen_expr_valid.shape"
   ]
  },
  {
   "cell_type": "code",
   "execution_count": 141,
   "id": "1e2d10be-04af-42b2-a143-387c78212ac6",
   "metadata": {},
   "outputs": [],
   "source": [
    "# const_input = tf.keras.layers.Input(tensor=ppi_adj, dtype=tf.float64)"
   ]
  },
  {
   "cell_type": "code",
   "execution_count": 142,
   "id": "b720298b-a986-4f2b-ba1b-1eae81bc02f3",
   "metadata": {},
   "outputs": [],
   "source": [
    "# len(dic_cell_line_feat)"
   ]
  },
  {
   "cell_type": "code",
   "execution_count": 143,
   "id": "18b7b3c9-e9d6-481b-af5b-21a660ec87aa",
   "metadata": {},
   "outputs": [],
   "source": [
    "# ppi_adj.shape"
   ]
  },
  {
   "cell_type": "code",
   "execution_count": 144,
   "id": "3099870c-52d4-4612-8b80-fab178bdfb6a",
   "metadata": {},
   "outputs": [],
   "source": [
    "# input_smiles_string = tf.keras.layers.Input(shape = (1,), dtype = tf.string)"
   ]
  },
  {
   "cell_type": "code",
   "execution_count": 145,
   "id": "263466ac-b002-4f8f-8bcf-e77dc89e2e52",
   "metadata": {},
   "outputs": [],
   "source": [
    "# text_vec = tf.keras.layers.TextVectorization(standardize=None,\n",
    "#     split='character', output_mode = \"int\")\n",
    "\n",
    "# text_vec.adapt(smile_strings_train, batch_size = 100000)"
   ]
  },
  {
   "cell_type": "code",
   "execution_count": 146,
   "id": "37ead106-b77b-4b89-8277-fbf6be9fd567",
   "metadata": {},
   "outputs": [],
   "source": [
    "# text_vec_output = text_vec(input_smiles_string)"
   ]
  },
  {
   "cell_type": "code",
   "execution_count": 147,
   "id": "2977368d-cbb6-493f-a5b9-af70aecaa090",
   "metadata": {},
   "outputs": [],
   "source": [
    "# embedding_layer = tf.keras.layers.Embedding(len(text_vec.get_vocabulary()), 128)\n",
    "# embedding_output = embedding_layer(text_vec_output)\n",
    "# lstm_layer = tf.keras.layers.LSTM(64)\n",
    "# lstm_output_smiles = lstm_layer(embedding_output)"
   ]
  },
  {
   "cell_type": "code",
   "execution_count": 148,
   "id": "6294b65c-47e4-40bc-aaae-51d27b6c14aa",
   "metadata": {},
   "outputs": [],
   "source": [
    "# bottleneck_layer_smiles = tf.keras.layers.Dense(32, activation = \"relu\")"
   ]
  },
  {
   "cell_type": "code",
   "execution_count": 149,
   "id": "69eda98f-ad04-473a-99ba-7ffd34af0200",
   "metadata": {},
   "outputs": [],
   "source": [
    "# bottleneck_layer_smiles_out = bottleneck_layer_smiles(lstm_output_smiles)"
   ]
  },
  {
   "cell_type": "code",
   "execution_count": 150,
   "id": "bbf6f1dc-0692-4f45-84a6-797ce77115e0",
   "metadata": {},
   "outputs": [],
   "source": [
    "# input_rdkit = tf.keras.layers.Input(shape = (drug_features_train.shape[1],))"
   ]
  },
  {
   "cell_type": "code",
   "execution_count": 151,
   "id": "d0758018-5370-45b0-a192-5089ae853dbe",
   "metadata": {},
   "outputs": [],
   "source": [
    "# dense_rdkit_layer = tf.keras.layers.Dense(64, activation = \"relu\")"
   ]
  },
  {
   "cell_type": "code",
   "execution_count": 152,
   "id": "8ee3467b-a8fe-4653-9a63-c02cdc418612",
   "metadata": {},
   "outputs": [],
   "source": [
    "# rdkit_embs = dense_rdkit_layer(input_rdkit)\n",
    "# dense_rdkit_layer = tf.keras.layers.Dense(32, activation = \"relu\")\n",
    "# rdkit_embs = dense_rdkit_layer(rdkit_embs)"
   ]
  },
  {
   "cell_type": "code",
   "execution_count": 153,
   "id": "32a9a130-7a5d-4cb0-b7f1-e95447642926",
   "metadata": {},
   "outputs": [],
   "source": [
    "input_gcn_features = tf.keras.layers.Input(shape = (100, 75))\n",
    "input_norm_adj_mat = tf.keras.layers.Input(shape = (100, 100))\n",
    "mult_1 = tf.keras.layers.Dot(1)([input_norm_adj_mat, input_gcn_features])\n",
    "dense_layer_gcn = tf.keras.layers.Dense(256, activation = \"relu\")\n",
    "dense_out = dense_layer_gcn(mult_1)\n",
    "dense_out = tf.keras.layers.BatchNormalization()(dense_out)\n",
    "dense_out = tf.keras.layers.Dropout(0.2)(dense_out)\n",
    "mult_2 = tf.keras.layers.Dot(1)([input_norm_adj_mat, dense_out])\n",
    "dense_layer_gcn = tf.keras.layers.Dense(256, activation = \"relu\")\n",
    "dense_out = dense_layer_gcn(mult_2)\n",
    "dense_out = tf.keras.layers.BatchNormalization()(dense_out)\n",
    "dense_out = tf.keras.layers.Dropout(0.2)(dense_out)\n",
    "\n",
    "dense_layer_gcn = tf.keras.layers.Dense(100, activation = \"relu\")\n",
    "mult_3 = tf.keras.layers.Dot(1)([input_norm_adj_mat, dense_out])\n",
    "dense_out = dense_layer_gcn(mult_3)\n",
    "dense_out = tf.keras.layers.BatchNormalization()(dense_out)\n",
    "dense_out = tf.keras.layers.Dropout(0.2)(dense_out)\n",
    "\n",
    "dense_out = tf.keras.layers.GlobalAvgPool1D()(dense_out)"
   ]
  },
  {
   "cell_type": "code",
   "execution_count": 154,
   "id": "9c4ffef9-aa7b-4b89-a326-11c7d8805ec3",
   "metadata": {},
   "outputs": [
    {
     "data": {
      "text/plain": [
       "<KerasTensor: shape=(None, 100) dtype=float32 (created by layer 'global_average_pooling1d')>"
      ]
     },
     "execution_count": 154,
     "metadata": {},
     "output_type": "execute_result"
    }
   ],
   "source": [
    "dense_out"
   ]
  },
  {
   "cell_type": "code",
   "execution_count": 155,
   "id": "5dadaae3-e442-4eeb-9830-702d1130467f",
   "metadata": {},
   "outputs": [],
   "source": [
    "# rdkit_with_smile_embs = tf.keras.layers.Concatenate()([rdkit_embs, bottleneck_layer_smiles_out, dense_out])"
   ]
  },
  {
   "cell_type": "code",
   "execution_count": 156,
   "id": "0820b856-fc6e-4dd9-a13c-ae73a75e2440",
   "metadata": {},
   "outputs": [],
   "source": [
    "# drugs_final_emb_layer = tf.keras.layers.Dense(32, activation = \"relu\")"
   ]
  },
  {
   "cell_type": "code",
   "execution_count": 157,
   "id": "1fbe4c72-ed99-4385-b34f-d8adb6ffd873",
   "metadata": {},
   "outputs": [],
   "source": [
    "# drugs_smiles_rdkit_embs = drugs_final_emb_layer(dense_out)"
   ]
  },
  {
   "cell_type": "code",
   "execution_count": 158,
   "id": "8b471fe9-0c33-46b8-8053-a9f100b8e229",
   "metadata": {},
   "outputs": [],
   "source": [
    "# drugs_smiles_rdkit_embs"
   ]
  },
  {
   "cell_type": "code",
   "execution_count": 159,
   "id": "a49224f4-c940-40c7-80a5-5e4244d69ba7",
   "metadata": {},
   "outputs": [],
   "source": [
    "# drugs_smiles_rdkit_embs = tf.keras.layers.Dropout(0.25)(drugs_smiles_rdkit_embs)"
   ]
  },
  {
   "cell_type": "code",
   "execution_count": 160,
   "id": "762b08ce-be6c-4ab8-8705-390d1b86279a",
   "metadata": {},
   "outputs": [],
   "source": [
    "# input_copy_number = tf.keras.layers.Input(shape = (omics_copy_number_train.shape[1],))"
   ]
  },
  {
   "cell_type": "code",
   "execution_count": 161,
   "id": "a267fad2-fab4-41f1-b7cf-c8a2f60f5bc1",
   "metadata": {},
   "outputs": [],
   "source": [
    "# input_copy_number = tf.keras.layers.Reshape((omics_copy_number_train.shape[1],1))(input_copy_number)"
   ]
  },
  {
   "cell_type": "code",
   "execution_count": 162,
   "id": "82d117e8-cdc7-45c5-9a4c-c07f0b6e60ca",
   "metadata": {},
   "outputs": [],
   "source": [
    "# copy_number_layer = tf.keras.layers.Dense(256, activation = \"relu\")"
   ]
  },
  {
   "cell_type": "code",
   "execution_count": 163,
   "id": "eec99059-6bf2-4189-8a37-874b6c8731c5",
   "metadata": {},
   "outputs": [],
   "source": [
    "# copy_number_emb = copy_number_layer(input_copy_number)"
   ]
  },
  {
   "cell_type": "code",
   "execution_count": 164,
   "id": "0371b11a-04db-4c99-97e3-a0f589245a03",
   "metadata": {},
   "outputs": [],
   "source": [
    "# copy_number_layer = tf.keras.layers.Dense(128, activation = \"relu\")"
   ]
  },
  {
   "cell_type": "code",
   "execution_count": 165,
   "id": "47979e92-6c2e-441c-8f93-fea5d4f0be61",
   "metadata": {},
   "outputs": [],
   "source": [
    "# copy_number_emb = copy_number_layer(copy_number_emb)"
   ]
  },
  {
   "cell_type": "code",
   "execution_count": 166,
   "id": "607ca081-e937-4efe-8a2b-73700dae8def",
   "metadata": {},
   "outputs": [],
   "source": [
    "input_gen_expr = tf.keras.layers.Input(shape = (omics_gen_expr_train.shape[1]))"
   ]
  },
  {
   "cell_type": "code",
   "execution_count": 167,
   "id": "ac81775a-d890-4741-a44b-01c7f6de4cd0",
   "metadata": {},
   "outputs": [],
   "source": [
    "# input_gen_expr = tf.keras.layers.Reshape((691,1))(input_gen_expr)"
   ]
  },
  {
   "cell_type": "code",
   "execution_count": 168,
   "id": "b76acc3a-413a-4744-bea3-d3df72f7f03e",
   "metadata": {},
   "outputs": [],
   "source": [
    "# input_cv_expr = tf.keras.layers.Concatenate(axis = -1)([input_copy_number, input_gen_expr])"
   ]
  },
  {
   "cell_type": "code",
   "execution_count": 169,
   "id": "2569efb4-a166-42aa-9a81-1ec8522f55b3",
   "metadata": {},
   "outputs": [],
   "source": [
    "# input_gen_expr"
   ]
  },
  {
   "cell_type": "code",
   "execution_count": 170,
   "id": "a93348f7-c647-4396-9ef3-efaf997451fb",
   "metadata": {},
   "outputs": [],
   "source": [
    "l1 = tf.keras.layers.Dense(256, activation = \"tanh\")(input_gen_expr)\n",
    "l1 = tf.keras.layers.BatchNormalization()(l1)\n",
    "l1 = tf.keras.layers.Dropout(0.2)(l1)\n",
    "l1 = tf.keras.layers.Dense(100, activation = \"relu\")(l1)\n",
    "# l2 = tf.keras.layers.Dense(128)(l1)\n",
    "# l2 = tf.keras.layers.Dropout(0.2)(l2)\n",
    "# mult_11 = tf.keras.layers.Dot(1)([const_input, l2])\n"
   ]
  },
  {
   "cell_type": "code",
   "execution_count": 345,
   "id": "a77dec56-fe0a-4435-a0fd-24302b974caf",
   "metadata": {},
   "outputs": [],
   "source": [
    "# dense_layer_gcn1 = tf.keras.layers.Dense(256, activation = \"relu\")\n",
    "# dense_out1 = dense_layer_gcn1(l2)\n",
    "# dense_out1 = tf.keras.layers.BatchNormalization()(dense_out1)\n",
    "# dense_out1 = tf.keras.layers.Dropout(0.2)(dense_out1)\n",
    "# # mult_21 = tf.keras.layers.Dot(1)([const_input, dense_out1])\n",
    "# dense_layer_gcn1 = tf.keras.layers.Dense(256, activation = \"relu\")\n",
    "# dense_out1 = dense_layer_gcn1(dense_out1)\n",
    "# dense_out1 = tf.keras.layers.BatchNormalization()(dense_out1)\n",
    "# dense_out1 = tf.keras.layers.Dropout(0.2)(dense_out1)\n",
    "# dense_layer_gcn1 = tf.keras.layers.Dense(256, activation = \"relu\")\n",
    "# dense_out1 = dense_layer_gcn1(dense_out1)\n",
    "# dense_out1 = tf.keras.layers.BatchNormalization()(dense_out1)\n",
    "# dense_out1 = tf.keras.layers.Dropout(0.2)(dense_out1)\n",
    "# dense_layer_gcn1 = tf.keras.layers.Dense(256, activation = \"relu\")\n",
    "# dense_out1 = dense_layer_gcn1(dense_out1)\n",
    "# dense_out1 = tf.keras.layers.BatchNormalization()(dense_out1)\n",
    "# dense_out1 = tf.keras.layers.Dropout(0.2)(dense_out1)\n",
    "# dense_out1 = tf.keras.layers.GlobalAvgPool1D()(dense_out1)"
   ]
  },
  {
   "cell_type": "code",
   "execution_count": 346,
   "id": "578c95e8-fdb7-42fd-a187-588b59238923",
   "metadata": {},
   "outputs": [],
   "source": [
    "# dense_out1"
   ]
  },
  {
   "cell_type": "code",
   "execution_count": 347,
   "id": "483ce7b6-99c1-4adf-b9a3-9c126a052dae",
   "metadata": {},
   "outputs": [],
   "source": [
    "# gen_expr_layer = tf.keras.layers.Dense(256, activation = \"relu\")"
   ]
  },
  {
   "cell_type": "code",
   "execution_count": 348,
   "id": "52304767-c734-47d6-8dd8-163a9982fb6a",
   "metadata": {},
   "outputs": [],
   "source": [
    "# gen_expr_emb = gen_expr_layer(input_gen_expr)\n",
    "# gen_expr_layer = tf.keras.layers.Dense(128, activation = \"relu\")\n",
    "# gen_expr_emb = gen_expr_layer(gen_expr_emb)"
   ]
  },
  {
   "cell_type": "code",
   "execution_count": 349,
   "id": "e7646b08-4bb7-4917-b145-ccfc323aa61d",
   "metadata": {},
   "outputs": [],
   "source": [
    "# omics_gen_methyl_train.shape"
   ]
  },
  {
   "cell_type": "code",
   "execution_count": 350,
   "id": "5101070f-2ca2-45ba-ba43-8881a24fca55",
   "metadata": {},
   "outputs": [],
   "source": [
    "input_gen_methy = tf.keras.layers.Input(shape = (omics_gen_methyl_train.shape[1],))"
   ]
  },
  {
   "cell_type": "code",
   "execution_count": 351,
   "id": "73c6de76-6e7b-495c-a1ed-2f07bcbcac07",
   "metadata": {},
   "outputs": [],
   "source": [
    "gen_methy_layer = tf.keras.layers.Dense(256, activation = \"tanh\")"
   ]
  },
  {
   "cell_type": "code",
   "execution_count": 352,
   "id": "65dcd97c-9106-4928-b4ec-2b439579910a",
   "metadata": {},
   "outputs": [],
   "source": [
    "gen_methy_emb = gen_methy_layer(input_gen_methy)\n",
    "gen_methy_emb = tf.keras.layers.BatchNormalization()(gen_methy_emb)\n",
    "gen_methy_emb = tf.keras.layers.Dropout(0.2)(gen_methy_emb)"
   ]
  },
  {
   "cell_type": "code",
   "execution_count": 353,
   "id": "874a5732-d680-4cdc-8050-428fdcb3f81c",
   "metadata": {},
   "outputs": [],
   "source": [
    "gen_methy_layer = tf.keras.layers.Dense(100, activation = \"relu\")\n",
    "gen_methy_emb = gen_methy_layer(gen_methy_emb)"
   ]
  },
  {
   "cell_type": "code",
   "execution_count": 354,
   "id": "3be74dd0-0188-4bda-ab13-2dc17e8b6e0e",
   "metadata": {},
   "outputs": [],
   "source": [
    "input_gen_mut = tf.keras.layers.Input(shape = (omics_gen_mut_train.shape[1],))"
   ]
  },
  {
   "cell_type": "code",
   "execution_count": 355,
   "id": "436aa3bf-41ae-46d2-bf0e-6ef8d2703616",
   "metadata": {},
   "outputs": [],
   "source": [
    "reshape_gen_mut = tf.keras.layers.Reshape((1, omics_gen_mut_train.shape[1], 1))"
   ]
  },
  {
   "cell_type": "code",
   "execution_count": 356,
   "id": "017bb057-9f6d-4c86-a247-6496a2d1607a",
   "metadata": {},
   "outputs": [],
   "source": [
    "reshape_gen_mut = reshape_gen_mut(input_gen_mut)"
   ]
  },
  {
   "cell_type": "code",
   "execution_count": 357,
   "id": "5f262b6c-eb0c-4296-819e-b1eb82eeb575",
   "metadata": {},
   "outputs": [],
   "source": [
    "gen_mut_layer = tf.keras.layers.Conv2D(50, (1, 700), strides=5, activation = \"tanh\")"
   ]
  },
  {
   "cell_type": "code",
   "execution_count": 358,
   "id": "b098873c-2154-4cd8-a3fa-08b6940d3f80",
   "metadata": {},
   "outputs": [],
   "source": [
    "gen_mut_emb = gen_mut_layer(reshape_gen_mut)"
   ]
  },
  {
   "cell_type": "code",
   "execution_count": 359,
   "id": "9c4cc17e-23de-46b1-a02f-5be2ee8af557",
   "metadata": {},
   "outputs": [
    {
     "data": {
      "text/plain": [
       "TensorShape([None, 1, 6795, 50])"
      ]
     },
     "execution_count": 359,
     "metadata": {},
     "output_type": "execute_result"
    }
   ],
   "source": [
    "gen_mut_emb.shape"
   ]
  },
  {
   "cell_type": "code",
   "execution_count": 360,
   "id": "f64748ce-c536-4eab-a0ae-e699ce7755bc",
   "metadata": {},
   "outputs": [],
   "source": [
    "pool_layer = tf.keras.layers.MaxPooling2D((1,5))"
   ]
  },
  {
   "cell_type": "code",
   "execution_count": 361,
   "id": "c4da40cd-9499-4e14-9e07-70c31b75983f",
   "metadata": {},
   "outputs": [],
   "source": [
    "pool_out = pool_layer(gen_mut_emb)"
   ]
  },
  {
   "cell_type": "code",
   "execution_count": 362,
   "id": "bc9d3a19-3462-4de9-9ed2-f30ff2a6b958",
   "metadata": {},
   "outputs": [
    {
     "data": {
      "text/plain": [
       "<KerasTensor: shape=(None, 1, 1359, 50) dtype=float32 (created by layer 'max_pooling2d_5')>"
      ]
     },
     "execution_count": 362,
     "metadata": {},
     "output_type": "execute_result"
    }
   ],
   "source": [
    "pool_out"
   ]
  },
  {
   "cell_type": "code",
   "execution_count": 363,
   "id": "fcfe7721-f4eb-4da2-943e-ce1c04db3e00",
   "metadata": {},
   "outputs": [],
   "source": [
    "gen_mut_layer = tf.keras.layers.Conv2D(30, (1, 5), strides=2, activation = \"relu\")"
   ]
  },
  {
   "cell_type": "code",
   "execution_count": 364,
   "id": "232fac4b-f49c-46cc-ba54-1b503a692262",
   "metadata": {},
   "outputs": [],
   "source": [
    "gen_mut_emb = gen_mut_layer(pool_out)"
   ]
  },
  {
   "cell_type": "code",
   "execution_count": 365,
   "id": "7de341b9-bb31-41f0-838a-01dc59c2b0b5",
   "metadata": {},
   "outputs": [
    {
     "data": {
      "text/plain": [
       "<KerasTensor: shape=(None, 1, 678, 30) dtype=float32 (created by layer 'conv2d_6')>"
      ]
     },
     "execution_count": 365,
     "metadata": {},
     "output_type": "execute_result"
    }
   ],
   "source": [
    "gen_mut_emb "
   ]
  },
  {
   "cell_type": "code",
   "execution_count": 366,
   "id": "0a13f555-d2ad-4c2d-b68a-6f9f1e2a7752",
   "metadata": {},
   "outputs": [],
   "source": [
    "pool_layer = tf.keras.layers.MaxPooling2D((1,10))"
   ]
  },
  {
   "cell_type": "code",
   "execution_count": 367,
   "id": "543756db-da27-44b0-af3a-cffb7ddf8145",
   "metadata": {},
   "outputs": [],
   "source": [
    "pool_out = pool_layer(gen_mut_emb)"
   ]
  },
  {
   "cell_type": "code",
   "execution_count": 368,
   "id": "c12b31f8-ae58-4967-a533-f00f825aeed9",
   "metadata": {},
   "outputs": [
    {
     "data": {
      "text/plain": [
       "<KerasTensor: shape=(None, 1, 67, 30) dtype=float32 (created by layer 'max_pooling2d_6')>"
      ]
     },
     "execution_count": 368,
     "metadata": {},
     "output_type": "execute_result"
    }
   ],
   "source": [
    "pool_out"
   ]
  },
  {
   "cell_type": "code",
   "execution_count": 369,
   "id": "86756a6b-a92c-4a06-ae80-39bef3c29f05",
   "metadata": {},
   "outputs": [],
   "source": [
    "flatten_layer = tf.keras.layers.Flatten()"
   ]
  },
  {
   "cell_type": "code",
   "execution_count": 370,
   "id": "99ae4cad-125b-49ca-8697-d0ef58455b96",
   "metadata": {},
   "outputs": [],
   "source": [
    "flatten_out = flatten_layer(pool_out)"
   ]
  },
  {
   "cell_type": "code",
   "execution_count": 371,
   "id": "c6e44df8-5ba1-46f9-88b9-f62445c791a2",
   "metadata": {},
   "outputs": [
    {
     "data": {
      "text/plain": [
       "<KerasTensor: shape=(None, 2010) dtype=float32 (created by layer 'flatten_2')>"
      ]
     },
     "execution_count": 371,
     "metadata": {},
     "output_type": "execute_result"
    }
   ],
   "source": [
    "flatten_out"
   ]
  },
  {
   "cell_type": "code",
   "execution_count": 372,
   "id": "d873bfc5-fb61-4529-b989-424509ba4315",
   "metadata": {},
   "outputs": [],
   "source": [
    "all_omics = tf.keras.layers.Concatenate()([gen_methy_emb, flatten_out, l1, dense_out])"
   ]
  },
  {
   "cell_type": "code",
   "execution_count": 373,
   "id": "b72f307a-a55d-412d-b669-2e70b2ddd7de",
   "metadata": {},
   "outputs": [
    {
     "data": {
      "text/plain": [
       "<KerasTensor: shape=(None, 2310) dtype=float32 (created by layer 'concatenate_1')>"
      ]
     },
     "execution_count": 373,
     "metadata": {},
     "output_type": "execute_result"
    }
   ],
   "source": [
    "all_omics"
   ]
  },
  {
   "cell_type": "code",
   "execution_count": 374,
   "id": "c09578f7-e654-451c-91bb-38ec98bda3cc",
   "metadata": {},
   "outputs": [],
   "source": [
    "x = tf.keras.layers.Dense(300,activation = 'tanh')(all_omics)\n",
    "x = tf.keras.layers.Dropout(0.2)(x)\n",
    "x = tf.keras.layers.Lambda(lambda x: K.expand_dims(x,axis=-1))(x)\n",
    "x = tf.keras.layers.Lambda(lambda x: K.expand_dims(x,axis=1))(x)\n",
    "x = tf.keras.layers.Conv2D(filters=30, kernel_size=(1,150),strides=(1, 1), activation = 'relu',padding='valid')(x)\n",
    "x = tf.keras.layers.MaxPooling2D(pool_size=(1,2))(x)\n",
    "x = tf.keras.layers.Conv2D(filters=10, kernel_size=(1,5),strides=(1, 1), activation = 'relu',padding='valid')(x)\n",
    "x = tf.keras.layers.MaxPooling2D(pool_size=(1,3))(x)\n",
    "x = tf.keras.layers.Conv2D(filters=5, kernel_size=(1,5),strides=(1, 1), activation = 'relu',padding='valid')(x)\n",
    "x = tf.keras.layers.MaxPooling2D(pool_size=(1,3))(x)\n",
    "x = tf.keras.layers.Dropout(0.2)(x)\n",
    "x = tf.keras.layers.Flatten()(x)\n",
    "x = tf.keras.layers.Dropout(0.2)(x)"
   ]
  },
  {
   "cell_type": "code",
   "execution_count": 375,
   "id": "3750e3bf-2b64-45df-9101-31361765ea00",
   "metadata": {},
   "outputs": [],
   "source": [
    "# last_omics_emb = tf.keras.layers.Dense(64, activation = \"relu\")"
   ]
  },
  {
   "cell_type": "code",
   "execution_count": 376,
   "id": "26fa414a-f689-4b60-b4ca-10a967839979",
   "metadata": {},
   "outputs": [],
   "source": [
    "# final_omics_emb = last_omics_emb(all_omics)"
   ]
  },
  {
   "cell_type": "code",
   "execution_count": 377,
   "id": "4ea6e78c-2011-4a0d-a3c6-d3d10b3c4734",
   "metadata": {},
   "outputs": [],
   "source": [
    "# final_omics_emb = tf.keras.layers.Dropout(0.25)(final_omics_emb)"
   ]
  },
  {
   "cell_type": "code",
   "execution_count": 378,
   "id": "1dd8f027-1db1-4edc-b8ae-c42c224e93bf",
   "metadata": {},
   "outputs": [],
   "source": [
    "# final_drugs_omics = tf.keras.layers.Concatenate()([drugs_smiles_rdkit_embs, x])"
   ]
  },
  {
   "cell_type": "code",
   "execution_count": 379,
   "id": "b7fb1852-1fe8-4dfe-a06d-86c565095931",
   "metadata": {},
   "outputs": [],
   "source": [
    "# final_emb_layer = tf.keras.layers.Dense(32, activation = \"relu\")"
   ]
  },
  {
   "cell_type": "code",
   "execution_count": 380,
   "id": "7906d432-892f-4cc0-973f-929dce7f5074",
   "metadata": {},
   "outputs": [],
   "source": [
    "# final_emb = final_emb_layer(final_drugs_omics)"
   ]
  },
  {
   "cell_type": "code",
   "execution_count": 381,
   "id": "21edf137-6544-4c4e-811c-276bc520d0a5",
   "metadata": {},
   "outputs": [],
   "source": [
    "# final_emb = tf.keras.layers.Dropout(0.15)(final_emb)"
   ]
  },
  {
   "cell_type": "code",
   "execution_count": 382,
   "id": "720ae0ed-8be9-44de-8beb-41155d444e76",
   "metadata": {},
   "outputs": [],
   "source": [
    "final_out_layer = tf.keras.layers.Dense(1)"
   ]
  },
  {
   "cell_type": "code",
   "execution_count": 383,
   "id": "a284faa6-42ed-4834-ab75-28291c65eb15",
   "metadata": {},
   "outputs": [],
   "source": [
    "final_out = final_out_layer(x)"
   ]
  },
  {
   "cell_type": "code",
   "execution_count": 384,
   "id": "dfe36747-9e6d-4f55-abaa-a52ef150d1f7",
   "metadata": {},
   "outputs": [],
   "source": [
    "simplecdr = tf.keras.models.Model([input_gcn_features, input_norm_adj_mat,input_gen_expr,\n",
    "                                   input_gen_methy, input_gen_mut], final_out)"
   ]
  },
  {
   "cell_type": "code",
   "execution_count": 385,
   "id": "6179d8a4-d66a-4084-a944-bc3fced8da92",
   "metadata": {},
   "outputs": [
    {
     "name": "stdout",
     "output_type": "stream",
     "text": [
      "Model: \"model_1\"\n",
      "__________________________________________________________________________________________________\n",
      " Layer (type)                   Output Shape         Param #     Connected to                     \n",
      "==================================================================================================\n",
      " input_7 (InputLayer)           [(None, 100, 100)]   0           []                               \n",
      "                                                                                                  \n",
      " input_6 (InputLayer)           [(None, 100, 75)]    0           []                               \n",
      "                                                                                                  \n",
      " dot_3 (Dot)                    (None, 100, 75)      0           ['input_7[0][0]',                \n",
      "                                                                  'input_6[0][0]']                \n",
      "                                                                                                  \n",
      " dense_9 (Dense)                (None, 100, 256)     19456       ['dot_3[0][0]']                  \n",
      "                                                                                                  \n",
      " batch_normalization_5 (BatchNo  (None, 100, 256)    1024        ['dense_9[0][0]']                \n",
      " rmalization)                                                                                     \n",
      "                                                                                                  \n",
      " dropout_8 (Dropout)            (None, 100, 256)     0           ['batch_normalization_5[0][0]']  \n",
      "                                                                                                  \n",
      " dot_4 (Dot)                    (None, 100, 256)     0           ['input_7[0][0]',                \n",
      "                                                                  'dropout_8[0][0]']              \n",
      "                                                                                                  \n",
      " dense_10 (Dense)               (None, 100, 256)     65792       ['dot_4[0][0]']                  \n",
      "                                                                                                  \n",
      " input_10 (InputLayer)          [(None, 34673)]      0           []                               \n",
      "                                                                                                  \n",
      " batch_normalization_6 (BatchNo  (None, 100, 256)    1024        ['dense_10[0][0]']               \n",
      " rmalization)                                                                                     \n",
      "                                                                                                  \n",
      " reshape_1 (Reshape)            (None, 1, 34673, 1)  0           ['input_10[0][0]']               \n",
      "                                                                                                  \n",
      " dropout_9 (Dropout)            (None, 100, 256)     0           ['batch_normalization_6[0][0]']  \n",
      "                                                                                                  \n",
      " input_9 (InputLayer)           [(None, 808)]        0           []                               \n",
      "                                                                                                  \n",
      " conv2d_5 (Conv2D)              (None, 1, 6795, 50)  35050       ['reshape_1[0][0]']              \n",
      "                                                                                                  \n",
      " input_8 (InputLayer)           [(None, 691)]        0           []                               \n",
      "                                                                                                  \n",
      " dot_5 (Dot)                    (None, 100, 256)     0           ['input_7[0][0]',                \n",
      "                                                                  'dropout_9[0][0]']              \n",
      "                                                                                                  \n",
      " dense_14 (Dense)               (None, 256)          207104      ['input_9[0][0]']                \n",
      "                                                                                                  \n",
      " max_pooling2d_5 (MaxPooling2D)  (None, 1, 1359, 50)  0          ['conv2d_5[0][0]']               \n",
      "                                                                                                  \n",
      " dense_12 (Dense)               (None, 256)          177152      ['input_8[0][0]']                \n",
      "                                                                                                  \n",
      " dense_11 (Dense)               (None, 100, 100)     25700       ['dot_5[0][0]']                  \n",
      "                                                                                                  \n",
      " batch_normalization_9 (BatchNo  (None, 256)         1024        ['dense_14[0][0]']               \n",
      " rmalization)                                                                                     \n",
      "                                                                                                  \n",
      " conv2d_6 (Conv2D)              (None, 1, 678, 30)   7530        ['max_pooling2d_5[0][0]']        \n",
      "                                                                                                  \n",
      " batch_normalization_8 (BatchNo  (None, 256)         1024        ['dense_12[0][0]']               \n",
      " rmalization)                                                                                     \n",
      "                                                                                                  \n",
      " batch_normalization_7 (BatchNo  (None, 100, 100)    400         ['dense_11[0][0]']               \n",
      " rmalization)                                                                                     \n",
      "                                                                                                  \n",
      " dropout_12 (Dropout)           (None, 256)          0           ['batch_normalization_9[0][0]']  \n",
      "                                                                                                  \n",
      " max_pooling2d_6 (MaxPooling2D)  (None, 1, 67, 30)   0           ['conv2d_6[0][0]']               \n",
      "                                                                                                  \n",
      " dropout_11 (Dropout)           (None, 256)          0           ['batch_normalization_8[0][0]']  \n",
      "                                                                                                  \n",
      " dropout_10 (Dropout)           (None, 100, 100)     0           ['batch_normalization_7[0][0]']  \n",
      "                                                                                                  \n",
      " dense_15 (Dense)               (None, 100)          25700       ['dropout_12[0][0]']             \n",
      "                                                                                                  \n",
      " flatten_2 (Flatten)            (None, 2010)         0           ['max_pooling2d_6[0][0]']        \n",
      "                                                                                                  \n",
      " dense_13 (Dense)               (None, 100)          25700       ['dropout_11[0][0]']             \n",
      "                                                                                                  \n",
      " global_average_pooling1d_1 (Gl  (None, 100)         0           ['dropout_10[0][0]']             \n",
      " obalAveragePooling1D)                                                                            \n",
      "                                                                                                  \n",
      " concatenate_1 (Concatenate)    (None, 2310)         0           ['dense_15[0][0]',               \n",
      "                                                                  'flatten_2[0][0]',              \n",
      "                                                                  'dense_13[0][0]',               \n",
      "                                                                  'global_average_pooling1d_1[0][0\n",
      "                                                                 ]']                              \n",
      "                                                                                                  \n",
      " dense_16 (Dense)               (None, 300)          693300      ['concatenate_1[0][0]']          \n",
      "                                                                                                  \n",
      " dropout_13 (Dropout)           (None, 300)          0           ['dense_16[0][0]']               \n",
      "                                                                                                  \n",
      " lambda_2 (Lambda)              (None, 300, 1)       0           ['dropout_13[0][0]']             \n",
      "                                                                                                  \n",
      " lambda_3 (Lambda)              (None, 1, 300, 1)    0           ['lambda_2[0][0]']               \n",
      "                                                                                                  \n",
      " conv2d_7 (Conv2D)              (None, 1, 151, 30)   4530        ['lambda_3[0][0]']               \n",
      "                                                                                                  \n",
      " max_pooling2d_7 (MaxPooling2D)  (None, 1, 75, 30)   0           ['conv2d_7[0][0]']               \n",
      "                                                                                                  \n",
      " conv2d_8 (Conv2D)              (None, 1, 71, 10)    1510        ['max_pooling2d_7[0][0]']        \n",
      "                                                                                                  \n",
      " max_pooling2d_8 (MaxPooling2D)  (None, 1, 23, 10)   0           ['conv2d_8[0][0]']               \n",
      "                                                                                                  \n",
      " conv2d_9 (Conv2D)              (None, 1, 19, 5)     255         ['max_pooling2d_8[0][0]']        \n",
      "                                                                                                  \n",
      " max_pooling2d_9 (MaxPooling2D)  (None, 1, 6, 5)     0           ['conv2d_9[0][0]']               \n",
      "                                                                                                  \n",
      " dropout_14 (Dropout)           (None, 1, 6, 5)      0           ['max_pooling2d_9[0][0]']        \n",
      "                                                                                                  \n",
      " flatten_3 (Flatten)            (None, 30)           0           ['dropout_14[0][0]']             \n",
      "                                                                                                  \n",
      " dropout_15 (Dropout)           (None, 30)           0           ['flatten_3[0][0]']              \n",
      "                                                                                                  \n",
      " dense_17 (Dense)               (None, 1)            31          ['dropout_15[0][0]']             \n",
      "                                                                                                  \n",
      "==================================================================================================\n",
      "Total params: 1,293,306\n",
      "Trainable params: 1,291,058\n",
      "Non-trainable params: 2,248\n",
      "__________________________________________________________________________________________________\n"
     ]
    }
   ],
   "source": [
    "simplecdr.summary()"
   ]
  },
  {
   "cell_type": "code",
   "execution_count": 386,
   "id": "e83ba73d-bc93-4d35-948a-3b99fa03ba78",
   "metadata": {},
   "outputs": [
    {
     "name": "stderr",
     "output_type": "stream",
     "text": [
      "/home/statgrads/vpiyush2/.conda/envs/tensorflow-gpu-2.9-custom/lib/python3.9/site-packages/keras/optimizers/optimizer_v2/adam.py:110: UserWarning: The `lr` argument is deprecated, use `learning_rate` instead.\n",
      "  super(Adam, self).__init__(name, **kwargs)\n"
     ]
    }
   ],
   "source": [
    "simplecdr.compile(loss = tf.keras.losses.MeanSquaredError(), \n",
    "                    optimizer = tf.keras.optimizers.Adam(lr=0.001, beta_1=0.9, beta_2=0.999, epsilon=None, decay=0.0, amsgrad=False), \n",
    "                    metrics = [tf.keras.metrics.RootMeanSquaredError()])"
   ]
  },
  {
   "cell_type": "code",
   "execution_count": 387,
   "id": "f7d60fe8-247f-45ec-97f0-2b96b547b364",
   "metadata": {},
   "outputs": [],
   "source": [
    "# len(smile_strings_train)"
   ]
  },
  {
   "cell_type": "code",
   "execution_count": 388,
   "id": "e9d0a707-6893-4259-91a5-f331f812ab5e",
   "metadata": {},
   "outputs": [],
   "source": [
    "import random"
   ]
  },
  {
   "cell_type": "code",
   "execution_count": 389,
   "id": "a56c79c1-11e9-4a55-9688-536a3d3a3352",
   "metadata": {},
   "outputs": [],
   "source": [
    "# random_idx = random.sample(range(0,len(smile_strings_train)), k = 125000)"
   ]
  },
  {
   "cell_type": "code",
   "execution_count": 390,
   "id": "591c1472-4608-4a60-97b2-f76f91c8bb2e",
   "metadata": {},
   "outputs": [],
   "source": [
    "# random_idx = list(random_idx)"
   ]
  },
  {
   "cell_type": "code",
   "execution_count": 391,
   "id": "f7371708-1f12-4a3f-a448-97ff04ed5124",
   "metadata": {},
   "outputs": [],
   "source": [
    "# smile_strings_train.shape"
   ]
  },
  {
   "cell_type": "code",
   "execution_count": 392,
   "id": "dd0ccb3b-cb3d-4e6a-8a50-0e7b90581542",
   "metadata": {},
   "outputs": [],
   "source": [
    "# smile_strings_train[:100000,:]"
   ]
  },
  {
   "cell_type": "code",
   "execution_count": 393,
   "id": "06d17215-8fed-42d6-abd9-e764538b16f6",
   "metadata": {},
   "outputs": [],
   "source": [
    "# input11 = np.array([ppi_adj[0,:,:] for i in range(0,1000)])"
   ]
  },
  {
   "cell_type": "code",
   "execution_count": 394,
   "id": "e8349e38-5535-4c0a-b55c-736c1e506ad4",
   "metadata": {},
   "outputs": [],
   "source": [
    "# input11.shape"
   ]
  },
  {
   "cell_type": "code",
   "execution_count": 221,
   "id": "966a5524-1686-454d-a312-07a4c065ad1e",
   "metadata": {},
   "outputs": [],
   "source": [
    "# omics_gen_methyl_train[:1000,:].shape"
   ]
  },
  {
   "cell_type": "code",
   "execution_count": 396,
   "id": "ebff6df3-7a4a-4fe9-870e-45bab44001ff",
   "metadata": {},
   "outputs": [
    {
     "name": "stdout",
     "output_type": "stream",
     "text": [
      "Epoch 1/10000\n"
     ]
    },
    {
     "name": "stderr",
     "output_type": "stream",
     "text": [
      "2023-07-23 08:55:21.147842: I tensorflow/stream_executor/cuda/cuda_blas.cc:1786] TensorFloat-32 will be used for the matrix multiplication. This will only be logged once.\n",
      "2023-07-23 08:55:21.147877: I tensorflow/stream_executor/cuda/cuda_blas.cc:1786] TensorFloat-32 will be used for the matrix multiplication. This will only be logged once.\n",
      "2023-07-23 08:55:21.396731: I tensorflow/stream_executor/cuda/cuda_dnn.cc:384] Loaded cuDNN version 8401\n"
     ]
    },
    {
     "name": "stdout",
     "output_type": "stream",
     "text": [
      "1082/1082 [==============================] - 24s 17ms/step - loss: 3.9863 - root_mean_squared_error: 1.9966 - val_loss: 2.3077 - val_root_mean_squared_error: 1.5191\n",
      "Epoch 2/10000\n",
      "1082/1082 [==============================] - 12s 11ms/step - loss: 2.5951 - root_mean_squared_error: 1.6109 - val_loss: 2.0774 - val_root_mean_squared_error: 1.4413\n",
      "Epoch 3/10000\n",
      "1082/1082 [==============================] - 12s 11ms/step - loss: 2.3616 - root_mean_squared_error: 1.5367 - val_loss: 1.8700 - val_root_mean_squared_error: 1.3675\n",
      "Epoch 4/10000\n",
      "1082/1082 [==============================] - 12s 11ms/step - loss: 2.2246 - root_mean_squared_error: 1.4915 - val_loss: 2.3758 - val_root_mean_squared_error: 1.5414\n",
      "Epoch 5/10000\n",
      "1082/1082 [==============================] - 12s 11ms/step - loss: 2.1383 - root_mean_squared_error: 1.4623 - val_loss: 1.7062 - val_root_mean_squared_error: 1.3062\n",
      "Epoch 6/10000\n",
      "1082/1082 [==============================] - 12s 11ms/step - loss: 2.0754 - root_mean_squared_error: 1.4406 - val_loss: 1.7223 - val_root_mean_squared_error: 1.3124\n",
      "Epoch 7/10000\n",
      "1082/1082 [==============================] - 12s 11ms/step - loss: 1.9997 - root_mean_squared_error: 1.4141 - val_loss: 1.5992 - val_root_mean_squared_error: 1.2646\n",
      "Epoch 8/10000\n",
      "1082/1082 [==============================] - 12s 11ms/step - loss: 1.9616 - root_mean_squared_error: 1.4006 - val_loss: 1.6189 - val_root_mean_squared_error: 1.2724\n",
      "Epoch 9/10000\n",
      "1082/1082 [==============================] - 12s 11ms/step - loss: 1.9060 - root_mean_squared_error: 1.3806 - val_loss: 1.5434 - val_root_mean_squared_error: 1.2423\n",
      "Epoch 10/10000\n",
      "1082/1082 [==============================] - 12s 11ms/step - loss: 1.8876 - root_mean_squared_error: 1.3739 - val_loss: 1.5195 - val_root_mean_squared_error: 1.2327\n",
      "Epoch 11/10000\n",
      "1082/1082 [==============================] - 12s 11ms/step - loss: 1.8411 - root_mean_squared_error: 1.3569 - val_loss: 1.5028 - val_root_mean_squared_error: 1.2259\n",
      "Epoch 12/10000\n",
      "1082/1082 [==============================] - 12s 11ms/step - loss: 1.7978 - root_mean_squared_error: 1.3408 - val_loss: 1.5203 - val_root_mean_squared_error: 1.2330\n",
      "Epoch 13/10000\n",
      "1082/1082 [==============================] - 12s 11ms/step - loss: 1.7813 - root_mean_squared_error: 1.3347 - val_loss: 1.4742 - val_root_mean_squared_error: 1.2142\n",
      "Epoch 14/10000\n",
      "1082/1082 [==============================] - 12s 12ms/step - loss: 1.7594 - root_mean_squared_error: 1.3264 - val_loss: 1.4710 - val_root_mean_squared_error: 1.2128\n",
      "Epoch 15/10000\n",
      "1082/1082 [==============================] - 12s 12ms/step - loss: 1.7425 - root_mean_squared_error: 1.3200 - val_loss: 1.4610 - val_root_mean_squared_error: 1.2087\n",
      "Epoch 16/10000\n",
      "1082/1082 [==============================] - 12s 12ms/step - loss: 1.7147 - root_mean_squared_error: 1.3095 - val_loss: 1.4857 - val_root_mean_squared_error: 1.2189\n",
      "Epoch 17/10000\n",
      "1082/1082 [==============================] - 12s 11ms/step - loss: 1.6875 - root_mean_squared_error: 1.2991 - val_loss: 1.3944 - val_root_mean_squared_error: 1.1809\n",
      "Epoch 18/10000\n",
      "1082/1082 [==============================] - 12s 11ms/step - loss: 1.6702 - root_mean_squared_error: 1.2924 - val_loss: 1.3620 - val_root_mean_squared_error: 1.1671\n",
      "Epoch 19/10000\n",
      "1082/1082 [==============================] - 13s 12ms/step - loss: 1.6537 - root_mean_squared_error: 1.2860 - val_loss: 1.3815 - val_root_mean_squared_error: 1.1754\n",
      "Epoch 20/10000\n",
      "1082/1082 [==============================] - 13s 12ms/step - loss: 1.6294 - root_mean_squared_error: 1.2765 - val_loss: 1.3686 - val_root_mean_squared_error: 1.1699\n",
      "Epoch 21/10000\n",
      "1082/1082 [==============================] - 12s 12ms/step - loss: 1.6099 - root_mean_squared_error: 1.2688 - val_loss: 1.3538 - val_root_mean_squared_error: 1.1635\n",
      "Epoch 22/10000\n",
      "1082/1082 [==============================] - 13s 12ms/step - loss: 1.5956 - root_mean_squared_error: 1.2632 - val_loss: 1.3732 - val_root_mean_squared_error: 1.1718\n",
      "Epoch 23/10000\n",
      "1082/1082 [==============================] - 13s 12ms/step - loss: 1.5752 - root_mean_squared_error: 1.2551 - val_loss: 1.3111 - val_root_mean_squared_error: 1.1450\n",
      "Epoch 24/10000\n",
      "1082/1082 [==============================] - 13s 12ms/step - loss: 1.5567 - root_mean_squared_error: 1.2477 - val_loss: 1.3034 - val_root_mean_squared_error: 1.1416\n",
      "Epoch 25/10000\n",
      "1082/1082 [==============================] - 12s 11ms/step - loss: 1.5446 - root_mean_squared_error: 1.2428 - val_loss: 1.3109 - val_root_mean_squared_error: 1.1450\n",
      "Epoch 26/10000\n",
      "1082/1082 [==============================] - 13s 12ms/step - loss: 1.5283 - root_mean_squared_error: 1.2363 - val_loss: 1.3150 - val_root_mean_squared_error: 1.1467\n",
      "Epoch 27/10000\n",
      "1082/1082 [==============================] - 13s 12ms/step - loss: 1.5119 - root_mean_squared_error: 1.2296 - val_loss: 1.2903 - val_root_mean_squared_error: 1.1359\n",
      "Epoch 28/10000\n",
      "1082/1082 [==============================] - 12s 11ms/step - loss: 1.4951 - root_mean_squared_error: 1.2227 - val_loss: 1.3363 - val_root_mean_squared_error: 1.1560\n",
      "Epoch 29/10000\n",
      "1082/1082 [==============================] - 12s 12ms/step - loss: 1.4809 - root_mean_squared_error: 1.2169 - val_loss: 1.2861 - val_root_mean_squared_error: 1.1341\n",
      "Epoch 30/10000\n",
      "1082/1082 [==============================] - 13s 12ms/step - loss: 1.4810 - root_mean_squared_error: 1.2170 - val_loss: 1.2638 - val_root_mean_squared_error: 1.1242\n",
      "Epoch 31/10000\n",
      "1082/1082 [==============================] - 13s 12ms/step - loss: 1.4658 - root_mean_squared_error: 1.2107 - val_loss: 1.2746 - val_root_mean_squared_error: 1.1290\n",
      "Epoch 32/10000\n",
      "1082/1082 [==============================] - 13s 12ms/step - loss: 1.4565 - root_mean_squared_error: 1.2068 - val_loss: 1.2486 - val_root_mean_squared_error: 1.1174\n",
      "Epoch 33/10000\n",
      "1082/1082 [==============================] - 13s 12ms/step - loss: 1.4454 - root_mean_squared_error: 1.2023 - val_loss: 1.2741 - val_root_mean_squared_error: 1.1287\n",
      "Epoch 34/10000\n",
      "1082/1082 [==============================] - 13s 12ms/step - loss: 1.4171 - root_mean_squared_error: 1.1904 - val_loss: 1.2343 - val_root_mean_squared_error: 1.1110\n",
      "Epoch 35/10000\n",
      "1082/1082 [==============================] - 13s 12ms/step - loss: 1.4131 - root_mean_squared_error: 1.1887 - val_loss: 1.2687 - val_root_mean_squared_error: 1.1264\n",
      "Epoch 36/10000\n",
      "1082/1082 [==============================] - 13s 12ms/step - loss: 1.3971 - root_mean_squared_error: 1.1820 - val_loss: 1.2541 - val_root_mean_squared_error: 1.1199\n",
      "Epoch 37/10000\n",
      "1082/1082 [==============================] - 13s 12ms/step - loss: 1.3992 - root_mean_squared_error: 1.1829 - val_loss: 1.2627 - val_root_mean_squared_error: 1.1237\n",
      "Epoch 38/10000\n",
      "1082/1082 [==============================] - 13s 12ms/step - loss: 1.3872 - root_mean_squared_error: 1.1778 - val_loss: 1.2829 - val_root_mean_squared_error: 1.1327\n",
      "Epoch 39/10000\n",
      "1082/1082 [==============================] - 13s 12ms/step - loss: 1.3779 - root_mean_squared_error: 1.1739 - val_loss: 1.2560 - val_root_mean_squared_error: 1.1207\n",
      "Epoch 40/10000\n",
      "1082/1082 [==============================] - 13s 12ms/step - loss: 1.3808 - root_mean_squared_error: 1.1751 - val_loss: 1.2704 - val_root_mean_squared_error: 1.1271\n",
      "Epoch 41/10000\n",
      "1082/1082 [==============================] - 13s 12ms/step - loss: 1.3627 - root_mean_squared_error: 1.1674 - val_loss: 1.2460 - val_root_mean_squared_error: 1.1163\n",
      "Epoch 42/10000\n",
      "1082/1082 [==============================] - 13s 12ms/step - loss: 1.3522 - root_mean_squared_error: 1.1628 - val_loss: 1.2264 - val_root_mean_squared_error: 1.1074\n",
      "Epoch 43/10000\n",
      "1082/1082 [==============================] - 12s 12ms/step - loss: 1.3417 - root_mean_squared_error: 1.1583 - val_loss: 1.2414 - val_root_mean_squared_error: 1.1142\n",
      "Epoch 44/10000\n",
      "1082/1082 [==============================] - 13s 12ms/step - loss: 1.3387 - root_mean_squared_error: 1.1570 - val_loss: 1.2321 - val_root_mean_squared_error: 1.1100\n",
      "Epoch 45/10000\n",
      "1082/1082 [==============================] - 13s 12ms/step - loss: 1.3307 - root_mean_squared_error: 1.1536 - val_loss: 1.2532 - val_root_mean_squared_error: 1.1194\n",
      "Epoch 46/10000\n",
      "1082/1082 [==============================] - 13s 12ms/step - loss: 1.3270 - root_mean_squared_error: 1.1519 - val_loss: 1.2439 - val_root_mean_squared_error: 1.1153\n",
      "Epoch 47/10000\n",
      "1082/1082 [==============================] - 13s 12ms/step - loss: 1.3171 - root_mean_squared_error: 1.1476 - val_loss: 1.2452 - val_root_mean_squared_error: 1.1159\n",
      "Epoch 48/10000\n",
      "1082/1082 [==============================] - 12s 12ms/step - loss: 1.2996 - root_mean_squared_error: 1.1400 - val_loss: 1.2082 - val_root_mean_squared_error: 1.0992\n",
      "Epoch 49/10000\n",
      "1082/1082 [==============================] - 13s 12ms/step - loss: 1.3074 - root_mean_squared_error: 1.1434 - val_loss: 1.2419 - val_root_mean_squared_error: 1.1144\n",
      "Epoch 50/10000\n",
      "1082/1082 [==============================] - 13s 12ms/step - loss: 1.2965 - root_mean_squared_error: 1.1386 - val_loss: 1.2532 - val_root_mean_squared_error: 1.1195\n",
      "Epoch 51/10000\n",
      "1082/1082 [==============================] - 13s 12ms/step - loss: 1.2872 - root_mean_squared_error: 1.1345 - val_loss: 1.2193 - val_root_mean_squared_error: 1.1042\n",
      "Epoch 52/10000\n",
      "1082/1082 [==============================] - 13s 12ms/step - loss: 1.2819 - root_mean_squared_error: 1.1322 - val_loss: 1.2212 - val_root_mean_squared_error: 1.1051\n",
      "Epoch 53/10000\n",
      "1082/1082 [==============================] - 13s 12ms/step - loss: 1.2655 - root_mean_squared_error: 1.1250 - val_loss: 1.2512 - val_root_mean_squared_error: 1.1186\n",
      "Epoch 54/10000\n",
      "1082/1082 [==============================] - 13s 12ms/step - loss: 1.2713 - root_mean_squared_error: 1.1275 - val_loss: 1.2172 - val_root_mean_squared_error: 1.1033\n",
      "Epoch 55/10000\n",
      "1082/1082 [==============================] - 13s 12ms/step - loss: 1.2581 - root_mean_squared_error: 1.1217 - val_loss: 1.2288 - val_root_mean_squared_error: 1.1085\n",
      "Epoch 56/10000\n",
      "1082/1082 [==============================] - 13s 12ms/step - loss: 1.2506 - root_mean_squared_error: 1.1183 - val_loss: 1.2130 - val_root_mean_squared_error: 1.1014\n",
      "Epoch 57/10000\n",
      "1082/1082 [==============================] - 13s 12ms/step - loss: 1.2417 - root_mean_squared_error: 1.1143 - val_loss: 1.2237 - val_root_mean_squared_error: 1.1062\n",
      "Epoch 58/10000\n",
      "1082/1082 [==============================] - 13s 12ms/step - loss: 1.2246 - root_mean_squared_error: 1.1066 - val_loss: 1.1945 - val_root_mean_squared_error: 1.0929\n",
      "Epoch 59/10000\n",
      "1082/1082 [==============================] - 13s 12ms/step - loss: 1.2342 - root_mean_squared_error: 1.1109 - val_loss: 1.2344 - val_root_mean_squared_error: 1.1110\n",
      "Epoch 60/10000\n",
      "1082/1082 [==============================] - 13s 12ms/step - loss: 1.2392 - root_mean_squared_error: 1.1132 - val_loss: 1.2101 - val_root_mean_squared_error: 1.1001\n",
      "Epoch 61/10000\n",
      "1082/1082 [==============================] - 13s 12ms/step - loss: 1.2132 - root_mean_squared_error: 1.1014 - val_loss: 1.2264 - val_root_mean_squared_error: 1.1074\n",
      "Epoch 62/10000\n",
      "1082/1082 [==============================] - 13s 12ms/step - loss: 1.2182 - root_mean_squared_error: 1.1037 - val_loss: 1.2658 - val_root_mean_squared_error: 1.1251\n",
      "Epoch 63/10000\n",
      "1082/1082 [==============================] - 13s 12ms/step - loss: 1.2110 - root_mean_squared_error: 1.1005 - val_loss: 1.2251 - val_root_mean_squared_error: 1.1069\n",
      "Epoch 64/10000\n",
      "1082/1082 [==============================] - 13s 12ms/step - loss: 1.2147 - root_mean_squared_error: 1.1022 - val_loss: 1.2396 - val_root_mean_squared_error: 1.1134\n",
      "Epoch 65/10000\n",
      "1082/1082 [==============================] - 13s 12ms/step - loss: 1.2101 - root_mean_squared_error: 1.1000 - val_loss: 1.2062 - val_root_mean_squared_error: 1.0983\n",
      "Epoch 66/10000\n",
      "1082/1082 [==============================] - 13s 12ms/step - loss: 1.1944 - root_mean_squared_error: 1.0929 - val_loss: 1.2174 - val_root_mean_squared_error: 1.1033\n",
      "Epoch 67/10000\n",
      "1082/1082 [==============================] - 13s 12ms/step - loss: 1.1813 - root_mean_squared_error: 1.0869 - val_loss: 1.2105 - val_root_mean_squared_error: 1.1002\n",
      "Epoch 68/10000\n",
      "1082/1082 [==============================] - 12s 12ms/step - loss: 1.1851 - root_mean_squared_error: 1.0886 - val_loss: 1.2154 - val_root_mean_squared_error: 1.1025\n",
      "Epoch 69/10000\n",
      "1082/1082 [==============================] - 13s 12ms/step - loss: 1.1988 - root_mean_squared_error: 1.0949 - val_loss: 1.2121 - val_root_mean_squared_error: 1.1009\n",
      "Epoch 70/10000\n",
      "1082/1082 [==============================] - 12s 12ms/step - loss: 1.1740 - root_mean_squared_error: 1.0835 - val_loss: 1.2298 - val_root_mean_squared_error: 1.1090\n",
      "Epoch 71/10000\n",
      "1082/1082 [==============================] - 13s 12ms/step - loss: 1.1921 - root_mean_squared_error: 1.0918 - val_loss: 1.2051 - val_root_mean_squared_error: 1.0978\n",
      "Epoch 72/10000\n",
      "1082/1082 [==============================] - 13s 12ms/step - loss: 1.1711 - root_mean_squared_error: 1.0822 - val_loss: 1.2169 - val_root_mean_squared_error: 1.1031\n",
      "Epoch 73/10000\n",
      "1082/1082 [==============================] - 13s 12ms/step - loss: 1.1771 - root_mean_squared_error: 1.0849 - val_loss: 1.2133 - val_root_mean_squared_error: 1.1015\n",
      "Epoch 74/10000\n",
      "1082/1082 [==============================] - 13s 12ms/step - loss: 1.1687 - root_mean_squared_error: 1.0811 - val_loss: 1.2159 - val_root_mean_squared_error: 1.1027\n",
      "Epoch 75/10000\n",
      "1082/1082 [==============================] - 13s 12ms/step - loss: 1.1664 - root_mean_squared_error: 1.0800 - val_loss: 1.1825 - val_root_mean_squared_error: 1.0874\n",
      "Epoch 76/10000\n",
      "1082/1082 [==============================] - 13s 12ms/step - loss: 1.1698 - root_mean_squared_error: 1.0816 - val_loss: 1.2097 - val_root_mean_squared_error: 1.0998\n",
      "Epoch 77/10000\n",
      "1082/1082 [==============================] - 13s 12ms/step - loss: 1.1602 - root_mean_squared_error: 1.0771 - val_loss: 1.1939 - val_root_mean_squared_error: 1.0927\n",
      "Epoch 78/10000\n",
      "1082/1082 [==============================] - 13s 12ms/step - loss: 1.1552 - root_mean_squared_error: 1.0748 - val_loss: 1.1980 - val_root_mean_squared_error: 1.0945\n",
      "Epoch 79/10000\n",
      "1082/1082 [==============================] - 13s 12ms/step - loss: 1.1494 - root_mean_squared_error: 1.0721 - val_loss: 1.1919 - val_root_mean_squared_error: 1.0918\n",
      "Epoch 80/10000\n",
      "1082/1082 [==============================] - 13s 12ms/step - loss: 1.1486 - root_mean_squared_error: 1.0717 - val_loss: 1.2638 - val_root_mean_squared_error: 1.1242\n",
      "Epoch 81/10000\n",
      "1082/1082 [==============================] - 13s 12ms/step - loss: 1.1454 - root_mean_squared_error: 1.0702 - val_loss: 1.1939 - val_root_mean_squared_error: 1.0926\n",
      "Epoch 82/10000\n",
      "1082/1082 [==============================] - 13s 12ms/step - loss: 1.1489 - root_mean_squared_error: 1.0718 - val_loss: 1.2084 - val_root_mean_squared_error: 1.0993\n",
      "Epoch 83/10000\n",
      "1082/1082 [==============================] - 13s 12ms/step - loss: 1.1330 - root_mean_squared_error: 1.0644 - val_loss: 1.2137 - val_root_mean_squared_error: 1.1017\n",
      "Epoch 84/10000\n",
      "1082/1082 [==============================] - 13s 12ms/step - loss: 1.1351 - root_mean_squared_error: 1.0654 - val_loss: 1.2191 - val_root_mean_squared_error: 1.1041\n",
      "Epoch 85/10000\n",
      "1082/1082 [==============================] - 13s 12ms/step - loss: 1.1305 - root_mean_squared_error: 1.0632 - val_loss: 1.2071 - val_root_mean_squared_error: 1.0987\n",
      "Epoch 86/10000\n",
      "1082/1082 [==============================] - 13s 12ms/step - loss: 1.1272 - root_mean_squared_error: 1.0617 - val_loss: 1.2041 - val_root_mean_squared_error: 1.0973\n",
      "Epoch 87/10000\n",
      "1082/1082 [==============================] - 13s 12ms/step - loss: 1.1331 - root_mean_squared_error: 1.0645 - val_loss: 1.2045 - val_root_mean_squared_error: 1.0975\n",
      "Epoch 88/10000\n",
      "1082/1082 [==============================] - 13s 12ms/step - loss: 1.1212 - root_mean_squared_error: 1.0589 - val_loss: 1.1873 - val_root_mean_squared_error: 1.0896\n",
      "Epoch 89/10000\n",
      "1082/1082 [==============================] - 13s 12ms/step - loss: 1.1220 - root_mean_squared_error: 1.0592 - val_loss: 1.1852 - val_root_mean_squared_error: 1.0887\n",
      "Epoch 90/10000\n",
      "1082/1082 [==============================] - 13s 12ms/step - loss: 1.1155 - root_mean_squared_error: 1.0562 - val_loss: 1.1950 - val_root_mean_squared_error: 1.0932\n",
      "Epoch 91/10000\n",
      "1082/1082 [==============================] - 13s 12ms/step - loss: 1.1139 - root_mean_squared_error: 1.0554 - val_loss: 1.2081 - val_root_mean_squared_error: 1.0991\n",
      "Epoch 92/10000\n",
      "1082/1082 [==============================] - 13s 12ms/step - loss: 1.1179 - root_mean_squared_error: 1.0573 - val_loss: 1.1892 - val_root_mean_squared_error: 1.0905\n",
      "Epoch 93/10000\n",
      "1082/1082 [==============================] - 13s 12ms/step - loss: 1.1083 - root_mean_squared_error: 1.0528 - val_loss: 1.1833 - val_root_mean_squared_error: 1.0878\n",
      "Epoch 94/10000\n",
      "1082/1082 [==============================] - 13s 12ms/step - loss: 1.1203 - root_mean_squared_error: 1.0584 - val_loss: 1.1954 - val_root_mean_squared_error: 1.0934\n",
      "Epoch 95/10000\n",
      "1082/1082 [==============================] - 13s 12ms/step - loss: 1.1061 - root_mean_squared_error: 1.0517 - val_loss: 1.1617 - val_root_mean_squared_error: 1.0778\n",
      "Epoch 96/10000\n",
      "1082/1082 [==============================] - 13s 12ms/step - loss: 1.0969 - root_mean_squared_error: 1.0473 - val_loss: 1.1840 - val_root_mean_squared_error: 1.0881\n",
      "Epoch 97/10000\n",
      "1082/1082 [==============================] - 13s 12ms/step - loss: 1.0990 - root_mean_squared_error: 1.0483 - val_loss: 1.1748 - val_root_mean_squared_error: 1.0839\n",
      "Epoch 98/10000\n",
      "1082/1082 [==============================] - 13s 12ms/step - loss: 1.0864 - root_mean_squared_error: 1.0423 - val_loss: 1.1870 - val_root_mean_squared_error: 1.0895\n",
      "Epoch 99/10000\n",
      "1082/1082 [==============================] - 13s 12ms/step - loss: 1.1005 - root_mean_squared_error: 1.0490 - val_loss: 1.2023 - val_root_mean_squared_error: 1.0965\n",
      "Epoch 100/10000\n",
      "1082/1082 [==============================] - 13s 12ms/step - loss: 1.0959 - root_mean_squared_error: 1.0469 - val_loss: 1.1867 - val_root_mean_squared_error: 1.0893\n",
      "Epoch 101/10000\n",
      "1082/1082 [==============================] - 13s 12ms/step - loss: 1.0977 - root_mean_squared_error: 1.0477 - val_loss: 1.1863 - val_root_mean_squared_error: 1.0892\n",
      "Epoch 102/10000\n",
      "1082/1082 [==============================] - 13s 12ms/step - loss: 1.0823 - root_mean_squared_error: 1.0404 - val_loss: 1.1705 - val_root_mean_squared_error: 1.0819\n",
      "Epoch 103/10000\n",
      "1082/1082 [==============================] - 13s 12ms/step - loss: 1.0802 - root_mean_squared_error: 1.0393 - val_loss: 1.1775 - val_root_mean_squared_error: 1.0851\n",
      "Epoch 104/10000\n",
      "1082/1082 [==============================] - 13s 12ms/step - loss: 1.0857 - root_mean_squared_error: 1.0420 - val_loss: 1.1758 - val_root_mean_squared_error: 1.0843\n",
      "Epoch 105/10000\n",
      "1082/1082 [==============================] - 13s 12ms/step - loss: 1.0805 - root_mean_squared_error: 1.0395 - val_loss: 1.2067 - val_root_mean_squared_error: 1.0985\n",
      "Epoch 106/10000\n",
      "1082/1082 [==============================] - 13s 12ms/step - loss: 1.0896 - root_mean_squared_error: 1.0438 - val_loss: 1.1679 - val_root_mean_squared_error: 1.0807\n",
      "Epoch 107/10000\n",
      "1082/1082 [==============================] - 13s 12ms/step - loss: 1.0809 - root_mean_squared_error: 1.0397 - val_loss: 1.1837 - val_root_mean_squared_error: 1.0880\n",
      "Epoch 108/10000\n",
      "1082/1082 [==============================] - 13s 12ms/step - loss: 1.0795 - root_mean_squared_error: 1.0390 - val_loss: 1.1990 - val_root_mean_squared_error: 1.0950\n",
      "Epoch 109/10000\n",
      "1082/1082 [==============================] - 13s 12ms/step - loss: 1.0691 - root_mean_squared_error: 1.0340 - val_loss: 1.2009 - val_root_mean_squared_error: 1.0959\n",
      "Epoch 110/10000\n",
      "1082/1082 [==============================] - 13s 12ms/step - loss: 1.0797 - root_mean_squared_error: 1.0391 - val_loss: 1.1832 - val_root_mean_squared_error: 1.0878\n",
      "Epoch 111/10000\n",
      "1082/1082 [==============================] - 13s 12ms/step - loss: 1.0631 - root_mean_squared_error: 1.0311 - val_loss: 1.1834 - val_root_mean_squared_error: 1.0878\n",
      "Epoch 112/10000\n",
      "1082/1082 [==============================] - 13s 12ms/step - loss: 1.0773 - root_mean_squared_error: 1.0380 - val_loss: 1.1833 - val_root_mean_squared_error: 1.0878\n",
      "Epoch 113/10000\n",
      "1082/1082 [==============================] - 13s 12ms/step - loss: 1.0724 - root_mean_squared_error: 1.0356 - val_loss: 1.2198 - val_root_mean_squared_error: 1.1044\n",
      "Epoch 114/10000\n",
      "1082/1082 [==============================] - 13s 12ms/step - loss: 1.0694 - root_mean_squared_error: 1.0341 - val_loss: 1.1586 - val_root_mean_squared_error: 1.0764\n",
      "Epoch 115/10000\n",
      "1082/1082 [==============================] - 13s 12ms/step - loss: 1.0644 - root_mean_squared_error: 1.0317 - val_loss: 1.2067 - val_root_mean_squared_error: 1.0985\n",
      "Epoch 116/10000\n",
      "1082/1082 [==============================] - 13s 12ms/step - loss: 1.0700 - root_mean_squared_error: 1.0344 - val_loss: 1.2900 - val_root_mean_squared_error: 1.1358\n",
      "Epoch 117/10000\n",
      "1082/1082 [==============================] - 13s 12ms/step - loss: 1.0584 - root_mean_squared_error: 1.0288 - val_loss: 1.1926 - val_root_mean_squared_error: 1.0921\n",
      "Epoch 118/10000\n",
      "1082/1082 [==============================] - 13s 12ms/step - loss: 1.0597 - root_mean_squared_error: 1.0294 - val_loss: 1.2293 - val_root_mean_squared_error: 1.1087\n",
      "Epoch 119/10000\n",
      "1082/1082 [==============================] - 13s 12ms/step - loss: 1.0449 - root_mean_squared_error: 1.0222 - val_loss: 1.2112 - val_root_mean_squared_error: 1.1005\n",
      "Epoch 120/10000\n",
      "1082/1082 [==============================] - 13s 12ms/step - loss: 1.0512 - root_mean_squared_error: 1.0253 - val_loss: 1.2698 - val_root_mean_squared_error: 1.1269\n",
      "Epoch 121/10000\n",
      "1082/1082 [==============================] - 13s 12ms/step - loss: 1.0528 - root_mean_squared_error: 1.0260 - val_loss: 1.2538 - val_root_mean_squared_error: 1.1197\n",
      "Epoch 122/10000\n",
      "1082/1082 [==============================] - 13s 12ms/step - loss: 1.0512 - root_mean_squared_error: 1.0253 - val_loss: 1.2462 - val_root_mean_squared_error: 1.1163\n",
      "Epoch 123/10000\n",
      "1082/1082 [==============================] - 13s 12ms/step - loss: 1.0527 - root_mean_squared_error: 1.0260 - val_loss: 1.2367 - val_root_mean_squared_error: 1.1121\n",
      "Epoch 124/10000\n",
      "1082/1082 [==============================] - 13s 12ms/step - loss: 1.0498 - root_mean_squared_error: 1.0246 - val_loss: 1.1824 - val_root_mean_squared_error: 1.0874\n",
      "Epoch 125/10000\n",
      "1082/1082 [==============================] - 13s 12ms/step - loss: 1.0522 - root_mean_squared_error: 1.0258 - val_loss: 1.1860 - val_root_mean_squared_error: 1.0890\n",
      "Epoch 126/10000\n",
      "1082/1082 [==============================] - 13s 12ms/step - loss: 1.0487 - root_mean_squared_error: 1.0241 - val_loss: 1.1708 - val_root_mean_squared_error: 1.0820\n",
      "Epoch 127/10000\n",
      "1082/1082 [==============================] - 13s 12ms/step - loss: 1.0370 - root_mean_squared_error: 1.0184 - val_loss: 1.1929 - val_root_mean_squared_error: 1.0922\n",
      "Epoch 128/10000\n",
      "1082/1082 [==============================] - 13s 12ms/step - loss: 1.0468 - root_mean_squared_error: 1.0231 - val_loss: 1.1827 - val_root_mean_squared_error: 1.0875\n",
      "Epoch 129/10000\n",
      "1082/1082 [==============================] - 13s 12ms/step - loss: 1.0388 - root_mean_squared_error: 1.0192 - val_loss: 1.1848 - val_root_mean_squared_error: 1.0885\n",
      "Epoch 130/10000\n",
      "1082/1082 [==============================] - 13s 12ms/step - loss: 1.0507 - root_mean_squared_error: 1.0250 - val_loss: 1.1900 - val_root_mean_squared_error: 1.0909\n",
      "Epoch 131/10000\n",
      "1082/1082 [==============================] - 13s 12ms/step - loss: 1.0349 - root_mean_squared_error: 1.0173 - val_loss: 1.1790 - val_root_mean_squared_error: 1.0858\n",
      "Epoch 132/10000\n",
      "1082/1082 [==============================] - 13s 12ms/step - loss: 1.0409 - root_mean_squared_error: 1.0203 - val_loss: 1.1880 - val_root_mean_squared_error: 1.0900\n",
      "Epoch 133/10000\n",
      "1082/1082 [==============================] - 13s 12ms/step - loss: 1.0283 - root_mean_squared_error: 1.0140 - val_loss: 1.2258 - val_root_mean_squared_error: 1.1072\n",
      "Epoch 134/10000\n",
      "1082/1082 [==============================] - 13s 12ms/step - loss: 1.0408 - root_mean_squared_error: 1.0202 - val_loss: 1.1977 - val_root_mean_squared_error: 1.0944\n"
     ]
    }
   ],
   "source": [
    "history = simplecdr.fit([train_gcn_feats[:80000,:, :], train_adj_list[:80000,:, :],\n",
    "                         omics_gen_expr_train[:80000,:], \n",
    "                         omics_gen_methyl_train[:80000,:], omics_gen_mut_train[:80000,:]], y_train.reshape(-1,1)[:80000,:], \n",
    "                         \n",
    "          batch_size = 64, epochs = 10000, verbose = 1,\n",
    "                         \n",
    "          validation_data=([ valid_gcn_feats, valid_adj_list,\n",
    "                           omics_gen_expr_valid, \n",
    "                           omics_gen_methyl_valid, omics_gen_mut_valid], y_valid.reshape(-1,1)),\n",
    "                         \n",
    "\n",
    "        callbacks = tf.keras.callbacks.EarlyStopping(monitor = \"val_loss\", patience = 20, restore_best_weights=True,\n",
    "                                                       mode = \"min\"), \n",
    "         validation_batch_size = 512, shuffle = True)"
   ]
  },
  {
   "cell_type": "code",
   "execution_count": 397,
   "id": "163c3816-113b-4011-bc7e-9d312f422388",
   "metadata": {},
   "outputs": [
    {
     "name": "stderr",
     "output_type": "stream",
     "text": [
      "WARNING:absl:Found untraced functions such as _jit_compiled_convolution_op, _jit_compiled_convolution_op, _jit_compiled_convolution_op, _jit_compiled_convolution_op, _jit_compiled_convolution_op while saving (showing 5 of 5). These functions will not be directly callable after loading.\n"
     ]
    },
    {
     "name": "stdout",
     "output_type": "stream",
     "text": [
      "INFO:tensorflow:Assets written to: ..//Models//simple_cdr_more_dropout/assets\n"
     ]
    },
    {
     "name": "stderr",
     "output_type": "stream",
     "text": [
      "INFO:tensorflow:Assets written to: ..//Models//simple_cdr_more_dropout/assets\n"
     ]
    }
   ],
   "source": [
    "simplecdr.save(\"..//Models//simple_cdr_more_dropout\")"
   ]
  },
  {
   "cell_type": "code",
   "execution_count": 171,
   "id": "9f8d727d-315a-4659-bffe-6332b8e2a5d5",
   "metadata": {},
   "outputs": [],
   "source": [
    "simplecdr = tf.keras.models.load_model(\"..//Models//simple_cdr_more_dropout\")"
   ]
  },
  {
   "cell_type": "code",
   "execution_count": 172,
   "id": "67999a1b-c3c2-4a5b-8a99-9609a208c7a4",
   "metadata": {},
   "outputs": [
    {
     "name": "stdout",
     "output_type": "stream",
     "text": [
      "542/542 [==============================] - 14s 25ms/step\n"
     ]
    }
   ],
   "source": [
    "val_preds = simplecdr.predict([ valid_gcn_feats, valid_adj_list,\n",
    "                           omics_gen_expr_valid, \n",
    "                           omics_gen_methyl_valid, omics_gen_mut_valid])"
   ]
  },
  {
   "cell_type": "code",
   "execution_count": 181,
   "id": "74c01e84-6f82-4e30-95ec-8eb26733a5d6",
   "metadata": {},
   "outputs": [],
   "source": [
    "from sklearn.metrics import mean_squared_error"
   ]
  },
  {
   "cell_type": "code",
   "execution_count": 183,
   "id": "ae780965-e2ff-45ac-9ca4-6925e13fd5c2",
   "metadata": {},
   "outputs": [
    {
     "data": {
      "text/plain": [
       "1.0763594111430508"
      ]
     },
     "execution_count": 183,
     "metadata": {},
     "output_type": "execute_result"
    }
   ],
   "source": [
    "np.sqrt(mean_squared_error(val_preds, y_valid))"
   ]
  },
  {
   "cell_type": "code",
   "execution_count": 173,
   "id": "bb2cd2d9-13c1-432b-b587-2ba3cbc823b5",
   "metadata": {},
   "outputs": [],
   "source": [
    "import matplotlib.pyplot as plt"
   ]
  },
  {
   "cell_type": "code",
   "execution_count": 174,
   "id": "1263b8c2-1c95-4245-9772-3e314cd1b11d",
   "metadata": {},
   "outputs": [
    {
     "data": {
      "image/png": "[encoded data removed]",
      "text/plain": [
       "<Figure size 640x480 with 1 Axes>"
      ]
     },
     "metadata": {},
     "output_type": "display_data"
    }
   ],
   "source": [
    "plt.scatter(y_valid.reshape(-1,1), val_preds, alpha = 0.1)\n",
    "plt.axline((0,0), slope = 1, c = \"black\")\n",
    "plt.show()"
   ]
  },
  {
   "cell_type": "code",
   "execution_count": 175,
   "id": "21498443-c4b0-4169-9b5b-e5c92ceeefe7",
   "metadata": {},
   "outputs": [],
   "source": [
    "from scipy.stats import pearsonr"
   ]
  },
  {
   "cell_type": "code",
   "execution_count": 176,
   "id": "13ca5ce7-ed15-44cd-9fa0-d51a727e55cb",
   "metadata": {},
   "outputs": [],
   "source": [
    "res = pearsonr(y_valid.tolist(), val_preds.tolist())"
   ]
  },
  {
   "cell_type": "code",
   "execution_count": 177,
   "id": "69e83b8e-04aa-4b76-8a4d-37e4f4cb0aa1",
   "metadata": {},
   "outputs": [
    {
     "data": {
      "text/plain": [
       "(array([0.9249177428104566], dtype=object), 0.0)"
      ]
     },
     "execution_count": 177,
     "metadata": {},
     "output_type": "execute_result"
    }
   ],
   "source": [
    "res"
   ]
  },
  {
   "cell_type": "code",
   "execution_count": 178,
   "id": "96538223-90b7-4fc4-b3f3-e7bcfc6c34c5",
   "metadata": {},
   "outputs": [
    {
     "data": {
      "text/plain": [
       "0.9249177428104566"
      ]
     },
     "execution_count": 178,
     "metadata": {},
     "output_type": "execute_result"
    }
   ],
   "source": [
    "res[0][0]"
   ]
  }
 ],
 "metadata": {
  "kernelspec": {
   "display_name": "Python (enkf_gpu)",
   "language": "python",
   "name": "tf_custom_gayara_2"
  },
  "language_info": {
   "codemirror_mode": {
    "name": "ipython",
    "version": 3
   },
   "file_extension": ".py",
   "mimetype": "text/x-python",
   "name": "python",
   "nbconvert_exporter": "python",
   "pygments_lexer": "ipython3",
   "version": "3.9.13"
  }
 },
 "nbformat": 4,
 "nbformat_minor": 5
}
