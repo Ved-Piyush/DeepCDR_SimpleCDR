{
 "cells": [
  {
   "cell_type": "code",
   "execution_count": 1,
   "id": "76805216-842b-4b67-b886-d5bb573596c6",
   "metadata": {},
   "outputs": [
    {
     "name": "stderr",
     "output_type": "stream",
     "text": [
      "2023-07-29 15:16:26.067210: I tensorflow/core/util/util.cc:169] oneDNN custom operations are on. You may see slightly different numerical results due to floating-point round-off errors from different computation orders. To turn them off, set the environment variable `TF_ENABLE_ONEDNN_OPTS=0`.\n"
     ]
    }
   ],
   "source": [
    "import tensorflow as tf\n",
    "import pickle"
   ]
  },
  {
   "cell_type": "code",
   "execution_count": 2,
   "id": "6beca7df-5c32-421b-bb80-e41fc0026730",
   "metadata": {},
   "outputs": [],
   "source": [
    "with open(\"..//data//valid_items.pickle\", \"rb\") as f:\n",
    "    valid_items = pickle.load( f)"
   ]
  },
  {
   "cell_type": "code",
   "execution_count": 3,
   "id": "e2796b7b-e6d1-486c-9dbf-291443901d42",
   "metadata": {},
   "outputs": [],
   "source": [
    "valid_gcn_feats, valid_adj_list,omics_gen_copy_number_gen_expr_valid, omics_gen_methyl_valid, omics_gen_mut_valid = valid_items[0]\n",
    "y_valid = valid_items[1]"
   ]
  },
  {
   "cell_type": "code",
   "execution_count": 4,
   "id": "0dee3dac-124f-4012-bf82-403ec04561fb",
   "metadata": {},
   "outputs": [],
   "source": [
    "from tensorflow.keras import backend as K"
   ]
  },
  {
   "cell_type": "code",
   "execution_count": 5,
   "id": "1f9bbcaa-6d8f-4844-9f47-84b84bb5a9b4",
   "metadata": {},
   "outputs": [],
   "source": [
    "# from tensorflow.keras import backend as K"
   ]
  },
  {
   "cell_type": "code",
   "execution_count": 6,
   "id": "0458187f-03aa-4b54-9892-0547c75b419c",
   "metadata": {},
   "outputs": [
    {
     "name": "stderr",
     "output_type": "stream",
     "text": [
      "2023-07-29 15:16:30.814503: I tensorflow/core/platform/cpu_feature_guard.cc:193] This TensorFlow binary is optimized with oneAPI Deep Neural Network Library (oneDNN) to use the following CPU instructions in performance-critical operations:  SSE4.1 SSE4.2 AVX AVX2 AVX512F AVX512_VNNI FMA\n",
      "To enable them in other operations, rebuild TensorFlow with the appropriate compiler flags.\n",
      "2023-07-29 15:16:31.375326: I tensorflow/core/common_runtime/gpu/gpu_device.cc:1532] Created device /job:localhost/replica:0/task:0/device:GPU:0 with 30952 MB memory:  -> device: 0, name: Tesla V100S-PCIE-32GB, pci bus id: 0000:06:00.0, compute capability: 7.0\n"
     ]
    }
   ],
   "source": [
    "simplecdr = tf.keras.models.load_model(\"..//Models//combo_cdr_gcn_more_dropout_trained_and_activated\")"
   ]
  },
  {
   "cell_type": "code",
   "execution_count": 7,
   "id": "9efa739c-f395-4ac5-a777-d9e738a4d36d",
   "metadata": {},
   "outputs": [],
   "source": [
    "training, dropout1, dropout2 = True, 0.2, 0.2"
   ]
  },
  {
   "cell_type": "code",
   "execution_count": 8,
   "id": "902fe6c0-4907-4b4d-88ac-d269e3f4022d",
   "metadata": {},
   "outputs": [],
   "source": [
    "def deepcdrgcn(training = training, dropout1 = dropout1, dropout2 = dropout2):\n",
    "    input_gcn_features = tf.keras.layers.Input(shape = (100, 75))\n",
    "    input_norm_adj_mat = tf.keras.layers.Input(shape = (100, 100))\n",
    "    mult_1 = tf.keras.layers.Dot(1)([input_norm_adj_mat, input_gcn_features])\n",
    "    dense_layer_gcn = tf.keras.layers.Dense(256, activation = \"relu\")\n",
    "    dense_out = dense_layer_gcn(mult_1)\n",
    "    dense_out = tf.keras.layers.BatchNormalization()(dense_out)\n",
    "    dense_out = tf.keras.layers.Dropout(dropout1)(dense_out, training = training)\n",
    "    mult_2 = tf.keras.layers.Dot(1)([input_norm_adj_mat, dense_out])\n",
    "    dense_layer_gcn = tf.keras.layers.Dense(256, activation = \"relu\")\n",
    "    dense_out = dense_layer_gcn(mult_2)\n",
    "    dense_out = tf.keras.layers.BatchNormalization()(dense_out)\n",
    "    dense_out = tf.keras.layers.Dropout(dropout1)(dense_out, training = training)\n",
    "\n",
    "    dense_layer_gcn = tf.keras.layers.Dense(100, activation = \"relu\")\n",
    "    mult_3 = tf.keras.layers.Dot(1)([input_norm_adj_mat, dense_out])\n",
    "    dense_out = dense_layer_gcn(mult_3)\n",
    "    dense_out = tf.keras.layers.BatchNormalization()(dense_out)\n",
    "    dense_out = tf.keras.layers.Dropout(dropout1)(dense_out, training = training)\n",
    "\n",
    "    dense_out = tf.keras.layers.GlobalAvgPool1D()(dense_out)\n",
    "    input_gen_expr = tf.keras.layers.Input(shape = (691,2))\n",
    "    \n",
    "    l1 = tf.keras.layers.Dense(32)(input_gen_expr)\n",
    "    l1 = tf.keras.layers.Dropout(dropout1)(l1, training = training)\n",
    "    l2 = tf.keras.layers.Dense(128)(l1)\n",
    "    l2 = tf.keras.layers.Dropout(dropout1)(l2, training = training)\n",
    "    \n",
    "    dense_layer_gcn1 = tf.keras.layers.Dense(256, activation = \"relu\")\n",
    "    dense_out1 = dense_layer_gcn1(l2)\n",
    "    dense_out1 = tf.keras.layers.BatchNormalization()(dense_out1)\n",
    "    dense_out1 = tf.keras.layers.Dropout(dropout1)(dense_out1, training = training)\n",
    "# mult_21 = tf.keras.layers.Dot(1)([const_input, dense_out1])\n",
    "    dense_layer_gcn1 = tf.keras.layers.Dense(256, activation = \"relu\")\n",
    "    dense_out1 = dense_layer_gcn1(dense_out1)\n",
    "    dense_out1 = tf.keras.layers.BatchNormalization()(dense_out1)\n",
    "    dense_out1 = tf.keras.layers.Dropout(dropout1)(dense_out1, training = training)\n",
    "    dense_layer_gcn1 = tf.keras.layers.Dense(256, activation = \"relu\")\n",
    "    dense_out1 = dense_layer_gcn1(dense_out1)\n",
    "    dense_out1 = tf.keras.layers.BatchNormalization()(dense_out1)\n",
    "    dense_out1 = tf.keras.layers.Dropout(dropout1)(dense_out1, training = training)\n",
    "    dense_layer_gcn1 = tf.keras.layers.Dense(256, activation = \"relu\")\n",
    "    dense_out1 = dense_layer_gcn1(dense_out1)\n",
    "    dense_out1 = tf.keras.layers.BatchNormalization()(dense_out1)\n",
    "    dense_out1 = tf.keras.layers.Dropout(dropout1)(dense_out1, training = training)\n",
    "    dense_out1 = tf.keras.layers.GlobalAvgPool1D()(dense_out1)\n",
    "    \n",
    "    input_gen_methy = tf.keras.layers.Input(shape = (808,))\n",
    "    gen_methy_layer = tf.keras.layers.Dense(256, activation = \"tanh\")\n",
    "    \n",
    "    gen_methy_emb = gen_methy_layer(input_gen_methy)\n",
    "    gen_methy_emb = tf.keras.layers.BatchNormalization()(gen_methy_emb)\n",
    "    gen_methy_emb = tf.keras.layers.Dropout(dropout1)(gen_methy_emb, training = training)\n",
    "    gen_methy_layer = tf.keras.layers.Dense(100, activation = \"relu\")\n",
    "    gen_methy_emb = gen_methy_layer(gen_methy_emb)\n",
    "    \n",
    "    input_gen_mut = tf.keras.layers.Input(shape = (34673,))\n",
    "    \n",
    "    reshape_gen_mut = tf.keras.layers.Reshape((1, 34673, 1))\n",
    "    reshape_gen_mut = reshape_gen_mut(input_gen_mut)\n",
    "    gen_mut_layer = tf.keras.layers.Conv2D(50, (1, 700), strides=5, activation = \"tanh\")\n",
    "    gen_mut_emb = gen_mut_layer(reshape_gen_mut)\n",
    "    pool_layer = tf.keras.layers.MaxPooling2D((1,5))\n",
    "    pool_out = pool_layer(gen_mut_emb)\n",
    "    gen_mut_layer = tf.keras.layers.Conv2D(30, (1, 5), strides=2, activation = \"relu\")\n",
    "    gen_mut_emb = gen_mut_layer(pool_out)\n",
    "    pool_layer = tf.keras.layers.MaxPooling2D((1,10))\n",
    "    pool_out = pool_layer(gen_mut_emb)\n",
    "    flatten_layer = tf.keras.layers.Flatten()\n",
    "    flatten_out = flatten_layer(pool_out)\n",
    "    all_omics = tf.keras.layers.Concatenate()([gen_methy_emb, flatten_out, dense_out1, dense_out])\n",
    "    x = tf.keras.layers.Dense(300,activation = 'tanh')(all_omics)\n",
    "    x = tf.keras.layers.Dropout(dropout1)(x, training = training)\n",
    "    x = tf.keras.layers.Lambda(lambda x: K.expand_dims(x,axis=-1))(x)\n",
    "    x = tf.keras.layers.Lambda(lambda x: K.expand_dims(x,axis=1))(x)\n",
    "    x = tf.keras.layers.Conv2D(filters=30, kernel_size=(1,150),strides=(1, 1), activation = 'relu',padding='valid')(x)\n",
    "    x = tf.keras.layers.MaxPooling2D(pool_size=(1,2))(x)\n",
    "    x = tf.keras.layers.Conv2D(filters=10, kernel_size=(1,5),strides=(1, 1), activation = 'relu',padding='valid')(x)\n",
    "    x = tf.keras.layers.MaxPooling2D(pool_size=(1,3))(x)\n",
    "    x = tf.keras.layers.Conv2D(filters=5, kernel_size=(1,5),strides=(1, 1), activation = 'relu',padding='valid')(x)\n",
    "    x = tf.keras.layers.MaxPooling2D(pool_size=(1,3))(x)\n",
    "    x = tf.keras.layers.Dropout(dropout1)(x, training = training)\n",
    "    x = tf.keras.layers.Flatten()(x)\n",
    "    x = tf.keras.layers.Dropout(dropout2)(x, training = training)\n",
    "    final_out_layer = tf.keras.layers.Dense(1)\n",
    "    final_out = final_out_layer(x)\n",
    "    simplecdr = tf.keras.models.Model([input_gcn_features, input_norm_adj_mat, input_gen_expr,\n",
    "                                   input_gen_methy, input_gen_mut], final_out)\n",
    "    # simplecdr.compile(loss = tf.keras.losses.MeanSquaredError(), \n",
    "    #                   # optimizer = tf.keras.optimizers.Adam(lr=1e-3),\n",
    "    #                 optimizer = tf.keras.optimizers.Adam(lr=0.001, beta_1=0.9, beta_2=0.999, epsilon=None, decay=0.0, amsgrad=False), \n",
    "    #                 metrics = [tf.keras.metrics.RootMeanSquaredError()])\n",
    "    \n",
    "    return simplecdr"
   ]
  },
  {
   "cell_type": "code",
   "execution_count": 9,
   "id": "bb8a12b1-c1e9-4cd9-8dcc-a1782e726141",
   "metadata": {},
   "outputs": [],
   "source": [
    "y_valid = y_valid.reshape(-1,1)"
   ]
  },
  {
   "cell_type": "code",
   "execution_count": 10,
   "id": "1b655596-e016-4af2-9397-8b098d291c45",
   "metadata": {},
   "outputs": [],
   "source": [
    "import numpy as np"
   ]
  },
  {
   "cell_type": "code",
   "execution_count": 11,
   "id": "d492efdd-292b-44d2-b958-8a714e86af64",
   "metadata": {},
   "outputs": [],
   "source": [
    "import gc"
   ]
  },
  {
   "cell_type": "code",
   "execution_count": 12,
   "id": "96fb83e8-1563-4e6c-921b-5d4cb007be7d",
   "metadata": {},
   "outputs": [],
   "source": [
    "from sklearn.metrics import mean_squared_error"
   ]
  },
  {
   "cell_type": "code",
   "execution_count": 13,
   "id": "a81e6f21-3cef-40d9-9eca-cc563033e69a",
   "metadata": {},
   "outputs": [],
   "source": [
    "# y_valid.shape"
   ]
  },
  {
   "cell_type": "code",
   "execution_count": 14,
   "id": "bd6b7b8b-6e27-4a15-bd83-89f3eb050aff",
   "metadata": {},
   "outputs": [],
   "source": [
    "def get_one_preds(training, dropout1, dropout2):\n",
    "    with tf.device('/gpu:0'):\n",
    "        simplecdr1 = deepcdrgcn(training, dropout1, dropout2)\n",
    "        simplecdr1.set_weights(simplecdr.get_weights())\n",
    "        preds = simplecdr1.predict([ valid_gcn_feats, valid_adj_list,\n",
    "                           omics_gen_copy_number_gen_expr_valid, \n",
    "                           omics_gen_methyl_valid, omics_gen_mut_valid], batch_size = 2048, verbose = 0)\n",
    "        # print(preds.shape)\n",
    "        rmse = np.sqrt(mean_squared_error(preds, y_valid))\n",
    "        # print(i)\n",
    "        # print(rmse)\n",
    "        \n",
    "    # K.clear_session()\n",
    "    # gc.collect()\n",
    "    return preds"
   ]
  },
  {
   "cell_type": "code",
   "execution_count": 15,
   "id": "29562f5e-aaf2-4fe6-946b-9fd3f08acdd9",
   "metadata": {},
   "outputs": [],
   "source": [
    "# np.array(preds).shape"
   ]
  },
  {
   "cell_type": "code",
   "execution_count": 16,
   "id": "ebfcf652-8052-46f2-9c2b-2612a258a772",
   "metadata": {},
   "outputs": [],
   "source": [
    "from scipy.stats import pearsonr"
   ]
  },
  {
   "cell_type": "code",
   "execution_count": 17,
   "id": "7243553b-5e8c-4334-9443-172c9ebb463a",
   "metadata": {},
   "outputs": [],
   "source": [
    "drop_rates = np.array(list(range(1, 20, 1)))/20"
   ]
  },
  {
   "cell_type": "code",
   "execution_count": 18,
   "id": "37ccb5bd-3be7-4e0c-b677-426b142c8e06",
   "metadata": {},
   "outputs": [],
   "source": [
    "drop_rates = np.hstack((drop_rates, np.array([0.99])))"
   ]
  },
  {
   "cell_type": "code",
   "execution_count": 19,
   "id": "86c76c02-308d-43d3-badd-5321e3ab5b7c",
   "metadata": {},
   "outputs": [],
   "source": [
    "drop_rates = drop_rates.tolist()"
   ]
  },
  {
   "cell_type": "code",
   "execution_count": 20,
   "id": "e8841508-a8a9-4c26-8ea6-7140ff469d28",
   "metadata": {},
   "outputs": [],
   "source": [
    "# drop_rates"
   ]
  },
  {
   "cell_type": "code",
   "execution_count": 22,
   "id": "88905af1-5c43-4eec-be13-cc1c6d2532a4",
   "metadata": {},
   "outputs": [
    {
     "name": "stderr",
     "output_type": "stream",
     "text": [
      "2023-07-29 15:17:15.357568: I tensorflow/stream_executor/cuda/cuda_dnn.cc:384] Loaded cuDNN version 8401\n"
     ]
    },
    {
     "name": "stdout",
     "output_type": "stream",
     "text": [
      "[0.05, 1.1376992173962694, 0.9173580568929849, 0.35423885423885426, 0.9624361816693856]\n",
      "[0.1, 1.1457072929835959, 0.9171928978826458, 0.48105798105798103, 1.3842043276466591]\n",
      "[0.15, 1.1595129759754776, 0.9165145464252756, 0.5661238161238161, 1.7397704303755124]\n",
      "[0.2, 1.1767468296622934, 0.9157874876131166, 0.6324208824208825, 2.0689148945790263]\n",
      "[0.25, 1.2099740699632773, 0.9132574633429661, 0.6770616770616771, 2.3961171474526344]\n",
      "[0.3, 1.2496843549030663, 0.9107843393020922, 0.7214137214137214, 2.731902956003854]\n",
      "[0.35, 1.3032345299816197, 0.9063978489195345, 0.7561792561792562, 3.097433717641097]\n",
      "[0.4, 1.3698631863135453, 0.9017810062936487, 0.7875952875952876, 3.4844372665065104]\n",
      "[0.45, 1.4591500065121743, 0.8933734451318774, 0.8102333102333102, 3.946013137188043]\n",
      "[0.5, 1.5763782286665111, 0.8809295801884133, 0.8277315777315777, 4.47147891626156]\n",
      "[0.55, 1.7163149791855854, 0.8641577174231492, 0.8446523446523446, 5.15314147538583]\n",
      "[0.6, 1.9176962616747324, 0.8313390234346818, 0.8538923538923539, 6.002221491700522]\n",
      "[0.65, 2.158647439247253, 0.7842606315110332, 0.8618618618618619, 7.169315237628514]\n",
      "[0.7, 2.479945237925805, 0.680942485398409, 0.8688496188496189, 8.961627572089807]\n",
      "[0.75, 2.837089331015413, 0.46286586547005576, 0.8961653961653961, 11.720234773327398]\n",
      "[0.8, 3.1783979968501654, 0.18689429076378242, 0.9233656733656733, 16.610529329546342]\n",
      "[0.85, 3.6338029127908413, 0.04396646185772156, 0.9021714021714021, 25.290989341885087]\n",
      "[0.9, 4.67922000351022, -0.0015125856677382229, 0.7595865095865096, 39.58100483194241]\n",
      "[0.95, 9.586593800785867, -0.004168577169711255, 0.3382998382998383, 62.35552607530697]\n",
      "[0.99, 93.57542272258821, -0.0014260686693002428, 0.017902517902517904, 120.35619166628338]\n"
     ]
    }
   ],
   "source": [
    "overall_catch = []\n",
    "for drop in drop_rates:\n",
    "    # drop_rate = drop/10.0\n",
    "    preds = []\n",
    "    for i in range(0, 20): \n",
    "    # with tf.device('/gpu:0'):\n",
    "        preds.append(get_one_preds(training, drop, drop))\n",
    "        K.clear_session()\n",
    "        gc.collect()\n",
    "    stacked_preds = np.array(preds)\n",
    "    y_valid_avg_preds = stacked_preds.mean(0)\n",
    "    rmse = np.sqrt(mean_squared_error(y_valid_avg_preds, y_valid))\n",
    "    res = pearsonr(y_valid_avg_preds[:,0], y_valid[:,0])\n",
    "    pearson = res[0]\n",
    "    li = np.percentile(stacked_preds, axis = 0, q = (2.5, 97.5))[0,:,:]\n",
    "    ui = np.percentile(stacked_preds, axis = 0, q = (2.5, 97.5))[1,:,:]\n",
    "    ind = (y_valid >= li) & (y_valid <= ui)\n",
    "    coverage = ind.mean()\n",
    "    width = ui - li\n",
    "    avg_width = width.mean()\n",
    "    overall_catch.append([drop, rmse, pearson, coverage, avg_width])\n",
    "    print([drop, rmse, pearson, coverage, avg_width])"
   ]
  },
  {
   "cell_type": "code",
   "execution_count": 24,
   "id": "d14de1df-114e-4d5f-b66c-b9eef1affc6c",
   "metadata": {},
   "outputs": [],
   "source": [
    "import pandas as pd"
   ]
  },
  {
   "cell_type": "code",
   "execution_count": 25,
   "id": "020e9c18-2cce-4de6-ac06-bd53c6fea97e",
   "metadata": {},
   "outputs": [],
   "source": [
    "overall_catch_df = pd.DataFrame(overall_catch)"
   ]
  },
  {
   "cell_type": "code",
   "execution_count": 26,
   "id": "32c6ba19-1bb6-4cbc-b5c0-5a32953b6445",
   "metadata": {},
   "outputs": [],
   "source": [
    "overall_catch_df.columns = [\"drop_proportion\", \"rmse\", \"pearsonr\", \"coverage\", \"avg_width\"]"
   ]
  },
  {
   "cell_type": "code",
   "execution_count": 27,
   "id": "7a5c2f9a-0ae8-4dd7-b76b-da1910dc56a9",
   "metadata": {},
   "outputs": [],
   "source": [
    "overall_catch_df.to_csv(\"..//data//metrics_for_different_drop_rates.csv\", index = False)"
   ]
  },
  {
   "cell_type": "code",
   "execution_count": 28,
   "id": "73b919ad-19ea-49d4-a33b-f889c866bde4",
   "metadata": {},
   "outputs": [
    {
     "data": {
      "text/html": [
       "<div>\n",
       "<style scoped>\n",
       "    .dataframe tbody tr th:only-of-type {\n",
       "        vertical-align: middle;\n",
       "    }\n",
       "\n",
       "    .dataframe tbody tr th {\n",
       "        vertical-align: top;\n",
       "    }\n",
       "\n",
       "    .dataframe thead th {\n",
       "        text-align: right;\n",
       "    }\n",
       "</style>\n",
       "<table border=\"1\" class=\"dataframe\">\n",
       "  <thead>\n",
       "    <tr style=\"text-align: right;\">\n",
       "      <th></th>\n",
       "      <th>drop_proportion</th>\n",
       "      <th>rmse</th>\n",
       "      <th>pearsonr</th>\n",
       "      <th>coverage</th>\n",
       "      <th>avg_width</th>\n",
       "    </tr>\n",
       "  </thead>\n",
       "  <tbody>\n",
       "    <tr>\n",
       "      <th>0</th>\n",
       "      <td>0.05</td>\n",
       "      <td>1.137699</td>\n",
       "      <td>0.917358</td>\n",
       "      <td>0.354239</td>\n",
       "      <td>0.962436</td>\n",
       "    </tr>\n",
       "    <tr>\n",
       "      <th>1</th>\n",
       "      <td>0.10</td>\n",
       "      <td>1.145707</td>\n",
       "      <td>0.917193</td>\n",
       "      <td>0.481058</td>\n",
       "      <td>1.384204</td>\n",
       "    </tr>\n",
       "    <tr>\n",
       "      <th>2</th>\n",
       "      <td>0.15</td>\n",
       "      <td>1.159513</td>\n",
       "      <td>0.916515</td>\n",
       "      <td>0.566124</td>\n",
       "      <td>1.739770</td>\n",
       "    </tr>\n",
       "    <tr>\n",
       "      <th>3</th>\n",
       "      <td>0.20</td>\n",
       "      <td>1.176747</td>\n",
       "      <td>0.915787</td>\n",
       "      <td>0.632421</td>\n",
       "      <td>2.068915</td>\n",
       "    </tr>\n",
       "    <tr>\n",
       "      <th>4</th>\n",
       "      <td>0.25</td>\n",
       "      <td>1.209974</td>\n",
       "      <td>0.913257</td>\n",
       "      <td>0.677062</td>\n",
       "      <td>2.396117</td>\n",
       "    </tr>\n",
       "  </tbody>\n",
       "</table>\n",
       "</div>"
      ],
      "text/plain": [
       "   drop_proportion      rmse  pearsonr  coverage  avg_width\n",
       "0             0.05  1.137699  0.917358  0.354239   0.962436\n",
       "1             0.10  1.145707  0.917193  0.481058   1.384204\n",
       "2             0.15  1.159513  0.916515  0.566124   1.739770\n",
       "3             0.20  1.176747  0.915787  0.632421   2.068915\n",
       "4             0.25  1.209974  0.913257  0.677062   2.396117"
      ]
     },
     "execution_count": 28,
     "metadata": {},
     "output_type": "execute_result"
    }
   ],
   "source": [
    "overall_catch_df.head()"
   ]
  },
  {
   "cell_type": "code",
   "execution_count": 33,
   "id": "5f784703-6858-4d4b-8fd8-7ae0925da19a",
   "metadata": {},
   "outputs": [
    {
     "data": {
      "text/html": [
       "<div>\n",
       "<style scoped>\n",
       "    .dataframe tbody tr th:only-of-type {\n",
       "        vertical-align: middle;\n",
       "    }\n",
       "\n",
       "    .dataframe tbody tr th {\n",
       "        vertical-align: top;\n",
       "    }\n",
       "\n",
       "    .dataframe thead th {\n",
       "        text-align: right;\n",
       "    }\n",
       "</style>\n",
       "<table border=\"1\" class=\"dataframe\">\n",
       "  <thead>\n",
       "    <tr style=\"text-align: right;\">\n",
       "      <th></th>\n",
       "      <th>drop_proportion</th>\n",
       "      <th>rmse</th>\n",
       "      <th>pearsonr</th>\n",
       "      <th>coverage</th>\n",
       "      <th>avg_width</th>\n",
       "    </tr>\n",
       "  </thead>\n",
       "  <tbody>\n",
       "    <tr>\n",
       "      <th>0</th>\n",
       "      <td>0.05</td>\n",
       "      <td>1.137699</td>\n",
       "      <td>0.917358</td>\n",
       "      <td>0.354239</td>\n",
       "      <td>0.962436</td>\n",
       "    </tr>\n",
       "    <tr>\n",
       "      <th>1</th>\n",
       "      <td>0.10</td>\n",
       "      <td>1.145707</td>\n",
       "      <td>0.917193</td>\n",
       "      <td>0.481058</td>\n",
       "      <td>1.384204</td>\n",
       "    </tr>\n",
       "    <tr>\n",
       "      <th>2</th>\n",
       "      <td>0.15</td>\n",
       "      <td>1.159513</td>\n",
       "      <td>0.916515</td>\n",
       "      <td>0.566124</td>\n",
       "      <td>1.739770</td>\n",
       "    </tr>\n",
       "    <tr>\n",
       "      <th>3</th>\n",
       "      <td>0.20</td>\n",
       "      <td>1.176747</td>\n",
       "      <td>0.915787</td>\n",
       "      <td>0.632421</td>\n",
       "      <td>2.068915</td>\n",
       "    </tr>\n",
       "    <tr>\n",
       "      <th>4</th>\n",
       "      <td>0.25</td>\n",
       "      <td>1.209974</td>\n",
       "      <td>0.913257</td>\n",
       "      <td>0.677062</td>\n",
       "      <td>2.396117</td>\n",
       "    </tr>\n",
       "    <tr>\n",
       "      <th>5</th>\n",
       "      <td>0.30</td>\n",
       "      <td>1.249684</td>\n",
       "      <td>0.910784</td>\n",
       "      <td>0.721414</td>\n",
       "      <td>2.731903</td>\n",
       "    </tr>\n",
       "    <tr>\n",
       "      <th>6</th>\n",
       "      <td>0.35</td>\n",
       "      <td>1.303235</td>\n",
       "      <td>0.906398</td>\n",
       "      <td>0.756179</td>\n",
       "      <td>3.097434</td>\n",
       "    </tr>\n",
       "    <tr>\n",
       "      <th>7</th>\n",
       "      <td>0.40</td>\n",
       "      <td>1.369863</td>\n",
       "      <td>0.901781</td>\n",
       "      <td>0.787595</td>\n",
       "      <td>3.484437</td>\n",
       "    </tr>\n",
       "    <tr>\n",
       "      <th>8</th>\n",
       "      <td>0.45</td>\n",
       "      <td>1.459150</td>\n",
       "      <td>0.893373</td>\n",
       "      <td>0.810233</td>\n",
       "      <td>3.946013</td>\n",
       "    </tr>\n",
       "    <tr>\n",
       "      <th>9</th>\n",
       "      <td>0.50</td>\n",
       "      <td>1.576378</td>\n",
       "      <td>0.880930</td>\n",
       "      <td>0.827732</td>\n",
       "      <td>4.471479</td>\n",
       "    </tr>\n",
       "    <tr>\n",
       "      <th>10</th>\n",
       "      <td>0.55</td>\n",
       "      <td>1.716315</td>\n",
       "      <td>0.864158</td>\n",
       "      <td>0.844652</td>\n",
       "      <td>5.153141</td>\n",
       "    </tr>\n",
       "    <tr>\n",
       "      <th>11</th>\n",
       "      <td>0.60</td>\n",
       "      <td>1.917696</td>\n",
       "      <td>0.831339</td>\n",
       "      <td>0.853892</td>\n",
       "      <td>6.002221</td>\n",
       "    </tr>\n",
       "    <tr>\n",
       "      <th>12</th>\n",
       "      <td>0.65</td>\n",
       "      <td>2.158647</td>\n",
       "      <td>0.784261</td>\n",
       "      <td>0.861862</td>\n",
       "      <td>7.169315</td>\n",
       "    </tr>\n",
       "    <tr>\n",
       "      <th>13</th>\n",
       "      <td>0.70</td>\n",
       "      <td>2.479945</td>\n",
       "      <td>0.680942</td>\n",
       "      <td>0.868850</td>\n",
       "      <td>8.961628</td>\n",
       "    </tr>\n",
       "    <tr>\n",
       "      <th>14</th>\n",
       "      <td>0.75</td>\n",
       "      <td>2.837089</td>\n",
       "      <td>0.462866</td>\n",
       "      <td>0.896165</td>\n",
       "      <td>11.720235</td>\n",
       "    </tr>\n",
       "    <tr>\n",
       "      <th>15</th>\n",
       "      <td>0.80</td>\n",
       "      <td>3.178398</td>\n",
       "      <td>0.186894</td>\n",
       "      <td>0.923366</td>\n",
       "      <td>16.610529</td>\n",
       "    </tr>\n",
       "    <tr>\n",
       "      <th>16</th>\n",
       "      <td>0.85</td>\n",
       "      <td>3.633803</td>\n",
       "      <td>0.043966</td>\n",
       "      <td>0.902171</td>\n",
       "      <td>25.290989</td>\n",
       "    </tr>\n",
       "    <tr>\n",
       "      <th>17</th>\n",
       "      <td>0.90</td>\n",
       "      <td>4.679220</td>\n",
       "      <td>-0.001513</td>\n",
       "      <td>0.759587</td>\n",
       "      <td>39.581005</td>\n",
       "    </tr>\n",
       "    <tr>\n",
       "      <th>18</th>\n",
       "      <td>0.95</td>\n",
       "      <td>9.586594</td>\n",
       "      <td>-0.004169</td>\n",
       "      <td>0.338300</td>\n",
       "      <td>62.355526</td>\n",
       "    </tr>\n",
       "    <tr>\n",
       "      <th>19</th>\n",
       "      <td>0.99</td>\n",
       "      <td>93.575423</td>\n",
       "      <td>-0.001426</td>\n",
       "      <td>0.017903</td>\n",
       "      <td>120.356192</td>\n",
       "    </tr>\n",
       "  </tbody>\n",
       "</table>\n",
       "</div>"
      ],
      "text/plain": [
       "    drop_proportion       rmse  pearsonr  coverage   avg_width\n",
       "0              0.05   1.137699  0.917358  0.354239    0.962436\n",
       "1              0.10   1.145707  0.917193  0.481058    1.384204\n",
       "2              0.15   1.159513  0.916515  0.566124    1.739770\n",
       "3              0.20   1.176747  0.915787  0.632421    2.068915\n",
       "4              0.25   1.209974  0.913257  0.677062    2.396117\n",
       "5              0.30   1.249684  0.910784  0.721414    2.731903\n",
       "6              0.35   1.303235  0.906398  0.756179    3.097434\n",
       "7              0.40   1.369863  0.901781  0.787595    3.484437\n",
       "8              0.45   1.459150  0.893373  0.810233    3.946013\n",
       "9              0.50   1.576378  0.880930  0.827732    4.471479\n",
       "10             0.55   1.716315  0.864158  0.844652    5.153141\n",
       "11             0.60   1.917696  0.831339  0.853892    6.002221\n",
       "12             0.65   2.158647  0.784261  0.861862    7.169315\n",
       "13             0.70   2.479945  0.680942  0.868850    8.961628\n",
       "14             0.75   2.837089  0.462866  0.896165   11.720235\n",
       "15             0.80   3.178398  0.186894  0.923366   16.610529\n",
       "16             0.85   3.633803  0.043966  0.902171   25.290989\n",
       "17             0.90   4.679220 -0.001513  0.759587   39.581005\n",
       "18             0.95   9.586594 -0.004169  0.338300   62.355526\n",
       "19             0.99  93.575423 -0.001426  0.017903  120.356192"
      ]
     },
     "execution_count": 33,
     "metadata": {},
     "output_type": "execute_result"
    }
   ],
   "source": [
    "overall_catch_df"
   ]
  },
  {
   "cell_type": "code",
   "execution_count": 30,
   "id": "11becf13-9a9c-4ded-85e4-b45df7bc4cf5",
   "metadata": {},
   "outputs": [],
   "source": [
    "import matplotlib.pyplot as plt"
   ]
  },
  {
   "cell_type": "code",
   "execution_count": 68,
   "id": "73a10585-ce50-4c6d-99c8-a3ed87200378",
   "metadata": {},
   "outputs": [],
   "source": [
    "how_many = 15"
   ]
  },
  {
   "cell_type": "code",
   "execution_count": 69,
   "id": "bb46ffef-28f2-4582-8e96-71c5a8aba3ae",
   "metadata": {},
   "outputs": [],
   "source": [
    "plt.rcParams[\"font.weight\"] = \"bold\"\n",
    "plt.rcParams[\"axes.labelweight\"] = \"bold\""
   ]
  },
  {
   "cell_type": "code",
   "execution_count": 70,
   "id": "0ded9851-8c6d-4e1d-8d58-29556400e2c3",
   "metadata": {},
   "outputs": [
    {
     "data": {
      "image/png": "[encoded data removed]",
      "text/plain": [
       "<Figure size 640x480 with 2 Axes>"
      ]
     },
     "metadata": {},
     "output_type": "display_data"
    }
   ],
   "source": [
    "fig, ax1 = plt.subplots()\n",
    "\n",
    "color = 'tab:red'\n",
    "ax1.set_xlabel('Dropout Probability', fontsize = 15, fontweight = \"bold\")\n",
    "ax1.set_ylabel('RMSE', color=color, fontsize = 15, fontweight = \"bold\")\n",
    "ax1.plot(overall_catch_df.iloc[:how_many,:]['drop_proportion'], overall_catch_df.iloc[:how_many,:]['rmse'], color=color, linewidth = 3)\n",
    "ax1.tick_params(axis='y', labelcolor=color, size = 15)\n",
    "ax1.tick_params(axis='x', labelcolor=\"black\", size = 15)\n",
    "\n",
    "ax2 = ax1.twinx()  # instantiate a second axes that shares the same x-axis\n",
    "\n",
    "color = 'tab:blue'\n",
    "# ax1.set_xlabel('Dropout Probability')\n",
    "ax2.set_ylabel('Pearson R', color=color, fontsize = 15, fontweight = \"bold\")\n",
    "ax2.plot(overall_catch_df.iloc[:how_many,:]['drop_proportion'], overall_catch_df.iloc[:how_many,:]['pearsonr'], color=color, linewidth = 3)\n",
    "ax2.tick_params(axis='y', labelcolor=color)\n",
    "\n",
    "# plt.xlabel(\"Update Iteration\", fontsize = 15, fontweight = \"bold\")\n",
    "# plt.ylabel(\"Model Weight\", fontsize = 15, fontweight = \"bold\")\n",
    "# plt.xticks( fontsize = 10, fontweight = \"bold\")\n",
    "# plt.yticks( fontsize = 10, fontweight = \"bold\")\n",
    "\n",
    "fig.tight_layout()  # otherwise the right y-label is slightly clipped\n",
    "plt.show()"
   ]
  },
  {
   "cell_type": "code",
   "execution_count": 71,
   "id": "2f2111e8-ba6a-40e1-866f-9ba370f341e1",
   "metadata": {},
   "outputs": [
    {
     "data": {
      "image/png": "[encoded data removed]",
      "text/plain": [
       "<Figure size 640x480 with 2 Axes>"
      ]
     },
     "metadata": {},
     "output_type": "display_data"
    }
   ],
   "source": [
    "fig, ax1 = plt.subplots()\n",
    "\n",
    "color = 'tab:red'\n",
    "ax1.set_xlabel('Dropout Probability', fontsize = 15, fontweight = \"bold\")\n",
    "ax1.set_ylabel('Coverage', color=color, fontsize = 15, fontweight = \"bold\")\n",
    "ax1.plot(overall_catch_df.iloc[:how_many,:]['drop_proportion'], overall_catch_df.iloc[:how_many,:]['coverage'], color=color, linewidth = 3)\n",
    "ax1.tick_params(axis='y', labelcolor=color, size = 15)\n",
    "ax1.tick_params(axis='x', labelcolor=\"black\", size = 15)\n",
    "\n",
    "ax2 = ax1.twinx()  # instantiate a second axes that shares the same x-axis\n",
    "\n",
    "color = 'tab:blue'\n",
    "# ax1.set_xlabel('Dropout Probability')\n",
    "ax2.set_ylabel('Average Width', color=color, fontsize = 15, fontweight = \"bold\")\n",
    "ax2.plot(overall_catch_df.iloc[:how_many,:]['drop_proportion'], overall_catch_df.iloc[:how_many,:]['avg_width'], color=color, linewidth = 3)\n",
    "ax2.tick_params(axis='y', labelcolor=color)\n",
    "\n",
    "# plt.xlabel(\"Update Iteration\", fontsize = 15, fontweight = \"bold\")\n",
    "# plt.ylabel(\"Model Weight\", fontsize = 15, fontweight = \"bold\")\n",
    "# plt.xticks( fontsize = 10, fontweight = \"bold\")\n",
    "# plt.yticks( fontsize = 10, fontweight = \"bold\")\n",
    "\n",
    "fig.tight_layout()  # otherwise the right y-label is slightly clipped\n",
    "plt.show()"
   ]
  }
 ],
 "metadata": {
  "kernelspec": {
   "display_name": "Python (enkf_gpu)",
   "language": "python",
   "name": "tf_custom_gayara_2"
  },
  "language_info": {
   "codemirror_mode": {
    "name": "ipython",
    "version": 3
   },
   "file_extension": ".py",
   "mimetype": "text/x-python",
   "name": "python",
   "nbconvert_exporter": "python",
   "pygments_lexer": "ipython3",
   "version": "3.9.13"
  }
 },
 "nbformat": 4,
 "nbformat_minor": 5
}
